{
 "cells": [
  {
   "cell_type": "markdown",
   "id": "6ee7d785-419b-4319-bbf4-a43ebe5ca9d2",
   "metadata": {},
   "source": [
    "# Data Science 207 - Introduction to Machine Learning\n",
    "## Final Project for Team 4 / Section 4 / Fall 2023\n",
    "\n",
    "__Team Members__\n",
    "- Arias, Nathan (ihsiukao@berkeley.edu)\n",
    "- Houghton, Douglas (ihsiukao@berkeley.edu)\n",
    "- Kao, I-Hsiu (ihsiukao@berkeley.edu)\n",
    "\n",
    "__Project Repo__\n",
    "URL"
   ]
  },
  {
   "cell_type": "markdown",
   "id": "d619b216-8ebe-4162-b2d9-2dba420a3be1",
   "metadata": {
    "tags": []
   },
   "source": [
    "# Explatory Data Analysis (EDA)"
   ]
  },
  {
   "cell_type": "markdown",
   "id": "1849fcf1-d2c6-4cb7-95a7-cd872284d4ec",
   "metadata": {},
   "source": [
    "## 1. Dataset Background\n",
    "\n",
    "The dataset selected is the ___Skin Cancer MNIST: HAM10000___ hosted on Kaggle (https://www.kaggle.com/datasets/kmader/skin-cancer-mnist-ham10000) and the Harvard Dataverse (https://dataverse.harvard.edu/dataset.xhtml?persistentId=doi:10.7910/DVN/DBW86T).\n",
    "\n",
    "This dataset includes 10015 images and precomputed RGB values for a variety of skin cancer lesions."
   ]
  },
  {
   "cell_type": "markdown",
   "id": "dcb26040-d7c8-4c48-bbbd-bb0c5e69f99c",
   "metadata": {
    "tags": []
   },
   "source": [
    "### Kaggle Dataset Description\n",
    "Training of neural networks for automated diagnosis of pigmented skin lesions is hampered by the small size and lack of diversity of available dataset of dermatoscopic images. We tackle this problem by releasing the HAM10000 (\"Human Against Machine with 10000 training images\") dataset. We collected dermatoscopic images from different populations, acquired and stored by different modalities. The final dataset consists of 10015 dermatoscopic images which can serve as a training set for academic machine learning purposes. Cases include a representative collection of all important diagnostic categories in the realm of pigmented lesions: Actinic keratoses and intraepithelial carcinoma / Bowen's disease (akiec), basal cell carcinoma (bcc), benign keratosis-like lesions (solar lentigines / seborrheic keratoses and lichen-planus like keratoses, bkl), dermatofibroma (df), melanoma (mel), melanocytic nevi (nv) and vascular lesions (angiomas, angiokeratomas, pyogenic granulomas and hemorrhage, vasc).\n",
    "\n",
    "More than 50% of lesions are confirmed through histopathology (histo), the ground truth for the rest of the cases is either follow-up examination (follow_up), expert consensus (consensus), or confirmation by in-vivo confocal microscopy (confocal). The dataset includes lesions with multiple images, which can be tracked by the lesion_id-column within the HAM10000_metadata file.\n",
    "\n",
    "***\n",
    "When using the ISIC 2018 datasets in your research, please cite the following works:\n",
    "\n",
    "[1] Noel Codella, Veronica Rotemberg, Philipp Tschandl, M. Emre Celebi, Stephen Dusza, David Gutman, Brian Helba, Aadi Kalloo, Konstantinos Liopyris, Michael Marchetti, Harald Kittler, Allan Halpern: \"Skin Lesion Analysis Toward Melanoma Detection 2018: A Challenge Hosted by the International Skin Imaging Collaboration (ISIC)\", 2018; https://arxiv.org/abs/1902.03368\n",
    "\n",
    "[2] Tschandl, P., Rosendahl, C. & Kittler, H. The HAM10000 dataset, a large collection of multi-source dermatoscopic images of common pigmented skin lesions. Sci. Data 5, 180161 doi:10.1038/sdata.2018.161 (2018)."
   ]
  },
  {
   "cell_type": "markdown",
   "id": "2e7a1998-98ed-46bb-a03a-cbbb35fcd87c",
   "metadata": {
    "tags": []
   },
   "source": [
    "### 2. Load Packages and Data"
   ]
  },
  {
   "cell_type": "code",
   "execution_count": 1,
   "id": "178510f9-54f3-402d-8bf7-6244e494f894",
   "metadata": {
    "tags": []
   },
   "outputs": [],
   "source": [
    "# Standard Data Packages\n",
    "import pandas as pd\n",
    "import numpy as np\n",
    "\n",
    "# Visualization Packages\n",
    "import matplotlib.pyplot as plt"
   ]
  },
  {
   "cell_type": "code",
   "execution_count": 2,
   "id": "414fe6a9-f58f-4db6-9f41-48bbfe814f53",
   "metadata": {
    "tags": []
   },
   "outputs": [],
   "source": [
    "# Load data files.\n",
    "metadata = pd.read_csv('HAM10000_metadata.csv')\n",
    "rgb_data = pd.read_csv('hmnist_28_28_RGB.csv')"
   ]
  },
  {
   "cell_type": "markdown",
   "id": "3e7856bd-7180-40c2-af0e-90ff5829b14a",
   "metadata": {
    "tags": []
   },
   "source": [
    "### 3. Samples and Features"
   ]
  },
  {
   "cell_type": "markdown",
   "id": "8b3d282a-3690-4c75-a7cd-0adb0103f48a",
   "metadata": {
    "tags": []
   },
   "source": [
    "Per the Kaggle description, the data set is expected to included 10015 samples split into the two files."
   ]
  },
  {
   "cell_type": "code",
   "execution_count": 3,
   "id": "c38b0bd3-b572-49a6-9d2c-35cdf7042233",
   "metadata": {
    "tags": []
   },
   "outputs": [
    {
     "data": {
      "text/plain": [
       "(10015, 7)"
      ]
     },
     "execution_count": 3,
     "metadata": {},
     "output_type": "execute_result"
    }
   ],
   "source": [
    "metadata.shape"
   ]
  },
  {
   "cell_type": "code",
   "execution_count": 4,
   "id": "0c7da0a4-7535-4892-9226-57448eef055f",
   "metadata": {
    "tags": []
   },
   "outputs": [
    {
     "data": {
      "text/plain": [
       "(10015, 2353)"
      ]
     },
     "execution_count": 4,
     "metadata": {},
     "output_type": "execute_result"
    }
   ],
   "source": [
    "rgb_data.shape"
   ]
  },
  {
   "cell_type": "markdown",
   "id": "ca3683c4-c07c-4e0b-8869-50412ea815a2",
   "metadata": {},
   "source": [
    "The metadata file is expected to have ancillary informaiton regarding the patient as well as identify images by name for each record."
   ]
  },
  {
   "cell_type": "code",
   "execution_count": 5,
   "id": "946918e5-90dd-410b-840e-2ed8251dc583",
   "metadata": {
    "tags": []
   },
   "outputs": [
    {
     "data": {
      "text/html": [
       "<div>\n",
       "<style scoped>\n",
       "    .dataframe tbody tr th:only-of-type {\n",
       "        vertical-align: middle;\n",
       "    }\n",
       "\n",
       "    .dataframe tbody tr th {\n",
       "        vertical-align: top;\n",
       "    }\n",
       "\n",
       "    .dataframe thead th {\n",
       "        text-align: right;\n",
       "    }\n",
       "</style>\n",
       "<table border=\"1\" class=\"dataframe\">\n",
       "  <thead>\n",
       "    <tr style=\"text-align: right;\">\n",
       "      <th></th>\n",
       "      <th>lesion_id</th>\n",
       "      <th>image_id</th>\n",
       "      <th>dx</th>\n",
       "      <th>dx_type</th>\n",
       "      <th>age</th>\n",
       "      <th>sex</th>\n",
       "      <th>localization</th>\n",
       "    </tr>\n",
       "  </thead>\n",
       "  <tbody>\n",
       "    <tr>\n",
       "      <th>0</th>\n",
       "      <td>HAM_0000118</td>\n",
       "      <td>ISIC_0027419</td>\n",
       "      <td>bkl</td>\n",
       "      <td>histo</td>\n",
       "      <td>80.0</td>\n",
       "      <td>male</td>\n",
       "      <td>scalp</td>\n",
       "    </tr>\n",
       "    <tr>\n",
       "      <th>1</th>\n",
       "      <td>HAM_0000118</td>\n",
       "      <td>ISIC_0025030</td>\n",
       "      <td>bkl</td>\n",
       "      <td>histo</td>\n",
       "      <td>80.0</td>\n",
       "      <td>male</td>\n",
       "      <td>scalp</td>\n",
       "    </tr>\n",
       "    <tr>\n",
       "      <th>2</th>\n",
       "      <td>HAM_0002730</td>\n",
       "      <td>ISIC_0026769</td>\n",
       "      <td>bkl</td>\n",
       "      <td>histo</td>\n",
       "      <td>80.0</td>\n",
       "      <td>male</td>\n",
       "      <td>scalp</td>\n",
       "    </tr>\n",
       "    <tr>\n",
       "      <th>3</th>\n",
       "      <td>HAM_0002730</td>\n",
       "      <td>ISIC_0025661</td>\n",
       "      <td>bkl</td>\n",
       "      <td>histo</td>\n",
       "      <td>80.0</td>\n",
       "      <td>male</td>\n",
       "      <td>scalp</td>\n",
       "    </tr>\n",
       "    <tr>\n",
       "      <th>4</th>\n",
       "      <td>HAM_0001466</td>\n",
       "      <td>ISIC_0031633</td>\n",
       "      <td>bkl</td>\n",
       "      <td>histo</td>\n",
       "      <td>75.0</td>\n",
       "      <td>male</td>\n",
       "      <td>ear</td>\n",
       "    </tr>\n",
       "  </tbody>\n",
       "</table>\n",
       "</div>"
      ],
      "text/plain": [
       "     lesion_id      image_id   dx dx_type   age   sex localization\n",
       "0  HAM_0000118  ISIC_0027419  bkl   histo  80.0  male        scalp\n",
       "1  HAM_0000118  ISIC_0025030  bkl   histo  80.0  male        scalp\n",
       "2  HAM_0002730  ISIC_0026769  bkl   histo  80.0  male        scalp\n",
       "3  HAM_0002730  ISIC_0025661  bkl   histo  80.0  male        scalp\n",
       "4  HAM_0001466  ISIC_0031633  bkl   histo  75.0  male          ear"
      ]
     },
     "execution_count": 5,
     "metadata": {},
     "output_type": "execute_result"
    }
   ],
   "source": [
    "metadata.head()"
   ]
  },
  {
   "cell_type": "markdown",
   "id": "b1574788-06c3-456a-8c05-69ea839045b4",
   "metadata": {
    "tags": []
   },
   "source": [
    "The RGB file is expected to have the per pixel RGB value for the 28x28 sized images across each the of the RGB channels (totalling 2352 values per image). Addtionally, these records are expected to include the label data for each image."
   ]
  },
  {
   "cell_type": "code",
   "execution_count": 6,
   "id": "8430d52d-f756-4d42-8d46-5f1805ff09e0",
   "metadata": {
    "tags": []
   },
   "outputs": [
    {
     "data": {
      "text/html": [
       "<div>\n",
       "<style scoped>\n",
       "    .dataframe tbody tr th:only-of-type {\n",
       "        vertical-align: middle;\n",
       "    }\n",
       "\n",
       "    .dataframe tbody tr th {\n",
       "        vertical-align: top;\n",
       "    }\n",
       "\n",
       "    .dataframe thead th {\n",
       "        text-align: right;\n",
       "    }\n",
       "</style>\n",
       "<table border=\"1\" class=\"dataframe\">\n",
       "  <thead>\n",
       "    <tr style=\"text-align: right;\">\n",
       "      <th></th>\n",
       "      <th>pixel0000</th>\n",
       "      <th>pixel0001</th>\n",
       "      <th>pixel0002</th>\n",
       "      <th>pixel0003</th>\n",
       "      <th>pixel0004</th>\n",
       "      <th>pixel0005</th>\n",
       "      <th>pixel0006</th>\n",
       "      <th>pixel0007</th>\n",
       "      <th>pixel0008</th>\n",
       "      <th>pixel0009</th>\n",
       "      <th>...</th>\n",
       "      <th>pixel2343</th>\n",
       "      <th>pixel2344</th>\n",
       "      <th>pixel2345</th>\n",
       "      <th>pixel2346</th>\n",
       "      <th>pixel2347</th>\n",
       "      <th>pixel2348</th>\n",
       "      <th>pixel2349</th>\n",
       "      <th>pixel2350</th>\n",
       "      <th>pixel2351</th>\n",
       "      <th>label</th>\n",
       "    </tr>\n",
       "  </thead>\n",
       "  <tbody>\n",
       "    <tr>\n",
       "      <th>0</th>\n",
       "      <td>192</td>\n",
       "      <td>153</td>\n",
       "      <td>193</td>\n",
       "      <td>195</td>\n",
       "      <td>155</td>\n",
       "      <td>192</td>\n",
       "      <td>197</td>\n",
       "      <td>154</td>\n",
       "      <td>185</td>\n",
       "      <td>202</td>\n",
       "      <td>...</td>\n",
       "      <td>173</td>\n",
       "      <td>124</td>\n",
       "      <td>138</td>\n",
       "      <td>183</td>\n",
       "      <td>147</td>\n",
       "      <td>166</td>\n",
       "      <td>185</td>\n",
       "      <td>154</td>\n",
       "      <td>177</td>\n",
       "      <td>2</td>\n",
       "    </tr>\n",
       "    <tr>\n",
       "      <th>1</th>\n",
       "      <td>25</td>\n",
       "      <td>14</td>\n",
       "      <td>30</td>\n",
       "      <td>68</td>\n",
       "      <td>48</td>\n",
       "      <td>75</td>\n",
       "      <td>123</td>\n",
       "      <td>93</td>\n",
       "      <td>126</td>\n",
       "      <td>158</td>\n",
       "      <td>...</td>\n",
       "      <td>60</td>\n",
       "      <td>39</td>\n",
       "      <td>55</td>\n",
       "      <td>25</td>\n",
       "      <td>14</td>\n",
       "      <td>28</td>\n",
       "      <td>25</td>\n",
       "      <td>14</td>\n",
       "      <td>27</td>\n",
       "      <td>2</td>\n",
       "    </tr>\n",
       "    <tr>\n",
       "      <th>2</th>\n",
       "      <td>192</td>\n",
       "      <td>138</td>\n",
       "      <td>153</td>\n",
       "      <td>200</td>\n",
       "      <td>145</td>\n",
       "      <td>163</td>\n",
       "      <td>201</td>\n",
       "      <td>142</td>\n",
       "      <td>160</td>\n",
       "      <td>206</td>\n",
       "      <td>...</td>\n",
       "      <td>167</td>\n",
       "      <td>129</td>\n",
       "      <td>143</td>\n",
       "      <td>159</td>\n",
       "      <td>124</td>\n",
       "      <td>142</td>\n",
       "      <td>136</td>\n",
       "      <td>104</td>\n",
       "      <td>117</td>\n",
       "      <td>2</td>\n",
       "    </tr>\n",
       "    <tr>\n",
       "      <th>3</th>\n",
       "      <td>38</td>\n",
       "      <td>19</td>\n",
       "      <td>30</td>\n",
       "      <td>95</td>\n",
       "      <td>59</td>\n",
       "      <td>72</td>\n",
       "      <td>143</td>\n",
       "      <td>103</td>\n",
       "      <td>119</td>\n",
       "      <td>171</td>\n",
       "      <td>...</td>\n",
       "      <td>44</td>\n",
       "      <td>26</td>\n",
       "      <td>36</td>\n",
       "      <td>25</td>\n",
       "      <td>12</td>\n",
       "      <td>17</td>\n",
       "      <td>25</td>\n",
       "      <td>12</td>\n",
       "      <td>15</td>\n",
       "      <td>2</td>\n",
       "    </tr>\n",
       "    <tr>\n",
       "      <th>4</th>\n",
       "      <td>158</td>\n",
       "      <td>113</td>\n",
       "      <td>139</td>\n",
       "      <td>194</td>\n",
       "      <td>144</td>\n",
       "      <td>174</td>\n",
       "      <td>215</td>\n",
       "      <td>162</td>\n",
       "      <td>191</td>\n",
       "      <td>225</td>\n",
       "      <td>...</td>\n",
       "      <td>209</td>\n",
       "      <td>166</td>\n",
       "      <td>185</td>\n",
       "      <td>172</td>\n",
       "      <td>135</td>\n",
       "      <td>149</td>\n",
       "      <td>109</td>\n",
       "      <td>78</td>\n",
       "      <td>92</td>\n",
       "      <td>2</td>\n",
       "    </tr>\n",
       "  </tbody>\n",
       "</table>\n",
       "<p>5 rows × 2353 columns</p>\n",
       "</div>"
      ],
      "text/plain": [
       "   pixel0000  pixel0001  pixel0002  pixel0003  pixel0004  pixel0005  \\\n",
       "0        192        153        193        195        155        192   \n",
       "1         25         14         30         68         48         75   \n",
       "2        192        138        153        200        145        163   \n",
       "3         38         19         30         95         59         72   \n",
       "4        158        113        139        194        144        174   \n",
       "\n",
       "   pixel0006  pixel0007  pixel0008  pixel0009  ...  pixel2343  pixel2344  \\\n",
       "0        197        154        185        202  ...        173        124   \n",
       "1        123         93        126        158  ...         60         39   \n",
       "2        201        142        160        206  ...        167        129   \n",
       "3        143        103        119        171  ...         44         26   \n",
       "4        215        162        191        225  ...        209        166   \n",
       "\n",
       "   pixel2345  pixel2346  pixel2347  pixel2348  pixel2349  pixel2350  \\\n",
       "0        138        183        147        166        185        154   \n",
       "1         55         25         14         28         25         14   \n",
       "2        143        159        124        142        136        104   \n",
       "3         36         25         12         17         25         12   \n",
       "4        185        172        135        149        109         78   \n",
       "\n",
       "   pixel2351  label  \n",
       "0        177      2  \n",
       "1         27      2  \n",
       "2        117      2  \n",
       "3         15      2  \n",
       "4         92      2  \n",
       "\n",
       "[5 rows x 2353 columns]"
      ]
     },
     "execution_count": 6,
     "metadata": {},
     "output_type": "execute_result"
    }
   ],
   "source": [
    "rgb_data.head()"
   ]
  },
  {
   "cell_type": "code",
   "execution_count": 7,
   "id": "f15064d9-ea0e-4b71-bafe-1d24629c0bfb",
   "metadata": {
    "tags": []
   },
   "outputs": [],
   "source": [
    "# Label coding key.\n",
    "label_codes = {\n",
    "                0: {'short':'AKIEC', 'full':'Actinic Keratoses and Intraepithelial Carcinoma / Bowens disease'},\n",
    "                1: {'short':'BCC', 'full':'Basal Cell Carcinoma'},\n",
    "                2: {'short':'BKL', 'full':'Benign Keratosis-like Lesions'},\n",
    "                3: {'short':'DF', 'full':'Dermatofibroma'},\n",
    "                4: {'short':'NV', 'full':'Melanocytic Nevi'},\n",
    "                5: {'short':'VASC', 'full':'Vascular Lesions'},\n",
    "                6: {'short':'MEL', 'full':'Melanoma'}\n",
    "              }"
   ]
  },
  {
   "cell_type": "code",
   "execution_count": 8,
   "id": "db18121e-4397-4df5-855f-047fa2e7ff53",
   "metadata": {
    "tags": []
   },
   "outputs": [
    {
     "data": {
      "text/plain": [
       "label\n",
       "0     327\n",
       "1     514\n",
       "2    1099\n",
       "3     115\n",
       "4    6705\n",
       "5     142\n",
       "6    1113\n",
       "dtype: int64"
      ]
     },
     "execution_count": 8,
     "metadata": {},
     "output_type": "execute_result"
    }
   ],
   "source": [
    "# Record count by label.\n",
    "rgb_data.groupby(by='label').size()"
   ]
  },
  {
   "cell_type": "code",
   "execution_count": 9,
   "id": "00013093-6bc1-4423-aab0-aef9b48a1c0b",
   "metadata": {
    "tags": []
   },
   "outputs": [
    {
     "data": {
      "image/png": "[encoded data removed]",
      "text/plain": [
       "<Figure size 640x480 with 1 Axes>"
      ]
     },
     "metadata": {},
     "output_type": "display_data"
    }
   ],
   "source": [
    "# Record count visualization.\n",
    "# Build histogram of diagnosis class value counts.\n",
    "fig = rgb_data.label.hist(grid=False, bins=np.arange(8)-0.5, edgecolor='black', zorder=2.5)\n",
    "\n",
    "# Update presentation and format.\n",
    "fig.set_ylabel('Frequency\\n(as number of images)', labelpad=10)\n",
    "fig.set_xlabel('Image Label', labelpad=10)\n",
    "fig.set_title(\"Histogram of MNIST Image Labels\")\n",
    "\n",
    "chart_ticks, chart_labels = [], []\n",
    "for code, description in label_codes.items():\n",
    "    chart_ticks.append(code)\n",
    "    chart_labels.append(description['short'])\n",
    "                        \n",
    "#fig.set_xticks(chart_ticks, chart_labels)\n",
    "fig.grid(axis='y', visible=True, alpha=0.5, zorder=2.6)\n",
    "\n",
    "# Add percentage calculation and labels.\n",
    "for i in chart_ticks:\n",
    "    count = len(rgb_data.label[rgb_data.label==i])\n",
    "    fig.text(x=i, y=count+50, s=f\"{round(count/len(rgb_data) * 100,1)}%\", horizontalalignment='center')"
   ]
  },
  {
   "cell_type": "markdown",
   "id": "c40f267f-d8e8-4593-9b47-b3dbf0f68647",
   "metadata": {},
   "source": [
    "__NOTE__ Large imbalance in labels that will have to be corrected."
   ]
  },
  {
   "cell_type": "code",
   "execution_count": 10,
   "id": "effbb7f7-af92-4a99-8e2d-b411b9b592ef",
   "metadata": {
    "tags": []
   },
   "outputs": [
    {
     "data": {
      "image/png": "[encoded data removed]",
      "text/plain": [
       "<Figure size 640x480 with 1 Axes>"
      ]
     },
     "metadata": {},
     "output_type": "display_data"
    }
   ],
   "source": [
    "# Confirm metadata diagnosis (dx) distribution matches RGB file label distribution.\n",
    "# Build histogram of diagnosis class value counts.\n",
    "fig = metadata.dx.hist(grid=False, bins=np.arange(8)-0.5, edgecolor='black', zorder=2.5)\n",
    "\n",
    "# Update presentation and format.\n",
    "fig.set_ylabel('Frequency\\n(as number of images)', labelpad=10)\n",
    "fig.set_xlabel('Image Label', labelpad=10)\n",
    "fig.set_title(\"Histogram of MNIST Image Labels\")\n",
    "\n",
    "fig.grid(axis='y', visible=True, alpha=0.5, zorder=2.6)"
   ]
  },
  {
   "cell_type": "markdown",
   "id": "7dfd29bd-f5b0-4bd9-8a29-04494f6b9c85",
   "metadata": {
    "tags": []
   },
   "source": [
    "### 3. Merge and Split"
   ]
  },
  {
   "cell_type": "code",
   "execution_count": 11,
   "id": "297501ac-c47b-411d-8794-71cdad828e72",
   "metadata": {
    "tags": []
   },
   "outputs": [
    {
     "data": {
      "text/plain": [
       "(10015, 2360)"
      ]
     },
     "execution_count": 11,
     "metadata": {},
     "output_type": "execute_result"
    }
   ],
   "source": [
    "# Merge metadata and rgb values.\n",
    "rgb_merge = pd.concat([metadata, rgb_data], axis=1, join=\"inner\")\n",
    "rgb_merge.shape"
   ]
  },
  {
   "cell_type": "code",
   "execution_count": 12,
   "id": "3690ad66-cf16-4d5c-8cc6-f1bdb20b53a0",
   "metadata": {
    "tags": []
   },
   "outputs": [
    {
     "data": {
      "text/html": [
       "<div>\n",
       "<style scoped>\n",
       "    .dataframe tbody tr th:only-of-type {\n",
       "        vertical-align: middle;\n",
       "    }\n",
       "\n",
       "    .dataframe tbody tr th {\n",
       "        vertical-align: top;\n",
       "    }\n",
       "\n",
       "    .dataframe thead th {\n",
       "        text-align: right;\n",
       "    }\n",
       "</style>\n",
       "<table border=\"1\" class=\"dataframe\">\n",
       "  <thead>\n",
       "    <tr style=\"text-align: right;\">\n",
       "      <th></th>\n",
       "      <th>lesion_id</th>\n",
       "      <th>image_id</th>\n",
       "      <th>dx</th>\n",
       "      <th>dx_type</th>\n",
       "      <th>age</th>\n",
       "      <th>sex</th>\n",
       "      <th>localization</th>\n",
       "      <th>pixel0000</th>\n",
       "      <th>pixel0001</th>\n",
       "      <th>pixel0002</th>\n",
       "      <th>...</th>\n",
       "      <th>pixel2343</th>\n",
       "      <th>pixel2344</th>\n",
       "      <th>pixel2345</th>\n",
       "      <th>pixel2346</th>\n",
       "      <th>pixel2347</th>\n",
       "      <th>pixel2348</th>\n",
       "      <th>pixel2349</th>\n",
       "      <th>pixel2350</th>\n",
       "      <th>pixel2351</th>\n",
       "      <th>label</th>\n",
       "    </tr>\n",
       "  </thead>\n",
       "  <tbody>\n",
       "    <tr>\n",
       "      <th>0</th>\n",
       "      <td>HAM_0000118</td>\n",
       "      <td>ISIC_0027419</td>\n",
       "      <td>bkl</td>\n",
       "      <td>histo</td>\n",
       "      <td>80.0</td>\n",
       "      <td>male</td>\n",
       "      <td>scalp</td>\n",
       "      <td>192</td>\n",
       "      <td>153</td>\n",
       "      <td>193</td>\n",
       "      <td>...</td>\n",
       "      <td>173</td>\n",
       "      <td>124</td>\n",
       "      <td>138</td>\n",
       "      <td>183</td>\n",
       "      <td>147</td>\n",
       "      <td>166</td>\n",
       "      <td>185</td>\n",
       "      <td>154</td>\n",
       "      <td>177</td>\n",
       "      <td>2</td>\n",
       "    </tr>\n",
       "    <tr>\n",
       "      <th>1</th>\n",
       "      <td>HAM_0000118</td>\n",
       "      <td>ISIC_0025030</td>\n",
       "      <td>bkl</td>\n",
       "      <td>histo</td>\n",
       "      <td>80.0</td>\n",
       "      <td>male</td>\n",
       "      <td>scalp</td>\n",
       "      <td>25</td>\n",
       "      <td>14</td>\n",
       "      <td>30</td>\n",
       "      <td>...</td>\n",
       "      <td>60</td>\n",
       "      <td>39</td>\n",
       "      <td>55</td>\n",
       "      <td>25</td>\n",
       "      <td>14</td>\n",
       "      <td>28</td>\n",
       "      <td>25</td>\n",
       "      <td>14</td>\n",
       "      <td>27</td>\n",
       "      <td>2</td>\n",
       "    </tr>\n",
       "    <tr>\n",
       "      <th>2</th>\n",
       "      <td>HAM_0002730</td>\n",
       "      <td>ISIC_0026769</td>\n",
       "      <td>bkl</td>\n",
       "      <td>histo</td>\n",
       "      <td>80.0</td>\n",
       "      <td>male</td>\n",
       "      <td>scalp</td>\n",
       "      <td>192</td>\n",
       "      <td>138</td>\n",
       "      <td>153</td>\n",
       "      <td>...</td>\n",
       "      <td>167</td>\n",
       "      <td>129</td>\n",
       "      <td>143</td>\n",
       "      <td>159</td>\n",
       "      <td>124</td>\n",
       "      <td>142</td>\n",
       "      <td>136</td>\n",
       "      <td>104</td>\n",
       "      <td>117</td>\n",
       "      <td>2</td>\n",
       "    </tr>\n",
       "    <tr>\n",
       "      <th>3</th>\n",
       "      <td>HAM_0002730</td>\n",
       "      <td>ISIC_0025661</td>\n",
       "      <td>bkl</td>\n",
       "      <td>histo</td>\n",
       "      <td>80.0</td>\n",
       "      <td>male</td>\n",
       "      <td>scalp</td>\n",
       "      <td>38</td>\n",
       "      <td>19</td>\n",
       "      <td>30</td>\n",
       "      <td>...</td>\n",
       "      <td>44</td>\n",
       "      <td>26</td>\n",
       "      <td>36</td>\n",
       "      <td>25</td>\n",
       "      <td>12</td>\n",
       "      <td>17</td>\n",
       "      <td>25</td>\n",
       "      <td>12</td>\n",
       "      <td>15</td>\n",
       "      <td>2</td>\n",
       "    </tr>\n",
       "    <tr>\n",
       "      <th>4</th>\n",
       "      <td>HAM_0001466</td>\n",
       "      <td>ISIC_0031633</td>\n",
       "      <td>bkl</td>\n",
       "      <td>histo</td>\n",
       "      <td>75.0</td>\n",
       "      <td>male</td>\n",
       "      <td>ear</td>\n",
       "      <td>158</td>\n",
       "      <td>113</td>\n",
       "      <td>139</td>\n",
       "      <td>...</td>\n",
       "      <td>209</td>\n",
       "      <td>166</td>\n",
       "      <td>185</td>\n",
       "      <td>172</td>\n",
       "      <td>135</td>\n",
       "      <td>149</td>\n",
       "      <td>109</td>\n",
       "      <td>78</td>\n",
       "      <td>92</td>\n",
       "      <td>2</td>\n",
       "    </tr>\n",
       "  </tbody>\n",
       "</table>\n",
       "<p>5 rows × 2360 columns</p>\n",
       "</div>"
      ],
      "text/plain": [
       "     lesion_id      image_id   dx dx_type   age   sex localization  pixel0000  \\\n",
       "0  HAM_0000118  ISIC_0027419  bkl   histo  80.0  male        scalp        192   \n",
       "1  HAM_0000118  ISIC_0025030  bkl   histo  80.0  male        scalp         25   \n",
       "2  HAM_0002730  ISIC_0026769  bkl   histo  80.0  male        scalp        192   \n",
       "3  HAM_0002730  ISIC_0025661  bkl   histo  80.0  male        scalp         38   \n",
       "4  HAM_0001466  ISIC_0031633  bkl   histo  75.0  male          ear        158   \n",
       "\n",
       "   pixel0001  pixel0002  ...  pixel2343  pixel2344  pixel2345  pixel2346  \\\n",
       "0        153        193  ...        173        124        138        183   \n",
       "1         14         30  ...         60         39         55         25   \n",
       "2        138        153  ...        167        129        143        159   \n",
       "3         19         30  ...         44         26         36         25   \n",
       "4        113        139  ...        209        166        185        172   \n",
       "\n",
       "   pixel2347  pixel2348  pixel2349  pixel2350  pixel2351  label  \n",
       "0        147        166        185        154        177      2  \n",
       "1         14         28         25         14         27      2  \n",
       "2        124        142        136        104        117      2  \n",
       "3         12         17         25         12         15      2  \n",
       "4        135        149        109         78         92      2  \n",
       "\n",
       "[5 rows x 2360 columns]"
      ]
     },
     "execution_count": 12,
     "metadata": {},
     "output_type": "execute_result"
    }
   ],
   "source": [
    "rgb_merge.head()"
   ]
  },
  {
   "cell_type": "code",
   "execution_count": 13,
   "id": "8838948c-b2fa-4b2b-9b3c-2e4b60925179",
   "metadata": {},
   "outputs": [],
   "source": [
    "# Set random seed and number of samples per label.\n",
    "np.random.seed(2070404)\n",
    "count_per_label = 100\n",
    "\n",
    "# Iterate codes and randomly select records.\n",
    "rgb_balanced = pd.DataFrame()\n",
    "for code, description in label_codes.items():\n",
    "    \n",
    "    # Pull all records with current code.\n",
    "    temp_label_data = rgb_merge[rgb_merge.label == code]\n",
    "    \n",
    "    # Pull a random set of indexes for that code.\n",
    "    temp_random_keys = list(np.random.choice(\n",
    "                            temp_label_data.index,\n",
    "                            size=count_per_label,\n",
    "                            replace=False))\n",
    "\n",
    "    # Pull full records for those indices.\n",
    "    temp_random_rows = rgb_merge[rgb_merge.index.isin(temp_random_keys)]\n",
    "\n",
    "    # Merge results back into final variable.\n",
    "    rgb_balanced = pd.concat([rgb_balanced, temp_random_rows])"
   ]
  },
  {
   "cell_type": "code",
   "execution_count": 14,
   "id": "71c505c0-9426-4e3c-ac1b-138806ef813b",
   "metadata": {
    "tags": []
   },
   "outputs": [
    {
     "data": {
      "text/plain": [
       "(700, 2360)"
      ]
     },
     "execution_count": 14,
     "metadata": {},
     "output_type": "execute_result"
    }
   ],
   "source": [
    "# Verify post imbalance correction.\n",
    "rgb_balanced.shape"
   ]
  },
  {
   "cell_type": "code",
   "execution_count": 15,
   "id": "3f5d1b47-6e41-467f-a8ac-e08c113eb9af",
   "metadata": {
    "tags": []
   },
   "outputs": [
    {
     "data": {
      "text/html": [
       "<div>\n",
       "<style scoped>\n",
       "    .dataframe tbody tr th:only-of-type {\n",
       "        vertical-align: middle;\n",
       "    }\n",
       "\n",
       "    .dataframe tbody tr th {\n",
       "        vertical-align: top;\n",
       "    }\n",
       "\n",
       "    .dataframe thead th {\n",
       "        text-align: right;\n",
       "    }\n",
       "</style>\n",
       "<table border=\"1\" class=\"dataframe\">\n",
       "  <thead>\n",
       "    <tr style=\"text-align: right;\">\n",
       "      <th></th>\n",
       "      <th>lesion_id</th>\n",
       "      <th>image_id</th>\n",
       "      <th>dx</th>\n",
       "      <th>dx_type</th>\n",
       "      <th>age</th>\n",
       "      <th>sex</th>\n",
       "      <th>localization</th>\n",
       "      <th>pixel0000</th>\n",
       "      <th>pixel0001</th>\n",
       "      <th>pixel0002</th>\n",
       "      <th>...</th>\n",
       "      <th>pixel2343</th>\n",
       "      <th>pixel2344</th>\n",
       "      <th>pixel2345</th>\n",
       "      <th>pixel2346</th>\n",
       "      <th>pixel2347</th>\n",
       "      <th>pixel2348</th>\n",
       "      <th>pixel2349</th>\n",
       "      <th>pixel2350</th>\n",
       "      <th>pixel2351</th>\n",
       "      <th>label</th>\n",
       "    </tr>\n",
       "  </thead>\n",
       "  <tbody>\n",
       "    <tr>\n",
       "      <th>9691</th>\n",
       "      <td>HAM_0000673</td>\n",
       "      <td>ISIC_0029659</td>\n",
       "      <td>akiec</td>\n",
       "      <td>histo</td>\n",
       "      <td>70.0</td>\n",
       "      <td>female</td>\n",
       "      <td>face</td>\n",
       "      <td>193</td>\n",
       "      <td>125</td>\n",
       "      <td>127</td>\n",
       "      <td>...</td>\n",
       "      <td>176</td>\n",
       "      <td>115</td>\n",
       "      <td>128</td>\n",
       "      <td>177</td>\n",
       "      <td>112</td>\n",
       "      <td>118</td>\n",
       "      <td>180</td>\n",
       "      <td>118</td>\n",
       "      <td>124</td>\n",
       "      <td>0</td>\n",
       "    </tr>\n",
       "    <tr>\n",
       "      <th>9702</th>\n",
       "      <td>HAM_0001526</td>\n",
       "      <td>ISIC_0027795</td>\n",
       "      <td>akiec</td>\n",
       "      <td>histo</td>\n",
       "      <td>70.0</td>\n",
       "      <td>male</td>\n",
       "      <td>ear</td>\n",
       "      <td>106</td>\n",
       "      <td>55</td>\n",
       "      <td>81</td>\n",
       "      <td>...</td>\n",
       "      <td>176</td>\n",
       "      <td>153</td>\n",
       "      <td>160</td>\n",
       "      <td>180</td>\n",
       "      <td>159</td>\n",
       "      <td>169</td>\n",
       "      <td>174</td>\n",
       "      <td>154</td>\n",
       "      <td>162</td>\n",
       "      <td>0</td>\n",
       "    </tr>\n",
       "    <tr>\n",
       "      <th>9703</th>\n",
       "      <td>HAM_0001495</td>\n",
       "      <td>ISIC_0024913</td>\n",
       "      <td>akiec</td>\n",
       "      <td>histo</td>\n",
       "      <td>85.0</td>\n",
       "      <td>male</td>\n",
       "      <td>back</td>\n",
       "      <td>185</td>\n",
       "      <td>119</td>\n",
       "      <td>105</td>\n",
       "      <td>...</td>\n",
       "      <td>189</td>\n",
       "      <td>128</td>\n",
       "      <td>136</td>\n",
       "      <td>176</td>\n",
       "      <td>125</td>\n",
       "      <td>130</td>\n",
       "      <td>149</td>\n",
       "      <td>104</td>\n",
       "      <td>111</td>\n",
       "      <td>0</td>\n",
       "    </tr>\n",
       "    <tr>\n",
       "      <th>9705</th>\n",
       "      <td>HAM_0003422</td>\n",
       "      <td>ISIC_0031198</td>\n",
       "      <td>akiec</td>\n",
       "      <td>histo</td>\n",
       "      <td>55.0</td>\n",
       "      <td>female</td>\n",
       "      <td>neck</td>\n",
       "      <td>184</td>\n",
       "      <td>138</td>\n",
       "      <td>128</td>\n",
       "      <td>...</td>\n",
       "      <td>182</td>\n",
       "      <td>128</td>\n",
       "      <td>114</td>\n",
       "      <td>169</td>\n",
       "      <td>106</td>\n",
       "      <td>86</td>\n",
       "      <td>166</td>\n",
       "      <td>104</td>\n",
       "      <td>82</td>\n",
       "      <td>0</td>\n",
       "    </tr>\n",
       "    <tr>\n",
       "      <th>9706</th>\n",
       "      <td>HAM_0006746</td>\n",
       "      <td>ISIC_0026872</td>\n",
       "      <td>akiec</td>\n",
       "      <td>histo</td>\n",
       "      <td>85.0</td>\n",
       "      <td>male</td>\n",
       "      <td>lower extremity</td>\n",
       "      <td>151</td>\n",
       "      <td>120</td>\n",
       "      <td>114</td>\n",
       "      <td>...</td>\n",
       "      <td>128</td>\n",
       "      <td>88</td>\n",
       "      <td>74</td>\n",
       "      <td>146</td>\n",
       "      <td>109</td>\n",
       "      <td>98</td>\n",
       "      <td>133</td>\n",
       "      <td>95</td>\n",
       "      <td>87</td>\n",
       "      <td>0</td>\n",
       "    </tr>\n",
       "  </tbody>\n",
       "</table>\n",
       "<p>5 rows × 2360 columns</p>\n",
       "</div>"
      ],
      "text/plain": [
       "        lesion_id      image_id     dx dx_type   age     sex     localization  \\\n",
       "9691  HAM_0000673  ISIC_0029659  akiec   histo  70.0  female             face   \n",
       "9702  HAM_0001526  ISIC_0027795  akiec   histo  70.0    male              ear   \n",
       "9703  HAM_0001495  ISIC_0024913  akiec   histo  85.0    male             back   \n",
       "9705  HAM_0003422  ISIC_0031198  akiec   histo  55.0  female             neck   \n",
       "9706  HAM_0006746  ISIC_0026872  akiec   histo  85.0    male  lower extremity   \n",
       "\n",
       "      pixel0000  pixel0001  pixel0002  ...  pixel2343  pixel2344  pixel2345  \\\n",
       "9691        193        125        127  ...        176        115        128   \n",
       "9702        106         55         81  ...        176        153        160   \n",
       "9703        185        119        105  ...        189        128        136   \n",
       "9705        184        138        128  ...        182        128        114   \n",
       "9706        151        120        114  ...        128         88         74   \n",
       "\n",
       "      pixel2346  pixel2347  pixel2348  pixel2349  pixel2350  pixel2351  label  \n",
       "9691        177        112        118        180        118        124      0  \n",
       "9702        180        159        169        174        154        162      0  \n",
       "9703        176        125        130        149        104        111      0  \n",
       "9705        169        106         86        166        104         82      0  \n",
       "9706        146        109         98        133         95         87      0  \n",
       "\n",
       "[5 rows x 2360 columns]"
      ]
     },
     "execution_count": 15,
     "metadata": {},
     "output_type": "execute_result"
    }
   ],
   "source": [
    "rgb_balanced.head()"
   ]
  },
  {
   "cell_type": "code",
   "execution_count": 16,
   "id": "d7fdb7b0-ab7b-41fe-8f59-aeb10785c6b1",
   "metadata": {
    "tags": []
   },
   "outputs": [
    {
     "data": {
      "image/png": "[encoded data removed]",
      "text/plain": [
       "<Figure size 640x480 with 1 Axes>"
      ]
     },
     "metadata": {},
     "output_type": "display_data"
    }
   ],
   "source": [
    "# Record count visualization.\n",
    "# Build histogram of diagnosis class value counts.\n",
    "fig = rgb_balanced.label.hist(grid=False, bins=np.arange(8)-0.5, edgecolor='black', zorder=2.5)\n",
    "\n",
    "# Update presentation and format.\n",
    "fig.set_ylabel('Frequency\\n(as number of images)', labelpad=10)\n",
    "fig.set_xlabel('Image Label', labelpad=10)\n",
    "fig.set_title(\"Histogram of MNIST Image Labels\")\n",
    "\n",
    "chart_ticks, chart_labels = [], []\n",
    "for code, description in label_codes.items():\n",
    "    chart_ticks.append(code)\n",
    "    chart_labels.append(description['short'])\n",
    "                        \n",
    "fig.set_xticks(chart_ticks, chart_labels)\n",
    "fig.grid(axis='y', visible=True, alpha=0.5, zorder=2.6)\n",
    "\n",
    "# Add percentage calculation and labels.\n",
    "for i in chart_ticks:\n",
    "    count = len(rgb_balanced.label[rgb_balanced.label==i])\n",
    "    fig.text(x=i, y=count-5, s=f\"{round(count/len(rgb_balanced) * 100,1)}%\", horizontalalignment='center')"
   ]
  },
  {
   "cell_type": "code",
   "execution_count": 17,
   "id": "1194fb56-c7fe-4b7f-b07c-e483ded451a7",
   "metadata": {
    "tags": []
   },
   "outputs": [
    {
     "name": "stdout",
     "output_type": "stream",
     "text": [
      "Split counts (train/ validation/ test): [420 140 140]\n"
     ]
    }
   ],
   "source": [
    "# Split into train, validation, and test.\n",
    "np.random.seed(2070404)\n",
    "\n",
    "# Shuffle all records.\n",
    "rgb_shuffle = rgb_balanced.sample(frac = 1)\n",
    "\n",
    "# Create split counts.\n",
    "splits = np.multiply(len(rgb_shuffle), (0.6,0.2,0.2)).astype(int)\n",
    "print(f\"Split counts (train/ validation/ test): {splits}\")\n",
    "\n",
    "# Create split data sets.\n",
    "rgb_train, rgb_valid, rgb_test = np.split(rgb_shuffle, [splits[0], splits[0]+splits[1]])\n",
    "\n",
    "# Reset split set indicies.\n",
    "rgb_train.reset_index(drop=True, inplace=True)\n",
    "rgb_valid.reset_index(drop=True, inplace=True)\n",
    "rgb_test.reset_index(drop=True, inplace=True)"
   ]
  },
  {
   "cell_type": "code",
   "execution_count": 18,
   "id": "4d8b2e59-cb28-4f8c-9787-fdaf48aae3a7",
   "metadata": {
    "tags": []
   },
   "outputs": [
    {
     "name": "stdout",
     "output_type": "stream",
     "text": [
      "Training data shape: (420, 2360)\n",
      "Validation data shape: (140, 2360)\n",
      "Testing data shape: (140, 2360)\n"
     ]
    }
   ],
   "source": [
    "# Validate sizes.\n",
    "print(f\"Training data shape: {rgb_train.shape}\")\n",
    "print(f\"Validation data shape: {rgb_valid.shape}\")\n",
    "print(f\"Testing data shape: {rgb_test.shape}\")"
   ]
  },
  {
   "cell_type": "markdown",
   "id": "5b39259a-1234-47f5-844e-d5ddfea84764",
   "metadata": {
    "tags": []
   },
   "source": [
    "### 4. Additional EDA on Training Data"
   ]
  },
  {
   "cell_type": "code",
   "execution_count": 19,
   "id": "37498faa-0721-4c42-93ea-a2668a82ffe3",
   "metadata": {
    "tags": []
   },
   "outputs": [
    {
     "data": {
      "text/plain": [
       "(420, 2360)"
      ]
     },
     "execution_count": 19,
     "metadata": {},
     "output_type": "execute_result"
    }
   ],
   "source": [
    "rgb_train.shape"
   ]
  },
  {
   "cell_type": "code",
   "execution_count": 20,
   "id": "9c67c500-d37b-4490-8a3a-0ea45ce4b4c1",
   "metadata": {
    "tags": []
   },
   "outputs": [
    {
     "data": {
      "text/html": [
       "<div>\n",
       "<style scoped>\n",
       "    .dataframe tbody tr th:only-of-type {\n",
       "        vertical-align: middle;\n",
       "    }\n",
       "\n",
       "    .dataframe tbody tr th {\n",
       "        vertical-align: top;\n",
       "    }\n",
       "\n",
       "    .dataframe thead th {\n",
       "        text-align: right;\n",
       "    }\n",
       "</style>\n",
       "<table border=\"1\" class=\"dataframe\">\n",
       "  <thead>\n",
       "    <tr style=\"text-align: right;\">\n",
       "      <th></th>\n",
       "      <th>lesion_id</th>\n",
       "      <th>image_id</th>\n",
       "      <th>dx</th>\n",
       "      <th>dx_type</th>\n",
       "      <th>age</th>\n",
       "      <th>sex</th>\n",
       "      <th>localization</th>\n",
       "      <th>pixel0000</th>\n",
       "      <th>pixel0001</th>\n",
       "      <th>pixel0002</th>\n",
       "      <th>...</th>\n",
       "      <th>pixel2343</th>\n",
       "      <th>pixel2344</th>\n",
       "      <th>pixel2345</th>\n",
       "      <th>pixel2346</th>\n",
       "      <th>pixel2347</th>\n",
       "      <th>pixel2348</th>\n",
       "      <th>pixel2349</th>\n",
       "      <th>pixel2350</th>\n",
       "      <th>pixel2351</th>\n",
       "      <th>label</th>\n",
       "    </tr>\n",
       "  </thead>\n",
       "  <tbody>\n",
       "    <tr>\n",
       "      <th>0</th>\n",
       "      <td>HAM_0004722</td>\n",
       "      <td>ISIC_0024575</td>\n",
       "      <td>akiec</td>\n",
       "      <td>histo</td>\n",
       "      <td>70.0</td>\n",
       "      <td>female</td>\n",
       "      <td>upper extremity</td>\n",
       "      <td>182</td>\n",
       "      <td>122</td>\n",
       "      <td>96</td>\n",
       "      <td>...</td>\n",
       "      <td>161</td>\n",
       "      <td>122</td>\n",
       "      <td>119</td>\n",
       "      <td>148</td>\n",
       "      <td>108</td>\n",
       "      <td>100</td>\n",
       "      <td>138</td>\n",
       "      <td>100</td>\n",
       "      <td>93</td>\n",
       "      <td>0</td>\n",
       "    </tr>\n",
       "    <tr>\n",
       "      <th>1</th>\n",
       "      <td>HAM_0004364</td>\n",
       "      <td>ISIC_0026697</td>\n",
       "      <td>mel</td>\n",
       "      <td>histo</td>\n",
       "      <td>75.0</td>\n",
       "      <td>male</td>\n",
       "      <td>face</td>\n",
       "      <td>165</td>\n",
       "      <td>120</td>\n",
       "      <td>138</td>\n",
       "      <td>...</td>\n",
       "      <td>182</td>\n",
       "      <td>136</td>\n",
       "      <td>142</td>\n",
       "      <td>176</td>\n",
       "      <td>124</td>\n",
       "      <td>134</td>\n",
       "      <td>173</td>\n",
       "      <td>128</td>\n",
       "      <td>140</td>\n",
       "      <td>6</td>\n",
       "    </tr>\n",
       "    <tr>\n",
       "      <th>2</th>\n",
       "      <td>HAM_0005396</td>\n",
       "      <td>ISIC_0032834</td>\n",
       "      <td>bcc</td>\n",
       "      <td>histo</td>\n",
       "      <td>75.0</td>\n",
       "      <td>male</td>\n",
       "      <td>abdomen</td>\n",
       "      <td>182</td>\n",
       "      <td>175</td>\n",
       "      <td>190</td>\n",
       "      <td>...</td>\n",
       "      <td>185</td>\n",
       "      <td>178</td>\n",
       "      <td>191</td>\n",
       "      <td>184</td>\n",
       "      <td>178</td>\n",
       "      <td>189</td>\n",
       "      <td>182</td>\n",
       "      <td>175</td>\n",
       "      <td>185</td>\n",
       "      <td>1</td>\n",
       "    </tr>\n",
       "    <tr>\n",
       "      <th>3</th>\n",
       "      <td>HAM_0006564</td>\n",
       "      <td>ISIC_0031971</td>\n",
       "      <td>bcc</td>\n",
       "      <td>histo</td>\n",
       "      <td>70.0</td>\n",
       "      <td>male</td>\n",
       "      <td>unknown</td>\n",
       "      <td>209</td>\n",
       "      <td>183</td>\n",
       "      <td>196</td>\n",
       "      <td>...</td>\n",
       "      <td>203</td>\n",
       "      <td>175</td>\n",
       "      <td>189</td>\n",
       "      <td>204</td>\n",
       "      <td>176</td>\n",
       "      <td>186</td>\n",
       "      <td>205</td>\n",
       "      <td>175</td>\n",
       "      <td>184</td>\n",
       "      <td>1</td>\n",
       "    </tr>\n",
       "    <tr>\n",
       "      <th>4</th>\n",
       "      <td>HAM_0003127</td>\n",
       "      <td>ISIC_0028957</td>\n",
       "      <td>nv</td>\n",
       "      <td>histo</td>\n",
       "      <td>35.0</td>\n",
       "      <td>male</td>\n",
       "      <td>back</td>\n",
       "      <td>246</td>\n",
       "      <td>194</td>\n",
       "      <td>221</td>\n",
       "      <td>...</td>\n",
       "      <td>254</td>\n",
       "      <td>205</td>\n",
       "      <td>234</td>\n",
       "      <td>252</td>\n",
       "      <td>202</td>\n",
       "      <td>228</td>\n",
       "      <td>251</td>\n",
       "      <td>197</td>\n",
       "      <td>214</td>\n",
       "      <td>4</td>\n",
       "    </tr>\n",
       "  </tbody>\n",
       "</table>\n",
       "<p>5 rows × 2360 columns</p>\n",
       "</div>"
      ],
      "text/plain": [
       "     lesion_id      image_id     dx dx_type   age     sex     localization  \\\n",
       "0  HAM_0004722  ISIC_0024575  akiec   histo  70.0  female  upper extremity   \n",
       "1  HAM_0004364  ISIC_0026697    mel   histo  75.0    male             face   \n",
       "2  HAM_0005396  ISIC_0032834    bcc   histo  75.0    male          abdomen   \n",
       "3  HAM_0006564  ISIC_0031971    bcc   histo  70.0    male          unknown   \n",
       "4  HAM_0003127  ISIC_0028957     nv   histo  35.0    male             back   \n",
       "\n",
       "   pixel0000  pixel0001  pixel0002  ...  pixel2343  pixel2344  pixel2345  \\\n",
       "0        182        122         96  ...        161        122        119   \n",
       "1        165        120        138  ...        182        136        142   \n",
       "2        182        175        190  ...        185        178        191   \n",
       "3        209        183        196  ...        203        175        189   \n",
       "4        246        194        221  ...        254        205        234   \n",
       "\n",
       "   pixel2346  pixel2347  pixel2348  pixel2349  pixel2350  pixel2351  label  \n",
       "0        148        108        100        138        100         93      0  \n",
       "1        176        124        134        173        128        140      6  \n",
       "2        184        178        189        182        175        185      1  \n",
       "3        204        176        186        205        175        184      1  \n",
       "4        252        202        228        251        197        214      4  \n",
       "\n",
       "[5 rows x 2360 columns]"
      ]
     },
     "execution_count": 20,
     "metadata": {},
     "output_type": "execute_result"
    }
   ],
   "source": [
    "rgb_train.head()"
   ]
  },
  {
   "cell_type": "code",
   "execution_count": 21,
   "id": "f0598f04-62c7-4508-be6f-329f78b9f445",
   "metadata": {
    "tags": []
   },
   "outputs": [],
   "source": [
    "# Capture raw RBG spread.\n",
    "rgb_value_count = pd.DataFrame(rgb_train.loc[:, 'pixel0000':'pixel2351'].apply(pd.value_counts).fillna(0).astype(int).sum(axis='columns'))\n",
    "\n",
    "# Rebuild RGB encoding by reshaping pixels.\n",
    "#rgb_coded = pd.DataFrame(index=range(rgb_train.shape[0]),columns=range(784))\n",
    "# \n",
    "#for i in range(rgb_train.shape[0]):\n",
    "#    for j in range(784):\n",
    "#        rgb_coded.iloc[i,j] = [rgb_train.iloc[i,j+7], rgb_train.iloc[i,j+7+784], rgb_train.iloc[i,j+7+784+784]]#\n",
    "#\n",
    "#display(rgb_coded.shape)"
   ]
  },
  {
   "cell_type": "code",
   "execution_count": 22,
   "id": "693e1531-497e-41d5-b4d6-d119da66ac44",
   "metadata": {
    "tags": []
   },
   "outputs": [
    {
     "data": {
      "text/html": [
       "<div>\n",
       "<style scoped>\n",
       "    .dataframe tbody tr th:only-of-type {\n",
       "        vertical-align: middle;\n",
       "    }\n",
       "\n",
       "    .dataframe tbody tr th {\n",
       "        vertical-align: top;\n",
       "    }\n",
       "\n",
       "    .dataframe thead th {\n",
       "        text-align: right;\n",
       "    }\n",
       "</style>\n",
       "<table border=\"1\" class=\"dataframe\">\n",
       "  <thead>\n",
       "    <tr style=\"text-align: right;\">\n",
       "      <th></th>\n",
       "      <th>dx</th>\n",
       "      <th>localization</th>\n",
       "      <th>num_count</th>\n",
       "    </tr>\n",
       "  </thead>\n",
       "  <tbody>\n",
       "    <tr>\n",
       "      <th>0</th>\n",
       "      <td>akiec</td>\n",
       "      <td>abdomen</td>\n",
       "      <td>1</td>\n",
       "    </tr>\n",
       "    <tr>\n",
       "      <th>1</th>\n",
       "      <td>akiec</td>\n",
       "      <td>back</td>\n",
       "      <td>5</td>\n",
       "    </tr>\n",
       "    <tr>\n",
       "      <th>2</th>\n",
       "      <td>akiec</td>\n",
       "      <td>chest</td>\n",
       "      <td>2</td>\n",
       "    </tr>\n",
       "    <tr>\n",
       "      <th>3</th>\n",
       "      <td>akiec</td>\n",
       "      <td>face</td>\n",
       "      <td>15</td>\n",
       "    </tr>\n",
       "    <tr>\n",
       "      <th>4</th>\n",
       "      <td>akiec</td>\n",
       "      <td>hand</td>\n",
       "      <td>3</td>\n",
       "    </tr>\n",
       "  </tbody>\n",
       "</table>\n",
       "</div>"
      ],
      "text/plain": [
       "      dx localization  num_count\n",
       "0  akiec      abdomen          1\n",
       "1  akiec         back          5\n",
       "2  akiec        chest          2\n",
       "3  akiec         face         15\n",
       "4  akiec         hand          3"
      ]
     },
     "execution_count": 22,
     "metadata": {},
     "output_type": "execute_result"
    }
   ],
   "source": [
    "# Count combinations of dx and localization for plot.\n",
    "temp_df_1 = pd.concat([rgb_train.dx, rgb_train.localization], axis=1)\n",
    "rgb_dx_local = pd.DataFrame(temp_df_1.groupby(['dx', 'localization']).size()).reset_index().rename(columns={0:'num_count'})\n",
    "rgb_dx_local = rgb_dx_local.astype({'num_count':'int'})\n",
    "\n",
    "rgb_dx_local.head()"
   ]
  },
  {
   "cell_type": "code",
   "execution_count": 23,
   "id": "1c523f7a-6a86-4f3e-ab08-9eaa8bd00f87",
   "metadata": {
    "tags": []
   },
   "outputs": [
    {
     "data": {
      "image/png": "[encoded data removed]",
      "text/plain": [
       "<Figure size 2000x1500 with 8 Axes>"
      ]
     },
     "metadata": {},
     "output_type": "display_data"
    }
   ],
   "source": [
    "# Metadata count visualization.\n",
    "# Build histogram of diagnosis class value counts.\n",
    "\n",
    "chart_ticks, chart_labels = [], []\n",
    "\n",
    "fig, axes = plt.subplots(nrows=4, ncols=2, figsize=(20,15))\n",
    "fig.suptitle('Training Data Split Metadata')\n",
    "\n",
    "# Label distribution\n",
    "axes[0,0].hist(x=rgb_train.label, bins=np.arange(8)-0.5, edgecolor='black', zorder=2.5)\n",
    "axes[0,0].set_title('Label Distribution')\n",
    "\n",
    "for code, description in label_codes.items():\n",
    "    chart_ticks.append(code)\n",
    "    chart_labels.append(description['short'])\n",
    "\n",
    "axes[0,0].set_xticks(chart_ticks, chart_labels)\n",
    "axes[0,0].grid(axis='y', visible=True, alpha=0.5, zorder=2.6)\n",
    "\n",
    "# Dx (diagnosis) Distribution - should match labels.\n",
    "axes[0,1].hist(x=rgb_train.dx, bins=np.arange(8)-0.5, edgecolor='black', zorder=2.5)\n",
    "axes[0,1].set_title('Dx Distribution')\n",
    "\n",
    "axes[0,1].grid(axis='y', visible=True, alpha=0.5, zorder=2.6)\n",
    "\n",
    "# Gender Disribution\n",
    "axes[1,0].hist(x=rgb_train.sex, bins=np.arange(4)-0.5, edgecolor='black', zorder=2.5)\n",
    "axes[1,0].set_title('Gender Distribution')\n",
    "\n",
    "chart_ticks = [0, 1, 2]\n",
    "chart_labels = ['Female', 'Male', 'Unknown']\n",
    "\n",
    "axes[1,0].set_xticks(chart_ticks, chart_labels)\n",
    "axes[1,0].grid(axis='y', visible=True, alpha=0.5, zorder=2.6)\n",
    "\n",
    "# Age Distribution\n",
    "axes[1,1].hist(x=rgb_train.age, bins=np.arange(100)-0.5, edgecolor='black', zorder=2.5)\n",
    "axes[1,1].set_title('Age Distribution')\n",
    "\n",
    "axes[1,1].grid(axis='y', visible=True, alpha=0.5, zorder=2.6)\n",
    "\n",
    "# Localization Disribution\n",
    "axes[2,0].hist(x=rgb_train.localization, bins=np.arange(14)-0.5, edgecolor='black', zorder=2.5)\n",
    "axes[2,0].set_title('Localization Distribution')\n",
    "\n",
    "axes[2,0].grid(axis='y', visible=True, alpha=0.5, zorder=2.6)\n",
    "\n",
    "# Diagnosis Type Disribution\n",
    "axes[2,1].hist(x=rgb_train.dx_type, bins=np.arange(5)-0.5, edgecolor='black', zorder=2.5)\n",
    "axes[2,1].set_title('Dx Type Distribution')\n",
    "\n",
    "#chart_ticks = [0, 1, 2, 4]\n",
    "#chart_labels = ['Histo', 'Follow Up', 'Consensus', 'Confocal']\n",
    "\n",
    "#axes[2,1].set_xticks(chart_ticks, chart_labels)\n",
    "axes[2,1].grid(axis='y', visible=True, alpha=0.5, zorder=2.6)\n",
    "\n",
    "# RGB Value distribution - should be 0 to 255 only.\n",
    "size = (1.1 * rgb_dx_local.num_count) ** 2\n",
    "axes[3,0].scatter(x=rgb_dx_local.dx, y=rgb_dx_local.localization, s=size)\n",
    "\n",
    "axes[3,0].grid(axis='y', visible=True, alpha=0.5, zorder=2.6)\n",
    "axes[3,0].set_title('Dx to Localization Distribution')\n",
    "\n",
    "# RGB Value distribution - should be 0 to 255 only.\n",
    "axes[3,1].bar(x=rgb_value_count.index.tolist(), height=rgb_value_count.iloc[:, 0].tolist())\n",
    "\n",
    "axes[3,1].grid(axis='y', visible=True, alpha=0.5, zorder=2.6)\n",
    "axes[3,1].set_title('RGB Code Distribution')\n",
    "\n",
    "fig.tight_layout()\n",
    "plt.show()"
   ]
  },
  {
   "cell_type": "code",
   "execution_count": null,
   "id": "b4dc43ff-76d4-4174-ba8c-b7abcb97d752",
   "metadata": {},
   "outputs": [],
   "source": []
  }
 ],
 "metadata": {
  "kernelspec": {
   "display_name": "Python 3 (ipykernel)",
   "language": "python",
   "name": "python3"
  },
  "language_info": {
   "codemirror_mode": {
    "name": "ipython",
    "version": 3
   },
   "file_extension": ".py",
   "mimetype": "text/x-python",
   "name": "python",
   "nbconvert_exporter": "python",
   "pygments_lexer": "ipython3",
   "version": "3.11.5"
  }
 },
 "nbformat": 4,
 "nbformat_minor": 5
}
