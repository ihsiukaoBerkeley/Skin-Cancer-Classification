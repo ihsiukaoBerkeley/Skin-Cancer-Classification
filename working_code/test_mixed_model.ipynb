{
 "cells": [
  {
   "cell_type": "markdown",
   "metadata": {
    "id": "CITglgXP2wiK"
   },
   "source": [
    "# Step 1: Importing Essential Libraries"
   ]
  },
  {
   "cell_type": "code",
   "execution_count": 1,
   "metadata": {
    "id": "kES_rD67rrG6",
    "tags": []
   },
   "outputs": [],
   "source": [
    "import pandas as pd\n",
    "import numpy as np\n",
    "import warnings \n",
    "warnings.filterwarnings(\"ignore\")"
   ]
  },
  {
   "cell_type": "markdown",
   "metadata": {
    "id": "Xp6IRzqhu1Q9"
   },
   "source": [
    "# Step 2: Loading data and Making labels"
   ]
  },
  {
   "cell_type": "code",
   "execution_count": 2,
   "metadata": {
    "id": "g7tDvsg5sNZK",
    "tags": []
   },
   "outputs": [],
   "source": [
    "#Dataset used: https://www.kaggle.com/kmader/skin-cancer-mnist-ham10000\n",
    "image_path = \"archive/hmnist_28_28_RGB.csv\"\n",
    "meta_path = \"archive/HAM10000_metadata.csv\""
   ]
  },
  {
   "cell_type": "code",
   "execution_count": 3,
   "metadata": {
    "id": "TSlPUvq-sfo4",
    "tags": []
   },
   "outputs": [],
   "source": [
    "df = pd.read_csv(image_path)\n",
    "metadata = pd.read_csv(meta_path)"
   ]
  },
  {
   "cell_type": "code",
   "execution_count": 4,
   "metadata": {
    "id": "-XZB67tXslAf",
    "outputId": "7ff89a09-b252-4e2b-82e9-282b328bc92e",
    "tags": []
   },
   "outputs": [
    {
     "data": {
      "text/html": [
       "<div>\n",
       "<style scoped>\n",
       "    .dataframe tbody tr th:only-of-type {\n",
       "        vertical-align: middle;\n",
       "    }\n",
       "\n",
       "    .dataframe tbody tr th {\n",
       "        vertical-align: top;\n",
       "    }\n",
       "\n",
       "    .dataframe thead th {\n",
       "        text-align: right;\n",
       "    }\n",
       "</style>\n",
       "<table border=\"1\" class=\"dataframe\">\n",
       "  <thead>\n",
       "    <tr style=\"text-align: right;\">\n",
       "      <th></th>\n",
       "      <th>pixel0000</th>\n",
       "      <th>pixel0001</th>\n",
       "      <th>pixel0002</th>\n",
       "      <th>pixel0003</th>\n",
       "      <th>pixel0004</th>\n",
       "      <th>pixel0005</th>\n",
       "      <th>pixel0006</th>\n",
       "      <th>pixel0007</th>\n",
       "      <th>pixel0008</th>\n",
       "      <th>pixel0009</th>\n",
       "      <th>...</th>\n",
       "      <th>pixel2343</th>\n",
       "      <th>pixel2344</th>\n",
       "      <th>pixel2345</th>\n",
       "      <th>pixel2346</th>\n",
       "      <th>pixel2347</th>\n",
       "      <th>pixel2348</th>\n",
       "      <th>pixel2349</th>\n",
       "      <th>pixel2350</th>\n",
       "      <th>pixel2351</th>\n",
       "      <th>label</th>\n",
       "    </tr>\n",
       "  </thead>\n",
       "  <tbody>\n",
       "    <tr>\n",
       "      <th>10010</th>\n",
       "      <td>183</td>\n",
       "      <td>165</td>\n",
       "      <td>181</td>\n",
       "      <td>182</td>\n",
       "      <td>165</td>\n",
       "      <td>180</td>\n",
       "      <td>184</td>\n",
       "      <td>166</td>\n",
       "      <td>182</td>\n",
       "      <td>188</td>\n",
       "      <td>...</td>\n",
       "      <td>208</td>\n",
       "      <td>185</td>\n",
       "      <td>187</td>\n",
       "      <td>208</td>\n",
       "      <td>186</td>\n",
       "      <td>186</td>\n",
       "      <td>206</td>\n",
       "      <td>187</td>\n",
       "      <td>189</td>\n",
       "      <td>0</td>\n",
       "    </tr>\n",
       "    <tr>\n",
       "      <th>10011</th>\n",
       "      <td>2</td>\n",
       "      <td>3</td>\n",
       "      <td>1</td>\n",
       "      <td>38</td>\n",
       "      <td>33</td>\n",
       "      <td>32</td>\n",
       "      <td>121</td>\n",
       "      <td>104</td>\n",
       "      <td>103</td>\n",
       "      <td>132</td>\n",
       "      <td>...</td>\n",
       "      <td>96</td>\n",
       "      <td>79</td>\n",
       "      <td>76</td>\n",
       "      <td>24</td>\n",
       "      <td>23</td>\n",
       "      <td>21</td>\n",
       "      <td>3</td>\n",
       "      <td>4</td>\n",
       "      <td>1</td>\n",
       "      <td>0</td>\n",
       "    </tr>\n",
       "    <tr>\n",
       "      <th>10012</th>\n",
       "      <td>132</td>\n",
       "      <td>118</td>\n",
       "      <td>118</td>\n",
       "      <td>167</td>\n",
       "      <td>149</td>\n",
       "      <td>149</td>\n",
       "      <td>175</td>\n",
       "      <td>156</td>\n",
       "      <td>160</td>\n",
       "      <td>184</td>\n",
       "      <td>...</td>\n",
       "      <td>204</td>\n",
       "      <td>181</td>\n",
       "      <td>178</td>\n",
       "      <td>181</td>\n",
       "      <td>159</td>\n",
       "      <td>153</td>\n",
       "      <td>172</td>\n",
       "      <td>151</td>\n",
       "      <td>145</td>\n",
       "      <td>0</td>\n",
       "    </tr>\n",
       "    <tr>\n",
       "      <th>10013</th>\n",
       "      <td>160</td>\n",
       "      <td>124</td>\n",
       "      <td>146</td>\n",
       "      <td>164</td>\n",
       "      <td>131</td>\n",
       "      <td>152</td>\n",
       "      <td>167</td>\n",
       "      <td>127</td>\n",
       "      <td>146</td>\n",
       "      <td>169</td>\n",
       "      <td>...</td>\n",
       "      <td>185</td>\n",
       "      <td>162</td>\n",
       "      <td>167</td>\n",
       "      <td>184</td>\n",
       "      <td>157</td>\n",
       "      <td>166</td>\n",
       "      <td>185</td>\n",
       "      <td>162</td>\n",
       "      <td>172</td>\n",
       "      <td>0</td>\n",
       "    </tr>\n",
       "    <tr>\n",
       "      <th>10014</th>\n",
       "      <td>175</td>\n",
       "      <td>142</td>\n",
       "      <td>121</td>\n",
       "      <td>181</td>\n",
       "      <td>150</td>\n",
       "      <td>134</td>\n",
       "      <td>181</td>\n",
       "      <td>150</td>\n",
       "      <td>133</td>\n",
       "      <td>178</td>\n",
       "      <td>...</td>\n",
       "      <td>159</td>\n",
       "      <td>79</td>\n",
       "      <td>82</td>\n",
       "      <td>174</td>\n",
       "      <td>137</td>\n",
       "      <td>125</td>\n",
       "      <td>175</td>\n",
       "      <td>139</td>\n",
       "      <td>126</td>\n",
       "      <td>6</td>\n",
       "    </tr>\n",
       "  </tbody>\n",
       "</table>\n",
       "<p>5 rows × 2353 columns</p>\n",
       "</div>"
      ],
      "text/plain": [
       "       pixel0000  pixel0001  pixel0002  pixel0003  pixel0004  pixel0005  \\\n",
       "10010        183        165        181        182        165        180   \n",
       "10011          2          3          1         38         33         32   \n",
       "10012        132        118        118        167        149        149   \n",
       "10013        160        124        146        164        131        152   \n",
       "10014        175        142        121        181        150        134   \n",
       "\n",
       "       pixel0006  pixel0007  pixel0008  pixel0009  ...  pixel2343  pixel2344  \\\n",
       "10010        184        166        182        188  ...        208        185   \n",
       "10011        121        104        103        132  ...         96         79   \n",
       "10012        175        156        160        184  ...        204        181   \n",
       "10013        167        127        146        169  ...        185        162   \n",
       "10014        181        150        133        178  ...        159         79   \n",
       "\n",
       "       pixel2345  pixel2346  pixel2347  pixel2348  pixel2349  pixel2350  \\\n",
       "10010        187        208        186        186        206        187   \n",
       "10011         76         24         23         21          3          4   \n",
       "10012        178        181        159        153        172        151   \n",
       "10013        167        184        157        166        185        162   \n",
       "10014         82        174        137        125        175        139   \n",
       "\n",
       "       pixel2351  label  \n",
       "10010        189      0  \n",
       "10011          1      0  \n",
       "10012        145      0  \n",
       "10013        172      0  \n",
       "10014        126      6  \n",
       "\n",
       "[5 rows x 2353 columns]"
      ]
     },
     "execution_count": 4,
     "metadata": {},
     "output_type": "execute_result"
    }
   ],
   "source": [
    "df.tail()"
   ]
  },
  {
   "cell_type": "code",
   "execution_count": 5,
   "metadata": {},
   "outputs": [
    {
     "data": {
      "text/html": [
       "<div>\n",
       "<style scoped>\n",
       "    .dataframe tbody tr th:only-of-type {\n",
       "        vertical-align: middle;\n",
       "    }\n",
       "\n",
       "    .dataframe tbody tr th {\n",
       "        vertical-align: top;\n",
       "    }\n",
       "\n",
       "    .dataframe thead th {\n",
       "        text-align: right;\n",
       "    }\n",
       "</style>\n",
       "<table border=\"1\" class=\"dataframe\">\n",
       "  <thead>\n",
       "    <tr style=\"text-align: right;\">\n",
       "      <th></th>\n",
       "      <th>lesion_id</th>\n",
       "      <th>image_id</th>\n",
       "      <th>dx</th>\n",
       "      <th>dx_type</th>\n",
       "      <th>age</th>\n",
       "      <th>sex</th>\n",
       "      <th>localization</th>\n",
       "    </tr>\n",
       "  </thead>\n",
       "  <tbody>\n",
       "    <tr>\n",
       "      <th>10010</th>\n",
       "      <td>HAM_0002867</td>\n",
       "      <td>ISIC_0033084</td>\n",
       "      <td>akiec</td>\n",
       "      <td>histo</td>\n",
       "      <td>40.0</td>\n",
       "      <td>male</td>\n",
       "      <td>abdomen</td>\n",
       "    </tr>\n",
       "    <tr>\n",
       "      <th>10011</th>\n",
       "      <td>HAM_0002867</td>\n",
       "      <td>ISIC_0033550</td>\n",
       "      <td>akiec</td>\n",
       "      <td>histo</td>\n",
       "      <td>40.0</td>\n",
       "      <td>male</td>\n",
       "      <td>abdomen</td>\n",
       "    </tr>\n",
       "    <tr>\n",
       "      <th>10012</th>\n",
       "      <td>HAM_0002867</td>\n",
       "      <td>ISIC_0033536</td>\n",
       "      <td>akiec</td>\n",
       "      <td>histo</td>\n",
       "      <td>40.0</td>\n",
       "      <td>male</td>\n",
       "      <td>abdomen</td>\n",
       "    </tr>\n",
       "    <tr>\n",
       "      <th>10013</th>\n",
       "      <td>HAM_0000239</td>\n",
       "      <td>ISIC_0032854</td>\n",
       "      <td>akiec</td>\n",
       "      <td>histo</td>\n",
       "      <td>80.0</td>\n",
       "      <td>male</td>\n",
       "      <td>face</td>\n",
       "    </tr>\n",
       "    <tr>\n",
       "      <th>10014</th>\n",
       "      <td>HAM_0003521</td>\n",
       "      <td>ISIC_0032258</td>\n",
       "      <td>mel</td>\n",
       "      <td>histo</td>\n",
       "      <td>70.0</td>\n",
       "      <td>female</td>\n",
       "      <td>back</td>\n",
       "    </tr>\n",
       "  </tbody>\n",
       "</table>\n",
       "</div>"
      ],
      "text/plain": [
       "         lesion_id      image_id     dx dx_type   age     sex localization\n",
       "10010  HAM_0002867  ISIC_0033084  akiec   histo  40.0    male      abdomen\n",
       "10011  HAM_0002867  ISIC_0033550  akiec   histo  40.0    male      abdomen\n",
       "10012  HAM_0002867  ISIC_0033536  akiec   histo  40.0    male      abdomen\n",
       "10013  HAM_0000239  ISIC_0032854  akiec   histo  80.0    male         face\n",
       "10014  HAM_0003521  ISIC_0032258    mel   histo  70.0  female         back"
      ]
     },
     "execution_count": 5,
     "metadata": {},
     "output_type": "execute_result"
    }
   ],
   "source": [
    "metadata.tail()"
   ]
  },
  {
   "cell_type": "code",
   "execution_count": 6,
   "metadata": {},
   "outputs": [
    {
     "data": {
      "text/html": [
       "<div>\n",
       "<style scoped>\n",
       "    .dataframe tbody tr th:only-of-type {\n",
       "        vertical-align: middle;\n",
       "    }\n",
       "\n",
       "    .dataframe tbody tr th {\n",
       "        vertical-align: top;\n",
       "    }\n",
       "\n",
       "    .dataframe thead th {\n",
       "        text-align: right;\n",
       "    }\n",
       "</style>\n",
       "<table border=\"1\" class=\"dataframe\">\n",
       "  <thead>\n",
       "    <tr style=\"text-align: right;\">\n",
       "      <th></th>\n",
       "      <th>age</th>\n",
       "      <th>sex</th>\n",
       "      <th>localization</th>\n",
       "      <th>pixel0000</th>\n",
       "      <th>pixel0001</th>\n",
       "      <th>pixel0002</th>\n",
       "      <th>pixel0003</th>\n",
       "      <th>pixel0004</th>\n",
       "      <th>pixel0005</th>\n",
       "      <th>pixel0006</th>\n",
       "      <th>...</th>\n",
       "      <th>pixel2343</th>\n",
       "      <th>pixel2344</th>\n",
       "      <th>pixel2345</th>\n",
       "      <th>pixel2346</th>\n",
       "      <th>pixel2347</th>\n",
       "      <th>pixel2348</th>\n",
       "      <th>pixel2349</th>\n",
       "      <th>pixel2350</th>\n",
       "      <th>pixel2351</th>\n",
       "      <th>label</th>\n",
       "    </tr>\n",
       "  </thead>\n",
       "  <tbody>\n",
       "    <tr>\n",
       "      <th>10010</th>\n",
       "      <td>40.0</td>\n",
       "      <td>male</td>\n",
       "      <td>abdomen</td>\n",
       "      <td>183</td>\n",
       "      <td>165</td>\n",
       "      <td>181</td>\n",
       "      <td>182</td>\n",
       "      <td>165</td>\n",
       "      <td>180</td>\n",
       "      <td>184</td>\n",
       "      <td>...</td>\n",
       "      <td>208</td>\n",
       "      <td>185</td>\n",
       "      <td>187</td>\n",
       "      <td>208</td>\n",
       "      <td>186</td>\n",
       "      <td>186</td>\n",
       "      <td>206</td>\n",
       "      <td>187</td>\n",
       "      <td>189</td>\n",
       "      <td>0</td>\n",
       "    </tr>\n",
       "    <tr>\n",
       "      <th>10011</th>\n",
       "      <td>40.0</td>\n",
       "      <td>male</td>\n",
       "      <td>abdomen</td>\n",
       "      <td>2</td>\n",
       "      <td>3</td>\n",
       "      <td>1</td>\n",
       "      <td>38</td>\n",
       "      <td>33</td>\n",
       "      <td>32</td>\n",
       "      <td>121</td>\n",
       "      <td>...</td>\n",
       "      <td>96</td>\n",
       "      <td>79</td>\n",
       "      <td>76</td>\n",
       "      <td>24</td>\n",
       "      <td>23</td>\n",
       "      <td>21</td>\n",
       "      <td>3</td>\n",
       "      <td>4</td>\n",
       "      <td>1</td>\n",
       "      <td>0</td>\n",
       "    </tr>\n",
       "    <tr>\n",
       "      <th>10012</th>\n",
       "      <td>40.0</td>\n",
       "      <td>male</td>\n",
       "      <td>abdomen</td>\n",
       "      <td>132</td>\n",
       "      <td>118</td>\n",
       "      <td>118</td>\n",
       "      <td>167</td>\n",
       "      <td>149</td>\n",
       "      <td>149</td>\n",
       "      <td>175</td>\n",
       "      <td>...</td>\n",
       "      <td>204</td>\n",
       "      <td>181</td>\n",
       "      <td>178</td>\n",
       "      <td>181</td>\n",
       "      <td>159</td>\n",
       "      <td>153</td>\n",
       "      <td>172</td>\n",
       "      <td>151</td>\n",
       "      <td>145</td>\n",
       "      <td>0</td>\n",
       "    </tr>\n",
       "    <tr>\n",
       "      <th>10013</th>\n",
       "      <td>80.0</td>\n",
       "      <td>male</td>\n",
       "      <td>face</td>\n",
       "      <td>160</td>\n",
       "      <td>124</td>\n",
       "      <td>146</td>\n",
       "      <td>164</td>\n",
       "      <td>131</td>\n",
       "      <td>152</td>\n",
       "      <td>167</td>\n",
       "      <td>...</td>\n",
       "      <td>185</td>\n",
       "      <td>162</td>\n",
       "      <td>167</td>\n",
       "      <td>184</td>\n",
       "      <td>157</td>\n",
       "      <td>166</td>\n",
       "      <td>185</td>\n",
       "      <td>162</td>\n",
       "      <td>172</td>\n",
       "      <td>0</td>\n",
       "    </tr>\n",
       "    <tr>\n",
       "      <th>10014</th>\n",
       "      <td>70.0</td>\n",
       "      <td>female</td>\n",
       "      <td>back</td>\n",
       "      <td>175</td>\n",
       "      <td>142</td>\n",
       "      <td>121</td>\n",
       "      <td>181</td>\n",
       "      <td>150</td>\n",
       "      <td>134</td>\n",
       "      <td>181</td>\n",
       "      <td>...</td>\n",
       "      <td>159</td>\n",
       "      <td>79</td>\n",
       "      <td>82</td>\n",
       "      <td>174</td>\n",
       "      <td>137</td>\n",
       "      <td>125</td>\n",
       "      <td>175</td>\n",
       "      <td>139</td>\n",
       "      <td>126</td>\n",
       "      <td>6</td>\n",
       "    </tr>\n",
       "  </tbody>\n",
       "</table>\n",
       "<p>5 rows × 2356 columns</p>\n",
       "</div>"
      ],
      "text/plain": [
       "        age     sex localization  pixel0000  pixel0001  pixel0002  pixel0003  \\\n",
       "10010  40.0    male      abdomen        183        165        181        182   \n",
       "10011  40.0    male      abdomen          2          3          1         38   \n",
       "10012  40.0    male      abdomen        132        118        118        167   \n",
       "10013  80.0    male         face        160        124        146        164   \n",
       "10014  70.0  female         back        175        142        121        181   \n",
       "\n",
       "       pixel0004  pixel0005  pixel0006  ...  pixel2343  pixel2344  pixel2345  \\\n",
       "10010        165        180        184  ...        208        185        187   \n",
       "10011         33         32        121  ...         96         79         76   \n",
       "10012        149        149        175  ...        204        181        178   \n",
       "10013        131        152        167  ...        185        162        167   \n",
       "10014        150        134        181  ...        159         79         82   \n",
       "\n",
       "       pixel2346  pixel2347  pixel2348  pixel2349  pixel2350  pixel2351  label  \n",
       "10010        208        186        186        206        187        189      0  \n",
       "10011         24         23         21          3          4          1      0  \n",
       "10012        181        159        153        172        151        145      0  \n",
       "10013        184        157        166        185        162        172      0  \n",
       "10014        174        137        125        175        139        126      6  \n",
       "\n",
       "[5 rows x 2356 columns]"
      ]
     },
     "execution_count": 6,
     "metadata": {},
     "output_type": "execute_result"
    }
   ],
   "source": [
    "#drop NA values\n",
    "meta_set = metadata[[\"age\", \"sex\", \"localization\"]]\n",
    "df = pd.concat([meta_set, df], axis = 1)\n",
    "df = df.dropna()\n",
    "df.tail()"
   ]
  },
  {
   "cell_type": "markdown",
   "metadata": {
    "id": "Y4Cw9UFa1rsr"
   },
   "source": [
    "# Step 3: Train Test Split"
   ]
  },
  {
   "cell_type": "code",
   "execution_count": 7,
   "metadata": {},
   "outputs": [
    {
     "name": "stdout",
     "output_type": "stream",
     "text": [
      "Split counts (train/ validation/ test): [5974 1991 1991]\n"
     ]
    }
   ],
   "source": [
    "# Split into train, validation, and test.\n",
    "np.random.seed(2070404)\n",
    "\n",
    "# Shuffle all records.\n",
    "df_shuffle = df.sample(frac = 1)\n",
    "\n",
    "# Create split counts.\n",
    "splits = np.multiply(len(df_shuffle), (0.6,0.2,0.2)).astype(int)\n",
    "print(f\"Split counts (train/ validation/ test): {splits}\")\n",
    "\n",
    "# Create split data sets.\n",
    "train_set, valid_set, test_set = np.split(df_shuffle, [splits[0], splits[0] + splits[1]])\n",
    "\n",
    "# Reset split set indicies.\n",
    "train_set.reset_index(drop = True, inplace = True)\n",
    "valid_set.reset_index(drop = True, inplace = True)\n",
    "test_set.reset_index(drop = True, inplace = True)"
   ]
  },
  {
   "cell_type": "code",
   "execution_count": 8,
   "metadata": {
    "id": "2W5sBRkZtBr9",
    "tags": []
   },
   "outputs": [],
   "source": [
    "#separate features and labels\n",
    "y_train_clean = train_set['label']\n",
    "x_train_clean = train_set.drop(columns=['label'])\n",
    "\n",
    "y_valid = valid_set['label']\n",
    "x_valid = valid_set.drop(columns=['label'])\n",
    "\n",
    "y_test = test_set['label']\n",
    "x_test = test_set.drop(columns=['label'])\n",
    "\n",
    "columns = list(x_train_clean)"
   ]
  },
  {
   "cell_type": "markdown",
   "metadata": {
    "id": "5i_16okiu1Rf"
   },
   "source": [
    "# Step 4: Preprocessing"
   ]
  },
  {
   "cell_type": "code",
   "execution_count": 9,
   "metadata": {},
   "outputs": [],
   "source": [
    "from imblearn.over_sampling import RandomOverSampler\n",
    "from sklearn.preprocessing import StandardScaler, OneHotEncoder\n",
    "\n",
    "#create a new train set that over-sample the minority class(es) by picking samples at random with replacement\n",
    "oversample = RandomOverSampler()\n",
    "x_train_oversample, y_train_oversample  = oversample.fit_resample(x_train_clean, y_train_clean)\n",
    "\n",
    "#create encoder to encode categorical features as one-hot arrays\n",
    "ohe = OneHotEncoder()\n",
    "#create scaler to standardize features by removing the mean and scaling to unit variance\n",
    "scaler = StandardScaler()\n",
    "\n",
    "#apply encoder and scaler on clean (original) dataset's metadata\n",
    "categorical_data_clean = ohe.fit_transform(x_train_clean[['sex', 'localization']]).toarray()\n",
    "numerical_data_clean = scaler.fit_transform(x_train_clean[['age']].values)\n",
    "train_tabular_clean = np.concatenate([categorical_data_clean, numerical_data_clean], axis = 1)\n",
    "x_train_clean = x_train_clean.iloc[:,3:]\n",
    "\n",
    "#apply encoder and scaler on oversample dataset's metadata\n",
    "categorical_data_oversample = ohe.transform(x_train_oversample[['sex', 'localization']]).toarray()\n",
    "numerical_data_oversample = scaler.transform(x_train_oversample[['age']].values)\n",
    "train_tabular_oversample = np.concatenate([categorical_data_oversample, numerical_data_oversample], axis = 1)\n",
    "x_train_oversample = x_train_oversample.iloc[:,3:]\n",
    "\n",
    "#apply encoder and scaler on validation dataset's metadata\n",
    "categorical_data_valid = ohe.transform(x_valid[['sex', 'localization']]).toarray()\n",
    "numerical_data_valid = scaler.transform(x_valid[['age']].values)\n",
    "valid_tabular_set = np.concatenate([categorical_data_valid, numerical_data_valid], axis = 1)\n",
    "x_valid = x_valid.iloc[:,3:]\n"
   ]
  },
  {
   "cell_type": "code",
   "execution_count": 10,
   "metadata": {},
   "outputs": [
    {
     "name": "stdout",
     "output_type": "stream",
     "text": [
      "(5974, 19)\n",
      "(5974, 2352)\n"
     ]
    }
   ],
   "source": [
    "print(train_tabular_clean.shape)\n",
    "print(x_train_clean.shape)"
   ]
  },
  {
   "cell_type": "code",
   "execution_count": 11,
   "metadata": {},
   "outputs": [
    {
     "name": "stdout",
     "output_type": "stream",
     "text": [
      "(27965, 19)\n",
      "(27965, 2352)\n"
     ]
    }
   ],
   "source": [
    "print(train_tabular_oversample.shape)\n",
    "print(x_train_oversample.shape)"
   ]
  },
  {
   "cell_type": "code",
   "execution_count": 12,
   "metadata": {},
   "outputs": [
    {
     "name": "stdout",
     "output_type": "stream",
     "text": [
      "(1991, 19)\n",
      "(1991, 2352)\n"
     ]
    }
   ],
   "source": [
    "print(valid_tabular_set.shape)\n",
    "print(x_valid.shape)"
   ]
  },
  {
   "cell_type": "code",
   "execution_count": 13,
   "metadata": {
    "id": "84ADzEUx5R9I",
    "outputId": "052655c5-cf03-45b5-d7f7-eb8e2e41637a",
    "tags": []
   },
   "outputs": [],
   "source": [
    "import matplotlib.pyplot as plt\n",
    "import random\n",
    "\n",
    "x_train_clean = np.array(x_train_clean, dtype=np.uint8).reshape(-1,28,28,3)\n",
    "x_train_oversample = np.array(x_train_oversample, dtype=np.uint8).reshape(-1,28,28,3)\n",
    "x_valid = np.array(x_valid, dtype=np.uint8).reshape(-1,28,28,3)"
   ]
  },
  {
   "cell_type": "code",
   "execution_count": 14,
   "metadata": {
    "id": "obmDZia7Sxnn",
    "tags": []
   },
   "outputs": [],
   "source": [
    "from tensorflow.keras.models import Sequential\n",
    "from tensorflow.keras.layers import Conv2D, Flatten, Dense, MaxPool2D, Dropout, BatchNormalization\n",
    "from tensorflow.keras.layers import GlobalAveragePooling2D\n",
    "from tensorflow import keras\n",
    "import tensorflow as tf"
   ]
  },
  {
   "cell_type": "code",
   "execution_count": 15,
   "metadata": {},
   "outputs": [],
   "source": [
    "x_valid_augm = x_valid / 255.0\n",
    "\n",
    "def aug_image(x_train_set, tabular_set, y_train_set, contrast_factor = 2, delta = 0.1, flip_flag = True):\n",
    "    \"\"\" \n",
    "    apply transformaions and augmentations\n",
    "    \n",
    "    Args:\n",
    "    x_train_set: dataset to be augmented and transformed\n",
    "    tabular_set: metadata of the dataset\n",
    "    y_train_set: labels of the dataset\n",
    "    contrast_factor: contrast factor to be used\n",
    "    delta: delta value to be used\n",
    "    flip_flag: whether to apply flipping transformation to the dataset\n",
    "    \n",
    "    \n",
    "    Returns:\n",
    "    x_train_set_augm: transformed and augmented dataset\n",
    "    tabular_set_augm: metadata of the transformed and augmented dataset\n",
    "    y_train_set_augm: labels of the transformed and augmented dataset\n",
    "    \n",
    "    \"\"\"\n",
    "    \n",
    "    \n",
    "    tf.random.set_seed(1234)\n",
    "\n",
    "    #transform image to greyscale\n",
    "    x_train_set_augm = x_train_set / 255.0\n",
    "\n",
    "    #change delta\n",
    "    x_train_set_augm = tf.image.adjust_brightness(x_train_set_augm, delta = delta)\n",
    "\n",
    "    #change contrast\n",
    "    x_train_set_augm = tf.image.adjust_contrast(x_train_set_augm, contrast_factor = contrast_factor)\n",
    "\n",
    "    #flip image\n",
    "    if flip_flag:\n",
    "        x_train_set_augm = tf.image.random_flip_left_right(x_train_set_augm)\n",
    "\n",
    "    #concatenate original dataset and augmented dataset\n",
    "    x_train_set_augm = tf.concat([x_train_set, x_train_set_augm], axis = 0)\n",
    "    \n",
    "    #concatenate original dataset metadata with itselt\n",
    "    tabular_set_augm = tabular_set\n",
    "    tabular_set_augm = tf.concat([tabular_set_augm, tabular_set], axis = 0)\n",
    "\n",
    "    #concatenate original dataset labels with itselt\n",
    "    y_train_set_augm = y_train_set\n",
    "    y_train_set_augm = tf.concat([y_train_set, y_train_set_augm], axis = 0)\n",
    "\n",
    "\n",
    "    #shuffle dataset\n",
    "    shuffle = tf.random.shuffle(tf.range(tf.shape(x_train_set_augm)[0], dtype = tf.int32))\n",
    "    x_train_set_augm = tf.gather(x_train_set_augm, shuffle)\n",
    "    tabular_set_augm = tf.gather(tabular_set_augm, shuffle)\n",
    "    y_train_set_augm = tf.gather(y_train_set_augm, shuffle).numpy() #also transforms y_train to numpy array\n",
    "\n",
    "    #print(x_train_set_augm.shape)\n",
    "    \n",
    "    return x_train_set_augm, tabular_set_augm, y_train_set_augm"
   ]
  },
  {
   "cell_type": "markdown",
   "metadata": {
    "id": "MQlw_baKxPQw"
   },
   "source": [
    "# Step 5: Model Building"
   ]
  },
  {
   "cell_type": "markdown",
   "metadata": {},
   "source": [
    "### 5.1: build a neural network model for metadata features (tabular data)"
   ]
  },
  {
   "cell_type": "code",
   "execution_count": 16,
   "metadata": {},
   "outputs": [],
   "source": [
    "def build_tabular_model(input_dim = 19, activation_func = \"relu\", tabular_dense_list = [64]):    \n",
    "    \"\"\" \n",
    "    build a neural network model using keras\n",
    "    \n",
    "    Args:\n",
    "    input_dim: dimension of the input\n",
    "    activation_func: activation function to be used in the hidden dense layers\n",
    "    tabular_dense_list: a list of dense layer units to be added\n",
    "    \n",
    "    Returns:\n",
    "    model: A tf.keras model\n",
    "    \n",
    "    \"\"\"\n",
    "    \n",
    "    model = tf.keras.Sequential()\n",
    "\n",
    "    for i in range(len(tabular_dense_list)):\n",
    "        #add dense layer 1\n",
    "        if i == 0:\n",
    "            model.add(tf.keras.layers.Dense(\n",
    "                units = tabular_dense_list[i],\n",
    "                activation = activation_func,\n",
    "                input_dim = input_dim))\n",
    "        #add additional dense layer(s)\n",
    "        else:\n",
    "            model.add(tf.keras.layers.Dense(\n",
    "                units = tabular_dense_list[i],\n",
    "                activation = activation_func))\n",
    "            \n",
    "    return model\n",
    "    "
   ]
  },
  {
   "cell_type": "markdown",
   "metadata": {},
   "source": [
    "### 5.2: build a CNN model for images"
   ]
  },
  {
   "cell_type": "code",
   "execution_count": 17,
   "metadata": {
    "id": "Vsll2hd2wzuS",
    "outputId": "72d98919-77a3-46eb-ea1d-fecce118efcb",
    "tags": []
   },
   "outputs": [],
   "source": [
    "def build_cnn_model(kernel_size = 2, pool_size = 2):\n",
    "    \"\"\"\n",
    "    Build a CNN model using Keras.\n",
    "\n",
    "    Args:\n",
    "    kernel_size: convolution layer kernel size\n",
    "    pool_size: pooling layer pool size\n",
    "\n",
    "    Returns:\n",
    "    model: A tf.keras model\n",
    "    \"\"\"\n",
    "    \n",
    "    model = tf.keras.Sequential()\n",
    "\n",
    "    #add convolution layer 1\n",
    "    model.add(tf.keras.layers.Conv2D(\n",
    "        filters = 32, kernel_size = (kernel_size, kernel_size),\n",
    "        strides=(1,1), padding='same',\n",
    "        data_format = 'channels_last',\n",
    "        input_shape = (28, 28, 3),  # Updated input shape for RGB\n",
    "        name='conv_1', activation='relu'))\n",
    "\n",
    "    #add pooling layer 1\n",
    "    model.add(tf.keras.layers.MaxPool2D(\n",
    "        pool_size = (pool_size, pool_size), name = 'pool_1'))\n",
    "\n",
    "    #add convolution layer 2\n",
    "    model.add(tf.keras.layers.Conv2D(\n",
    "        filters = 64, kernel_size = (kernel_size, kernel_size),\n",
    "        strides = (1,1), padding = 'same',\n",
    "        name = 'conv_2', activation = 'relu'))\n",
    "\n",
    "    #add pooling layer 2\n",
    "    model.add(tf.keras.layers.MaxPool2D(\n",
    "        pool_size = (pool_size, pool_size), name = 'pool_2'))\n",
    "\n",
    "    #add flattening layer\n",
    "    model.add(tf.keras.layers.Flatten())\n",
    "\n",
    "\n",
    "    #add dense layer 1\n",
    "    model.add(tf.keras.layers.Dense(\n",
    "        units = 1024, name = 'fc_1', \n",
    "        activation = 'relu'))\n",
    "\n",
    "    #dropout\n",
    "    model.add(tf.keras.layers.Dropout(rate = 0.5))\n",
    "    \n",
    "    #add dense layer 2\n",
    "    model.add(tf.keras.layers.Dense(\n",
    "        units = 1024, name = 'dense2', \n",
    "        activation = 'relu'))\n",
    "                \n",
    "    return model"
   ]
  },
  {
   "cell_type": "markdown",
   "metadata": {},
   "source": [
    "### 5.3: build a mixed model combining the neural network for tabular data and the CNN for images"
   ]
  },
  {
   "cell_type": "code",
   "execution_count": 18,
   "metadata": {},
   "outputs": [],
   "source": [
    "def build_mixed_model(kernel_size = 2, pool_size = 2, tabular_shape = 19, tabular_activation_func = \"relu\", tabular_dense_list = [64], mixed_dense_list = [1024]):\n",
    "    \"\"\"\n",
    "    Build a mixed model using Keras.\n",
    "\n",
    "    Args:\n",
    "    kernel_size: convolution layer kernel size\n",
    "    pool_size: pooling layer pool size\n",
    "    tabular_shape: dimension of the input\n",
    "    tabular_activation_func: activation function to be used in the hidden dense layers\n",
    "    tabular_dense_list: a list of dense layer units to be added to the tabular NN model\n",
    "    mixed_dense_list: a list of dense layer units to be added to the mixed model\n",
    "\n",
    "    Returns:\n",
    "    model: A tf.keras model\n",
    "    \"\"\"\n",
    "    \n",
    "    #clear previous sessions\n",
    "    tf.keras.backend.clear_session()\n",
    "\n",
    "    #initialize two models\n",
    "    cnn_model = build_cnn_model(kernel_size = kernel_size, pool_size = pool_size)\n",
    "    tabular_model = build_tabular_model(input_dim = tabular_shape, activation_func = tabular_activation_func, tabular_dense_list = tabular_dense_list)\n",
    "\n",
    "    #concatenate the two models by adding a concatenation layer\n",
    "    combined_input = tf.keras.layers.concatenate([cnn_model.output, tabular_model.output])\n",
    "    \n",
    "    curr_layer = combined_input\n",
    "\n",
    "    #add more dense layers based on dense_list\n",
    "    for i in mixed_dense_list:\n",
    "        curr_layer = tf.keras.layers.Dense(i, activation = 'relu')(curr_layer)\n",
    "    \n",
    "    #add output layer\n",
    "    output = tf.keras.layers.Dense(7, activation = 'softmax')(curr_layer) \n",
    "\n",
    "    model = tf.keras.Model(inputs = [cnn_model.input, tabular_model.input], outputs = output)\n",
    "\n",
    "    model.compile(optimizer = tf.keras.optimizers.Adam(learning_rate = 0.001), \n",
    "                  loss = 'sparse_categorical_crossentropy',  \n",
    "                  metrics = ['accuracy'])\n",
    "    \n",
    "    return model"
   ]
  },
  {
   "cell_type": "markdown",
   "metadata": {},
   "source": [
    "# Step 6: Fitting the Model Using Different Datasets"
   ]
  },
  {
   "cell_type": "code",
   "execution_count": 19,
   "metadata": {},
   "outputs": [],
   "source": [
    "#create a list of dense layer unit lists for mixed model\n",
    "mixed_dense_lists = [[1024], [1024, 512], [1024, 512, 256], [1024, 512, 256, 128], [1024, 512, 256, 128, 64], [1024, 512, 256, 128, 64, 32]]\n",
    "\n",
    "#create a list of dense layer unit lists for tabular NN model\n",
    "tabular_dense_lists = [[32], [32, 64], [32, 64, 64], [32, 64, 64, 32]]\n",
    "\n",
    "#create a list of activation functions to be tested\n",
    "activation_list = [\"relu\", \"tanh\"]"
   ]
  },
  {
   "cell_type": "markdown",
   "metadata": {},
   "source": [
    "### 6.1: fit models using clean (original) dataset"
   ]
  },
  {
   "cell_type": "code",
   "execution_count": 20,
   "metadata": {},
   "outputs": [
    {
     "name": "stderr",
     "output_type": "stream",
     "text": [
      "WARNING:absl:At this time, the v2.11+ optimizer `tf.keras.optimizers.Adam` runs slowly on M1/M2 Macs, please use the legacy Keras optimizer instead, located at `tf.keras.optimizers.legacy.Adam`.\n",
      "WARNING:absl:There is a known slowdown when using v2.11+ Keras optimizers on M1/M2 Macs. Falling back to the legacy Keras optimizer, i.e., `tf.keras.optimizers.legacy.Adam`.\n"
     ]
    },
    {
     "name": "stdout",
     "output_type": "stream",
     "text": [
      "---mixed dense list: [1024], tabular dense list: [32], activation: relu---\n",
      "Epoch 1/10\n"
     ]
    },
    {
     "name": "stderr",
     "output_type": "stream",
     "text": [
      "2023-12-08 10:19:25.415511: W tensorflow/tsl/platform/profile_utils/cpu_utils.cc:128] Failed to get CPU frequency: 0 Hz\n"
     ]
    },
    {
     "name": "stdout",
     "output_type": "stream",
     "text": [
      "47/47 [==============================] - 2s 29ms/step - loss: 10.8992 - accuracy: 0.6096 - val_loss: 0.8760 - val_accuracy: 0.7027\n",
      "Epoch 2/10\n",
      "47/47 [==============================] - 1s 28ms/step - loss: 0.8737 - accuracy: 0.6950 - val_loss: 0.8624 - val_accuracy: 0.7137\n",
      "Epoch 3/10\n",
      "47/47 [==============================] - 1s 26ms/step - loss: 0.8067 - accuracy: 0.7139 - val_loss: 0.7692 - val_accuracy: 0.7263\n",
      "Epoch 4/10\n",
      "47/47 [==============================] - 1s 26ms/step - loss: 0.7737 - accuracy: 0.7201 - val_loss: 0.7326 - val_accuracy: 0.7343\n",
      "Epoch 5/10\n",
      "47/47 [==============================] - 1s 26ms/step - loss: 0.7586 - accuracy: 0.7278 - val_loss: 0.7421 - val_accuracy: 0.7358\n",
      "Epoch 6/10\n",
      "47/47 [==============================] - 1s 27ms/step - loss: 0.7172 - accuracy: 0.7349 - val_loss: 0.7144 - val_accuracy: 0.7398\n",
      "Epoch 7/10\n",
      "47/47 [==============================] - 1s 27ms/step - loss: 0.6987 - accuracy: 0.7419 - val_loss: 0.7589 - val_accuracy: 0.7333\n",
      "Epoch 8/10\n",
      "47/47 [==============================] - 1s 29ms/step - loss: 0.6836 - accuracy: 0.7420 - val_loss: 0.6840 - val_accuracy: 0.7449\n",
      "Epoch 9/10\n",
      "47/47 [==============================] - 1s 31ms/step - loss: 0.6564 - accuracy: 0.7585 - val_loss: 0.6566 - val_accuracy: 0.7554\n",
      "Epoch 10/10\n",
      "47/47 [==============================] - 1s 31ms/step - loss: 0.6549 - accuracy: 0.7600 - val_loss: 0.6594 - val_accuracy: 0.7474\n",
      "---mixed dense list: [1024], tabular dense list: [32], activation: tanh---\n"
     ]
    },
    {
     "name": "stderr",
     "output_type": "stream",
     "text": [
      "WARNING:absl:At this time, the v2.11+ optimizer `tf.keras.optimizers.Adam` runs slowly on M1/M2 Macs, please use the legacy Keras optimizer instead, located at `tf.keras.optimizers.legacy.Adam`.\n",
      "WARNING:absl:There is a known slowdown when using v2.11+ Keras optimizers on M1/M2 Macs. Falling back to the legacy Keras optimizer, i.e., `tf.keras.optimizers.legacy.Adam`.\n"
     ]
    },
    {
     "name": "stdout",
     "output_type": "stream",
     "text": [
      "Epoch 1/10\n",
      "47/47 [==============================] - 2s 33ms/step - loss: 5.1754 - accuracy: 0.6302 - val_loss: 0.8769 - val_accuracy: 0.7102\n",
      "Epoch 2/10\n",
      "47/47 [==============================] - 1s 28ms/step - loss: 0.8287 - accuracy: 0.7101 - val_loss: 0.7967 - val_accuracy: 0.7172\n",
      "Epoch 3/10\n",
      "47/47 [==============================] - 1s 28ms/step - loss: 0.7543 - accuracy: 0.7263 - val_loss: 0.7075 - val_accuracy: 0.7348\n",
      "Epoch 4/10\n",
      "47/47 [==============================] - 1s 27ms/step - loss: 0.7238 - accuracy: 0.7285 - val_loss: 0.6888 - val_accuracy: 0.7368\n",
      "Epoch 5/10\n",
      "47/47 [==============================] - 1s 29ms/step - loss: 0.6948 - accuracy: 0.7466 - val_loss: 0.6453 - val_accuracy: 0.7534\n",
      "Epoch 6/10\n",
      "47/47 [==============================] - 2s 36ms/step - loss: 0.6747 - accuracy: 0.7494 - val_loss: 0.6475 - val_accuracy: 0.7524\n",
      "Epoch 7/10\n",
      "47/47 [==============================] - 2s 33ms/step - loss: 0.6328 - accuracy: 0.7611 - val_loss: 0.6157 - val_accuracy: 0.7725\n",
      "Epoch 8/10\n",
      "47/47 [==============================] - 1s 26ms/step - loss: 0.6180 - accuracy: 0.7707 - val_loss: 0.6119 - val_accuracy: 0.7675\n",
      "Epoch 9/10\n",
      "47/47 [==============================] - 1s 27ms/step - loss: 0.6041 - accuracy: 0.7730 - val_loss: 0.6340 - val_accuracy: 0.7599\n",
      "Epoch 10/10\n",
      "47/47 [==============================] - 1s 29ms/step - loss: 0.5942 - accuracy: 0.7775 - val_loss: 0.6009 - val_accuracy: 0.7835\n"
     ]
    },
    {
     "name": "stderr",
     "output_type": "stream",
     "text": [
      "WARNING:absl:At this time, the v2.11+ optimizer `tf.keras.optimizers.Adam` runs slowly on M1/M2 Macs, please use the legacy Keras optimizer instead, located at `tf.keras.optimizers.legacy.Adam`.\n",
      "WARNING:absl:There is a known slowdown when using v2.11+ Keras optimizers on M1/M2 Macs. Falling back to the legacy Keras optimizer, i.e., `tf.keras.optimizers.legacy.Adam`.\n"
     ]
    },
    {
     "name": "stdout",
     "output_type": "stream",
     "text": [
      "---mixed dense list: [1024], tabular dense list: [32, 64], activation: relu---\n",
      "Epoch 1/10\n",
      "47/47 [==============================] - 2s 30ms/step - loss: 6.7893 - accuracy: 0.6217 - val_loss: 0.9149 - val_accuracy: 0.6976\n",
      "Epoch 2/10\n",
      "47/47 [==============================] - 1s 32ms/step - loss: 0.9032 - accuracy: 0.6952 - val_loss: 0.8427 - val_accuracy: 0.7112\n",
      "Epoch 3/10\n",
      "47/47 [==============================] - 2s 38ms/step - loss: 0.8710 - accuracy: 0.7005 - val_loss: 0.8330 - val_accuracy: 0.7157\n",
      "Epoch 4/10\n",
      "47/47 [==============================] - 1s 31ms/step - loss: 0.8455 - accuracy: 0.7064 - val_loss: 0.8220 - val_accuracy: 0.7167\n",
      "Epoch 5/10\n",
      "47/47 [==============================] - 1s 28ms/step - loss: 0.8277 - accuracy: 0.7089 - val_loss: 0.8232 - val_accuracy: 0.7162\n",
      "Epoch 6/10\n",
      "47/47 [==============================] - 1s 28ms/step - loss: 0.8287 - accuracy: 0.7056 - val_loss: 0.8189 - val_accuracy: 0.7017\n",
      "Epoch 7/10\n",
      "47/47 [==============================] - 1s 27ms/step - loss: 0.8181 - accuracy: 0.7056 - val_loss: 0.8124 - val_accuracy: 0.7067\n",
      "Epoch 8/10\n",
      "47/47 [==============================] - 1s 26ms/step - loss: 0.8209 - accuracy: 0.7041 - val_loss: 0.8221 - val_accuracy: 0.7017\n",
      "Epoch 9/10\n",
      "47/47 [==============================] - 1s 27ms/step - loss: 0.8166 - accuracy: 0.7076 - val_loss: 0.8298 - val_accuracy: 0.7062\n",
      "Epoch 10/10\n",
      "47/47 [==============================] - 1s 27ms/step - loss: 0.8027 - accuracy: 0.7118 - val_loss: 0.8042 - val_accuracy: 0.7072\n"
     ]
    },
    {
     "name": "stderr",
     "output_type": "stream",
     "text": [
      "WARNING:absl:At this time, the v2.11+ optimizer `tf.keras.optimizers.Adam` runs slowly on M1/M2 Macs, please use the legacy Keras optimizer instead, located at `tf.keras.optimizers.legacy.Adam`.\n",
      "WARNING:absl:There is a known slowdown when using v2.11+ Keras optimizers on M1/M2 Macs. Falling back to the legacy Keras optimizer, i.e., `tf.keras.optimizers.legacy.Adam`.\n"
     ]
    },
    {
     "name": "stdout",
     "output_type": "stream",
     "text": [
      "---mixed dense list: [1024], tabular dense list: [32, 64], activation: tanh---\n",
      "Epoch 1/10\n",
      "47/47 [==============================] - 2s 30ms/step - loss: 9.8356 - accuracy: 0.6351 - val_loss: 0.8682 - val_accuracy: 0.7097\n",
      "Epoch 2/10\n",
      "47/47 [==============================] - 1s 28ms/step - loss: 0.8386 - accuracy: 0.7035 - val_loss: 0.8714 - val_accuracy: 0.7057\n",
      "Epoch 3/10\n",
      "47/47 [==============================] - 1s 29ms/step - loss: 0.8020 - accuracy: 0.7114 - val_loss: 0.7447 - val_accuracy: 0.7323\n",
      "Epoch 4/10\n",
      "47/47 [==============================] - 1s 28ms/step - loss: 0.7624 - accuracy: 0.7253 - val_loss: 0.7185 - val_accuracy: 0.7328\n",
      "Epoch 5/10\n",
      "47/47 [==============================] - 1s 26ms/step - loss: 0.7451 - accuracy: 0.7312 - val_loss: 0.7179 - val_accuracy: 0.7423\n",
      "Epoch 6/10\n",
      "47/47 [==============================] - 1s 27ms/step - loss: 0.7271 - accuracy: 0.7333 - val_loss: 0.7117 - val_accuracy: 0.7363\n",
      "Epoch 7/10\n",
      "47/47 [==============================] - 1s 28ms/step - loss: 0.7156 - accuracy: 0.7369 - val_loss: 0.7252 - val_accuracy: 0.7438\n",
      "Epoch 8/10\n",
      "47/47 [==============================] - 1s 28ms/step - loss: 0.7079 - accuracy: 0.7384 - val_loss: 0.7052 - val_accuracy: 0.7479\n",
      "Epoch 9/10\n",
      "47/47 [==============================] - 1s 28ms/step - loss: 0.6848 - accuracy: 0.7437 - val_loss: 0.6670 - val_accuracy: 0.7534\n",
      "Epoch 10/10\n",
      "47/47 [==============================] - 1s 28ms/step - loss: 0.6755 - accuracy: 0.7514 - val_loss: 0.6538 - val_accuracy: 0.7599\n",
      "---mixed dense list: [1024], tabular dense list: [32, 64, 64], activation: relu---\n"
     ]
    },
    {
     "name": "stderr",
     "output_type": "stream",
     "text": [
      "WARNING:absl:At this time, the v2.11+ optimizer `tf.keras.optimizers.Adam` runs slowly on M1/M2 Macs, please use the legacy Keras optimizer instead, located at `tf.keras.optimizers.legacy.Adam`.\n",
      "WARNING:absl:There is a known slowdown when using v2.11+ Keras optimizers on M1/M2 Macs. Falling back to the legacy Keras optimizer, i.e., `tf.keras.optimizers.legacy.Adam`.\n"
     ]
    },
    {
     "name": "stdout",
     "output_type": "stream",
     "text": [
      "Epoch 1/10\n",
      "47/47 [==============================] - 1s 28ms/step - loss: 4.1270 - accuracy: 0.6383 - val_loss: 0.9112 - val_accuracy: 0.6866\n",
      "Epoch 2/10\n",
      "47/47 [==============================] - 1s 26ms/step - loss: 0.8461 - accuracy: 0.7046 - val_loss: 0.7864 - val_accuracy: 0.7248\n",
      "Epoch 3/10\n",
      "47/47 [==============================] - 1s 28ms/step - loss: 0.7854 - accuracy: 0.7221 - val_loss: 0.7599 - val_accuracy: 0.7162\n",
      "Epoch 4/10\n",
      "47/47 [==============================] - 1s 29ms/step - loss: 0.7405 - accuracy: 0.7317 - val_loss: 0.7075 - val_accuracy: 0.7489\n",
      "Epoch 5/10\n",
      "47/47 [==============================] - 1s 26ms/step - loss: 0.7118 - accuracy: 0.7404 - val_loss: 0.6885 - val_accuracy: 0.7494\n",
      "Epoch 6/10\n",
      "47/47 [==============================] - 1s 27ms/step - loss: 0.6811 - accuracy: 0.7462 - val_loss: 0.7104 - val_accuracy: 0.7368\n",
      "Epoch 7/10\n",
      "47/47 [==============================] - 1s 26ms/step - loss: 0.6515 - accuracy: 0.7618 - val_loss: 0.6554 - val_accuracy: 0.7589\n",
      "Epoch 8/10\n",
      "47/47 [==============================] - 1s 26ms/step - loss: 0.6150 - accuracy: 0.7695 - val_loss: 0.6236 - val_accuracy: 0.7649\n",
      "Epoch 9/10\n",
      "47/47 [==============================] - 1s 26ms/step - loss: 0.5929 - accuracy: 0.7725 - val_loss: 0.6269 - val_accuracy: 0.7549\n",
      "Epoch 10/10\n",
      "47/47 [==============================] - 2s 33ms/step - loss: 0.5851 - accuracy: 0.7774 - val_loss: 0.6426 - val_accuracy: 0.7604\n"
     ]
    },
    {
     "name": "stderr",
     "output_type": "stream",
     "text": [
      "WARNING:absl:At this time, the v2.11+ optimizer `tf.keras.optimizers.Adam` runs slowly on M1/M2 Macs, please use the legacy Keras optimizer instead, located at `tf.keras.optimizers.legacy.Adam`.\n",
      "WARNING:absl:There is a known slowdown when using v2.11+ Keras optimizers on M1/M2 Macs. Falling back to the legacy Keras optimizer, i.e., `tf.keras.optimizers.legacy.Adam`.\n"
     ]
    },
    {
     "name": "stdout",
     "output_type": "stream",
     "text": [
      "---mixed dense list: [1024], tabular dense list: [32, 64, 64], activation: tanh---\n",
      "Epoch 1/10\n",
      "47/47 [==============================] - 1s 26ms/step - loss: 10.3737 - accuracy: 0.6297 - val_loss: 0.9150 - val_accuracy: 0.7067\n",
      "Epoch 2/10\n",
      "47/47 [==============================] - 1s 25ms/step - loss: 0.8612 - accuracy: 0.7017 - val_loss: 0.7981 - val_accuracy: 0.7132\n",
      "Epoch 3/10\n",
      "47/47 [==============================] - 1s 25ms/step - loss: 0.8006 - accuracy: 0.7141 - val_loss: 0.8465 - val_accuracy: 0.7142\n",
      "Epoch 4/10\n",
      "47/47 [==============================] - 1s 25ms/step - loss: 0.7762 - accuracy: 0.7181 - val_loss: 0.7713 - val_accuracy: 0.7202\n",
      "Epoch 5/10\n",
      "47/47 [==============================] - 1s 25ms/step - loss: 0.7657 - accuracy: 0.7255 - val_loss: 0.7503 - val_accuracy: 0.7293\n",
      "Epoch 6/10\n",
      "47/47 [==============================] - 1s 28ms/step - loss: 0.7273 - accuracy: 0.7365 - val_loss: 0.7252 - val_accuracy: 0.7263\n",
      "Epoch 7/10\n",
      "47/47 [==============================] - 1s 29ms/step - loss: 0.7182 - accuracy: 0.7328 - val_loss: 0.7300 - val_accuracy: 0.7278\n",
      "Epoch 8/10\n",
      "47/47 [==============================] - 1s 28ms/step - loss: 0.7044 - accuracy: 0.7349 - val_loss: 0.7064 - val_accuracy: 0.7408\n",
      "Epoch 9/10\n",
      "47/47 [==============================] - 1s 26ms/step - loss: 0.6855 - accuracy: 0.7429 - val_loss: 0.6852 - val_accuracy: 0.7464\n",
      "Epoch 10/10\n",
      "47/47 [==============================] - 1s 26ms/step - loss: 0.6765 - accuracy: 0.7451 - val_loss: 0.6823 - val_accuracy: 0.7509\n"
     ]
    },
    {
     "name": "stderr",
     "output_type": "stream",
     "text": [
      "WARNING:absl:At this time, the v2.11+ optimizer `tf.keras.optimizers.Adam` runs slowly on M1/M2 Macs, please use the legacy Keras optimizer instead, located at `tf.keras.optimizers.legacy.Adam`.\n",
      "WARNING:absl:There is a known slowdown when using v2.11+ Keras optimizers on M1/M2 Macs. Falling back to the legacy Keras optimizer, i.e., `tf.keras.optimizers.legacy.Adam`.\n"
     ]
    },
    {
     "name": "stdout",
     "output_type": "stream",
     "text": [
      "---mixed dense list: [1024], tabular dense list: [32, 64, 64, 32], activation: relu---\n",
      "Epoch 1/10\n",
      "47/47 [==============================] - 2s 27ms/step - loss: 6.2189 - accuracy: 0.6301 - val_loss: 0.8780 - val_accuracy: 0.7117\n",
      "Epoch 2/10\n",
      "47/47 [==============================] - 1s 27ms/step - loss: 0.8267 - accuracy: 0.7159 - val_loss: 0.8290 - val_accuracy: 0.7167\n",
      "Epoch 3/10\n",
      "47/47 [==============================] - 1s 27ms/step - loss: 0.7744 - accuracy: 0.7228 - val_loss: 0.7962 - val_accuracy: 0.7027\n",
      "Epoch 4/10\n",
      "47/47 [==============================] - 1s 28ms/step - loss: 0.7346 - accuracy: 0.7387 - val_loss: 0.7074 - val_accuracy: 0.7459\n",
      "Epoch 5/10\n",
      "47/47 [==============================] - 1s 27ms/step - loss: 0.7266 - accuracy: 0.7367 - val_loss: 0.7549 - val_accuracy: 0.7388\n",
      "Epoch 6/10\n",
      "47/47 [==============================] - 1s 27ms/step - loss: 0.6908 - accuracy: 0.7415 - val_loss: 0.6791 - val_accuracy: 0.7554\n",
      "Epoch 7/10\n",
      "47/47 [==============================] - 1s 30ms/step - loss: 0.6691 - accuracy: 0.7529 - val_loss: 0.6623 - val_accuracy: 0.7574\n",
      "Epoch 8/10\n",
      "47/47 [==============================] - 1s 28ms/step - loss: 0.6336 - accuracy: 0.7628 - val_loss: 0.6631 - val_accuracy: 0.7549\n",
      "Epoch 9/10\n",
      "47/47 [==============================] - 1s 29ms/step - loss: 0.6162 - accuracy: 0.7715 - val_loss: 0.6919 - val_accuracy: 0.7484\n",
      "Epoch 10/10\n",
      "47/47 [==============================] - 1s 28ms/step - loss: 0.5934 - accuracy: 0.7765 - val_loss: 0.6551 - val_accuracy: 0.7509\n",
      "---mixed dense list: [1024], tabular dense list: [32, 64, 64, 32], activation: tanh---\n"
     ]
    },
    {
     "name": "stderr",
     "output_type": "stream",
     "text": [
      "WARNING:absl:At this time, the v2.11+ optimizer `tf.keras.optimizers.Adam` runs slowly on M1/M2 Macs, please use the legacy Keras optimizer instead, located at `tf.keras.optimizers.legacy.Adam`.\n",
      "WARNING:absl:There is a known slowdown when using v2.11+ Keras optimizers on M1/M2 Macs. Falling back to the legacy Keras optimizer, i.e., `tf.keras.optimizers.legacy.Adam`.\n"
     ]
    },
    {
     "name": "stdout",
     "output_type": "stream",
     "text": [
      "Epoch 1/10\n",
      "47/47 [==============================] - 1s 27ms/step - loss: 10.3944 - accuracy: 0.6276 - val_loss: 0.8855 - val_accuracy: 0.7027\n",
      "Epoch 2/10\n",
      "47/47 [==============================] - 1s 26ms/step - loss: 0.8270 - accuracy: 0.7124 - val_loss: 0.7693 - val_accuracy: 0.7393\n",
      "Epoch 3/10\n",
      "47/47 [==============================] - 1s 26ms/step - loss: 0.7872 - accuracy: 0.7277 - val_loss: 0.8184 - val_accuracy: 0.7197\n",
      "Epoch 4/10\n",
      "47/47 [==============================] - 1s 26ms/step - loss: 0.7522 - accuracy: 0.7288 - val_loss: 0.7371 - val_accuracy: 0.7303\n",
      "Epoch 5/10\n",
      "47/47 [==============================] - 1s 26ms/step - loss: 0.7122 - accuracy: 0.7436 - val_loss: 0.6973 - val_accuracy: 0.7368\n",
      "Epoch 6/10\n",
      "47/47 [==============================] - 1s 27ms/step - loss: 0.6826 - accuracy: 0.7501 - val_loss: 0.6830 - val_accuracy: 0.7499\n",
      "Epoch 7/10\n",
      "47/47 [==============================] - 1s 26ms/step - loss: 0.6757 - accuracy: 0.7538 - val_loss: 0.6894 - val_accuracy: 0.7524\n",
      "Epoch 8/10\n",
      "47/47 [==============================] - 1s 29ms/step - loss: 0.6515 - accuracy: 0.7598 - val_loss: 0.6536 - val_accuracy: 0.7629\n",
      "Epoch 9/10\n",
      "47/47 [==============================] - 1s 28ms/step - loss: 0.6298 - accuracy: 0.7673 - val_loss: 0.6969 - val_accuracy: 0.7489\n",
      "Epoch 10/10\n",
      "47/47 [==============================] - 1s 31ms/step - loss: 0.6035 - accuracy: 0.7740 - val_loss: 0.6403 - val_accuracy: 0.7594\n",
      "---mixed dense list: [1024, 512], tabular dense list: [32], activation: relu---\n"
     ]
    },
    {
     "name": "stderr",
     "output_type": "stream",
     "text": [
      "WARNING:absl:At this time, the v2.11+ optimizer `tf.keras.optimizers.Adam` runs slowly on M1/M2 Macs, please use the legacy Keras optimizer instead, located at `tf.keras.optimizers.legacy.Adam`.\n",
      "WARNING:absl:There is a known slowdown when using v2.11+ Keras optimizers on M1/M2 Macs. Falling back to the legacy Keras optimizer, i.e., `tf.keras.optimizers.legacy.Adam`.\n"
     ]
    },
    {
     "name": "stdout",
     "output_type": "stream",
     "text": [
      "Epoch 1/10\n",
      "47/47 [==============================] - 2s 31ms/step - loss: 5.8695 - accuracy: 0.6269 - val_loss: 0.9205 - val_accuracy: 0.6886\n",
      "Epoch 2/10\n",
      "47/47 [==============================] - 1s 28ms/step - loss: 0.8606 - accuracy: 0.6940 - val_loss: 0.7715 - val_accuracy: 0.7177\n",
      "Epoch 3/10\n",
      "47/47 [==============================] - 1s 28ms/step - loss: 0.7918 - accuracy: 0.7121 - val_loss: 0.7631 - val_accuracy: 0.7313\n",
      "Epoch 4/10\n",
      "47/47 [==============================] - 1s 27ms/step - loss: 0.7535 - accuracy: 0.7220 - val_loss: 0.7379 - val_accuracy: 0.7303\n",
      "Epoch 5/10\n",
      "47/47 [==============================] - 1s 27ms/step - loss: 0.7239 - accuracy: 0.7359 - val_loss: 0.6912 - val_accuracy: 0.7464\n",
      "Epoch 6/10\n",
      "47/47 [==============================] - 1s 27ms/step - loss: 0.7412 - accuracy: 0.7359 - val_loss: 0.7137 - val_accuracy: 0.7293\n",
      "Epoch 7/10\n",
      "47/47 [==============================] - 1s 28ms/step - loss: 0.6834 - accuracy: 0.7482 - val_loss: 0.7009 - val_accuracy: 0.7464\n",
      "Epoch 8/10\n",
      "47/47 [==============================] - 1s 28ms/step - loss: 0.6671 - accuracy: 0.7467 - val_loss: 0.6680 - val_accuracy: 0.7519\n",
      "Epoch 9/10\n",
      "47/47 [==============================] - 1s 27ms/step - loss: 0.6427 - accuracy: 0.7596 - val_loss: 0.6593 - val_accuracy: 0.7549\n",
      "Epoch 10/10\n",
      "47/47 [==============================] - 1s 27ms/step - loss: 0.6095 - accuracy: 0.7718 - val_loss: 0.6203 - val_accuracy: 0.7715\n"
     ]
    },
    {
     "name": "stderr",
     "output_type": "stream",
     "text": [
      "WARNING:absl:At this time, the v2.11+ optimizer `tf.keras.optimizers.Adam` runs slowly on M1/M2 Macs, please use the legacy Keras optimizer instead, located at `tf.keras.optimizers.legacy.Adam`.\n",
      "WARNING:absl:There is a known slowdown when using v2.11+ Keras optimizers on M1/M2 Macs. Falling back to the legacy Keras optimizer, i.e., `tf.keras.optimizers.legacy.Adam`.\n"
     ]
    },
    {
     "name": "stdout",
     "output_type": "stream",
     "text": [
      "---mixed dense list: [1024, 512], tabular dense list: [32], activation: tanh---\n",
      "Epoch 1/10\n",
      "47/47 [==============================] - 1s 28ms/step - loss: 5.9120 - accuracy: 0.6306 - val_loss: 0.9414 - val_accuracy: 0.6956\n",
      "Epoch 2/10\n",
      "47/47 [==============================] - 1s 28ms/step - loss: 0.8435 - accuracy: 0.7044 - val_loss: 0.8068 - val_accuracy: 0.7182\n",
      "Epoch 3/10\n",
      "47/47 [==============================] - 1s 28ms/step - loss: 0.7828 - accuracy: 0.7169 - val_loss: 0.7395 - val_accuracy: 0.7373\n",
      "Epoch 4/10\n",
      "47/47 [==============================] - 1s 26ms/step - loss: 0.7505 - accuracy: 0.7323 - val_loss: 0.7285 - val_accuracy: 0.7368\n",
      "Epoch 5/10\n",
      "47/47 [==============================] - 1s 27ms/step - loss: 0.7326 - accuracy: 0.7362 - val_loss: 0.7019 - val_accuracy: 0.7449\n",
      "Epoch 6/10\n",
      "47/47 [==============================] - 1s 27ms/step - loss: 0.7002 - accuracy: 0.7476 - val_loss: 0.6971 - val_accuracy: 0.7534\n",
      "Epoch 7/10\n",
      "47/47 [==============================] - 1s 27ms/step - loss: 0.6764 - accuracy: 0.7499 - val_loss: 0.6859 - val_accuracy: 0.7549\n",
      "Epoch 8/10\n",
      "47/47 [==============================] - 1s 27ms/step - loss: 0.6655 - accuracy: 0.7541 - val_loss: 0.6874 - val_accuracy: 0.7403\n",
      "Epoch 9/10\n",
      "47/47 [==============================] - 1s 27ms/step - loss: 0.6428 - accuracy: 0.7569 - val_loss: 0.6602 - val_accuracy: 0.7489\n",
      "Epoch 10/10\n",
      "47/47 [==============================] - 1s 27ms/step - loss: 0.6261 - accuracy: 0.7735 - val_loss: 0.7078 - val_accuracy: 0.7433\n",
      "---mixed dense list: [1024, 512], tabular dense list: [32, 64], activation: relu---\n"
     ]
    },
    {
     "name": "stderr",
     "output_type": "stream",
     "text": [
      "WARNING:absl:At this time, the v2.11+ optimizer `tf.keras.optimizers.Adam` runs slowly on M1/M2 Macs, please use the legacy Keras optimizer instead, located at `tf.keras.optimizers.legacy.Adam`.\n",
      "WARNING:absl:There is a known slowdown when using v2.11+ Keras optimizers on M1/M2 Macs. Falling back to the legacy Keras optimizer, i.e., `tf.keras.optimizers.legacy.Adam`.\n"
     ]
    },
    {
     "name": "stdout",
     "output_type": "stream",
     "text": [
      "Epoch 1/10\n",
      "47/47 [==============================] - 1s 27ms/step - loss: 5.4815 - accuracy: 0.6133 - val_loss: 0.9926 - val_accuracy: 0.6740\n",
      "Epoch 2/10\n",
      "47/47 [==============================] - 1s 27ms/step - loss: 0.8739 - accuracy: 0.6957 - val_loss: 0.8319 - val_accuracy: 0.7152\n",
      "Epoch 3/10\n",
      "47/47 [==============================] - 1s 27ms/step - loss: 0.7960 - accuracy: 0.7163 - val_loss: 0.7395 - val_accuracy: 0.7228\n",
      "Epoch 4/10\n",
      "47/47 [==============================] - 1s 26ms/step - loss: 0.7544 - accuracy: 0.7265 - val_loss: 0.7597 - val_accuracy: 0.7283\n",
      "Epoch 5/10\n",
      "47/47 [==============================] - 1s 29ms/step - loss: 0.7355 - accuracy: 0.7318 - val_loss: 0.7015 - val_accuracy: 0.7454\n",
      "Epoch 6/10\n",
      "47/47 [==============================] - 1s 27ms/step - loss: 0.7011 - accuracy: 0.7419 - val_loss: 0.6907 - val_accuracy: 0.7489\n",
      "Epoch 7/10\n",
      "47/47 [==============================] - 1s 28ms/step - loss: 0.6895 - accuracy: 0.7466 - val_loss: 0.6397 - val_accuracy: 0.7594\n",
      "Epoch 8/10\n",
      "47/47 [==============================] - 1s 27ms/step - loss: 0.6540 - accuracy: 0.7574 - val_loss: 0.6418 - val_accuracy: 0.7644\n",
      "Epoch 9/10\n",
      "47/47 [==============================] - 1s 27ms/step - loss: 0.6423 - accuracy: 0.7586 - val_loss: 0.6578 - val_accuracy: 0.7654\n",
      "Epoch 10/10\n",
      "47/47 [==============================] - 2s 35ms/step - loss: 0.6207 - accuracy: 0.7692 - val_loss: 0.6648 - val_accuracy: 0.7519\n",
      "---mixed dense list: [1024, 512], tabular dense list: [32, 64], activation: tanh---\n"
     ]
    },
    {
     "name": "stderr",
     "output_type": "stream",
     "text": [
      "WARNING:absl:At this time, the v2.11+ optimizer `tf.keras.optimizers.Adam` runs slowly on M1/M2 Macs, please use the legacy Keras optimizer instead, located at `tf.keras.optimizers.legacy.Adam`.\n",
      "WARNING:absl:There is a known slowdown when using v2.11+ Keras optimizers on M1/M2 Macs. Falling back to the legacy Keras optimizer, i.e., `tf.keras.optimizers.legacy.Adam`.\n"
     ]
    },
    {
     "name": "stdout",
     "output_type": "stream",
     "text": [
      "Epoch 1/10\n",
      "47/47 [==============================] - 2s 29ms/step - loss: 7.8229 - accuracy: 0.6202 - val_loss: 0.9078 - val_accuracy: 0.6866\n",
      "Epoch 2/10\n",
      "47/47 [==============================] - 1s 27ms/step - loss: 0.8839 - accuracy: 0.6982 - val_loss: 0.8018 - val_accuracy: 0.7228\n",
      "Epoch 3/10\n",
      "47/47 [==============================] - 1s 26ms/step - loss: 0.7952 - accuracy: 0.7205 - val_loss: 0.7603 - val_accuracy: 0.7398\n",
      "Epoch 4/10\n",
      "47/47 [==============================] - 2s 34ms/step - loss: 0.7719 - accuracy: 0.7287 - val_loss: 0.7258 - val_accuracy: 0.7373\n",
      "Epoch 5/10\n",
      "47/47 [==============================] - 1s 30ms/step - loss: 0.7513 - accuracy: 0.7338 - val_loss: 0.7207 - val_accuracy: 0.7413\n",
      "Epoch 6/10\n",
      "47/47 [==============================] - 1s 28ms/step - loss: 0.7209 - accuracy: 0.7345 - val_loss: 0.7297 - val_accuracy: 0.7454\n",
      "Epoch 7/10\n",
      "47/47 [==============================] - 1s 28ms/step - loss: 0.6983 - accuracy: 0.7496 - val_loss: 0.6794 - val_accuracy: 0.7524\n",
      "Epoch 8/10\n",
      "47/47 [==============================] - 1s 26ms/step - loss: 0.6837 - accuracy: 0.7476 - val_loss: 0.6821 - val_accuracy: 0.7539\n",
      "Epoch 9/10\n",
      "47/47 [==============================] - 1s 26ms/step - loss: 0.6733 - accuracy: 0.7531 - val_loss: 0.6631 - val_accuracy: 0.7649\n",
      "Epoch 10/10\n",
      "47/47 [==============================] - 1s 26ms/step - loss: 0.6486 - accuracy: 0.7603 - val_loss: 0.6438 - val_accuracy: 0.7594\n",
      "---mixed dense list: [1024, 512], tabular dense list: [32, 64, 64], activation: relu---\n"
     ]
    },
    {
     "name": "stderr",
     "output_type": "stream",
     "text": [
      "WARNING:absl:At this time, the v2.11+ optimizer `tf.keras.optimizers.Adam` runs slowly on M1/M2 Macs, please use the legacy Keras optimizer instead, located at `tf.keras.optimizers.legacy.Adam`.\n",
      "WARNING:absl:There is a known slowdown when using v2.11+ Keras optimizers on M1/M2 Macs. Falling back to the legacy Keras optimizer, i.e., `tf.keras.optimizers.legacy.Adam`.\n"
     ]
    },
    {
     "name": "stdout",
     "output_type": "stream",
     "text": [
      "Epoch 1/10\n",
      "47/47 [==============================] - 1s 27ms/step - loss: 6.2399 - accuracy: 0.6249 - val_loss: 0.8530 - val_accuracy: 0.6906\n",
      "Epoch 2/10\n",
      "47/47 [==============================] - 1s 27ms/step - loss: 0.8416 - accuracy: 0.7069 - val_loss: 0.7880 - val_accuracy: 0.7253\n",
      "Epoch 3/10\n",
      "47/47 [==============================] - 1s 27ms/step - loss: 0.7855 - accuracy: 0.7246 - val_loss: 0.7906 - val_accuracy: 0.7298\n",
      "Epoch 4/10\n",
      "47/47 [==============================] - 1s 27ms/step - loss: 0.7436 - accuracy: 0.7308 - val_loss: 0.7091 - val_accuracy: 0.7519\n",
      "Epoch 5/10\n",
      "47/47 [==============================] - 1s 27ms/step - loss: 0.7220 - accuracy: 0.7412 - val_loss: 0.6949 - val_accuracy: 0.7544\n",
      "Epoch 6/10\n",
      "47/47 [==============================] - 1s 27ms/step - loss: 0.6916 - accuracy: 0.7492 - val_loss: 0.6996 - val_accuracy: 0.7443\n",
      "Epoch 7/10\n",
      "47/47 [==============================] - 1s 27ms/step - loss: 0.6860 - accuracy: 0.7484 - val_loss: 0.6869 - val_accuracy: 0.7549\n",
      "Epoch 8/10\n",
      "47/47 [==============================] - 1s 31ms/step - loss: 0.6573 - accuracy: 0.7514 - val_loss: 0.6411 - val_accuracy: 0.7644\n",
      "Epoch 9/10\n",
      "47/47 [==============================] - 1s 30ms/step - loss: 0.6238 - accuracy: 0.7697 - val_loss: 0.6597 - val_accuracy: 0.7700\n",
      "Epoch 10/10\n",
      "47/47 [==============================] - 1s 27ms/step - loss: 0.6161 - accuracy: 0.7678 - val_loss: 0.6503 - val_accuracy: 0.7569\n"
     ]
    },
    {
     "name": "stderr",
     "output_type": "stream",
     "text": [
      "WARNING:absl:At this time, the v2.11+ optimizer `tf.keras.optimizers.Adam` runs slowly on M1/M2 Macs, please use the legacy Keras optimizer instead, located at `tf.keras.optimizers.legacy.Adam`.\n",
      "WARNING:absl:There is a known slowdown when using v2.11+ Keras optimizers on M1/M2 Macs. Falling back to the legacy Keras optimizer, i.e., `tf.keras.optimizers.legacy.Adam`.\n"
     ]
    },
    {
     "name": "stdout",
     "output_type": "stream",
     "text": [
      "---mixed dense list: [1024, 512], tabular dense list: [32, 64, 64], activation: tanh---\n",
      "Epoch 1/10\n",
      "47/47 [==============================] - 2s 29ms/step - loss: 4.2470 - accuracy: 0.6282 - val_loss: 0.8466 - val_accuracy: 0.7132\n",
      "Epoch 2/10\n",
      "47/47 [==============================] - 1s 28ms/step - loss: 0.8293 - accuracy: 0.7104 - val_loss: 0.7709 - val_accuracy: 0.7233\n",
      "Epoch 3/10\n",
      "47/47 [==============================] - 1s 27ms/step - loss: 0.7911 - accuracy: 0.7149 - val_loss: 0.7536 - val_accuracy: 0.7303\n",
      "Epoch 4/10\n",
      "47/47 [==============================] - 1s 28ms/step - loss: 0.7567 - accuracy: 0.7298 - val_loss: 0.7045 - val_accuracy: 0.7408\n",
      "Epoch 5/10\n",
      "47/47 [==============================] - 1s 29ms/step - loss: 0.7372 - accuracy: 0.7287 - val_loss: 0.7333 - val_accuracy: 0.7278\n",
      "Epoch 6/10\n",
      "47/47 [==============================] - 1s 28ms/step - loss: 0.7210 - accuracy: 0.7307 - val_loss: 0.7291 - val_accuracy: 0.7258\n",
      "Epoch 7/10\n",
      "47/47 [==============================] - 1s 28ms/step - loss: 0.6930 - accuracy: 0.7412 - val_loss: 0.7014 - val_accuracy: 0.7398\n",
      "Epoch 8/10\n",
      "47/47 [==============================] - 1s 27ms/step - loss: 0.6666 - accuracy: 0.7508 - val_loss: 0.6755 - val_accuracy: 0.7423\n",
      "Epoch 9/10\n",
      "47/47 [==============================] - 1s 27ms/step - loss: 0.6673 - accuracy: 0.7456 - val_loss: 0.6745 - val_accuracy: 0.7454\n",
      "Epoch 10/10\n",
      "47/47 [==============================] - 1s 28ms/step - loss: 0.6318 - accuracy: 0.7613 - val_loss: 0.6822 - val_accuracy: 0.7443\n",
      "---mixed dense list: [1024, 512], tabular dense list: [32, 64, 64, 32], activation: relu---\n"
     ]
    },
    {
     "name": "stderr",
     "output_type": "stream",
     "text": [
      "WARNING:absl:At this time, the v2.11+ optimizer `tf.keras.optimizers.Adam` runs slowly on M1/M2 Macs, please use the legacy Keras optimizer instead, located at `tf.keras.optimizers.legacy.Adam`.\n",
      "WARNING:absl:There is a known slowdown when using v2.11+ Keras optimizers on M1/M2 Macs. Falling back to the legacy Keras optimizer, i.e., `tf.keras.optimizers.legacy.Adam`.\n"
     ]
    },
    {
     "name": "stdout",
     "output_type": "stream",
     "text": [
      "Epoch 1/10\n",
      "47/47 [==============================] - 2s 34ms/step - loss: 5.4167 - accuracy: 0.6314 - val_loss: 0.9161 - val_accuracy: 0.6946\n",
      "Epoch 2/10\n",
      "47/47 [==============================] - 1s 27ms/step - loss: 0.8658 - accuracy: 0.7012 - val_loss: 0.7843 - val_accuracy: 0.7288\n",
      "Epoch 3/10\n",
      "47/47 [==============================] - 1s 29ms/step - loss: 0.8034 - accuracy: 0.7159 - val_loss: 0.7605 - val_accuracy: 0.7338\n",
      "Epoch 4/10\n",
      "47/47 [==============================] - 1s 27ms/step - loss: 0.7641 - accuracy: 0.7370 - val_loss: 0.7266 - val_accuracy: 0.7393\n",
      "Epoch 5/10\n",
      "47/47 [==============================] - 1s 30ms/step - loss: 0.7445 - accuracy: 0.7325 - val_loss: 0.7289 - val_accuracy: 0.7333\n",
      "Epoch 6/10\n",
      "47/47 [==============================] - 1s 29ms/step - loss: 0.7219 - accuracy: 0.7437 - val_loss: 0.6965 - val_accuracy: 0.7443\n",
      "Epoch 7/10\n",
      "47/47 [==============================] - 1s 31ms/step - loss: 0.6968 - accuracy: 0.7501 - val_loss: 0.6886 - val_accuracy: 0.7484\n",
      "Epoch 8/10\n",
      "47/47 [==============================] - 1s 27ms/step - loss: 0.6829 - accuracy: 0.7504 - val_loss: 0.7007 - val_accuracy: 0.7398\n",
      "Epoch 9/10\n",
      "47/47 [==============================] - 1s 27ms/step - loss: 0.6764 - accuracy: 0.7528 - val_loss: 0.6894 - val_accuracy: 0.7449\n",
      "Epoch 10/10\n",
      "47/47 [==============================] - 1s 27ms/step - loss: 0.6397 - accuracy: 0.7645 - val_loss: 0.6478 - val_accuracy: 0.7594\n"
     ]
    },
    {
     "name": "stderr",
     "output_type": "stream",
     "text": [
      "WARNING:absl:At this time, the v2.11+ optimizer `tf.keras.optimizers.Adam` runs slowly on M1/M2 Macs, please use the legacy Keras optimizer instead, located at `tf.keras.optimizers.legacy.Adam`.\n"
     ]
    },
    {
     "name": "stdout",
     "output_type": "stream",
     "text": [
      "---mixed dense list: [1024, 512], tabular dense list: [32, 64, 64, 32], activation: tanh---\n"
     ]
    },
    {
     "name": "stderr",
     "output_type": "stream",
     "text": [
      "WARNING:absl:There is a known slowdown when using v2.11+ Keras optimizers on M1/M2 Macs. Falling back to the legacy Keras optimizer, i.e., `tf.keras.optimizers.legacy.Adam`.\n"
     ]
    },
    {
     "name": "stdout",
     "output_type": "stream",
     "text": [
      "Epoch 1/10\n",
      "47/47 [==============================] - 2s 28ms/step - loss: 6.3258 - accuracy: 0.6354 - val_loss: 0.8838 - val_accuracy: 0.6981\n",
      "Epoch 2/10\n",
      "47/47 [==============================] - 1s 30ms/step - loss: 0.8507 - accuracy: 0.7076 - val_loss: 0.7987 - val_accuracy: 0.7177\n",
      "Epoch 3/10\n",
      "47/47 [==============================] - 1s 28ms/step - loss: 0.7995 - accuracy: 0.7233 - val_loss: 0.7559 - val_accuracy: 0.7253\n",
      "Epoch 4/10\n",
      "47/47 [==============================] - 1s 27ms/step - loss: 0.7653 - accuracy: 0.7280 - val_loss: 0.7425 - val_accuracy: 0.7388\n",
      "Epoch 5/10\n",
      "47/47 [==============================] - 1s 27ms/step - loss: 0.7654 - accuracy: 0.7230 - val_loss: 0.7239 - val_accuracy: 0.7489\n",
      "Epoch 6/10\n",
      "47/47 [==============================] - 1s 27ms/step - loss: 0.7314 - accuracy: 0.7323 - val_loss: 0.7248 - val_accuracy: 0.7308\n",
      "Epoch 7/10\n",
      "47/47 [==============================] - 1s 32ms/step - loss: 0.7128 - accuracy: 0.7419 - val_loss: 0.6874 - val_accuracy: 0.7474\n",
      "Epoch 8/10\n",
      "47/47 [==============================] - 1s 30ms/step - loss: 0.7147 - accuracy: 0.7345 - val_loss: 0.6835 - val_accuracy: 0.7464\n",
      "Epoch 9/10\n",
      "47/47 [==============================] - 1s 29ms/step - loss: 0.6818 - accuracy: 0.7482 - val_loss: 0.6678 - val_accuracy: 0.7529\n",
      "Epoch 10/10\n",
      "47/47 [==============================] - 1s 27ms/step - loss: 0.6708 - accuracy: 0.7514 - val_loss: 0.6795 - val_accuracy: 0.7509\n",
      "---mixed dense list: [1024, 512, 256], tabular dense list: [32], activation: relu---\n"
     ]
    },
    {
     "name": "stderr",
     "output_type": "stream",
     "text": [
      "WARNING:absl:At this time, the v2.11+ optimizer `tf.keras.optimizers.Adam` runs slowly on M1/M2 Macs, please use the legacy Keras optimizer instead, located at `tf.keras.optimizers.legacy.Adam`.\n",
      "WARNING:absl:There is a known slowdown when using v2.11+ Keras optimizers on M1/M2 Macs. Falling back to the legacy Keras optimizer, i.e., `tf.keras.optimizers.legacy.Adam`.\n"
     ]
    },
    {
     "name": "stdout",
     "output_type": "stream",
     "text": [
      "Epoch 1/10\n",
      "47/47 [==============================] - 2s 30ms/step - loss: 5.2114 - accuracy: 0.6195 - val_loss: 1.0264 - val_accuracy: 0.6735\n",
      "Epoch 2/10\n",
      "47/47 [==============================] - 1s 28ms/step - loss: 0.9151 - accuracy: 0.6873 - val_loss: 0.8680 - val_accuracy: 0.7047\n",
      "Epoch 3/10\n",
      "47/47 [==============================] - 1s 28ms/step - loss: 0.8170 - accuracy: 0.7091 - val_loss: 0.7638 - val_accuracy: 0.7278\n",
      "Epoch 4/10\n",
      "47/47 [==============================] - 1s 32ms/step - loss: 0.8198 - accuracy: 0.7144 - val_loss: 0.8055 - val_accuracy: 0.7112\n",
      "Epoch 5/10\n",
      "47/47 [==============================] - 1s 30ms/step - loss: 0.7769 - accuracy: 0.7285 - val_loss: 0.7300 - val_accuracy: 0.7454\n",
      "Epoch 6/10\n",
      "47/47 [==============================] - 1s 28ms/step - loss: 0.7569 - accuracy: 0.7258 - val_loss: 0.7325 - val_accuracy: 0.7358\n",
      "Epoch 7/10\n",
      "47/47 [==============================] - 1s 28ms/step - loss: 0.7456 - accuracy: 0.7338 - val_loss: 0.7284 - val_accuracy: 0.7428\n",
      "Epoch 8/10\n",
      "47/47 [==============================] - 1s 29ms/step - loss: 0.7218 - accuracy: 0.7414 - val_loss: 0.6958 - val_accuracy: 0.7494\n",
      "Epoch 9/10\n",
      "47/47 [==============================] - 1s 29ms/step - loss: 0.7010 - accuracy: 0.7466 - val_loss: 0.7019 - val_accuracy: 0.7459\n",
      "Epoch 10/10\n",
      "47/47 [==============================] - 1s 29ms/step - loss: 0.6874 - accuracy: 0.7491 - val_loss: 0.6766 - val_accuracy: 0.7514\n",
      "---mixed dense list: [1024, 512, 256], tabular dense list: [32], activation: tanh---\n"
     ]
    },
    {
     "name": "stderr",
     "output_type": "stream",
     "text": [
      "WARNING:absl:At this time, the v2.11+ optimizer `tf.keras.optimizers.Adam` runs slowly on M1/M2 Macs, please use the legacy Keras optimizer instead, located at `tf.keras.optimizers.legacy.Adam`.\n",
      "WARNING:absl:There is a known slowdown when using v2.11+ Keras optimizers on M1/M2 Macs. Falling back to the legacy Keras optimizer, i.e., `tf.keras.optimizers.legacy.Adam`.\n"
     ]
    },
    {
     "name": "stdout",
     "output_type": "stream",
     "text": [
      "Epoch 1/10\n",
      "47/47 [==============================] - 2s 32ms/step - loss: 5.1791 - accuracy: 0.6224 - val_loss: 0.8721 - val_accuracy: 0.6735\n",
      "Epoch 2/10\n",
      "47/47 [==============================] - 1s 31ms/step - loss: 0.8505 - accuracy: 0.7059 - val_loss: 0.7938 - val_accuracy: 0.7162\n",
      "Epoch 3/10\n",
      "47/47 [==============================] - 1s 32ms/step - loss: 0.8009 - accuracy: 0.7134 - val_loss: 0.7679 - val_accuracy: 0.7348\n",
      "Epoch 4/10\n",
      "47/47 [==============================] - 2s 34ms/step - loss: 0.7623 - accuracy: 0.7290 - val_loss: 0.7527 - val_accuracy: 0.7288\n",
      "Epoch 5/10\n",
      "47/47 [==============================] - 2s 33ms/step - loss: 0.7516 - accuracy: 0.7357 - val_loss: 0.7321 - val_accuracy: 0.7479\n",
      "Epoch 6/10\n",
      "47/47 [==============================] - 1s 31ms/step - loss: 0.7495 - accuracy: 0.7389 - val_loss: 0.7973 - val_accuracy: 0.7207\n",
      "Epoch 7/10\n",
      "47/47 [==============================] - 1s 30ms/step - loss: 0.7259 - accuracy: 0.7405 - val_loss: 0.7197 - val_accuracy: 0.7569\n",
      "Epoch 8/10\n",
      "47/47 [==============================] - 2s 34ms/step - loss: 0.6961 - accuracy: 0.7489 - val_loss: 0.6692 - val_accuracy: 0.7569\n",
      "Epoch 9/10\n",
      "47/47 [==============================] - 1s 31ms/step - loss: 0.6867 - accuracy: 0.7496 - val_loss: 0.6852 - val_accuracy: 0.7524\n",
      "Epoch 10/10\n",
      "47/47 [==============================] - 1s 30ms/step - loss: 0.6594 - accuracy: 0.7611 - val_loss: 0.6657 - val_accuracy: 0.7614\n",
      "---mixed dense list: [1024, 512, 256], tabular dense list: [32, 64], activation: relu---\n"
     ]
    },
    {
     "name": "stderr",
     "output_type": "stream",
     "text": [
      "WARNING:absl:At this time, the v2.11+ optimizer `tf.keras.optimizers.Adam` runs slowly on M1/M2 Macs, please use the legacy Keras optimizer instead, located at `tf.keras.optimizers.legacy.Adam`.\n",
      "WARNING:absl:There is a known slowdown when using v2.11+ Keras optimizers on M1/M2 Macs. Falling back to the legacy Keras optimizer, i.e., `tf.keras.optimizers.legacy.Adam`.\n"
     ]
    },
    {
     "name": "stdout",
     "output_type": "stream",
     "text": [
      "Epoch 1/10\n",
      "47/47 [==============================] - 2s 31ms/step - loss: 5.0419 - accuracy: 0.6292 - val_loss: 0.9352 - val_accuracy: 0.7077\n",
      "Epoch 2/10\n",
      "47/47 [==============================] - 1s 31ms/step - loss: 0.8717 - accuracy: 0.7024 - val_loss: 0.8105 - val_accuracy: 0.7217\n",
      "Epoch 3/10\n",
      "47/47 [==============================] - 1s 30ms/step - loss: 0.7964 - accuracy: 0.7173 - val_loss: 0.7488 - val_accuracy: 0.7353\n",
      "Epoch 4/10\n",
      "47/47 [==============================] - 1s 31ms/step - loss: 0.7786 - accuracy: 0.7280 - val_loss: 0.8088 - val_accuracy: 0.7122\n",
      "Epoch 5/10\n",
      "47/47 [==============================] - 1s 31ms/step - loss: 0.7644 - accuracy: 0.7246 - val_loss: 0.7358 - val_accuracy: 0.7293\n",
      "Epoch 6/10\n",
      "47/47 [==============================] - 1s 32ms/step - loss: 0.7454 - accuracy: 0.7293 - val_loss: 0.7243 - val_accuracy: 0.7378\n",
      "Epoch 7/10\n",
      "47/47 [==============================] - 1s 29ms/step - loss: 0.7043 - accuracy: 0.7429 - val_loss: 0.7048 - val_accuracy: 0.7529\n",
      "Epoch 8/10\n",
      "47/47 [==============================] - 1s 29ms/step - loss: 0.6998 - accuracy: 0.7436 - val_loss: 0.7075 - val_accuracy: 0.7413\n",
      "Epoch 9/10\n",
      "47/47 [==============================] - 1s 30ms/step - loss: 0.6908 - accuracy: 0.7474 - val_loss: 0.6850 - val_accuracy: 0.7499\n",
      "Epoch 10/10\n",
      "47/47 [==============================] - 1s 29ms/step - loss: 0.6637 - accuracy: 0.7543 - val_loss: 0.6609 - val_accuracy: 0.7594\n",
      "---mixed dense list: [1024, 512, 256], tabular dense list: [32, 64], activation: tanh---\n"
     ]
    },
    {
     "name": "stderr",
     "output_type": "stream",
     "text": [
      "WARNING:absl:At this time, the v2.11+ optimizer `tf.keras.optimizers.Adam` runs slowly on M1/M2 Macs, please use the legacy Keras optimizer instead, located at `tf.keras.optimizers.legacy.Adam`.\n",
      "WARNING:absl:There is a known slowdown when using v2.11+ Keras optimizers on M1/M2 Macs. Falling back to the legacy Keras optimizer, i.e., `tf.keras.optimizers.legacy.Adam`.\n"
     ]
    },
    {
     "name": "stdout",
     "output_type": "stream",
     "text": [
      "Epoch 1/10\n",
      "47/47 [==============================] - 2s 33ms/step - loss: 6.6713 - accuracy: 0.6240 - val_loss: 0.8949 - val_accuracy: 0.6961\n",
      "Epoch 2/10\n",
      "47/47 [==============================] - 1s 31ms/step - loss: 0.8703 - accuracy: 0.6989 - val_loss: 0.8200 - val_accuracy: 0.7137\n",
      "Epoch 3/10\n",
      "47/47 [==============================] - 1s 30ms/step - loss: 0.7959 - accuracy: 0.7129 - val_loss: 0.7537 - val_accuracy: 0.7373\n",
      "Epoch 4/10\n",
      "47/47 [==============================] - 1s 31ms/step - loss: 0.7671 - accuracy: 0.7287 - val_loss: 0.7584 - val_accuracy: 0.7323\n",
      "Epoch 5/10\n",
      "47/47 [==============================] - 1s 30ms/step - loss: 0.7415 - accuracy: 0.7318 - val_loss: 0.7078 - val_accuracy: 0.7489\n",
      "Epoch 6/10\n",
      "47/47 [==============================] - 1s 32ms/step - loss: 0.7332 - accuracy: 0.7367 - val_loss: 0.7042 - val_accuracy: 0.7428\n",
      "Epoch 7/10\n",
      "47/47 [==============================] - 1s 31ms/step - loss: 0.6970 - accuracy: 0.7467 - val_loss: 0.8067 - val_accuracy: 0.7243\n",
      "Epoch 8/10\n",
      "47/47 [==============================] - 2s 35ms/step - loss: 0.6951 - accuracy: 0.7444 - val_loss: 0.6917 - val_accuracy: 0.7484\n",
      "Epoch 9/10\n",
      "47/47 [==============================] - 1s 30ms/step - loss: 0.6802 - accuracy: 0.7539 - val_loss: 0.7047 - val_accuracy: 0.7584\n",
      "Epoch 10/10\n",
      "47/47 [==============================] - 1s 30ms/step - loss: 0.6755 - accuracy: 0.7534 - val_loss: 0.6786 - val_accuracy: 0.7549\n",
      "---mixed dense list: [1024, 512, 256], tabular dense list: [32, 64, 64], activation: relu---\n"
     ]
    },
    {
     "name": "stderr",
     "output_type": "stream",
     "text": [
      "WARNING:absl:At this time, the v2.11+ optimizer `tf.keras.optimizers.Adam` runs slowly on M1/M2 Macs, please use the legacy Keras optimizer instead, located at `tf.keras.optimizers.legacy.Adam`.\n",
      "WARNING:absl:There is a known slowdown when using v2.11+ Keras optimizers on M1/M2 Macs. Falling back to the legacy Keras optimizer, i.e., `tf.keras.optimizers.legacy.Adam`.\n"
     ]
    },
    {
     "name": "stdout",
     "output_type": "stream",
     "text": [
      "Epoch 1/10\n",
      "47/47 [==============================] - 2s 32ms/step - loss: 3.9204 - accuracy: 0.6289 - val_loss: 0.9851 - val_accuracy: 0.6816\n",
      "Epoch 2/10\n",
      "47/47 [==============================] - 1s 30ms/step - loss: 0.8417 - accuracy: 0.7089 - val_loss: 0.7946 - val_accuracy: 0.7177\n",
      "Epoch 3/10\n",
      "47/47 [==============================] - 1s 29ms/step - loss: 0.7839 - accuracy: 0.7226 - val_loss: 0.7283 - val_accuracy: 0.7479\n",
      "Epoch 4/10\n",
      "47/47 [==============================] - 1s 31ms/step - loss: 0.7529 - accuracy: 0.7315 - val_loss: 0.7514 - val_accuracy: 0.7373\n",
      "Epoch 5/10\n",
      "47/47 [==============================] - 1s 28ms/step - loss: 0.7278 - accuracy: 0.7377 - val_loss: 0.7364 - val_accuracy: 0.7338\n",
      "Epoch 6/10\n",
      "47/47 [==============================] - 1s 29ms/step - loss: 0.7046 - accuracy: 0.7469 - val_loss: 0.7074 - val_accuracy: 0.7443\n",
      "Epoch 7/10\n",
      "47/47 [==============================] - 1s 31ms/step - loss: 0.6959 - accuracy: 0.7506 - val_loss: 0.6902 - val_accuracy: 0.7529\n",
      "Epoch 8/10\n",
      "47/47 [==============================] - 1s 30ms/step - loss: 0.6766 - accuracy: 0.7466 - val_loss: 0.6532 - val_accuracy: 0.7574\n",
      "Epoch 9/10\n",
      "47/47 [==============================] - 1s 29ms/step - loss: 0.6454 - accuracy: 0.7640 - val_loss: 0.6510 - val_accuracy: 0.7644\n",
      "Epoch 10/10\n",
      "47/47 [==============================] - 1s 29ms/step - loss: 0.6258 - accuracy: 0.7633 - val_loss: 0.6463 - val_accuracy: 0.7639\n",
      "---mixed dense list: [1024, 512, 256], tabular dense list: [32, 64, 64], activation: tanh---\n"
     ]
    },
    {
     "name": "stderr",
     "output_type": "stream",
     "text": [
      "WARNING:absl:At this time, the v2.11+ optimizer `tf.keras.optimizers.Adam` runs slowly on M1/M2 Macs, please use the legacy Keras optimizer instead, located at `tf.keras.optimizers.legacy.Adam`.\n",
      "WARNING:absl:There is a known slowdown when using v2.11+ Keras optimizers on M1/M2 Macs. Falling back to the legacy Keras optimizer, i.e., `tf.keras.optimizers.legacy.Adam`.\n"
     ]
    },
    {
     "name": "stdout",
     "output_type": "stream",
     "text": [
      "Epoch 1/10\n",
      "47/47 [==============================] - 2s 29ms/step - loss: 4.5756 - accuracy: 0.6294 - val_loss: 0.8934 - val_accuracy: 0.6911\n",
      "Epoch 2/10\n",
      "47/47 [==============================] - 1s 28ms/step - loss: 0.8448 - accuracy: 0.7032 - val_loss: 0.8233 - val_accuracy: 0.7117\n",
      "Epoch 3/10\n",
      "47/47 [==============================] - 1s 28ms/step - loss: 0.7985 - accuracy: 0.7158 - val_loss: 0.7500 - val_accuracy: 0.7383\n",
      "Epoch 4/10\n",
      "47/47 [==============================] - 1s 28ms/step - loss: 0.7736 - accuracy: 0.7133 - val_loss: 0.7571 - val_accuracy: 0.7348\n",
      "Epoch 5/10\n",
      "47/47 [==============================] - 1s 28ms/step - loss: 0.7507 - accuracy: 0.7318 - val_loss: 0.7370 - val_accuracy: 0.7263\n",
      "Epoch 6/10\n",
      "47/47 [==============================] - 1s 29ms/step - loss: 0.7130 - accuracy: 0.7360 - val_loss: 0.7331 - val_accuracy: 0.7403\n",
      "Epoch 7/10\n",
      "47/47 [==============================] - 1s 28ms/step - loss: 0.7341 - accuracy: 0.7327 - val_loss: 0.7340 - val_accuracy: 0.7408\n",
      "Epoch 8/10\n",
      "47/47 [==============================] - 1s 28ms/step - loss: 0.6902 - accuracy: 0.7427 - val_loss: 0.6793 - val_accuracy: 0.7509\n",
      "Epoch 9/10\n",
      "47/47 [==============================] - 1s 31ms/step - loss: 0.6888 - accuracy: 0.7496 - val_loss: 0.6917 - val_accuracy: 0.7403\n",
      "Epoch 10/10\n",
      "47/47 [==============================] - 1s 28ms/step - loss: 0.6691 - accuracy: 0.7600 - val_loss: 0.7006 - val_accuracy: 0.7449\n",
      "---mixed dense list: [1024, 512, 256], tabular dense list: [32, 64, 64, 32], activation: relu---\n"
     ]
    },
    {
     "name": "stderr",
     "output_type": "stream",
     "text": [
      "WARNING:absl:At this time, the v2.11+ optimizer `tf.keras.optimizers.Adam` runs slowly on M1/M2 Macs, please use the legacy Keras optimizer instead, located at `tf.keras.optimizers.legacy.Adam`.\n",
      "WARNING:absl:There is a known slowdown when using v2.11+ Keras optimizers on M1/M2 Macs. Falling back to the legacy Keras optimizer, i.e., `tf.keras.optimizers.legacy.Adam`.\n"
     ]
    },
    {
     "name": "stdout",
     "output_type": "stream",
     "text": [
      "Epoch 1/10\n",
      "47/47 [==============================] - 2s 29ms/step - loss: 4.1066 - accuracy: 0.6301 - val_loss: 0.9489 - val_accuracy: 0.6936\n",
      "Epoch 2/10\n",
      "47/47 [==============================] - 1s 27ms/step - loss: 0.8606 - accuracy: 0.6953 - val_loss: 0.8063 - val_accuracy: 0.7187\n",
      "Epoch 3/10\n",
      "47/47 [==============================] - 1s 28ms/step - loss: 0.7919 - accuracy: 0.7156 - val_loss: 0.7488 - val_accuracy: 0.7308\n",
      "Epoch 4/10\n",
      "47/47 [==============================] - 1s 28ms/step - loss: 0.7572 - accuracy: 0.7275 - val_loss: 0.7325 - val_accuracy: 0.7449\n",
      "Epoch 5/10\n",
      "47/47 [==============================] - 1s 28ms/step - loss: 0.7473 - accuracy: 0.7317 - val_loss: 0.7509 - val_accuracy: 0.7423\n",
      "Epoch 6/10\n",
      "47/47 [==============================] - 1s 28ms/step - loss: 0.7373 - accuracy: 0.7389 - val_loss: 0.7014 - val_accuracy: 0.7464\n",
      "Epoch 7/10\n",
      "47/47 [==============================] - 1s 27ms/step - loss: 0.7166 - accuracy: 0.7442 - val_loss: 0.7076 - val_accuracy: 0.7443\n",
      "Epoch 8/10\n",
      "47/47 [==============================] - 1s 28ms/step - loss: 0.6956 - accuracy: 0.7447 - val_loss: 0.6911 - val_accuracy: 0.7549\n",
      "Epoch 9/10\n",
      "47/47 [==============================] - 1s 28ms/step - loss: 0.6807 - accuracy: 0.7513 - val_loss: 0.6862 - val_accuracy: 0.7599\n",
      "Epoch 10/10\n",
      "47/47 [==============================] - 1s 28ms/step - loss: 0.6641 - accuracy: 0.7576 - val_loss: 0.6903 - val_accuracy: 0.7544\n"
     ]
    },
    {
     "name": "stderr",
     "output_type": "stream",
     "text": [
      "WARNING:absl:At this time, the v2.11+ optimizer `tf.keras.optimizers.Adam` runs slowly on M1/M2 Macs, please use the legacy Keras optimizer instead, located at `tf.keras.optimizers.legacy.Adam`.\n",
      "WARNING:absl:There is a known slowdown when using v2.11+ Keras optimizers on M1/M2 Macs. Falling back to the legacy Keras optimizer, i.e., `tf.keras.optimizers.legacy.Adam`.\n"
     ]
    },
    {
     "name": "stdout",
     "output_type": "stream",
     "text": [
      "---mixed dense list: [1024, 512, 256], tabular dense list: [32, 64, 64, 32], activation: tanh---\n",
      "Epoch 1/10\n",
      "47/47 [==============================] - 2s 31ms/step - loss: 7.2900 - accuracy: 0.6327 - val_loss: 0.8982 - val_accuracy: 0.6876\n",
      "Epoch 2/10\n",
      "47/47 [==============================] - 1s 28ms/step - loss: 0.8680 - accuracy: 0.6992 - val_loss: 0.8743 - val_accuracy: 0.6796\n",
      "Epoch 3/10\n",
      "47/47 [==============================] - 1s 28ms/step - loss: 0.8328 - accuracy: 0.7084 - val_loss: 0.7633 - val_accuracy: 0.7268\n",
      "Epoch 4/10\n",
      "47/47 [==============================] - 1s 28ms/step - loss: 0.7677 - accuracy: 0.7216 - val_loss: 0.7213 - val_accuracy: 0.7373\n",
      "Epoch 5/10\n",
      "47/47 [==============================] - 1s 27ms/step - loss: 0.7571 - accuracy: 0.7298 - val_loss: 0.7143 - val_accuracy: 0.7358\n",
      "Epoch 6/10\n",
      "47/47 [==============================] - 1s 28ms/step - loss: 0.7368 - accuracy: 0.7322 - val_loss: 0.7098 - val_accuracy: 0.7413\n",
      "Epoch 7/10\n",
      "47/47 [==============================] - 1s 29ms/step - loss: 0.7130 - accuracy: 0.7427 - val_loss: 0.6891 - val_accuracy: 0.7489\n",
      "Epoch 8/10\n",
      "47/47 [==============================] - 1s 28ms/step - loss: 0.6884 - accuracy: 0.7479 - val_loss: 0.6578 - val_accuracy: 0.7549\n",
      "Epoch 9/10\n",
      "47/47 [==============================] - 1s 29ms/step - loss: 0.6717 - accuracy: 0.7528 - val_loss: 0.6981 - val_accuracy: 0.7408\n",
      "Epoch 10/10\n",
      "47/47 [==============================] - 1s 28ms/step - loss: 0.6621 - accuracy: 0.7568 - val_loss: 0.6506 - val_accuracy: 0.7554\n"
     ]
    },
    {
     "name": "stderr",
     "output_type": "stream",
     "text": [
      "WARNING:absl:At this time, the v2.11+ optimizer `tf.keras.optimizers.Adam` runs slowly on M1/M2 Macs, please use the legacy Keras optimizer instead, located at `tf.keras.optimizers.legacy.Adam`.\n",
      "WARNING:absl:There is a known slowdown when using v2.11+ Keras optimizers on M1/M2 Macs. Falling back to the legacy Keras optimizer, i.e., `tf.keras.optimizers.legacy.Adam`.\n"
     ]
    },
    {
     "name": "stdout",
     "output_type": "stream",
     "text": [
      "---mixed dense list: [1024, 512, 256, 128], tabular dense list: [32], activation: relu---\n",
      "Epoch 1/10\n",
      "47/47 [==============================] - 2s 29ms/step - loss: 2.9958 - accuracy: 0.6346 - val_loss: 0.9690 - val_accuracy: 0.6786\n",
      "Epoch 2/10\n",
      "47/47 [==============================] - 1s 27ms/step - loss: 0.9098 - accuracy: 0.6851 - val_loss: 0.9731 - val_accuracy: 0.6856\n",
      "Epoch 3/10\n",
      "47/47 [==============================] - 1s 30ms/step - loss: 0.8714 - accuracy: 0.7076 - val_loss: 0.7698 - val_accuracy: 0.7333\n",
      "Epoch 4/10\n",
      "47/47 [==============================] - 1s 27ms/step - loss: 0.7866 - accuracy: 0.7189 - val_loss: 0.7501 - val_accuracy: 0.7338\n",
      "Epoch 5/10\n",
      "47/47 [==============================] - 1s 27ms/step - loss: 0.7689 - accuracy: 0.7206 - val_loss: 0.7693 - val_accuracy: 0.7293\n",
      "Epoch 6/10\n",
      "47/47 [==============================] - 1s 27ms/step - loss: 0.7723 - accuracy: 0.7243 - val_loss: 0.7672 - val_accuracy: 0.7418\n",
      "Epoch 7/10\n",
      "47/47 [==============================] - 1s 28ms/step - loss: 0.7431 - accuracy: 0.7290 - val_loss: 0.8055 - val_accuracy: 0.7157\n",
      "Epoch 8/10\n",
      "47/47 [==============================] - 1s 28ms/step - loss: 0.7532 - accuracy: 0.7248 - val_loss: 0.7583 - val_accuracy: 0.7388\n",
      "Epoch 9/10\n",
      "47/47 [==============================] - 1s 27ms/step - loss: 0.7346 - accuracy: 0.7317 - val_loss: 0.7583 - val_accuracy: 0.7393\n",
      "Epoch 10/10\n",
      "47/47 [==============================] - 1s 27ms/step - loss: 0.7198 - accuracy: 0.7394 - val_loss: 0.7121 - val_accuracy: 0.7469\n",
      "---mixed dense list: [1024, 512, 256, 128], tabular dense list: [32], activation: tanh---\n"
     ]
    },
    {
     "name": "stderr",
     "output_type": "stream",
     "text": [
      "WARNING:absl:At this time, the v2.11+ optimizer `tf.keras.optimizers.Adam` runs slowly on M1/M2 Macs, please use the legacy Keras optimizer instead, located at `tf.keras.optimizers.legacy.Adam`.\n",
      "WARNING:absl:There is a known slowdown when using v2.11+ Keras optimizers on M1/M2 Macs. Falling back to the legacy Keras optimizer, i.e., `tf.keras.optimizers.legacy.Adam`.\n"
     ]
    },
    {
     "name": "stdout",
     "output_type": "stream",
     "text": [
      "Epoch 1/10\n",
      "47/47 [==============================] - 2s 29ms/step - loss: 2.7394 - accuracy: 0.6235 - val_loss: 0.8885 - val_accuracy: 0.6770\n",
      "Epoch 2/10\n",
      "47/47 [==============================] - 1s 28ms/step - loss: 0.8531 - accuracy: 0.7041 - val_loss: 0.7905 - val_accuracy: 0.7298\n",
      "Epoch 3/10\n",
      "47/47 [==============================] - 1s 28ms/step - loss: 0.7952 - accuracy: 0.7200 - val_loss: 0.7630 - val_accuracy: 0.7333\n",
      "Epoch 4/10\n",
      "47/47 [==============================] - 1s 28ms/step - loss: 0.7541 - accuracy: 0.7315 - val_loss: 0.7800 - val_accuracy: 0.7032\n",
      "Epoch 5/10\n",
      "47/47 [==============================] - 1s 30ms/step - loss: 0.7226 - accuracy: 0.7338 - val_loss: 0.7511 - val_accuracy: 0.7373\n",
      "Epoch 6/10\n",
      "47/47 [==============================] - 1s 28ms/step - loss: 0.6875 - accuracy: 0.7477 - val_loss: 0.6812 - val_accuracy: 0.7479\n",
      "Epoch 7/10\n",
      "47/47 [==============================] - 1s 28ms/step - loss: 0.6584 - accuracy: 0.7583 - val_loss: 0.6883 - val_accuracy: 0.7579\n",
      "Epoch 8/10\n",
      "47/47 [==============================] - 1s 28ms/step - loss: 0.6506 - accuracy: 0.7641 - val_loss: 0.6886 - val_accuracy: 0.7403\n",
      "Epoch 9/10\n",
      "47/47 [==============================] - 1s 28ms/step - loss: 0.6245 - accuracy: 0.7685 - val_loss: 0.6816 - val_accuracy: 0.7649\n",
      "Epoch 10/10\n",
      "47/47 [==============================] - 1s 28ms/step - loss: 0.6012 - accuracy: 0.7799 - val_loss: 0.6429 - val_accuracy: 0.7685\n",
      "---mixed dense list: [1024, 512, 256, 128], tabular dense list: [32, 64], activation: relu---\n"
     ]
    },
    {
     "name": "stderr",
     "output_type": "stream",
     "text": [
      "WARNING:absl:At this time, the v2.11+ optimizer `tf.keras.optimizers.Adam` runs slowly on M1/M2 Macs, please use the legacy Keras optimizer instead, located at `tf.keras.optimizers.legacy.Adam`.\n",
      "WARNING:absl:There is a known slowdown when using v2.11+ Keras optimizers on M1/M2 Macs. Falling back to the legacy Keras optimizer, i.e., `tf.keras.optimizers.legacy.Adam`.\n"
     ]
    },
    {
     "name": "stdout",
     "output_type": "stream",
     "text": [
      "Epoch 1/10\n",
      "47/47 [==============================] - 2s 29ms/step - loss: 3.2350 - accuracy: 0.6210 - val_loss: 1.0196 - val_accuracy: 0.6735\n",
      "Epoch 2/10\n",
      "47/47 [==============================] - 1s 28ms/step - loss: 0.8772 - accuracy: 0.6892 - val_loss: 0.8318 - val_accuracy: 0.7132\n",
      "Epoch 3/10\n",
      "47/47 [==============================] - 1s 28ms/step - loss: 0.8136 - accuracy: 0.7099 - val_loss: 0.8284 - val_accuracy: 0.7142\n",
      "Epoch 4/10\n",
      "47/47 [==============================] - 1s 28ms/step - loss: 0.7638 - accuracy: 0.7283 - val_loss: 0.7760 - val_accuracy: 0.7278\n",
      "Epoch 5/10\n",
      "47/47 [==============================] - 1s 28ms/step - loss: 0.7432 - accuracy: 0.7287 - val_loss: 0.7666 - val_accuracy: 0.7388\n",
      "Epoch 6/10\n",
      "47/47 [==============================] - 1s 28ms/step - loss: 0.7356 - accuracy: 0.7412 - val_loss: 0.6986 - val_accuracy: 0.7524\n",
      "Epoch 7/10\n",
      "47/47 [==============================] - 1s 30ms/step - loss: 0.7133 - accuracy: 0.7444 - val_loss: 0.7178 - val_accuracy: 0.7474\n",
      "Epoch 8/10\n",
      "47/47 [==============================] - 1s 28ms/step - loss: 0.6965 - accuracy: 0.7447 - val_loss: 0.6971 - val_accuracy: 0.7368\n",
      "Epoch 9/10\n",
      "47/47 [==============================] - 1s 28ms/step - loss: 0.6682 - accuracy: 0.7541 - val_loss: 0.6901 - val_accuracy: 0.7438\n",
      "Epoch 10/10\n",
      "47/47 [==============================] - 1s 28ms/step - loss: 0.6465 - accuracy: 0.7628 - val_loss: 0.6532 - val_accuracy: 0.7599\n",
      "---mixed dense list: [1024, 512, 256, 128], tabular dense list: [32, 64], activation: tanh---\n"
     ]
    },
    {
     "name": "stderr",
     "output_type": "stream",
     "text": [
      "WARNING:absl:At this time, the v2.11+ optimizer `tf.keras.optimizers.Adam` runs slowly on M1/M2 Macs, please use the legacy Keras optimizer instead, located at `tf.keras.optimizers.legacy.Adam`.\n",
      "WARNING:absl:There is a known slowdown when using v2.11+ Keras optimizers on M1/M2 Macs. Falling back to the legacy Keras optimizer, i.e., `tf.keras.optimizers.legacy.Adam`.\n"
     ]
    },
    {
     "name": "stdout",
     "output_type": "stream",
     "text": [
      "Epoch 1/10\n",
      "47/47 [==============================] - 2s 28ms/step - loss: 2.8290 - accuracy: 0.6356 - val_loss: 0.9213 - val_accuracy: 0.6770\n",
      "Epoch 2/10\n",
      "47/47 [==============================] - 1s 28ms/step - loss: 0.8770 - accuracy: 0.6898 - val_loss: 0.9165 - val_accuracy: 0.6991\n",
      "Epoch 3/10\n",
      "47/47 [==============================] - 1s 27ms/step - loss: 0.8296 - accuracy: 0.7061 - val_loss: 0.7960 - val_accuracy: 0.7212\n",
      "Epoch 4/10\n",
      "47/47 [==============================] - 1s 27ms/step - loss: 0.7822 - accuracy: 0.7173 - val_loss: 0.7802 - val_accuracy: 0.7197\n",
      "Epoch 5/10\n",
      "47/47 [==============================] - 1s 28ms/step - loss: 0.7594 - accuracy: 0.7320 - val_loss: 0.7321 - val_accuracy: 0.7348\n",
      "Epoch 6/10\n",
      "47/47 [==============================] - 1s 28ms/step - loss: 0.7389 - accuracy: 0.7338 - val_loss: 0.7237 - val_accuracy: 0.7368\n",
      "Epoch 7/10\n",
      "47/47 [==============================] - 1s 28ms/step - loss: 0.7092 - accuracy: 0.7439 - val_loss: 0.7151 - val_accuracy: 0.7438\n",
      "Epoch 8/10\n",
      "47/47 [==============================] - 1s 27ms/step - loss: 0.7011 - accuracy: 0.7436 - val_loss: 0.7070 - val_accuracy: 0.7464\n",
      "Epoch 9/10\n",
      "47/47 [==============================] - 1s 30ms/step - loss: 0.6751 - accuracy: 0.7503 - val_loss: 0.7382 - val_accuracy: 0.7243\n",
      "Epoch 10/10\n",
      "47/47 [==============================] - 1s 28ms/step - loss: 0.6720 - accuracy: 0.7441 - val_loss: 0.6864 - val_accuracy: 0.7499\n"
     ]
    },
    {
     "name": "stderr",
     "output_type": "stream",
     "text": [
      "WARNING:absl:At this time, the v2.11+ optimizer `tf.keras.optimizers.Adam` runs slowly on M1/M2 Macs, please use the legacy Keras optimizer instead, located at `tf.keras.optimizers.legacy.Adam`.\n",
      "WARNING:absl:There is a known slowdown when using v2.11+ Keras optimizers on M1/M2 Macs. Falling back to the legacy Keras optimizer, i.e., `tf.keras.optimizers.legacy.Adam`.\n"
     ]
    },
    {
     "name": "stdout",
     "output_type": "stream",
     "text": [
      "---mixed dense list: [1024, 512, 256, 128], tabular dense list: [32, 64, 64], activation: relu---\n",
      "Epoch 1/10\n",
      "47/47 [==============================] - 2s 31ms/step - loss: 3.0086 - accuracy: 0.6245 - val_loss: 0.9765 - val_accuracy: 0.6740\n",
      "Epoch 2/10\n",
      "47/47 [==============================] - 1s 30ms/step - loss: 0.8667 - accuracy: 0.6984 - val_loss: 0.8052 - val_accuracy: 0.7223\n",
      "Epoch 3/10\n",
      "47/47 [==============================] - 1s 30ms/step - loss: 0.7965 - accuracy: 0.7235 - val_loss: 0.7581 - val_accuracy: 0.7273\n",
      "Epoch 4/10\n",
      "47/47 [==============================] - 1s 31ms/step - loss: 0.7657 - accuracy: 0.7345 - val_loss: 0.7663 - val_accuracy: 0.7303\n",
      "Epoch 5/10\n",
      "47/47 [==============================] - 1s 30ms/step - loss: 0.7575 - accuracy: 0.7285 - val_loss: 0.7406 - val_accuracy: 0.7353\n",
      "Epoch 6/10\n",
      "47/47 [==============================] - 1s 30ms/step - loss: 0.7473 - accuracy: 0.7340 - val_loss: 0.7410 - val_accuracy: 0.7238\n",
      "Epoch 7/10\n",
      "47/47 [==============================] - 1s 31ms/step - loss: 0.7227 - accuracy: 0.7385 - val_loss: 0.7212 - val_accuracy: 0.7433\n",
      "Epoch 8/10\n",
      "47/47 [==============================] - 1s 31ms/step - loss: 0.6969 - accuracy: 0.7436 - val_loss: 0.7219 - val_accuracy: 0.7323\n",
      "Epoch 9/10\n",
      "47/47 [==============================] - 1s 31ms/step - loss: 0.6890 - accuracy: 0.7528 - val_loss: 0.7169 - val_accuracy: 0.7293\n",
      "Epoch 10/10\n",
      "47/47 [==============================] - 2s 33ms/step - loss: 0.6760 - accuracy: 0.7454 - val_loss: 0.6879 - val_accuracy: 0.7428\n",
      "---mixed dense list: [1024, 512, 256, 128], tabular dense list: [32, 64, 64], activation: tanh---\n"
     ]
    },
    {
     "name": "stderr",
     "output_type": "stream",
     "text": [
      "WARNING:absl:At this time, the v2.11+ optimizer `tf.keras.optimizers.Adam` runs slowly on M1/M2 Macs, please use the legacy Keras optimizer instead, located at `tf.keras.optimizers.legacy.Adam`.\n",
      "WARNING:absl:There is a known slowdown when using v2.11+ Keras optimizers on M1/M2 Macs. Falling back to the legacy Keras optimizer, i.e., `tf.keras.optimizers.legacy.Adam`.\n"
     ]
    },
    {
     "name": "stdout",
     "output_type": "stream",
     "text": [
      "Epoch 1/10\n",
      "47/47 [==============================] - 2s 31ms/step - loss: 2.8618 - accuracy: 0.6239 - val_loss: 0.8890 - val_accuracy: 0.6921\n",
      "Epoch 2/10\n",
      "47/47 [==============================] - 1s 30ms/step - loss: 0.8429 - accuracy: 0.7032 - val_loss: 0.7544 - val_accuracy: 0.7313\n",
      "Epoch 3/10\n",
      "47/47 [==============================] - 1s 30ms/step - loss: 0.7770 - accuracy: 0.7221 - val_loss: 0.7398 - val_accuracy: 0.7398\n",
      "Epoch 4/10\n",
      "47/47 [==============================] - 1s 29ms/step - loss: 0.7553 - accuracy: 0.7295 - val_loss: 0.7170 - val_accuracy: 0.7388\n",
      "Epoch 5/10\n",
      "47/47 [==============================] - 1s 29ms/step - loss: 0.7331 - accuracy: 0.7327 - val_loss: 0.7119 - val_accuracy: 0.7398\n",
      "Epoch 6/10\n",
      "47/47 [==============================] - 1s 29ms/step - loss: 0.7113 - accuracy: 0.7414 - val_loss: 0.6983 - val_accuracy: 0.7398\n",
      "Epoch 7/10\n",
      "47/47 [==============================] - 1s 29ms/step - loss: 0.6793 - accuracy: 0.7524 - val_loss: 0.6850 - val_accuracy: 0.7559\n",
      "Epoch 8/10\n",
      "47/47 [==============================] - 1s 29ms/step - loss: 0.6622 - accuracy: 0.7595 - val_loss: 0.6551 - val_accuracy: 0.7609\n",
      "Epoch 9/10\n",
      "47/47 [==============================] - 1s 29ms/step - loss: 0.6526 - accuracy: 0.7569 - val_loss: 0.6408 - val_accuracy: 0.7629\n",
      "Epoch 10/10\n",
      "47/47 [==============================] - 1s 29ms/step - loss: 0.6224 - accuracy: 0.7715 - val_loss: 0.6443 - val_accuracy: 0.7670\n",
      "---mixed dense list: [1024, 512, 256, 128], tabular dense list: [32, 64, 64, 32], activation: relu---\n"
     ]
    },
    {
     "name": "stderr",
     "output_type": "stream",
     "text": [
      "WARNING:absl:At this time, the v2.11+ optimizer `tf.keras.optimizers.Adam` runs slowly on M1/M2 Macs, please use the legacy Keras optimizer instead, located at `tf.keras.optimizers.legacy.Adam`.\n",
      "WARNING:absl:There is a known slowdown when using v2.11+ Keras optimizers on M1/M2 Macs. Falling back to the legacy Keras optimizer, i.e., `tf.keras.optimizers.legacy.Adam`.\n"
     ]
    },
    {
     "name": "stdout",
     "output_type": "stream",
     "text": [
      "Epoch 1/10\n",
      "47/47 [==============================] - 2s 33ms/step - loss: 3.4806 - accuracy: 0.6319 - val_loss: 0.9320 - val_accuracy: 0.6735\n",
      "Epoch 2/10\n",
      "47/47 [==============================] - 1s 28ms/step - loss: 0.8699 - accuracy: 0.6942 - val_loss: 0.7880 - val_accuracy: 0.7283\n",
      "Epoch 3/10\n",
      "47/47 [==============================] - 1s 29ms/step - loss: 0.8019 - accuracy: 0.7233 - val_loss: 0.7401 - val_accuracy: 0.7318\n",
      "Epoch 4/10\n",
      "47/47 [==============================] - 1s 28ms/step - loss: 0.7678 - accuracy: 0.7300 - val_loss: 0.7409 - val_accuracy: 0.7398\n",
      "Epoch 5/10\n",
      "47/47 [==============================] - 1s 29ms/step - loss: 0.7523 - accuracy: 0.7350 - val_loss: 0.7431 - val_accuracy: 0.7393\n",
      "Epoch 6/10\n",
      "47/47 [==============================] - 1s 29ms/step - loss: 0.7326 - accuracy: 0.7374 - val_loss: 0.7480 - val_accuracy: 0.7263\n",
      "Epoch 7/10\n",
      "47/47 [==============================] - 1s 29ms/step - loss: 0.7182 - accuracy: 0.7404 - val_loss: 0.6987 - val_accuracy: 0.7469\n",
      "Epoch 8/10\n",
      "47/47 [==============================] - 1s 28ms/step - loss: 0.7099 - accuracy: 0.7499 - val_loss: 0.7609 - val_accuracy: 0.7378\n",
      "Epoch 9/10\n",
      "47/47 [==============================] - 1s 29ms/step - loss: 0.7034 - accuracy: 0.7436 - val_loss: 0.7116 - val_accuracy: 0.7449\n",
      "Epoch 10/10\n",
      "47/47 [==============================] - 1s 28ms/step - loss: 0.6704 - accuracy: 0.7556 - val_loss: 0.6858 - val_accuracy: 0.7514\n",
      "---mixed dense list: [1024, 512, 256, 128], tabular dense list: [32, 64, 64, 32], activation: tanh---\n"
     ]
    },
    {
     "name": "stderr",
     "output_type": "stream",
     "text": [
      "WARNING:absl:At this time, the v2.11+ optimizer `tf.keras.optimizers.Adam` runs slowly on M1/M2 Macs, please use the legacy Keras optimizer instead, located at `tf.keras.optimizers.legacy.Adam`.\n",
      "WARNING:absl:There is a known slowdown when using v2.11+ Keras optimizers on M1/M2 Macs. Falling back to the legacy Keras optimizer, i.e., `tf.keras.optimizers.legacy.Adam`.\n"
     ]
    },
    {
     "name": "stdout",
     "output_type": "stream",
     "text": [
      "Epoch 1/10\n",
      "47/47 [==============================] - 2s 31ms/step - loss: 3.6227 - accuracy: 0.6224 - val_loss: 0.9127 - val_accuracy: 0.7187\n",
      "Epoch 2/10\n",
      "47/47 [==============================] - 1s 31ms/step - loss: 0.8420 - accuracy: 0.7091 - val_loss: 0.7674 - val_accuracy: 0.7192\n",
      "Epoch 3/10\n",
      "47/47 [==============================] - 1s 29ms/step - loss: 0.7963 - accuracy: 0.7163 - val_loss: 0.7497 - val_accuracy: 0.7393\n",
      "Epoch 4/10\n",
      "47/47 [==============================] - 1s 28ms/step - loss: 0.7836 - accuracy: 0.7235 - val_loss: 0.7494 - val_accuracy: 0.7243\n",
      "Epoch 5/10\n",
      "47/47 [==============================] - 1s 29ms/step - loss: 0.7740 - accuracy: 0.7245 - val_loss: 0.7254 - val_accuracy: 0.7293\n",
      "Epoch 6/10\n",
      "47/47 [==============================] - 1s 28ms/step - loss: 0.7247 - accuracy: 0.7385 - val_loss: 0.7287 - val_accuracy: 0.7258\n",
      "Epoch 7/10\n",
      "47/47 [==============================] - 1s 29ms/step - loss: 0.7246 - accuracy: 0.7409 - val_loss: 0.7401 - val_accuracy: 0.7368\n",
      "Epoch 8/10\n",
      "47/47 [==============================] - 1s 29ms/step - loss: 0.7163 - accuracy: 0.7402 - val_loss: 0.6733 - val_accuracy: 0.7469\n",
      "Epoch 9/10\n",
      "47/47 [==============================] - 1s 29ms/step - loss: 0.6760 - accuracy: 0.7508 - val_loss: 0.6725 - val_accuracy: 0.7524\n",
      "Epoch 10/10\n",
      "47/47 [==============================] - 1s 29ms/step - loss: 0.6488 - accuracy: 0.7551 - val_loss: 0.6823 - val_accuracy: 0.7438\n",
      "---mixed dense list: [1024, 512, 256, 128, 64], tabular dense list: [32], activation: relu---\n"
     ]
    },
    {
     "name": "stderr",
     "output_type": "stream",
     "text": [
      "WARNING:absl:At this time, the v2.11+ optimizer `tf.keras.optimizers.Adam` runs slowly on M1/M2 Macs, please use the legacy Keras optimizer instead, located at `tf.keras.optimizers.legacy.Adam`.\n",
      "WARNING:absl:There is a known slowdown when using v2.11+ Keras optimizers on M1/M2 Macs. Falling back to the legacy Keras optimizer, i.e., `tf.keras.optimizers.legacy.Adam`.\n"
     ]
    },
    {
     "name": "stdout",
     "output_type": "stream",
     "text": [
      "Epoch 1/10\n",
      "47/47 [==============================] - 2s 30ms/step - loss: 2.5214 - accuracy: 0.6307 - val_loss: 1.0429 - val_accuracy: 0.6735\n",
      "Epoch 2/10\n",
      "47/47 [==============================] - 1s 29ms/step - loss: 0.9135 - accuracy: 0.6808 - val_loss: 0.8092 - val_accuracy: 0.7187\n",
      "Epoch 3/10\n",
      "47/47 [==============================] - 1s 28ms/step - loss: 0.8066 - accuracy: 0.7099 - val_loss: 0.7740 - val_accuracy: 0.7243\n",
      "Epoch 4/10\n",
      "47/47 [==============================] - 1s 31ms/step - loss: 0.7812 - accuracy: 0.7238 - val_loss: 0.7792 - val_accuracy: 0.7238\n",
      "Epoch 5/10\n",
      "47/47 [==============================] - 1s 28ms/step - loss: 0.7562 - accuracy: 0.7290 - val_loss: 0.7223 - val_accuracy: 0.7438\n",
      "Epoch 6/10\n",
      "47/47 [==============================] - 1s 29ms/step - loss: 0.7236 - accuracy: 0.7374 - val_loss: 0.7168 - val_accuracy: 0.7413\n",
      "Epoch 7/10\n",
      "47/47 [==============================] - 1s 28ms/step - loss: 0.7270 - accuracy: 0.7397 - val_loss: 0.6966 - val_accuracy: 0.7428\n",
      "Epoch 8/10\n",
      "47/47 [==============================] - 1s 29ms/step - loss: 0.7240 - accuracy: 0.7370 - val_loss: 0.7097 - val_accuracy: 0.7479\n",
      "Epoch 9/10\n",
      "47/47 [==============================] - 1s 28ms/step - loss: 0.6897 - accuracy: 0.7511 - val_loss: 0.6813 - val_accuracy: 0.7479\n",
      "Epoch 10/10\n",
      "47/47 [==============================] - 1s 29ms/step - loss: 0.6565 - accuracy: 0.7641 - val_loss: 0.6844 - val_accuracy: 0.7408\n",
      "---mixed dense list: [1024, 512, 256, 128, 64], tabular dense list: [32], activation: tanh---\n"
     ]
    },
    {
     "name": "stderr",
     "output_type": "stream",
     "text": [
      "WARNING:absl:At this time, the v2.11+ optimizer `tf.keras.optimizers.Adam` runs slowly on M1/M2 Macs, please use the legacy Keras optimizer instead, located at `tf.keras.optimizers.legacy.Adam`.\n",
      "WARNING:absl:There is a known slowdown when using v2.11+ Keras optimizers on M1/M2 Macs. Falling back to the legacy Keras optimizer, i.e., `tf.keras.optimizers.legacy.Adam`.\n"
     ]
    },
    {
     "name": "stdout",
     "output_type": "stream",
     "text": [
      "Epoch 1/10\n",
      "47/47 [==============================] - 2s 30ms/step - loss: 1.9586 - accuracy: 0.6224 - val_loss: 0.9088 - val_accuracy: 0.6735\n",
      "Epoch 2/10\n",
      "47/47 [==============================] - 1s 28ms/step - loss: 0.8939 - accuracy: 0.6831 - val_loss: 0.9940 - val_accuracy: 0.6534\n",
      "Epoch 3/10\n",
      "47/47 [==============================] - 1s 28ms/step - loss: 0.8014 - accuracy: 0.7146 - val_loss: 0.7798 - val_accuracy: 0.7228\n",
      "Epoch 4/10\n",
      "47/47 [==============================] - 1s 29ms/step - loss: 0.7774 - accuracy: 0.7193 - val_loss: 0.7382 - val_accuracy: 0.7413\n",
      "Epoch 5/10\n",
      "47/47 [==============================] - 1s 30ms/step - loss: 0.7571 - accuracy: 0.7256 - val_loss: 0.7577 - val_accuracy: 0.7338\n",
      "Epoch 6/10\n",
      "47/47 [==============================] - 1s 29ms/step - loss: 0.7348 - accuracy: 0.7357 - val_loss: 0.7263 - val_accuracy: 0.7433\n",
      "Epoch 7/10\n",
      "47/47 [==============================] - 1s 28ms/step - loss: 0.7178 - accuracy: 0.7399 - val_loss: 0.7246 - val_accuracy: 0.7378\n",
      "Epoch 8/10\n",
      "47/47 [==============================] - 1s 29ms/step - loss: 0.6875 - accuracy: 0.7477 - val_loss: 0.6912 - val_accuracy: 0.7544\n",
      "Epoch 9/10\n",
      "47/47 [==============================] - 1s 28ms/step - loss: 0.6629 - accuracy: 0.7561 - val_loss: 0.6728 - val_accuracy: 0.7559\n",
      "Epoch 10/10\n",
      "47/47 [==============================] - 1s 29ms/step - loss: 0.6378 - accuracy: 0.7623 - val_loss: 0.6736 - val_accuracy: 0.7524\n",
      "---mixed dense list: [1024, 512, 256, 128, 64], tabular dense list: [32, 64], activation: relu---\n"
     ]
    },
    {
     "name": "stderr",
     "output_type": "stream",
     "text": [
      "WARNING:absl:At this time, the v2.11+ optimizer `tf.keras.optimizers.Adam` runs slowly on M1/M2 Macs, please use the legacy Keras optimizer instead, located at `tf.keras.optimizers.legacy.Adam`.\n",
      "WARNING:absl:There is a known slowdown when using v2.11+ Keras optimizers on M1/M2 Macs. Falling back to the legacy Keras optimizer, i.e., `tf.keras.optimizers.legacy.Adam`.\n"
     ]
    },
    {
     "name": "stdout",
     "output_type": "stream",
     "text": [
      "Epoch 1/10\n",
      "47/47 [==============================] - 2s 30ms/step - loss: 2.3473 - accuracy: 0.6050 - val_loss: 1.0753 - val_accuracy: 0.6735\n",
      "Epoch 2/10\n",
      "47/47 [==============================] - 1s 29ms/step - loss: 0.9618 - accuracy: 0.6687 - val_loss: 0.8696 - val_accuracy: 0.6836\n",
      "Epoch 3/10\n",
      "47/47 [==============================] - 1s 29ms/step - loss: 0.8563 - accuracy: 0.6967 - val_loss: 0.7939 - val_accuracy: 0.7162\n",
      "Epoch 4/10\n",
      "47/47 [==============================] - 1s 29ms/step - loss: 0.8110 - accuracy: 0.7136 - val_loss: 0.7804 - val_accuracy: 0.7233\n",
      "Epoch 5/10\n",
      "47/47 [==============================] - 1s 29ms/step - loss: 0.7794 - accuracy: 0.7191 - val_loss: 0.7476 - val_accuracy: 0.7353\n",
      "Epoch 6/10\n",
      "47/47 [==============================] - 1s 29ms/step - loss: 0.7858 - accuracy: 0.7184 - val_loss: 0.7546 - val_accuracy: 0.7298\n",
      "Epoch 7/10\n",
      "47/47 [==============================] - 1s 32ms/step - loss: 0.7450 - accuracy: 0.7325 - val_loss: 0.7131 - val_accuracy: 0.7363\n",
      "Epoch 8/10\n",
      "47/47 [==============================] - 1s 29ms/step - loss: 0.7183 - accuracy: 0.7395 - val_loss: 0.7161 - val_accuracy: 0.7298\n",
      "Epoch 9/10\n",
      "47/47 [==============================] - 1s 29ms/step - loss: 0.7258 - accuracy: 0.7362 - val_loss: 0.6950 - val_accuracy: 0.7544\n",
      "Epoch 10/10\n",
      "47/47 [==============================] - 1s 29ms/step - loss: 0.7025 - accuracy: 0.7446 - val_loss: 0.7125 - val_accuracy: 0.7413\n",
      "---mixed dense list: [1024, 512, 256, 128, 64], tabular dense list: [32, 64], activation: tanh---\n"
     ]
    },
    {
     "name": "stderr",
     "output_type": "stream",
     "text": [
      "WARNING:absl:At this time, the v2.11+ optimizer `tf.keras.optimizers.Adam` runs slowly on M1/M2 Macs, please use the legacy Keras optimizer instead, located at `tf.keras.optimizers.legacy.Adam`.\n",
      "WARNING:absl:There is a known slowdown when using v2.11+ Keras optimizers on M1/M2 Macs. Falling back to the legacy Keras optimizer, i.e., `tf.keras.optimizers.legacy.Adam`.\n"
     ]
    },
    {
     "name": "stdout",
     "output_type": "stream",
     "text": [
      "Epoch 1/10\n",
      "47/47 [==============================] - 2s 30ms/step - loss: 3.0003 - accuracy: 0.6090 - val_loss: 0.9128 - val_accuracy: 0.6921\n",
      "Epoch 2/10\n",
      "47/47 [==============================] - 1s 29ms/step - loss: 0.8710 - accuracy: 0.6923 - val_loss: 0.8127 - val_accuracy: 0.7172\n",
      "Epoch 3/10\n",
      "47/47 [==============================] - 1s 29ms/step - loss: 0.8187 - accuracy: 0.7091 - val_loss: 0.7793 - val_accuracy: 0.7248\n",
      "Epoch 4/10\n",
      "47/47 [==============================] - 1s 30ms/step - loss: 0.7788 - accuracy: 0.7161 - val_loss: 0.7641 - val_accuracy: 0.7132\n",
      "Epoch 5/10\n",
      "47/47 [==============================] - 1s 30ms/step - loss: 0.7627 - accuracy: 0.7261 - val_loss: 0.8018 - val_accuracy: 0.7067\n",
      "Epoch 6/10\n",
      "47/47 [==============================] - 1s 30ms/step - loss: 0.7434 - accuracy: 0.7298 - val_loss: 0.7491 - val_accuracy: 0.7413\n",
      "Epoch 7/10\n",
      "47/47 [==============================] - 1s 29ms/step - loss: 0.6985 - accuracy: 0.7426 - val_loss: 0.6817 - val_accuracy: 0.7499\n",
      "Epoch 8/10\n",
      "47/47 [==============================] - 1s 32ms/step - loss: 0.6869 - accuracy: 0.7462 - val_loss: 0.6611 - val_accuracy: 0.7514\n",
      "Epoch 9/10\n",
      "47/47 [==============================] - 1s 29ms/step - loss: 0.6655 - accuracy: 0.7518 - val_loss: 0.6729 - val_accuracy: 0.7514\n",
      "Epoch 10/10\n",
      "47/47 [==============================] - 1s 29ms/step - loss: 0.6706 - accuracy: 0.7506 - val_loss: 0.7198 - val_accuracy: 0.7328\n",
      "---mixed dense list: [1024, 512, 256, 128, 64], tabular dense list: [32, 64, 64], activation: relu---\n"
     ]
    },
    {
     "name": "stderr",
     "output_type": "stream",
     "text": [
      "WARNING:absl:At this time, the v2.11+ optimizer `tf.keras.optimizers.Adam` runs slowly on M1/M2 Macs, please use the legacy Keras optimizer instead, located at `tf.keras.optimizers.legacy.Adam`.\n",
      "WARNING:absl:There is a known slowdown when using v2.11+ Keras optimizers on M1/M2 Macs. Falling back to the legacy Keras optimizer, i.e., `tf.keras.optimizers.legacy.Adam`.\n"
     ]
    },
    {
     "name": "stdout",
     "output_type": "stream",
     "text": [
      "Epoch 1/10\n",
      "47/47 [==============================] - 2s 31ms/step - loss: 1.9082 - accuracy: 0.6319 - val_loss: 0.9449 - val_accuracy: 0.6735\n",
      "Epoch 2/10\n",
      "47/47 [==============================] - 1s 30ms/step - loss: 0.8834 - accuracy: 0.6915 - val_loss: 0.7975 - val_accuracy: 0.7157\n",
      "Epoch 3/10\n",
      "47/47 [==============================] - 1s 30ms/step - loss: 0.8096 - accuracy: 0.7092 - val_loss: 0.8232 - val_accuracy: 0.7092\n",
      "Epoch 4/10\n",
      "47/47 [==============================] - 1s 30ms/step - loss: 0.7669 - accuracy: 0.7250 - val_loss: 0.7577 - val_accuracy: 0.7398\n",
      "Epoch 5/10\n",
      "47/47 [==============================] - 1s 30ms/step - loss: 0.7413 - accuracy: 0.7292 - val_loss: 0.7415 - val_accuracy: 0.7318\n",
      "Epoch 6/10\n",
      "47/47 [==============================] - 1s 30ms/step - loss: 0.7225 - accuracy: 0.7338 - val_loss: 0.7203 - val_accuracy: 0.7403\n",
      "Epoch 7/10\n",
      "47/47 [==============================] - 1s 29ms/step - loss: 0.7061 - accuracy: 0.7380 - val_loss: 0.7186 - val_accuracy: 0.7408\n",
      "Epoch 8/10\n",
      "47/47 [==============================] - 1s 29ms/step - loss: 0.6893 - accuracy: 0.7491 - val_loss: 0.7099 - val_accuracy: 0.7459\n",
      "Epoch 9/10\n",
      "47/47 [==============================] - 1s 31ms/step - loss: 0.6697 - accuracy: 0.7491 - val_loss: 0.6752 - val_accuracy: 0.7564\n",
      "Epoch 10/10\n",
      "47/47 [==============================] - 1s 30ms/step - loss: 0.6478 - accuracy: 0.7598 - val_loss: 0.6514 - val_accuracy: 0.7579\n",
      "---mixed dense list: [1024, 512, 256, 128, 64], tabular dense list: [32, 64, 64], activation: tanh---\n"
     ]
    },
    {
     "name": "stderr",
     "output_type": "stream",
     "text": [
      "WARNING:absl:At this time, the v2.11+ optimizer `tf.keras.optimizers.Adam` runs slowly on M1/M2 Macs, please use the legacy Keras optimizer instead, located at `tf.keras.optimizers.legacy.Adam`.\n",
      "WARNING:absl:There is a known slowdown when using v2.11+ Keras optimizers on M1/M2 Macs. Falling back to the legacy Keras optimizer, i.e., `tf.keras.optimizers.legacy.Adam`.\n"
     ]
    },
    {
     "name": "stdout",
     "output_type": "stream",
     "text": [
      "Epoch 1/10\n",
      "47/47 [==============================] - 2s 30ms/step - loss: 2.1933 - accuracy: 0.6257 - val_loss: 0.8966 - val_accuracy: 0.6886\n",
      "Epoch 2/10\n",
      "47/47 [==============================] - 1s 28ms/step - loss: 0.8957 - accuracy: 0.6972 - val_loss: 0.8430 - val_accuracy: 0.7077\n",
      "Epoch 3/10\n",
      "47/47 [==============================] - 1s 28ms/step - loss: 0.8655 - accuracy: 0.6999 - val_loss: 0.8041 - val_accuracy: 0.7132\n",
      "Epoch 4/10\n",
      "47/47 [==============================] - 1s 29ms/step - loss: 0.8032 - accuracy: 0.7144 - val_loss: 0.7748 - val_accuracy: 0.7127\n",
      "Epoch 5/10\n",
      "47/47 [==============================] - 1s 29ms/step - loss: 0.7866 - accuracy: 0.7206 - val_loss: 0.7570 - val_accuracy: 0.7273\n",
      "Epoch 6/10\n",
      "47/47 [==============================] - 1s 29ms/step - loss: 0.7598 - accuracy: 0.7272 - val_loss: 0.7549 - val_accuracy: 0.7268\n",
      "Epoch 7/10\n",
      "47/47 [==============================] - 1s 28ms/step - loss: 0.7383 - accuracy: 0.7328 - val_loss: 0.7289 - val_accuracy: 0.7403\n",
      "Epoch 8/10\n",
      "47/47 [==============================] - 1s 29ms/step - loss: 0.7268 - accuracy: 0.7370 - val_loss: 0.7221 - val_accuracy: 0.7383\n",
      "Epoch 9/10\n",
      "47/47 [==============================] - 1s 29ms/step - loss: 0.7224 - accuracy: 0.7359 - val_loss: 0.7055 - val_accuracy: 0.7423\n",
      "Epoch 10/10\n",
      "47/47 [==============================] - 1s 29ms/step - loss: 0.6964 - accuracy: 0.7461 - val_loss: 0.7296 - val_accuracy: 0.7433\n",
      "---mixed dense list: [1024, 512, 256, 128, 64], tabular dense list: [32, 64, 64, 32], activation: relu---\n"
     ]
    },
    {
     "name": "stderr",
     "output_type": "stream",
     "text": [
      "WARNING:absl:At this time, the v2.11+ optimizer `tf.keras.optimizers.Adam` runs slowly on M1/M2 Macs, please use the legacy Keras optimizer instead, located at `tf.keras.optimizers.legacy.Adam`.\n",
      "WARNING:absl:There is a known slowdown when using v2.11+ Keras optimizers on M1/M2 Macs. Falling back to the legacy Keras optimizer, i.e., `tf.keras.optimizers.legacy.Adam`.\n"
     ]
    },
    {
     "name": "stdout",
     "output_type": "stream",
     "text": [
      "Epoch 1/10\n",
      "47/47 [==============================] - 2s 35ms/step - loss: 3.3619 - accuracy: 0.6264 - val_loss: 0.9519 - val_accuracy: 0.6826\n",
      "Epoch 2/10\n",
      "47/47 [==============================] - 1s 30ms/step - loss: 0.8518 - accuracy: 0.7014 - val_loss: 0.7816 - val_accuracy: 0.7293\n",
      "Epoch 3/10\n",
      "47/47 [==============================] - 1s 30ms/step - loss: 0.7976 - accuracy: 0.7173 - val_loss: 0.7889 - val_accuracy: 0.7283\n",
      "Epoch 4/10\n",
      "47/47 [==============================] - 1s 30ms/step - loss: 0.7883 - accuracy: 0.7101 - val_loss: 0.7515 - val_accuracy: 0.7368\n",
      "Epoch 5/10\n",
      "47/47 [==============================] - 1s 30ms/step - loss: 0.7466 - accuracy: 0.7297 - val_loss: 0.7653 - val_accuracy: 0.7157\n",
      "Epoch 6/10\n",
      "47/47 [==============================] - 1s 30ms/step - loss: 0.7255 - accuracy: 0.7350 - val_loss: 0.7132 - val_accuracy: 0.7564\n",
      "Epoch 7/10\n",
      "47/47 [==============================] - 1s 30ms/step - loss: 0.7108 - accuracy: 0.7426 - val_loss: 0.7222 - val_accuracy: 0.7428\n",
      "Epoch 8/10\n",
      "47/47 [==============================] - 1s 30ms/step - loss: 0.7038 - accuracy: 0.7466 - val_loss: 0.6918 - val_accuracy: 0.7509\n",
      "Epoch 9/10\n",
      "47/47 [==============================] - 1s 30ms/step - loss: 0.6751 - accuracy: 0.7466 - val_loss: 0.6880 - val_accuracy: 0.7459\n",
      "Epoch 10/10\n",
      "47/47 [==============================] - 1s 30ms/step - loss: 0.6736 - accuracy: 0.7503 - val_loss: 0.7051 - val_accuracy: 0.7514\n",
      "---mixed dense list: [1024, 512, 256, 128, 64], tabular dense list: [32, 64, 64, 32], activation: tanh---\n"
     ]
    },
    {
     "name": "stderr",
     "output_type": "stream",
     "text": [
      "WARNING:absl:At this time, the v2.11+ optimizer `tf.keras.optimizers.Adam` runs slowly on M1/M2 Macs, please use the legacy Keras optimizer instead, located at `tf.keras.optimizers.legacy.Adam`.\n",
      "WARNING:absl:There is a known slowdown when using v2.11+ Keras optimizers on M1/M2 Macs. Falling back to the legacy Keras optimizer, i.e., `tf.keras.optimizers.legacy.Adam`.\n"
     ]
    },
    {
     "name": "stdout",
     "output_type": "stream",
     "text": [
      "Epoch 1/10\n",
      "47/47 [==============================] - 2s 32ms/step - loss: 2.6876 - accuracy: 0.5999 - val_loss: 0.8653 - val_accuracy: 0.6846\n",
      "Epoch 2/10\n",
      "47/47 [==============================] - 1s 32ms/step - loss: 0.8559 - accuracy: 0.6953 - val_loss: 0.8142 - val_accuracy: 0.7072\n",
      "Epoch 3/10\n",
      "47/47 [==============================] - 1s 30ms/step - loss: 0.7964 - accuracy: 0.7151 - val_loss: 0.7674 - val_accuracy: 0.7197\n",
      "Epoch 4/10\n",
      "47/47 [==============================] - 1s 30ms/step - loss: 0.7794 - accuracy: 0.7240 - val_loss: 0.7212 - val_accuracy: 0.7418\n",
      "Epoch 5/10\n",
      "47/47 [==============================] - 1s 30ms/step - loss: 0.7504 - accuracy: 0.7268 - val_loss: 0.8012 - val_accuracy: 0.7238\n",
      "Epoch 6/10\n",
      "47/47 [==============================] - 1s 30ms/step - loss: 0.7494 - accuracy: 0.7317 - val_loss: 0.7190 - val_accuracy: 0.7459\n",
      "Epoch 7/10\n",
      "47/47 [==============================] - 1s 30ms/step - loss: 0.7333 - accuracy: 0.7377 - val_loss: 0.7508 - val_accuracy: 0.7378\n",
      "Epoch 8/10\n",
      "47/47 [==============================] - 1s 31ms/step - loss: 0.7083 - accuracy: 0.7397 - val_loss: 0.6999 - val_accuracy: 0.7464\n",
      "Epoch 9/10\n",
      "47/47 [==============================] - 1s 30ms/step - loss: 0.7117 - accuracy: 0.7436 - val_loss: 0.7386 - val_accuracy: 0.7373\n",
      "Epoch 10/10\n",
      "47/47 [==============================] - 1s 31ms/step - loss: 0.6917 - accuracy: 0.7487 - val_loss: 0.7257 - val_accuracy: 0.7393\n",
      "---mixed dense list: [1024, 512, 256, 128, 64, 32], tabular dense list: [32], activation: relu---\n"
     ]
    },
    {
     "name": "stderr",
     "output_type": "stream",
     "text": [
      "WARNING:absl:At this time, the v2.11+ optimizer `tf.keras.optimizers.Adam` runs slowly on M1/M2 Macs, please use the legacy Keras optimizer instead, located at `tf.keras.optimizers.legacy.Adam`.\n",
      "WARNING:absl:There is a known slowdown when using v2.11+ Keras optimizers on M1/M2 Macs. Falling back to the legacy Keras optimizer, i.e., `tf.keras.optimizers.legacy.Adam`.\n"
     ]
    },
    {
     "name": "stdout",
     "output_type": "stream",
     "text": [
      "Epoch 1/10\n",
      "47/47 [==============================] - 2s 31ms/step - loss: 2.1048 - accuracy: 0.6070 - val_loss: 0.9246 - val_accuracy: 0.6735\n",
      "Epoch 2/10\n",
      "47/47 [==============================] - 1s 29ms/step - loss: 0.9504 - accuracy: 0.6699 - val_loss: 0.8703 - val_accuracy: 0.7127\n",
      "Epoch 3/10\n",
      "47/47 [==============================] - 1s 31ms/step - loss: 0.8196 - accuracy: 0.7086 - val_loss: 0.8156 - val_accuracy: 0.7202\n",
      "Epoch 4/10\n",
      "47/47 [==============================] - 1s 29ms/step - loss: 0.8024 - accuracy: 0.7163 - val_loss: 0.7690 - val_accuracy: 0.7273\n",
      "Epoch 5/10\n",
      "47/47 [==============================] - 1s 29ms/step - loss: 0.7576 - accuracy: 0.7270 - val_loss: 0.7305 - val_accuracy: 0.7403\n",
      "Epoch 6/10\n",
      "47/47 [==============================] - 1s 29ms/step - loss: 0.7402 - accuracy: 0.7312 - val_loss: 0.7004 - val_accuracy: 0.7428\n",
      "Epoch 7/10\n",
      "47/47 [==============================] - 1s 29ms/step - loss: 0.7293 - accuracy: 0.7307 - val_loss: 0.7623 - val_accuracy: 0.7308\n",
      "Epoch 8/10\n",
      "47/47 [==============================] - 1s 29ms/step - loss: 0.7042 - accuracy: 0.7412 - val_loss: 0.6751 - val_accuracy: 0.7584\n",
      "Epoch 9/10\n",
      "47/47 [==============================] - 1s 29ms/step - loss: 0.6981 - accuracy: 0.7513 - val_loss: 0.6729 - val_accuracy: 0.7604\n",
      "Epoch 10/10\n",
      "47/47 [==============================] - 1s 30ms/step - loss: 0.6718 - accuracy: 0.7543 - val_loss: 0.7106 - val_accuracy: 0.7449\n",
      "---mixed dense list: [1024, 512, 256, 128, 64, 32], tabular dense list: [32], activation: tanh---\n"
     ]
    },
    {
     "name": "stderr",
     "output_type": "stream",
     "text": [
      "WARNING:absl:At this time, the v2.11+ optimizer `tf.keras.optimizers.Adam` runs slowly on M1/M2 Macs, please use the legacy Keras optimizer instead, located at `tf.keras.optimizers.legacy.Adam`.\n",
      "WARNING:absl:There is a known slowdown when using v2.11+ Keras optimizers on M1/M2 Macs. Falling back to the legacy Keras optimizer, i.e., `tf.keras.optimizers.legacy.Adam`.\n"
     ]
    },
    {
     "name": "stdout",
     "output_type": "stream",
     "text": [
      "Epoch 1/10\n",
      "47/47 [==============================] - 2s 30ms/step - loss: 1.7893 - accuracy: 0.6177 - val_loss: 0.8748 - val_accuracy: 0.6760\n",
      "Epoch 2/10\n",
      "47/47 [==============================] - 1s 29ms/step - loss: 0.8703 - accuracy: 0.6925 - val_loss: 0.7953 - val_accuracy: 0.7273\n",
      "Epoch 3/10\n",
      "47/47 [==============================] - 1s 29ms/step - loss: 0.8114 - accuracy: 0.7159 - val_loss: 0.7523 - val_accuracy: 0.7378\n",
      "Epoch 4/10\n",
      "47/47 [==============================] - 1s 31ms/step - loss: 0.7714 - accuracy: 0.7265 - val_loss: 0.7623 - val_accuracy: 0.7343\n",
      "Epoch 5/10\n",
      "47/47 [==============================] - 1s 29ms/step - loss: 0.7822 - accuracy: 0.7243 - val_loss: 0.7865 - val_accuracy: 0.7328\n",
      "Epoch 6/10\n",
      "47/47 [==============================] - 1s 28ms/step - loss: 0.7332 - accuracy: 0.7432 - val_loss: 0.7106 - val_accuracy: 0.7459\n",
      "Epoch 7/10\n",
      "47/47 [==============================] - 1s 29ms/step - loss: 0.6985 - accuracy: 0.7444 - val_loss: 0.7169 - val_accuracy: 0.7438\n",
      "Epoch 8/10\n",
      "47/47 [==============================] - 1s 29ms/step - loss: 0.6897 - accuracy: 0.7489 - val_loss: 0.6693 - val_accuracy: 0.7514\n",
      "Epoch 9/10\n",
      "47/47 [==============================] - 1s 29ms/step - loss: 0.6846 - accuracy: 0.7523 - val_loss: 0.6756 - val_accuracy: 0.7539\n",
      "Epoch 10/10\n",
      "47/47 [==============================] - 1s 29ms/step - loss: 0.6632 - accuracy: 0.7578 - val_loss: 0.6556 - val_accuracy: 0.7654\n",
      "---mixed dense list: [1024, 512, 256, 128, 64, 32], tabular dense list: [32, 64], activation: relu---\n"
     ]
    },
    {
     "name": "stderr",
     "output_type": "stream",
     "text": [
      "WARNING:absl:At this time, the v2.11+ optimizer `tf.keras.optimizers.Adam` runs slowly on M1/M2 Macs, please use the legacy Keras optimizer instead, located at `tf.keras.optimizers.legacy.Adam`.\n",
      "WARNING:absl:There is a known slowdown when using v2.11+ Keras optimizers on M1/M2 Macs. Falling back to the legacy Keras optimizer, i.e., `tf.keras.optimizers.legacy.Adam`.\n"
     ]
    },
    {
     "name": "stdout",
     "output_type": "stream",
     "text": [
      "Epoch 1/10\n",
      "47/47 [==============================] - 2s 30ms/step - loss: 2.4887 - accuracy: 0.6075 - val_loss: 1.0240 - val_accuracy: 0.6735\n",
      "Epoch 2/10\n",
      "47/47 [==============================] - 1s 29ms/step - loss: 0.9704 - accuracy: 0.6714 - val_loss: 0.8771 - val_accuracy: 0.7032\n",
      "Epoch 3/10\n",
      "47/47 [==============================] - 1s 29ms/step - loss: 0.8932 - accuracy: 0.7004 - val_loss: 0.8543 - val_accuracy: 0.7027\n",
      "Epoch 4/10\n",
      "47/47 [==============================] - 1s 29ms/step - loss: 0.8521 - accuracy: 0.7042 - val_loss: 0.8142 - val_accuracy: 0.7147\n",
      "Epoch 5/10\n",
      "47/47 [==============================] - 1s 29ms/step - loss: 0.8232 - accuracy: 0.7118 - val_loss: 0.7916 - val_accuracy: 0.7233\n",
      "Epoch 6/10\n",
      "47/47 [==============================] - 1s 30ms/step - loss: 0.8016 - accuracy: 0.7169 - val_loss: 0.7644 - val_accuracy: 0.7293\n",
      "Epoch 7/10\n",
      "47/47 [==============================] - 1s 29ms/step - loss: 0.7755 - accuracy: 0.7206 - val_loss: 0.7657 - val_accuracy: 0.7263\n",
      "Epoch 8/10\n",
      "47/47 [==============================] - 1s 29ms/step - loss: 0.7525 - accuracy: 0.7248 - val_loss: 0.7398 - val_accuracy: 0.7368\n",
      "Epoch 9/10\n",
      "47/47 [==============================] - 1s 28ms/step - loss: 0.7756 - accuracy: 0.7272 - val_loss: 0.7630 - val_accuracy: 0.7363\n",
      "Epoch 10/10\n",
      "47/47 [==============================] - 1s 29ms/step - loss: 0.7409 - accuracy: 0.7302 - val_loss: 0.7388 - val_accuracy: 0.7403\n",
      "---mixed dense list: [1024, 512, 256, 128, 64, 32], tabular dense list: [32, 64], activation: tanh---\n"
     ]
    },
    {
     "name": "stderr",
     "output_type": "stream",
     "text": [
      "WARNING:absl:At this time, the v2.11+ optimizer `tf.keras.optimizers.Adam` runs slowly on M1/M2 Macs, please use the legacy Keras optimizer instead, located at `tf.keras.optimizers.legacy.Adam`.\n",
      "WARNING:absl:There is a known slowdown when using v2.11+ Keras optimizers on M1/M2 Macs. Falling back to the legacy Keras optimizer, i.e., `tf.keras.optimizers.legacy.Adam`.\n"
     ]
    },
    {
     "name": "stdout",
     "output_type": "stream",
     "text": [
      "Epoch 1/10\n",
      "47/47 [==============================] - 2s 30ms/step - loss: 2.4728 - accuracy: 0.6110 - val_loss: 0.9207 - val_accuracy: 0.6816\n",
      "Epoch 2/10\n",
      "47/47 [==============================] - 1s 28ms/step - loss: 0.8594 - accuracy: 0.7002 - val_loss: 0.7970 - val_accuracy: 0.7122\n",
      "Epoch 3/10\n",
      "47/47 [==============================] - 1s 29ms/step - loss: 0.8005 - accuracy: 0.7141 - val_loss: 0.7661 - val_accuracy: 0.7197\n",
      "Epoch 4/10\n",
      "47/47 [==============================] - 1s 28ms/step - loss: 0.7798 - accuracy: 0.7238 - val_loss: 0.8016 - val_accuracy: 0.7087\n",
      "Epoch 5/10\n",
      "47/47 [==============================] - 1s 29ms/step - loss: 0.7757 - accuracy: 0.7208 - val_loss: 0.7435 - val_accuracy: 0.7363\n",
      "Epoch 6/10\n",
      "47/47 [==============================] - 1s 28ms/step - loss: 0.7574 - accuracy: 0.7230 - val_loss: 0.7524 - val_accuracy: 0.7278\n",
      "Epoch 7/10\n",
      "47/47 [==============================] - 1s 31ms/step - loss: 0.7386 - accuracy: 0.7369 - val_loss: 0.7440 - val_accuracy: 0.7358\n",
      "Epoch 8/10\n",
      "47/47 [==============================] - 1s 29ms/step - loss: 0.7192 - accuracy: 0.7338 - val_loss: 0.6989 - val_accuracy: 0.7489\n",
      "Epoch 9/10\n",
      "47/47 [==============================] - 1s 29ms/step - loss: 0.6991 - accuracy: 0.7417 - val_loss: 0.6878 - val_accuracy: 0.7519\n",
      "Epoch 10/10\n",
      "47/47 [==============================] - 1s 29ms/step - loss: 0.6671 - accuracy: 0.7534 - val_loss: 0.6821 - val_accuracy: 0.7348\n"
     ]
    },
    {
     "name": "stderr",
     "output_type": "stream",
     "text": [
      "WARNING:absl:At this time, the v2.11+ optimizer `tf.keras.optimizers.Adam` runs slowly on M1/M2 Macs, please use the legacy Keras optimizer instead, located at `tf.keras.optimizers.legacy.Adam`.\n",
      "WARNING:absl:There is a known slowdown when using v2.11+ Keras optimizers on M1/M2 Macs. Falling back to the legacy Keras optimizer, i.e., `tf.keras.optimizers.legacy.Adam`.\n"
     ]
    },
    {
     "name": "stdout",
     "output_type": "stream",
     "text": [
      "---mixed dense list: [1024, 512, 256, 128, 64, 32], tabular dense list: [32, 64, 64], activation: relu---\n",
      "Epoch 1/10\n",
      "47/47 [==============================] - 2s 29ms/step - loss: 1.9907 - accuracy: 0.6011 - val_loss: 1.0070 - val_accuracy: 0.6735\n",
      "Epoch 2/10\n",
      "47/47 [==============================] - 1s 28ms/step - loss: 0.9403 - accuracy: 0.6711 - val_loss: 0.8475 - val_accuracy: 0.7132\n",
      "Epoch 3/10\n",
      "47/47 [==============================] - 1s 28ms/step - loss: 0.8580 - accuracy: 0.7051 - val_loss: 0.8138 - val_accuracy: 0.7353\n",
      "Epoch 4/10\n",
      "47/47 [==============================] - 1s 28ms/step - loss: 0.7920 - accuracy: 0.7206 - val_loss: 0.7586 - val_accuracy: 0.7293\n",
      "Epoch 5/10\n",
      "47/47 [==============================] - 1s 28ms/step - loss: 0.7561 - accuracy: 0.7266 - val_loss: 0.7271 - val_accuracy: 0.7313\n",
      "Epoch 6/10\n",
      "47/47 [==============================] - 1s 29ms/step - loss: 0.7445 - accuracy: 0.7338 - val_loss: 0.7155 - val_accuracy: 0.7479\n",
      "Epoch 7/10\n",
      "47/47 [==============================] - 1s 28ms/step - loss: 0.7350 - accuracy: 0.7370 - val_loss: 0.7332 - val_accuracy: 0.7408\n",
      "Epoch 8/10\n",
      "47/47 [==============================] - 1s 29ms/step - loss: 0.7087 - accuracy: 0.7426 - val_loss: 0.8113 - val_accuracy: 0.6941\n",
      "Epoch 9/10\n",
      "47/47 [==============================] - 1s 30ms/step - loss: 0.7259 - accuracy: 0.7400 - val_loss: 0.6974 - val_accuracy: 0.7499\n",
      "Epoch 10/10\n",
      "47/47 [==============================] - 1s 28ms/step - loss: 0.7008 - accuracy: 0.7457 - val_loss: 0.7191 - val_accuracy: 0.7408\n"
     ]
    },
    {
     "name": "stderr",
     "output_type": "stream",
     "text": [
      "WARNING:absl:At this time, the v2.11+ optimizer `tf.keras.optimizers.Adam` runs slowly on M1/M2 Macs, please use the legacy Keras optimizer instead, located at `tf.keras.optimizers.legacy.Adam`.\n",
      "WARNING:absl:There is a known slowdown when using v2.11+ Keras optimizers on M1/M2 Macs. Falling back to the legacy Keras optimizer, i.e., `tf.keras.optimizers.legacy.Adam`.\n"
     ]
    },
    {
     "name": "stdout",
     "output_type": "stream",
     "text": [
      "---mixed dense list: [1024, 512, 256, 128, 64, 32], tabular dense list: [32, 64, 64], activation: tanh---\n",
      "Epoch 1/10\n",
      "47/47 [==============================] - 2s 30ms/step - loss: 2.2429 - accuracy: 0.6277 - val_loss: 0.8993 - val_accuracy: 0.6906\n",
      "Epoch 2/10\n",
      "47/47 [==============================] - 1s 29ms/step - loss: 0.8569 - accuracy: 0.6985 - val_loss: 0.8549 - val_accuracy: 0.7067\n",
      "Epoch 3/10\n",
      "47/47 [==============================] - 1s 28ms/step - loss: 0.8093 - accuracy: 0.7143 - val_loss: 0.7518 - val_accuracy: 0.7268\n",
      "Epoch 4/10\n",
      "47/47 [==============================] - 1s 29ms/step - loss: 0.7895 - accuracy: 0.7154 - val_loss: 0.7577 - val_accuracy: 0.7273\n",
      "Epoch 5/10\n",
      "47/47 [==============================] - 1s 28ms/step - loss: 0.7673 - accuracy: 0.7225 - val_loss: 0.7387 - val_accuracy: 0.7348\n",
      "Epoch 6/10\n",
      "47/47 [==============================] - 1s 28ms/step - loss: 0.7456 - accuracy: 0.7313 - val_loss: 0.7439 - val_accuracy: 0.7323\n",
      "Epoch 7/10\n",
      "47/47 [==============================] - 1s 28ms/step - loss: 0.7322 - accuracy: 0.7293 - val_loss: 0.7215 - val_accuracy: 0.7383\n",
      "Epoch 8/10\n",
      "47/47 [==============================] - 1s 29ms/step - loss: 0.7202 - accuracy: 0.7392 - val_loss: 0.7088 - val_accuracy: 0.7454\n",
      "Epoch 9/10\n",
      "47/47 [==============================] - 1s 28ms/step - loss: 0.7155 - accuracy: 0.7327 - val_loss: 0.7740 - val_accuracy: 0.7288\n",
      "Epoch 10/10\n",
      "47/47 [==============================] - 1s 30ms/step - loss: 0.7129 - accuracy: 0.7369 - val_loss: 0.6966 - val_accuracy: 0.7393\n",
      "---mixed dense list: [1024, 512, 256, 128, 64, 32], tabular dense list: [32, 64, 64, 32], activation: relu---\n"
     ]
    },
    {
     "name": "stderr",
     "output_type": "stream",
     "text": [
      "WARNING:absl:At this time, the v2.11+ optimizer `tf.keras.optimizers.Adam` runs slowly on M1/M2 Macs, please use the legacy Keras optimizer instead, located at `tf.keras.optimizers.legacy.Adam`.\n",
      "WARNING:absl:There is a known slowdown when using v2.11+ Keras optimizers on M1/M2 Macs. Falling back to the legacy Keras optimizer, i.e., `tf.keras.optimizers.legacy.Adam`.\n"
     ]
    },
    {
     "name": "stdout",
     "output_type": "stream",
     "text": [
      "Epoch 1/10\n",
      "47/47 [==============================] - 2s 29ms/step - loss: 2.6179 - accuracy: 0.5814 - val_loss: 1.0055 - val_accuracy: 0.6735\n",
      "Epoch 2/10\n",
      "47/47 [==============================] - 1s 27ms/step - loss: 0.9147 - accuracy: 0.6860 - val_loss: 0.8086 - val_accuracy: 0.7142\n",
      "Epoch 3/10\n",
      "47/47 [==============================] - 1s 28ms/step - loss: 0.8409 - accuracy: 0.7082 - val_loss: 0.8013 - val_accuracy: 0.7197\n",
      "Epoch 4/10\n",
      "47/47 [==============================] - 1s 28ms/step - loss: 0.8199 - accuracy: 0.7079 - val_loss: 0.7960 - val_accuracy: 0.7197\n",
      "Epoch 5/10\n",
      "47/47 [==============================] - 1s 28ms/step - loss: 0.7792 - accuracy: 0.7184 - val_loss: 0.7795 - val_accuracy: 0.7212\n",
      "Epoch 6/10\n",
      "47/47 [==============================] - 1s 28ms/step - loss: 0.7630 - accuracy: 0.7240 - val_loss: 0.7292 - val_accuracy: 0.7373\n",
      "Epoch 7/10\n",
      "47/47 [==============================] - 1s 28ms/step - loss: 0.7481 - accuracy: 0.7283 - val_loss: 0.7267 - val_accuracy: 0.7469\n",
      "Epoch 8/10\n",
      "47/47 [==============================] - 1s 28ms/step - loss: 0.7399 - accuracy: 0.7308 - val_loss: 0.7187 - val_accuracy: 0.7459\n",
      "Epoch 9/10\n",
      "47/47 [==============================] - 1s 27ms/step - loss: 0.7361 - accuracy: 0.7285 - val_loss: 0.7229 - val_accuracy: 0.7383\n",
      "Epoch 10/10\n",
      "47/47 [==============================] - 1s 28ms/step - loss: 0.7247 - accuracy: 0.7342 - val_loss: 0.7111 - val_accuracy: 0.7454\n",
      "---mixed dense list: [1024, 512, 256, 128, 64, 32], tabular dense list: [32, 64, 64, 32], activation: tanh---\n"
     ]
    },
    {
     "name": "stderr",
     "output_type": "stream",
     "text": [
      "WARNING:absl:At this time, the v2.11+ optimizer `tf.keras.optimizers.Adam` runs slowly on M1/M2 Macs, please use the legacy Keras optimizer instead, located at `tf.keras.optimizers.legacy.Adam`.\n",
      "WARNING:absl:There is a known slowdown when using v2.11+ Keras optimizers on M1/M2 Macs. Falling back to the legacy Keras optimizer, i.e., `tf.keras.optimizers.legacy.Adam`.\n"
     ]
    },
    {
     "name": "stdout",
     "output_type": "stream",
     "text": [
      "Epoch 1/10\n",
      "47/47 [==============================] - 2s 29ms/step - loss: 1.6556 - accuracy: 0.6317 - val_loss: 1.0247 - val_accuracy: 0.6735\n",
      "Epoch 2/10\n",
      "47/47 [==============================] - 1s 31ms/step - loss: 0.9220 - accuracy: 0.6738 - val_loss: 0.7935 - val_accuracy: 0.7338\n",
      "Epoch 3/10\n",
      "47/47 [==============================] - 1s 28ms/step - loss: 0.8335 - accuracy: 0.7181 - val_loss: 0.7833 - val_accuracy: 0.7192\n",
      "Epoch 4/10\n",
      "47/47 [==============================] - 1s 28ms/step - loss: 0.7969 - accuracy: 0.7166 - val_loss: 0.7701 - val_accuracy: 0.7152\n",
      "Epoch 5/10\n",
      "47/47 [==============================] - 1s 28ms/step - loss: 0.7997 - accuracy: 0.7231 - val_loss: 0.7577 - val_accuracy: 0.7383\n",
      "Epoch 6/10\n",
      "47/47 [==============================] - 1s 28ms/step - loss: 0.7744 - accuracy: 0.7303 - val_loss: 0.7420 - val_accuracy: 0.7283\n",
      "Epoch 7/10\n",
      "47/47 [==============================] - 1s 28ms/step - loss: 0.7495 - accuracy: 0.7317 - val_loss: 0.7468 - val_accuracy: 0.7318\n",
      "Epoch 8/10\n",
      "47/47 [==============================] - 1s 28ms/step - loss: 0.7546 - accuracy: 0.7282 - val_loss: 0.7193 - val_accuracy: 0.7323\n",
      "Epoch 9/10\n",
      "47/47 [==============================] - 1s 28ms/step - loss: 0.7364 - accuracy: 0.7364 - val_loss: 0.7585 - val_accuracy: 0.7343\n",
      "Epoch 10/10\n",
      "47/47 [==============================] - 1s 28ms/step - loss: 0.7335 - accuracy: 0.7365 - val_loss: 0.7056 - val_accuracy: 0.7423\n"
     ]
    }
   ],
   "source": [
    "\n",
    "clean_dict = {}\n",
    "\n",
    "for mixed_dense_list in mixed_dense_lists:\n",
    "    for tabular_dense_list in tabular_dense_lists:\n",
    "        for activation_func in activation_list:\n",
    "        \n",
    "            print(\"---mixed dense list: \" + str(mixed_dense_list) + \", tabular dense list: \" + str(tabular_dense_list) + \", activation: \" + activation_func + \"---\")\n",
    "    \n",
    "            model = build_mixed_model(kernel_size = 3,\n",
    "                                      pool_size = 3,\n",
    "                                      tabular_shape = train_tabular_clean.shape[1],\n",
    "                                      tabular_activation_func = activation_func,\n",
    "                                      tabular_dense_list = tabular_dense_list,\n",
    "                                      mixed_dense_list = mixed_dense_list)\n",
    "    \n",
    "            history = model.fit(\n",
    "                [x_train_clean,\n",
    "                 train_tabular_clean],\n",
    "                y_train_clean,\n",
    "                validation_data = ([x_valid,\n",
    "                                    valid_tabular_set],\n",
    "                                   y_valid),\n",
    "                epochs = 10,  \n",
    "                batch_size = 128\n",
    "            )\n",
    "    \n",
    "            clean_dict[(len(mixed_dense_list), len(tabular_dense_list), activation_func)] = [history.history['accuracy'][-1], history.history['val_accuracy'][-1]]\n"
   ]
  },
  {
   "cell_type": "markdown",
   "metadata": {},
   "source": [
    "### 6.2: fit models using oversample dataset"
   ]
  },
  {
   "cell_type": "code",
   "execution_count": 22,
   "metadata": {},
   "outputs": [
    {
     "name": "stderr",
     "output_type": "stream",
     "text": [
      "WARNING:absl:At this time, the v2.11+ optimizer `tf.keras.optimizers.Adam` runs slowly on M1/M2 Macs, please use the legacy Keras optimizer instead, located at `tf.keras.optimizers.legacy.Adam`.\n",
      "WARNING:absl:There is a known slowdown when using v2.11+ Keras optimizers on M1/M2 Macs. Falling back to the legacy Keras optimizer, i.e., `tf.keras.optimizers.legacy.Adam`.\n"
     ]
    },
    {
     "name": "stdout",
     "output_type": "stream",
     "text": [
      "---mixed dense list: [1024], tabular dense list: [32], activation: relu---\n",
      "Epoch 1/10\n",
      "219/219 [==============================] - 6s 28ms/step - loss: 2.7221 - accuracy: 0.5263 - val_loss: 0.8728 - val_accuracy: 0.6570\n",
      "Epoch 2/10\n",
      "219/219 [==============================] - 6s 26ms/step - loss: 0.6638 - accuracy: 0.7555 - val_loss: 0.9332 - val_accuracy: 0.6479\n",
      "Epoch 3/10\n",
      "219/219 [==============================] - 6s 25ms/step - loss: 0.4721 - accuracy: 0.8273 - val_loss: 0.9177 - val_accuracy: 0.6539\n",
      "Epoch 4/10\n",
      "219/219 [==============================] - 6s 25ms/step - loss: 0.3585 - accuracy: 0.8711 - val_loss: 0.8772 - val_accuracy: 0.7117\n",
      "Epoch 5/10\n",
      "219/219 [==============================] - 6s 25ms/step - loss: 0.2867 - accuracy: 0.8988 - val_loss: 0.9639 - val_accuracy: 0.6946\n",
      "Epoch 6/10\n",
      "219/219 [==============================] - 5s 24ms/step - loss: 0.2351 - accuracy: 0.9149 - val_loss: 0.9626 - val_accuracy: 0.7152\n",
      "Epoch 7/10\n",
      "219/219 [==============================] - 5s 25ms/step - loss: 0.1975 - accuracy: 0.9289 - val_loss: 0.9794 - val_accuracy: 0.7122\n",
      "Epoch 8/10\n",
      "219/219 [==============================] - 6s 25ms/step - loss: 0.1780 - accuracy: 0.9357 - val_loss: 1.0233 - val_accuracy: 0.6996\n",
      "Epoch 9/10\n",
      "219/219 [==============================] - 5s 25ms/step - loss: 0.1676 - accuracy: 0.9391 - val_loss: 1.0271 - val_accuracy: 0.7338\n",
      "Epoch 10/10\n",
      "219/219 [==============================] - 5s 25ms/step - loss: 0.1252 - accuracy: 0.9559 - val_loss: 1.0359 - val_accuracy: 0.7182\n",
      "---mixed dense list: [1024], tabular dense list: [32], activation: tanh---\n"
     ]
    },
    {
     "name": "stderr",
     "output_type": "stream",
     "text": [
      "WARNING:absl:At this time, the v2.11+ optimizer `tf.keras.optimizers.Adam` runs slowly on M1/M2 Macs, please use the legacy Keras optimizer instead, located at `tf.keras.optimizers.legacy.Adam`.\n",
      "WARNING:absl:There is a known slowdown when using v2.11+ Keras optimizers on M1/M2 Macs. Falling back to the legacy Keras optimizer, i.e., `tf.keras.optimizers.legacy.Adam`.\n"
     ]
    },
    {
     "name": "stdout",
     "output_type": "stream",
     "text": [
      "Epoch 1/10\n",
      "219/219 [==============================] - 6s 25ms/step - loss: 2.9108 - accuracy: 0.5143 - val_loss: 0.9750 - val_accuracy: 0.6243\n",
      "Epoch 2/10\n",
      "219/219 [==============================] - 5s 25ms/step - loss: 0.7884 - accuracy: 0.7031 - val_loss: 0.8735 - val_accuracy: 0.6781\n",
      "Epoch 3/10\n",
      "219/219 [==============================] - 5s 24ms/step - loss: 0.5768 - accuracy: 0.7870 - val_loss: 0.8473 - val_accuracy: 0.6791\n",
      "Epoch 4/10\n",
      "219/219 [==============================] - 5s 25ms/step - loss: 0.4551 - accuracy: 0.8333 - val_loss: 1.0139 - val_accuracy: 0.6494\n",
      "Epoch 5/10\n",
      "219/219 [==============================] - 5s 24ms/step - loss: 0.3454 - accuracy: 0.8773 - val_loss: 0.9266 - val_accuracy: 0.7042\n",
      "Epoch 6/10\n",
      "219/219 [==============================] - 5s 25ms/step - loss: 0.2921 - accuracy: 0.8951 - val_loss: 0.9490 - val_accuracy: 0.6821\n",
      "Epoch 7/10\n",
      "219/219 [==============================] - 6s 29ms/step - loss: 0.2300 - accuracy: 0.9201 - val_loss: 1.0153 - val_accuracy: 0.6901\n",
      "Epoch 8/10\n",
      "219/219 [==============================] - 6s 29ms/step - loss: 0.1966 - accuracy: 0.9296 - val_loss: 1.0695 - val_accuracy: 0.7047\n",
      "Epoch 9/10\n",
      "219/219 [==============================] - 6s 29ms/step - loss: 0.1762 - accuracy: 0.9377 - val_loss: 0.9429 - val_accuracy: 0.7358\n",
      "Epoch 10/10\n",
      "219/219 [==============================] - 6s 27ms/step - loss: 0.1683 - accuracy: 0.9395 - val_loss: 1.0013 - val_accuracy: 0.7122\n",
      "---mixed dense list: [1024], tabular dense list: [32, 64], activation: relu---\n"
     ]
    },
    {
     "name": "stderr",
     "output_type": "stream",
     "text": [
      "WARNING:absl:At this time, the v2.11+ optimizer `tf.keras.optimizers.Adam` runs slowly on M1/M2 Macs, please use the legacy Keras optimizer instead, located at `tf.keras.optimizers.legacy.Adam`.\n",
      "WARNING:absl:There is a known slowdown when using v2.11+ Keras optimizers on M1/M2 Macs. Falling back to the legacy Keras optimizer, i.e., `tf.keras.optimizers.legacy.Adam`.\n"
     ]
    },
    {
     "name": "stdout",
     "output_type": "stream",
     "text": [
      "Epoch 1/10\n",
      "219/219 [==============================] - 6s 25ms/step - loss: 2.6348 - accuracy: 0.5488 - val_loss: 1.1062 - val_accuracy: 0.5836\n",
      "Epoch 2/10\n",
      "219/219 [==============================] - 6s 25ms/step - loss: 0.6045 - accuracy: 0.7720 - val_loss: 0.8641 - val_accuracy: 0.6765\n",
      "Epoch 3/10\n",
      "219/219 [==============================] - 5s 25ms/step - loss: 0.4248 - accuracy: 0.8440 - val_loss: 0.8902 - val_accuracy: 0.6911\n",
      "Epoch 4/10\n",
      "219/219 [==============================] - 5s 25ms/step - loss: 0.3168 - accuracy: 0.8867 - val_loss: 0.8443 - val_accuracy: 0.7157\n",
      "Epoch 5/10\n",
      "219/219 [==============================] - 6s 25ms/step - loss: 0.2623 - accuracy: 0.9063 - val_loss: 0.8607 - val_accuracy: 0.7288\n",
      "Epoch 6/10\n",
      "219/219 [==============================] - 5s 25ms/step - loss: 0.2258 - accuracy: 0.9199 - val_loss: 0.9837 - val_accuracy: 0.7228\n",
      "Epoch 7/10\n",
      "219/219 [==============================] - 5s 24ms/step - loss: 0.1962 - accuracy: 0.9286 - val_loss: 0.9892 - val_accuracy: 0.7243\n",
      "Epoch 8/10\n",
      "219/219 [==============================] - 6s 25ms/step - loss: 0.1614 - accuracy: 0.9417 - val_loss: 0.9896 - val_accuracy: 0.7283\n",
      "Epoch 9/10\n",
      "219/219 [==============================] - 5s 25ms/step - loss: 0.1571 - accuracy: 0.9463 - val_loss: 1.0203 - val_accuracy: 0.7368\n",
      "Epoch 10/10\n",
      "219/219 [==============================] - 5s 24ms/step - loss: 0.1331 - accuracy: 0.9527 - val_loss: 0.9979 - val_accuracy: 0.7489\n",
      "---mixed dense list: [1024], tabular dense list: [32, 64], activation: tanh---\n"
     ]
    },
    {
     "name": "stderr",
     "output_type": "stream",
     "text": [
      "WARNING:absl:At this time, the v2.11+ optimizer `tf.keras.optimizers.Adam` runs slowly on M1/M2 Macs, please use the legacy Keras optimizer instead, located at `tf.keras.optimizers.legacy.Adam`.\n",
      "WARNING:absl:There is a known slowdown when using v2.11+ Keras optimizers on M1/M2 Macs. Falling back to the legacy Keras optimizer, i.e., `tf.keras.optimizers.legacy.Adam`.\n"
     ]
    },
    {
     "name": "stdout",
     "output_type": "stream",
     "text": [
      "Epoch 1/10\n",
      "219/219 [==============================] - 6s 25ms/step - loss: 3.5171 - accuracy: 0.5379 - val_loss: 1.0512 - val_accuracy: 0.5856\n",
      "Epoch 2/10\n",
      "219/219 [==============================] - 5s 24ms/step - loss: 0.6840 - accuracy: 0.7469 - val_loss: 0.8549 - val_accuracy: 0.6529\n",
      "Epoch 3/10\n",
      "219/219 [==============================] - 5s 24ms/step - loss: 0.4883 - accuracy: 0.8222 - val_loss: 0.8158 - val_accuracy: 0.6896\n",
      "Epoch 4/10\n",
      "219/219 [==============================] - 5s 24ms/step - loss: 0.3545 - accuracy: 0.8713 - val_loss: 1.0474 - val_accuracy: 0.6494\n",
      "Epoch 5/10\n",
      "219/219 [==============================] - 5s 24ms/step - loss: 0.2933 - accuracy: 0.8954 - val_loss: 0.9435 - val_accuracy: 0.6916\n",
      "Epoch 6/10\n",
      "219/219 [==============================] - 5s 24ms/step - loss: 0.2184 - accuracy: 0.9235 - val_loss: 1.0215 - val_accuracy: 0.7032\n",
      "Epoch 7/10\n",
      "219/219 [==============================] - 5s 24ms/step - loss: 0.1884 - accuracy: 0.9333 - val_loss: 0.9709 - val_accuracy: 0.7253\n",
      "Epoch 8/10\n",
      "219/219 [==============================] - 5s 24ms/step - loss: 0.1834 - accuracy: 0.9355 - val_loss: 1.0023 - val_accuracy: 0.7368\n",
      "Epoch 9/10\n",
      "219/219 [==============================] - 5s 23ms/step - loss: 0.1316 - accuracy: 0.9535 - val_loss: 1.0133 - val_accuracy: 0.7378\n",
      "Epoch 10/10\n",
      "219/219 [==============================] - 5s 24ms/step - loss: 0.1350 - accuracy: 0.9523 - val_loss: 1.0576 - val_accuracy: 0.7238\n"
     ]
    },
    {
     "name": "stderr",
     "output_type": "stream",
     "text": [
      "WARNING:absl:At this time, the v2.11+ optimizer `tf.keras.optimizers.Adam` runs slowly on M1/M2 Macs, please use the legacy Keras optimizer instead, located at `tf.keras.optimizers.legacy.Adam`.\n",
      "WARNING:absl:There is a known slowdown when using v2.11+ Keras optimizers on M1/M2 Macs. Falling back to the legacy Keras optimizer, i.e., `tf.keras.optimizers.legacy.Adam`.\n"
     ]
    },
    {
     "name": "stdout",
     "output_type": "stream",
     "text": [
      "---mixed dense list: [1024], tabular dense list: [32, 64, 64], activation: relu---\n",
      "Epoch 1/10\n",
      "219/219 [==============================] - 5s 24ms/step - loss: 4.1096 - accuracy: 0.4683 - val_loss: 1.0827 - val_accuracy: 0.5741\n",
      "Epoch 2/10\n",
      "219/219 [==============================] - 5s 24ms/step - loss: 0.7833 - accuracy: 0.7046 - val_loss: 0.9443 - val_accuracy: 0.6323\n",
      "Epoch 3/10\n",
      "219/219 [==============================] - 5s 24ms/step - loss: 0.5915 - accuracy: 0.7769 - val_loss: 1.0169 - val_accuracy: 0.6178\n",
      "Epoch 4/10\n",
      "219/219 [==============================] - 5s 24ms/step - loss: 0.4435 - accuracy: 0.8359 - val_loss: 0.9462 - val_accuracy: 0.6524\n",
      "Epoch 5/10\n",
      "219/219 [==============================] - 5s 23ms/step - loss: 0.3565 - accuracy: 0.8707 - val_loss: 1.1130 - val_accuracy: 0.6238\n",
      "Epoch 6/10\n",
      "219/219 [==============================] - 6s 25ms/step - loss: 0.2732 - accuracy: 0.9037 - val_loss: 0.9690 - val_accuracy: 0.6991\n",
      "Epoch 7/10\n",
      "219/219 [==============================] - 5s 24ms/step - loss: 0.2383 - accuracy: 0.9146 - val_loss: 0.9511 - val_accuracy: 0.7197\n",
      "Epoch 8/10\n",
      "219/219 [==============================] - 6s 25ms/step - loss: 0.2035 - accuracy: 0.9272 - val_loss: 1.1046 - val_accuracy: 0.6856\n",
      "Epoch 9/10\n",
      "219/219 [==============================] - 5s 24ms/step - loss: 0.1874 - accuracy: 0.9323 - val_loss: 1.0757 - val_accuracy: 0.7007\n",
      "Epoch 10/10\n",
      "219/219 [==============================] - 5s 24ms/step - loss: 0.1378 - accuracy: 0.9517 - val_loss: 1.1462 - val_accuracy: 0.7233\n",
      "---mixed dense list: [1024], tabular dense list: [32, 64, 64], activation: tanh---\n"
     ]
    },
    {
     "name": "stderr",
     "output_type": "stream",
     "text": [
      "WARNING:absl:At this time, the v2.11+ optimizer `tf.keras.optimizers.Adam` runs slowly on M1/M2 Macs, please use the legacy Keras optimizer instead, located at `tf.keras.optimizers.legacy.Adam`.\n",
      "WARNING:absl:There is a known slowdown when using v2.11+ Keras optimizers on M1/M2 Macs. Falling back to the legacy Keras optimizer, i.e., `tf.keras.optimizers.legacy.Adam`.\n"
     ]
    },
    {
     "name": "stdout",
     "output_type": "stream",
     "text": [
      "Epoch 1/10\n",
      "219/219 [==============================] - 5s 24ms/step - loss: 3.1502 - accuracy: 0.5449 - val_loss: 0.7586 - val_accuracy: 0.7047\n",
      "Epoch 2/10\n",
      "219/219 [==============================] - 5s 23ms/step - loss: 0.6316 - accuracy: 0.7659 - val_loss: 0.8080 - val_accuracy: 0.7072\n",
      "Epoch 3/10\n",
      "219/219 [==============================] - 5s 23ms/step - loss: 0.4280 - accuracy: 0.8433 - val_loss: 0.9121 - val_accuracy: 0.6730\n",
      "Epoch 4/10\n",
      "219/219 [==============================] - 5s 23ms/step - loss: 0.3131 - accuracy: 0.8868 - val_loss: 0.7964 - val_accuracy: 0.7217\n",
      "Epoch 5/10\n",
      "219/219 [==============================] - 5s 25ms/step - loss: 0.2573 - accuracy: 0.9085 - val_loss: 0.8612 - val_accuracy: 0.7182\n",
      "Epoch 6/10\n",
      "219/219 [==============================] - 5s 23ms/step - loss: 0.1993 - accuracy: 0.9280 - val_loss: 1.0076 - val_accuracy: 0.7107\n",
      "Epoch 7/10\n",
      "219/219 [==============================] - 5s 23ms/step - loss: 0.1674 - accuracy: 0.9406 - val_loss: 0.9161 - val_accuracy: 0.7423\n",
      "Epoch 8/10\n",
      "219/219 [==============================] - 5s 24ms/step - loss: 0.1341 - accuracy: 0.9532 - val_loss: 0.9841 - val_accuracy: 0.7298\n",
      "Epoch 9/10\n",
      "219/219 [==============================] - 5s 23ms/step - loss: 0.1424 - accuracy: 0.9498 - val_loss: 1.1001 - val_accuracy: 0.7353\n",
      "Epoch 10/10\n",
      "219/219 [==============================] - 5s 23ms/step - loss: 0.1279 - accuracy: 0.9558 - val_loss: 1.0353 - val_accuracy: 0.7423\n"
     ]
    },
    {
     "name": "stderr",
     "output_type": "stream",
     "text": [
      "WARNING:absl:At this time, the v2.11+ optimizer `tf.keras.optimizers.Adam` runs slowly on M1/M2 Macs, please use the legacy Keras optimizer instead, located at `tf.keras.optimizers.legacy.Adam`.\n",
      "WARNING:absl:There is a known slowdown when using v2.11+ Keras optimizers on M1/M2 Macs. Falling back to the legacy Keras optimizer, i.e., `tf.keras.optimizers.legacy.Adam`.\n"
     ]
    },
    {
     "name": "stdout",
     "output_type": "stream",
     "text": [
      "---mixed dense list: [1024], tabular dense list: [32, 64, 64, 32], activation: relu---\n",
      "Epoch 1/10\n",
      "219/219 [==============================] - 5s 24ms/step - loss: 3.4532 - accuracy: 0.5126 - val_loss: 1.0863 - val_accuracy: 0.5821\n",
      "Epoch 2/10\n",
      "219/219 [==============================] - 5s 23ms/step - loss: 0.7033 - accuracy: 0.7357 - val_loss: 0.7763 - val_accuracy: 0.6941\n",
      "Epoch 3/10\n",
      "219/219 [==============================] - 5s 23ms/step - loss: 0.5151 - accuracy: 0.8092 - val_loss: 1.0025 - val_accuracy: 0.6349\n",
      "Epoch 4/10\n",
      "219/219 [==============================] - 5s 24ms/step - loss: 0.3916 - accuracy: 0.8552 - val_loss: 1.0025 - val_accuracy: 0.6399\n",
      "Epoch 5/10\n",
      "219/219 [==============================] - 5s 23ms/step - loss: 0.3161 - accuracy: 0.8852 - val_loss: 1.1773 - val_accuracy: 0.6012\n",
      "Epoch 6/10\n",
      "219/219 [==============================] - 5s 23ms/step - loss: 0.2627 - accuracy: 0.9056 - val_loss: 0.8326 - val_accuracy: 0.7423\n",
      "Epoch 7/10\n",
      "219/219 [==============================] - 5s 24ms/step - loss: 0.2189 - accuracy: 0.9207 - val_loss: 1.0255 - val_accuracy: 0.6936\n",
      "Epoch 8/10\n",
      "219/219 [==============================] - 5s 23ms/step - loss: 0.1943 - accuracy: 0.9301 - val_loss: 0.9253 - val_accuracy: 0.7212\n",
      "Epoch 9/10\n",
      "219/219 [==============================] - 5s 23ms/step - loss: 0.1621 - accuracy: 0.9428 - val_loss: 1.0226 - val_accuracy: 0.7308\n",
      "Epoch 10/10\n",
      "219/219 [==============================] - 5s 23ms/step - loss: 0.1728 - accuracy: 0.9396 - val_loss: 1.0454 - val_accuracy: 0.7288\n",
      "---mixed dense list: [1024], tabular dense list: [32, 64, 64, 32], activation: tanh---\n"
     ]
    },
    {
     "name": "stderr",
     "output_type": "stream",
     "text": [
      "WARNING:absl:At this time, the v2.11+ optimizer `tf.keras.optimizers.Adam` runs slowly on M1/M2 Macs, please use the legacy Keras optimizer instead, located at `tf.keras.optimizers.legacy.Adam`.\n",
      "WARNING:absl:There is a known slowdown when using v2.11+ Keras optimizers on M1/M2 Macs. Falling back to the legacy Keras optimizer, i.e., `tf.keras.optimizers.legacy.Adam`.\n"
     ]
    },
    {
     "name": "stdout",
     "output_type": "stream",
     "text": [
      "Epoch 1/10\n",
      "219/219 [==============================] - 5s 23ms/step - loss: 2.1470 - accuracy: 0.5685 - val_loss: 0.6973 - val_accuracy: 0.7253\n",
      "Epoch 2/10\n",
      "219/219 [==============================] - 5s 23ms/step - loss: 0.6160 - accuracy: 0.7746 - val_loss: 0.7655 - val_accuracy: 0.7137\n",
      "Epoch 3/10\n",
      "219/219 [==============================] - 5s 23ms/step - loss: 0.3957 - accuracy: 0.8583 - val_loss: 0.8813 - val_accuracy: 0.6951\n",
      "Epoch 4/10\n",
      "219/219 [==============================] - 5s 24ms/step - loss: 0.2914 - accuracy: 0.8935 - val_loss: 0.9647 - val_accuracy: 0.6796\n",
      "Epoch 5/10\n",
      "219/219 [==============================] - 5s 25ms/step - loss: 0.2332 - accuracy: 0.9162 - val_loss: 0.8234 - val_accuracy: 0.7418\n",
      "Epoch 6/10\n",
      "219/219 [==============================] - 5s 23ms/step - loss: 0.2117 - accuracy: 0.9243 - val_loss: 0.9580 - val_accuracy: 0.6921\n",
      "Epoch 7/10\n",
      "219/219 [==============================] - 5s 24ms/step - loss: 0.1555 - accuracy: 0.9461 - val_loss: 1.0095 - val_accuracy: 0.7388\n",
      "Epoch 8/10\n",
      "219/219 [==============================] - 5s 23ms/step - loss: 0.1296 - accuracy: 0.9544 - val_loss: 0.9507 - val_accuracy: 0.7519\n",
      "Epoch 9/10\n",
      "219/219 [==============================] - 5s 23ms/step - loss: 0.1236 - accuracy: 0.9574 - val_loss: 0.9977 - val_accuracy: 0.7574\n",
      "Epoch 10/10\n",
      "219/219 [==============================] - 5s 23ms/step - loss: 0.1180 - accuracy: 0.9578 - val_loss: 1.0510 - val_accuracy: 0.7423\n"
     ]
    },
    {
     "name": "stderr",
     "output_type": "stream",
     "text": [
      "WARNING:absl:At this time, the v2.11+ optimizer `tf.keras.optimizers.Adam` runs slowly on M1/M2 Macs, please use the legacy Keras optimizer instead, located at `tf.keras.optimizers.legacy.Adam`.\n"
     ]
    },
    {
     "name": "stdout",
     "output_type": "stream",
     "text": [
      "---mixed dense list: [1024, 512], tabular dense list: [32], activation: relu---\n"
     ]
    },
    {
     "name": "stderr",
     "output_type": "stream",
     "text": [
      "WARNING:absl:There is a known slowdown when using v2.11+ Keras optimizers on M1/M2 Macs. Falling back to the legacy Keras optimizer, i.e., `tf.keras.optimizers.legacy.Adam`.\n"
     ]
    },
    {
     "name": "stdout",
     "output_type": "stream",
     "text": [
      "Epoch 1/10\n",
      "219/219 [==============================] - 6s 26ms/step - loss: 2.7764 - accuracy: 0.4924 - val_loss: 0.9862 - val_accuracy: 0.6007\n",
      "Epoch 2/10\n",
      "219/219 [==============================] - 6s 25ms/step - loss: 0.7449 - accuracy: 0.7211 - val_loss: 0.9939 - val_accuracy: 0.6022\n",
      "Epoch 3/10\n",
      "219/219 [==============================] - 6s 26ms/step - loss: 0.5444 - accuracy: 0.7959 - val_loss: 0.7683 - val_accuracy: 0.7097\n",
      "Epoch 4/10\n",
      "219/219 [==============================] - 5s 25ms/step - loss: 0.4260 - accuracy: 0.8413 - val_loss: 0.9332 - val_accuracy: 0.6705\n",
      "Epoch 5/10\n",
      "219/219 [==============================] - 6s 25ms/step - loss: 0.3438 - accuracy: 0.8717 - val_loss: 0.9201 - val_accuracy: 0.6570\n",
      "Epoch 6/10\n",
      "219/219 [==============================] - 6s 25ms/step - loss: 0.2930 - accuracy: 0.8917 - val_loss: 0.9108 - val_accuracy: 0.7007\n",
      "Epoch 7/10\n",
      "219/219 [==============================] - 6s 26ms/step - loss: 0.2529 - accuracy: 0.9079 - val_loss: 1.0330 - val_accuracy: 0.6685\n",
      "Epoch 8/10\n",
      "219/219 [==============================] - 6s 26ms/step - loss: 0.2213 - accuracy: 0.9201 - val_loss: 1.2197 - val_accuracy: 0.6283\n",
      "Epoch 9/10\n",
      "219/219 [==============================] - 6s 27ms/step - loss: 0.1999 - accuracy: 0.9284 - val_loss: 1.0291 - val_accuracy: 0.6901\n",
      "Epoch 10/10\n",
      "219/219 [==============================] - 6s 26ms/step - loss: 0.1823 - accuracy: 0.9334 - val_loss: 1.1142 - val_accuracy: 0.6891\n"
     ]
    },
    {
     "name": "stderr",
     "output_type": "stream",
     "text": [
      "WARNING:absl:At this time, the v2.11+ optimizer `tf.keras.optimizers.Adam` runs slowly on M1/M2 Macs, please use the legacy Keras optimizer instead, located at `tf.keras.optimizers.legacy.Adam`.\n",
      "WARNING:absl:There is a known slowdown when using v2.11+ Keras optimizers on M1/M2 Macs. Falling back to the legacy Keras optimizer, i.e., `tf.keras.optimizers.legacy.Adam`.\n"
     ]
    },
    {
     "name": "stdout",
     "output_type": "stream",
     "text": [
      "---mixed dense list: [1024, 512], tabular dense list: [32], activation: tanh---\n",
      "Epoch 1/10\n",
      "219/219 [==============================] - 6s 27ms/step - loss: 3.3738 - accuracy: 0.4848 - val_loss: 0.9243 - val_accuracy: 0.6615\n",
      "Epoch 2/10\n",
      "219/219 [==============================] - 6s 27ms/step - loss: 0.7856 - accuracy: 0.7063 - val_loss: 0.8479 - val_accuracy: 0.6836\n",
      "Epoch 3/10\n",
      "219/219 [==============================] - 6s 26ms/step - loss: 0.5855 - accuracy: 0.7846 - val_loss: 0.9049 - val_accuracy: 0.6615\n",
      "Epoch 4/10\n",
      "219/219 [==============================] - 6s 27ms/step - loss: 0.4587 - accuracy: 0.8303 - val_loss: 0.8867 - val_accuracy: 0.6916\n",
      "Epoch 5/10\n",
      "219/219 [==============================] - 6s 26ms/step - loss: 0.3701 - accuracy: 0.8645 - val_loss: 1.0967 - val_accuracy: 0.6318\n",
      "Epoch 6/10\n",
      "219/219 [==============================] - 6s 27ms/step - loss: 0.2932 - accuracy: 0.8927 - val_loss: 0.9893 - val_accuracy: 0.7127\n",
      "Epoch 7/10\n",
      "219/219 [==============================] - 6s 27ms/step - loss: 0.2530 - accuracy: 0.9080 - val_loss: 0.9453 - val_accuracy: 0.7162\n",
      "Epoch 8/10\n",
      "219/219 [==============================] - 6s 26ms/step - loss: 0.2079 - accuracy: 0.9242 - val_loss: 1.0375 - val_accuracy: 0.6956\n",
      "Epoch 9/10\n",
      "219/219 [==============================] - 6s 26ms/step - loss: 0.1951 - accuracy: 0.9305 - val_loss: 1.0202 - val_accuracy: 0.7212\n",
      "Epoch 10/10\n",
      "219/219 [==============================] - 6s 26ms/step - loss: 0.1691 - accuracy: 0.9403 - val_loss: 1.0981 - val_accuracy: 0.7057\n"
     ]
    },
    {
     "name": "stderr",
     "output_type": "stream",
     "text": [
      "WARNING:absl:At this time, the v2.11+ optimizer `tf.keras.optimizers.Adam` runs slowly on M1/M2 Macs, please use the legacy Keras optimizer instead, located at `tf.keras.optimizers.legacy.Adam`.\n",
      "WARNING:absl:There is a known slowdown when using v2.11+ Keras optimizers on M1/M2 Macs. Falling back to the legacy Keras optimizer, i.e., `tf.keras.optimizers.legacy.Adam`.\n"
     ]
    },
    {
     "name": "stdout",
     "output_type": "stream",
     "text": [
      "---mixed dense list: [1024, 512], tabular dense list: [32, 64], activation: relu---\n",
      "Epoch 1/10\n",
      "219/219 [==============================] - 6s 26ms/step - loss: 2.6372 - accuracy: 0.4962 - val_loss: 0.9052 - val_accuracy: 0.6655\n",
      "Epoch 2/10\n",
      "219/219 [==============================] - 6s 26ms/step - loss: 0.6674 - accuracy: 0.7509 - val_loss: 0.9867 - val_accuracy: 0.6469\n",
      "Epoch 3/10\n",
      "219/219 [==============================] - 6s 26ms/step - loss: 0.4646 - accuracy: 0.8269 - val_loss: 0.8417 - val_accuracy: 0.6986\n",
      "Epoch 4/10\n",
      "219/219 [==============================] - 6s 26ms/step - loss: 0.3634 - accuracy: 0.8645 - val_loss: 0.9374 - val_accuracy: 0.6971\n",
      "Epoch 5/10\n",
      "219/219 [==============================] - 6s 26ms/step - loss: 0.2874 - accuracy: 0.8964 - val_loss: 0.9559 - val_accuracy: 0.7117\n",
      "Epoch 6/10\n",
      "219/219 [==============================] - 6s 26ms/step - loss: 0.2213 - accuracy: 0.9185 - val_loss: 1.0153 - val_accuracy: 0.7132\n",
      "Epoch 7/10\n",
      "219/219 [==============================] - 6s 25ms/step - loss: 0.2103 - accuracy: 0.9240 - val_loss: 1.0737 - val_accuracy: 0.7077\n",
      "Epoch 8/10\n",
      "219/219 [==============================] - 6s 26ms/step - loss: 0.1650 - accuracy: 0.9421 - val_loss: 1.0882 - val_accuracy: 0.7202\n",
      "Epoch 9/10\n",
      "219/219 [==============================] - 6s 26ms/step - loss: 0.1511 - accuracy: 0.9466 - val_loss: 1.0177 - val_accuracy: 0.7373\n",
      "Epoch 10/10\n",
      "219/219 [==============================] - 6s 27ms/step - loss: 0.1439 - accuracy: 0.9485 - val_loss: 1.0357 - val_accuracy: 0.7353\n",
      "---mixed dense list: [1024, 512], tabular dense list: [32, 64], activation: tanh---\n"
     ]
    },
    {
     "name": "stderr",
     "output_type": "stream",
     "text": [
      "WARNING:absl:At this time, the v2.11+ optimizer `tf.keras.optimizers.Adam` runs slowly on M1/M2 Macs, please use the legacy Keras optimizer instead, located at `tf.keras.optimizers.legacy.Adam`.\n",
      "WARNING:absl:There is a known slowdown when using v2.11+ Keras optimizers on M1/M2 Macs. Falling back to the legacy Keras optimizer, i.e., `tf.keras.optimizers.legacy.Adam`.\n"
     ]
    },
    {
     "name": "stdout",
     "output_type": "stream",
     "text": [
      "Epoch 1/10\n",
      "219/219 [==============================] - 6s 26ms/step - loss: 2.9554 - accuracy: 0.5057 - val_loss: 1.1830 - val_accuracy: 0.5510\n",
      "Epoch 2/10\n",
      "219/219 [==============================] - 6s 26ms/step - loss: 0.7493 - accuracy: 0.7142 - val_loss: 0.7967 - val_accuracy: 0.7102\n",
      "Epoch 3/10\n",
      "219/219 [==============================] - 6s 26ms/step - loss: 0.5542 - accuracy: 0.7904 - val_loss: 0.9724 - val_accuracy: 0.6539\n",
      "Epoch 4/10\n",
      "219/219 [==============================] - 6s 26ms/step - loss: 0.4262 - accuracy: 0.8423 - val_loss: 0.8611 - val_accuracy: 0.6821\n",
      "Epoch 5/10\n",
      "219/219 [==============================] - 6s 26ms/step - loss: 0.3269 - accuracy: 0.8795 - val_loss: 0.8794 - val_accuracy: 0.7017\n",
      "Epoch 6/10\n",
      "219/219 [==============================] - 6s 26ms/step - loss: 0.2656 - accuracy: 0.9029 - val_loss: 1.1474 - val_accuracy: 0.6565\n",
      "Epoch 7/10\n",
      "219/219 [==============================] - 6s 26ms/step - loss: 0.2158 - accuracy: 0.9222 - val_loss: 0.9112 - val_accuracy: 0.7363\n",
      "Epoch 8/10\n",
      "219/219 [==============================] - 6s 26ms/step - loss: 0.1890 - accuracy: 0.9325 - val_loss: 1.0257 - val_accuracy: 0.7127\n",
      "Epoch 9/10\n",
      "219/219 [==============================] - 6s 26ms/step - loss: 0.1544 - accuracy: 0.9438 - val_loss: 0.9792 - val_accuracy: 0.7438\n",
      "Epoch 10/10\n",
      "219/219 [==============================] - 6s 25ms/step - loss: 0.1597 - accuracy: 0.9423 - val_loss: 1.0172 - val_accuracy: 0.7243\n",
      "---mixed dense list: [1024, 512], tabular dense list: [32, 64, 64], activation: relu---\n"
     ]
    },
    {
     "name": "stderr",
     "output_type": "stream",
     "text": [
      "WARNING:absl:At this time, the v2.11+ optimizer `tf.keras.optimizers.Adam` runs slowly on M1/M2 Macs, please use the legacy Keras optimizer instead, located at `tf.keras.optimizers.legacy.Adam`.\n",
      "WARNING:absl:There is a known slowdown when using v2.11+ Keras optimizers on M1/M2 Macs. Falling back to the legacy Keras optimizer, i.e., `tf.keras.optimizers.legacy.Adam`.\n"
     ]
    },
    {
     "name": "stdout",
     "output_type": "stream",
     "text": [
      "Epoch 1/10\n",
      "219/219 [==============================] - 6s 26ms/step - loss: 1.8617 - accuracy: 0.5124 - val_loss: 0.9769 - val_accuracy: 0.6469\n",
      "Epoch 2/10\n",
      "219/219 [==============================] - 6s 26ms/step - loss: 0.6719 - accuracy: 0.7463 - val_loss: 0.8444 - val_accuracy: 0.6976\n",
      "Epoch 3/10\n",
      "219/219 [==============================] - 6s 25ms/step - loss: 0.4409 - accuracy: 0.8340 - val_loss: 0.8631 - val_accuracy: 0.7172\n",
      "Epoch 4/10\n",
      "219/219 [==============================] - 6s 26ms/step - loss: 0.3324 - accuracy: 0.8768 - val_loss: 1.0787 - val_accuracy: 0.6313\n",
      "Epoch 5/10\n",
      "219/219 [==============================] - 6s 26ms/step - loss: 0.2744 - accuracy: 0.9022 - val_loss: 0.9628 - val_accuracy: 0.7022\n",
      "Epoch 6/10\n",
      "219/219 [==============================] - 6s 26ms/step - loss: 0.2188 - accuracy: 0.9216 - val_loss: 0.9629 - val_accuracy: 0.7187\n",
      "Epoch 7/10\n",
      "219/219 [==============================] - 6s 26ms/step - loss: 0.1963 - accuracy: 0.9293 - val_loss: 1.0515 - val_accuracy: 0.7007\n",
      "Epoch 8/10\n",
      "219/219 [==============================] - 6s 27ms/step - loss: 0.1567 - accuracy: 0.9442 - val_loss: 1.1242 - val_accuracy: 0.6941\n",
      "Epoch 9/10\n",
      "219/219 [==============================] - 6s 28ms/step - loss: 0.1502 - accuracy: 0.9474 - val_loss: 1.0015 - val_accuracy: 0.7449\n",
      "Epoch 10/10\n",
      "219/219 [==============================] - 6s 27ms/step - loss: 0.1412 - accuracy: 0.9513 - val_loss: 1.1980 - val_accuracy: 0.6740\n"
     ]
    },
    {
     "name": "stderr",
     "output_type": "stream",
     "text": [
      "WARNING:absl:At this time, the v2.11+ optimizer `tf.keras.optimizers.Adam` runs slowly on M1/M2 Macs, please use the legacy Keras optimizer instead, located at `tf.keras.optimizers.legacy.Adam`.\n",
      "WARNING:absl:There is a known slowdown when using v2.11+ Keras optimizers on M1/M2 Macs. Falling back to the legacy Keras optimizer, i.e., `tf.keras.optimizers.legacy.Adam`.\n"
     ]
    },
    {
     "name": "stdout",
     "output_type": "stream",
     "text": [
      "---mixed dense list: [1024, 512], tabular dense list: [32, 64, 64], activation: tanh---\n",
      "Epoch 1/10\n",
      "219/219 [==============================] - 6s 26ms/step - loss: 2.4719 - accuracy: 0.5318 - val_loss: 0.8366 - val_accuracy: 0.6730\n",
      "Epoch 2/10\n",
      "219/219 [==============================] - 6s 26ms/step - loss: 0.6688 - accuracy: 0.7501 - val_loss: 0.9079 - val_accuracy: 0.6750\n",
      "Epoch 3/10\n",
      "219/219 [==============================] - 6s 26ms/step - loss: 0.4375 - accuracy: 0.8385 - val_loss: 0.8376 - val_accuracy: 0.6981\n",
      "Epoch 4/10\n",
      "219/219 [==============================] - 6s 26ms/step - loss: 0.3230 - accuracy: 0.8826 - val_loss: 0.8520 - val_accuracy: 0.7283\n",
      "Epoch 5/10\n",
      "219/219 [==============================] - 6s 26ms/step - loss: 0.2561 - accuracy: 0.9081 - val_loss: 0.9868 - val_accuracy: 0.7042\n",
      "Epoch 6/10\n",
      "219/219 [==============================] - 6s 26ms/step - loss: 0.2103 - accuracy: 0.9241 - val_loss: 0.9361 - val_accuracy: 0.7313\n",
      "Epoch 7/10\n",
      "219/219 [==============================] - 6s 25ms/step - loss: 0.1738 - accuracy: 0.9400 - val_loss: 1.1235 - val_accuracy: 0.6921\n",
      "Epoch 8/10\n",
      "219/219 [==============================] - 6s 26ms/step - loss: 0.1585 - accuracy: 0.9441 - val_loss: 1.0248 - val_accuracy: 0.7092\n",
      "Epoch 9/10\n",
      "219/219 [==============================] - 6s 25ms/step - loss: 0.1527 - accuracy: 0.9465 - val_loss: 1.0246 - val_accuracy: 0.7474\n",
      "Epoch 10/10\n",
      "219/219 [==============================] - 6s 25ms/step - loss: 0.1031 - accuracy: 0.9645 - val_loss: 1.1549 - val_accuracy: 0.7172\n",
      "---mixed dense list: [1024, 512], tabular dense list: [32, 64, 64, 32], activation: relu---\n"
     ]
    },
    {
     "name": "stderr",
     "output_type": "stream",
     "text": [
      "WARNING:absl:At this time, the v2.11+ optimizer `tf.keras.optimizers.Adam` runs slowly on M1/M2 Macs, please use the legacy Keras optimizer instead, located at `tf.keras.optimizers.legacy.Adam`.\n",
      "WARNING:absl:There is a known slowdown when using v2.11+ Keras optimizers on M1/M2 Macs. Falling back to the legacy Keras optimizer, i.e., `tf.keras.optimizers.legacy.Adam`.\n"
     ]
    },
    {
     "name": "stdout",
     "output_type": "stream",
     "text": [
      "Epoch 1/10\n",
      "219/219 [==============================] - 6s 26ms/step - loss: 2.4652 - accuracy: 0.5127 - val_loss: 0.8822 - val_accuracy: 0.6585\n",
      "Epoch 2/10\n",
      "219/219 [==============================] - 5s 25ms/step - loss: 0.6800 - accuracy: 0.7407 - val_loss: 0.8481 - val_accuracy: 0.6801\n",
      "Epoch 3/10\n",
      "219/219 [==============================] - 5s 25ms/step - loss: 0.4813 - accuracy: 0.8212 - val_loss: 0.9128 - val_accuracy: 0.6685\n",
      "Epoch 4/10\n",
      "219/219 [==============================] - 6s 25ms/step - loss: 0.3775 - accuracy: 0.8623 - val_loss: 0.9564 - val_accuracy: 0.6786\n",
      "Epoch 5/10\n",
      "219/219 [==============================] - 5s 25ms/step - loss: 0.2746 - accuracy: 0.8994 - val_loss: 0.9086 - val_accuracy: 0.7082\n",
      "Epoch 6/10\n",
      "219/219 [==============================] - 5s 25ms/step - loss: 0.2487 - accuracy: 0.9096 - val_loss: 1.0256 - val_accuracy: 0.7248\n",
      "Epoch 7/10\n",
      "219/219 [==============================] - 5s 25ms/step - loss: 0.2174 - accuracy: 0.9214 - val_loss: 1.0057 - val_accuracy: 0.7273\n",
      "Epoch 8/10\n",
      "219/219 [==============================] - 5s 25ms/step - loss: 0.1860 - accuracy: 0.9332 - val_loss: 0.9211 - val_accuracy: 0.7559\n",
      "Epoch 9/10\n",
      "219/219 [==============================] - 5s 25ms/step - loss: 0.1443 - accuracy: 0.9489 - val_loss: 1.0088 - val_accuracy: 0.7589\n",
      "Epoch 10/10\n",
      "219/219 [==============================] - 6s 25ms/step - loss: 0.1577 - accuracy: 0.9445 - val_loss: 1.1298 - val_accuracy: 0.7308\n",
      "---mixed dense list: [1024, 512], tabular dense list: [32, 64, 64, 32], activation: tanh---\n"
     ]
    },
    {
     "name": "stderr",
     "output_type": "stream",
     "text": [
      "WARNING:absl:At this time, the v2.11+ optimizer `tf.keras.optimizers.Adam` runs slowly on M1/M2 Macs, please use the legacy Keras optimizer instead, located at `tf.keras.optimizers.legacy.Adam`.\n",
      "WARNING:absl:There is a known slowdown when using v2.11+ Keras optimizers on M1/M2 Macs. Falling back to the legacy Keras optimizer, i.e., `tf.keras.optimizers.legacy.Adam`.\n"
     ]
    },
    {
     "name": "stdout",
     "output_type": "stream",
     "text": [
      "Epoch 1/10\n",
      "219/219 [==============================] - 6s 25ms/step - loss: 2.6519 - accuracy: 0.5173 - val_loss: 0.9258 - val_accuracy: 0.6419\n",
      "Epoch 2/10\n",
      "219/219 [==============================] - 6s 25ms/step - loss: 0.6998 - accuracy: 0.7358 - val_loss: 0.8876 - val_accuracy: 0.6610\n",
      "Epoch 3/10\n",
      "219/219 [==============================] - 6s 26ms/step - loss: 0.5069 - accuracy: 0.8102 - val_loss: 1.0261 - val_accuracy: 0.6238\n",
      "Epoch 4/10\n",
      "219/219 [==============================] - 5s 25ms/step - loss: 0.3659 - accuracy: 0.8658 - val_loss: 0.8635 - val_accuracy: 0.7162\n",
      "Epoch 5/10\n",
      "219/219 [==============================] - 5s 25ms/step - loss: 0.3119 - accuracy: 0.8836 - val_loss: 0.8256 - val_accuracy: 0.7243\n",
      "Epoch 6/10\n",
      "219/219 [==============================] - 5s 25ms/step - loss: 0.2491 - accuracy: 0.9069 - val_loss: 1.0374 - val_accuracy: 0.6786\n",
      "Epoch 7/10\n",
      "219/219 [==============================] - 5s 24ms/step - loss: 0.2116 - accuracy: 0.9233 - val_loss: 0.9866 - val_accuracy: 0.7007\n",
      "Epoch 8/10\n",
      "219/219 [==============================] - 5s 24ms/step - loss: 0.1873 - accuracy: 0.9307 - val_loss: 1.0350 - val_accuracy: 0.6936\n",
      "Epoch 9/10\n",
      "219/219 [==============================] - 6s 25ms/step - loss: 0.1526 - accuracy: 0.9440 - val_loss: 1.0546 - val_accuracy: 0.7107\n",
      "Epoch 10/10\n",
      "219/219 [==============================] - 5s 25ms/step - loss: 0.1586 - accuracy: 0.9439 - val_loss: 1.0306 - val_accuracy: 0.7494\n",
      "---mixed dense list: [1024, 512, 256], tabular dense list: [32], activation: relu---\n"
     ]
    },
    {
     "name": "stderr",
     "output_type": "stream",
     "text": [
      "WARNING:absl:At this time, the v2.11+ optimizer `tf.keras.optimizers.Adam` runs slowly on M1/M2 Macs, please use the legacy Keras optimizer instead, located at `tf.keras.optimizers.legacy.Adam`.\n",
      "WARNING:absl:There is a known slowdown when using v2.11+ Keras optimizers on M1/M2 Macs. Falling back to the legacy Keras optimizer, i.e., `tf.keras.optimizers.legacy.Adam`.\n"
     ]
    },
    {
     "name": "stdout",
     "output_type": "stream",
     "text": [
      "Epoch 1/10\n",
      "219/219 [==============================] - 6s 26ms/step - loss: 2.3341 - accuracy: 0.4472 - val_loss: 0.9700 - val_accuracy: 0.6072\n",
      "Epoch 2/10\n",
      "219/219 [==============================] - 6s 26ms/step - loss: 0.8212 - accuracy: 0.6896 - val_loss: 0.8817 - val_accuracy: 0.6610\n",
      "Epoch 3/10\n",
      "219/219 [==============================] - 6s 25ms/step - loss: 0.6215 - accuracy: 0.7650 - val_loss: 0.8960 - val_accuracy: 0.6534\n",
      "Epoch 4/10\n",
      "219/219 [==============================] - 6s 26ms/step - loss: 0.4664 - accuracy: 0.8238 - val_loss: 0.8314 - val_accuracy: 0.7012\n",
      "Epoch 5/10\n",
      "219/219 [==============================] - 6s 25ms/step - loss: 0.3891 - accuracy: 0.8542 - val_loss: 0.8663 - val_accuracy: 0.7278\n",
      "Epoch 6/10\n",
      "219/219 [==============================] - 6s 26ms/step - loss: 0.3173 - accuracy: 0.8849 - val_loss: 0.7960 - val_accuracy: 0.7459\n",
      "Epoch 7/10\n",
      "219/219 [==============================] - 6s 26ms/step - loss: 0.2654 - accuracy: 0.9007 - val_loss: 0.9052 - val_accuracy: 0.7167\n",
      "Epoch 8/10\n",
      "219/219 [==============================] - 6s 25ms/step - loss: 0.2306 - accuracy: 0.9161 - val_loss: 0.9136 - val_accuracy: 0.7197\n",
      "Epoch 9/10\n",
      "219/219 [==============================] - 6s 26ms/step - loss: 0.1995 - accuracy: 0.9276 - val_loss: 0.9640 - val_accuracy: 0.7007\n",
      "Epoch 10/10\n",
      "219/219 [==============================] - 6s 26ms/step - loss: 0.1949 - accuracy: 0.9307 - val_loss: 1.0534 - val_accuracy: 0.6986\n",
      "---mixed dense list: [1024, 512, 256], tabular dense list: [32], activation: tanh---\n"
     ]
    },
    {
     "name": "stderr",
     "output_type": "stream",
     "text": [
      "WARNING:absl:At this time, the v2.11+ optimizer `tf.keras.optimizers.Adam` runs slowly on M1/M2 Macs, please use the legacy Keras optimizer instead, located at `tf.keras.optimizers.legacy.Adam`.\n",
      "WARNING:absl:There is a known slowdown when using v2.11+ Keras optimizers on M1/M2 Macs. Falling back to the legacy Keras optimizer, i.e., `tf.keras.optimizers.legacy.Adam`.\n"
     ]
    },
    {
     "name": "stdout",
     "output_type": "stream",
     "text": [
      "Epoch 1/10\n",
      "219/219 [==============================] - 6s 25ms/step - loss: 2.1566 - accuracy: 0.4928 - val_loss: 0.7898 - val_accuracy: 0.7017\n",
      "Epoch 2/10\n",
      "219/219 [==============================] - 5s 24ms/step - loss: 0.7578 - accuracy: 0.7152 - val_loss: 0.7979 - val_accuracy: 0.7027\n",
      "Epoch 3/10\n",
      "219/219 [==============================] - 6s 26ms/step - loss: 0.5424 - accuracy: 0.7967 - val_loss: 0.7933 - val_accuracy: 0.7122\n",
      "Epoch 4/10\n",
      "219/219 [==============================] - 5s 25ms/step - loss: 0.4350 - accuracy: 0.8404 - val_loss: 1.0734 - val_accuracy: 0.6278\n",
      "Epoch 5/10\n",
      "219/219 [==============================] - 5s 25ms/step - loss: 0.3485 - accuracy: 0.8725 - val_loss: 0.8915 - val_accuracy: 0.7147\n",
      "Epoch 6/10\n",
      "219/219 [==============================] - 6s 26ms/step - loss: 0.2560 - accuracy: 0.9067 - val_loss: 1.0341 - val_accuracy: 0.6961\n",
      "Epoch 7/10\n",
      "219/219 [==============================] - 5s 25ms/step - loss: 0.2533 - accuracy: 0.9080 - val_loss: 0.9921 - val_accuracy: 0.7077\n",
      "Epoch 8/10\n",
      "219/219 [==============================] - 5s 25ms/step - loss: 0.2075 - accuracy: 0.9265 - val_loss: 0.9830 - val_accuracy: 0.6976\n",
      "Epoch 9/10\n",
      "219/219 [==============================] - 6s 25ms/step - loss: 0.1728 - accuracy: 0.9398 - val_loss: 0.9558 - val_accuracy: 0.7368\n",
      "Epoch 10/10\n",
      "219/219 [==============================] - 5s 25ms/step - loss: 0.1540 - accuracy: 0.9455 - val_loss: 0.9330 - val_accuracy: 0.7459\n",
      "---mixed dense list: [1024, 512, 256], tabular dense list: [32, 64], activation: relu---\n"
     ]
    },
    {
     "name": "stderr",
     "output_type": "stream",
     "text": [
      "WARNING:absl:At this time, the v2.11+ optimizer `tf.keras.optimizers.Adam` runs slowly on M1/M2 Macs, please use the legacy Keras optimizer instead, located at `tf.keras.optimizers.legacy.Adam`.\n",
      "WARNING:absl:There is a known slowdown when using v2.11+ Keras optimizers on M1/M2 Macs. Falling back to the legacy Keras optimizer, i.e., `tf.keras.optimizers.legacy.Adam`.\n"
     ]
    },
    {
     "name": "stdout",
     "output_type": "stream",
     "text": [
      "Epoch 1/10\n",
      "219/219 [==============================] - 6s 26ms/step - loss: 1.7962 - accuracy: 0.5019 - val_loss: 0.8948 - val_accuracy: 0.6560\n",
      "Epoch 2/10\n",
      "219/219 [==============================] - 6s 26ms/step - loss: 0.7025 - accuracy: 0.7355 - val_loss: 0.8613 - val_accuracy: 0.6796\n",
      "Epoch 3/10\n",
      "219/219 [==============================] - 6s 25ms/step - loss: 0.5128 - accuracy: 0.8071 - val_loss: 0.9967 - val_accuracy: 0.6318\n",
      "Epoch 4/10\n",
      "219/219 [==============================] - 6s 26ms/step - loss: 0.3944 - accuracy: 0.8551 - val_loss: 0.8119 - val_accuracy: 0.7288\n",
      "Epoch 5/10\n",
      "219/219 [==============================] - 6s 25ms/step - loss: 0.3191 - accuracy: 0.8817 - val_loss: 1.0401 - val_accuracy: 0.6449\n",
      "Epoch 6/10\n",
      "219/219 [==============================] - 6s 25ms/step - loss: 0.2608 - accuracy: 0.9048 - val_loss: 0.9759 - val_accuracy: 0.6881\n",
      "Epoch 7/10\n",
      "219/219 [==============================] - 6s 26ms/step - loss: 0.2245 - accuracy: 0.9184 - val_loss: 0.9681 - val_accuracy: 0.7137\n",
      "Epoch 8/10\n",
      "219/219 [==============================] - 5s 25ms/step - loss: 0.1849 - accuracy: 0.9322 - val_loss: 1.1215 - val_accuracy: 0.6720\n",
      "Epoch 9/10\n",
      "219/219 [==============================] - 5s 25ms/step - loss: 0.1755 - accuracy: 0.9372 - val_loss: 1.1034 - val_accuracy: 0.7092\n",
      "Epoch 10/10\n",
      "219/219 [==============================] - 6s 26ms/step - loss: 0.1459 - accuracy: 0.9481 - val_loss: 1.1589 - val_accuracy: 0.6931\n",
      "---mixed dense list: [1024, 512, 256], tabular dense list: [32, 64], activation: tanh---\n"
     ]
    },
    {
     "name": "stderr",
     "output_type": "stream",
     "text": [
      "WARNING:absl:At this time, the v2.11+ optimizer `tf.keras.optimizers.Adam` runs slowly on M1/M2 Macs, please use the legacy Keras optimizer instead, located at `tf.keras.optimizers.legacy.Adam`.\n",
      "WARNING:absl:There is a known slowdown when using v2.11+ Keras optimizers on M1/M2 Macs. Falling back to the legacy Keras optimizer, i.e., `tf.keras.optimizers.legacy.Adam`.\n"
     ]
    },
    {
     "name": "stdout",
     "output_type": "stream",
     "text": [
      "Epoch 1/10\n",
      "219/219 [==============================] - 6s 26ms/step - loss: 1.8761 - accuracy: 0.5267 - val_loss: 0.8404 - val_accuracy: 0.6645\n",
      "Epoch 2/10\n",
      "219/219 [==============================] - 6s 25ms/step - loss: 0.6526 - accuracy: 0.7556 - val_loss: 0.8113 - val_accuracy: 0.7012\n",
      "Epoch 3/10\n",
      "219/219 [==============================] - 6s 26ms/step - loss: 0.4333 - accuracy: 0.8408 - val_loss: 0.9446 - val_accuracy: 0.6801\n",
      "Epoch 4/10\n",
      "219/219 [==============================] - 6s 25ms/step - loss: 0.3462 - accuracy: 0.8725 - val_loss: 1.0442 - val_accuracy: 0.6349\n",
      "Epoch 5/10\n",
      "219/219 [==============================] - 6s 25ms/step - loss: 0.2601 - accuracy: 0.9040 - val_loss: 1.0253 - val_accuracy: 0.7037\n",
      "Epoch 6/10\n",
      "219/219 [==============================] - 6s 26ms/step - loss: 0.2158 - accuracy: 0.9224 - val_loss: 0.9573 - val_accuracy: 0.7333\n",
      "Epoch 7/10\n",
      "219/219 [==============================] - 6s 25ms/step - loss: 0.1761 - accuracy: 0.9363 - val_loss: 0.9604 - val_accuracy: 0.7524\n",
      "Epoch 8/10\n",
      "219/219 [==============================] - 6s 26ms/step - loss: 0.1807 - accuracy: 0.9357 - val_loss: 0.9430 - val_accuracy: 0.7207\n",
      "Epoch 9/10\n",
      "219/219 [==============================] - 6s 26ms/step - loss: 0.1340 - accuracy: 0.9511 - val_loss: 1.0564 - val_accuracy: 0.7393\n",
      "Epoch 10/10\n",
      "219/219 [==============================] - 6s 25ms/step - loss: 0.1427 - accuracy: 0.9502 - val_loss: 1.2258 - val_accuracy: 0.7122\n",
      "---mixed dense list: [1024, 512, 256], tabular dense list: [32, 64, 64], activation: relu---\n"
     ]
    },
    {
     "name": "stderr",
     "output_type": "stream",
     "text": [
      "WARNING:absl:At this time, the v2.11+ optimizer `tf.keras.optimizers.Adam` runs slowly on M1/M2 Macs, please use the legacy Keras optimizer instead, located at `tf.keras.optimizers.legacy.Adam`.\n",
      "WARNING:absl:There is a known slowdown when using v2.11+ Keras optimizers on M1/M2 Macs. Falling back to the legacy Keras optimizer, i.e., `tf.keras.optimizers.legacy.Adam`.\n"
     ]
    },
    {
     "name": "stdout",
     "output_type": "stream",
     "text": [
      "Epoch 1/10\n",
      "219/219 [==============================] - 6s 26ms/step - loss: 2.3694 - accuracy: 0.4434 - val_loss: 1.2395 - val_accuracy: 0.5279\n",
      "Epoch 2/10\n",
      "219/219 [==============================] - 6s 26ms/step - loss: 0.7994 - accuracy: 0.6940 - val_loss: 0.8408 - val_accuracy: 0.6966\n",
      "Epoch 3/10\n",
      "219/219 [==============================] - 6s 26ms/step - loss: 0.5945 - accuracy: 0.7764 - val_loss: 1.0190 - val_accuracy: 0.6072\n",
      "Epoch 4/10\n",
      "219/219 [==============================] - 6s 26ms/step - loss: 0.4559 - accuracy: 0.8296 - val_loss: 0.9209 - val_accuracy: 0.6725\n",
      "Epoch 5/10\n",
      "219/219 [==============================] - 6s 26ms/step - loss: 0.3734 - accuracy: 0.8614 - val_loss: 0.9726 - val_accuracy: 0.6700\n",
      "Epoch 6/10\n",
      "219/219 [==============================] - 6s 25ms/step - loss: 0.3025 - accuracy: 0.8883 - val_loss: 0.9699 - val_accuracy: 0.7017\n",
      "Epoch 7/10\n",
      "219/219 [==============================] - 6s 27ms/step - loss: 0.2548 - accuracy: 0.9067 - val_loss: 0.8898 - val_accuracy: 0.7443\n",
      "Epoch 8/10\n",
      "219/219 [==============================] - 6s 26ms/step - loss: 0.2059 - accuracy: 0.9230 - val_loss: 0.9570 - val_accuracy: 0.7147\n",
      "Epoch 9/10\n",
      "219/219 [==============================] - 6s 26ms/step - loss: 0.1946 - accuracy: 0.9303 - val_loss: 1.0493 - val_accuracy: 0.7032\n",
      "Epoch 10/10\n",
      "219/219 [==============================] - 6s 27ms/step - loss: 0.1740 - accuracy: 0.9362 - val_loss: 1.0293 - val_accuracy: 0.7499\n",
      "---mixed dense list: [1024, 512, 256], tabular dense list: [32, 64, 64], activation: tanh---\n"
     ]
    },
    {
     "name": "stderr",
     "output_type": "stream",
     "text": [
      "WARNING:absl:At this time, the v2.11+ optimizer `tf.keras.optimizers.Adam` runs slowly on M1/M2 Macs, please use the legacy Keras optimizer instead, located at `tf.keras.optimizers.legacy.Adam`.\n",
      "WARNING:absl:There is a known slowdown when using v2.11+ Keras optimizers on M1/M2 Macs. Falling back to the legacy Keras optimizer, i.e., `tf.keras.optimizers.legacy.Adam`.\n"
     ]
    },
    {
     "name": "stdout",
     "output_type": "stream",
     "text": [
      "Epoch 1/10\n",
      "219/219 [==============================] - 6s 26ms/step - loss: 1.8172 - accuracy: 0.5330 - val_loss: 1.1156 - val_accuracy: 0.5912\n",
      "Epoch 2/10\n",
      "219/219 [==============================] - 6s 25ms/step - loss: 0.6322 - accuracy: 0.7647 - val_loss: 0.7778 - val_accuracy: 0.7117\n",
      "Epoch 3/10\n",
      "219/219 [==============================] - 6s 26ms/step - loss: 0.4403 - accuracy: 0.8364 - val_loss: 0.8681 - val_accuracy: 0.7217\n",
      "Epoch 4/10\n",
      "219/219 [==============================] - 6s 25ms/step - loss: 0.3160 - accuracy: 0.8848 - val_loss: 0.9698 - val_accuracy: 0.6831\n",
      "Epoch 5/10\n",
      "219/219 [==============================] - 6s 26ms/step - loss: 0.2527 - accuracy: 0.9078 - val_loss: 0.9200 - val_accuracy: 0.7293\n",
      "Epoch 6/10\n",
      "219/219 [==============================] - 6s 26ms/step - loss: 0.2103 - accuracy: 0.9256 - val_loss: 1.0439 - val_accuracy: 0.7002\n",
      "Epoch 7/10\n",
      "219/219 [==============================] - 6s 25ms/step - loss: 0.1887 - accuracy: 0.9324 - val_loss: 1.0330 - val_accuracy: 0.7132\n",
      "Epoch 8/10\n",
      "219/219 [==============================] - 6s 26ms/step - loss: 0.1618 - accuracy: 0.9420 - val_loss: 0.9986 - val_accuracy: 0.7454\n",
      "Epoch 9/10\n",
      "219/219 [==============================] - 6s 26ms/step - loss: 0.1368 - accuracy: 0.9531 - val_loss: 0.9666 - val_accuracy: 0.7604\n",
      "Epoch 10/10\n",
      "219/219 [==============================] - 6s 26ms/step - loss: 0.1158 - accuracy: 0.9601 - val_loss: 1.0701 - val_accuracy: 0.7544\n",
      "---mixed dense list: [1024, 512, 256], tabular dense list: [32, 64, 64, 32], activation: relu---\n"
     ]
    },
    {
     "name": "stderr",
     "output_type": "stream",
     "text": [
      "WARNING:absl:At this time, the v2.11+ optimizer `tf.keras.optimizers.Adam` runs slowly on M1/M2 Macs, please use the legacy Keras optimizer instead, located at `tf.keras.optimizers.legacy.Adam`.\n",
      "WARNING:absl:There is a known slowdown when using v2.11+ Keras optimizers on M1/M2 Macs. Falling back to the legacy Keras optimizer, i.e., `tf.keras.optimizers.legacy.Adam`.\n"
     ]
    },
    {
     "name": "stdout",
     "output_type": "stream",
     "text": [
      "Epoch 1/10\n",
      "219/219 [==============================] - 6s 27ms/step - loss: 2.2704 - accuracy: 0.4508 - val_loss: 0.9184 - val_accuracy: 0.6364\n",
      "Epoch 2/10\n",
      "219/219 [==============================] - 6s 26ms/step - loss: 0.7972 - accuracy: 0.6954 - val_loss: 0.8301 - val_accuracy: 0.6595\n",
      "Epoch 3/10\n",
      "219/219 [==============================] - 6s 27ms/step - loss: 0.5563 - accuracy: 0.7939 - val_loss: 0.9543 - val_accuracy: 0.6675\n",
      "Epoch 4/10\n",
      "219/219 [==============================] - 6s 28ms/step - loss: 0.4425 - accuracy: 0.8345 - val_loss: 0.8584 - val_accuracy: 0.6806\n",
      "Epoch 5/10\n",
      "219/219 [==============================] - 6s 27ms/step - loss: 0.3300 - accuracy: 0.8790 - val_loss: 0.9601 - val_accuracy: 0.6941\n",
      "Epoch 6/10\n",
      "219/219 [==============================] - 6s 27ms/step - loss: 0.2768 - accuracy: 0.8973 - val_loss: 0.9462 - val_accuracy: 0.7007\n",
      "Epoch 7/10\n",
      "219/219 [==============================] - 6s 27ms/step - loss: 0.2227 - accuracy: 0.9189 - val_loss: 1.0211 - val_accuracy: 0.6911\n",
      "Epoch 8/10\n",
      "219/219 [==============================] - 6s 27ms/step - loss: 0.1847 - accuracy: 0.9336 - val_loss: 1.0814 - val_accuracy: 0.7157\n",
      "Epoch 9/10\n",
      "219/219 [==============================] - 6s 27ms/step - loss: 0.1791 - accuracy: 0.9344 - val_loss: 1.0535 - val_accuracy: 0.7182\n",
      "Epoch 10/10\n",
      "219/219 [==============================] - 6s 27ms/step - loss: 0.1596 - accuracy: 0.9429 - val_loss: 1.1462 - val_accuracy: 0.7092\n",
      "---mixed dense list: [1024, 512, 256], tabular dense list: [32, 64, 64, 32], activation: tanh---\n"
     ]
    },
    {
     "name": "stderr",
     "output_type": "stream",
     "text": [
      "WARNING:absl:At this time, the v2.11+ optimizer `tf.keras.optimizers.Adam` runs slowly on M1/M2 Macs, please use the legacy Keras optimizer instead, located at `tf.keras.optimizers.legacy.Adam`.\n",
      "WARNING:absl:There is a known slowdown when using v2.11+ Keras optimizers on M1/M2 Macs. Falling back to the legacy Keras optimizer, i.e., `tf.keras.optimizers.legacy.Adam`.\n"
     ]
    },
    {
     "name": "stdout",
     "output_type": "stream",
     "text": [
      "Epoch 1/10\n",
      "219/219 [==============================] - 6s 26ms/step - loss: 2.1247 - accuracy: 0.4852 - val_loss: 0.9720 - val_accuracy: 0.6193\n",
      "Epoch 2/10\n",
      "219/219 [==============================] - 6s 26ms/step - loss: 0.7418 - accuracy: 0.7234 - val_loss: 0.8885 - val_accuracy: 0.6745\n",
      "Epoch 3/10\n",
      "219/219 [==============================] - 6s 26ms/step - loss: 0.5285 - accuracy: 0.8018 - val_loss: 0.8223 - val_accuracy: 0.6951\n",
      "Epoch 4/10\n",
      "219/219 [==============================] - 6s 26ms/step - loss: 0.4024 - accuracy: 0.8520 - val_loss: 0.8966 - val_accuracy: 0.7027\n",
      "Epoch 5/10\n",
      "219/219 [==============================] - 6s 26ms/step - loss: 0.3271 - accuracy: 0.8787 - val_loss: 0.9417 - val_accuracy: 0.7027\n",
      "Epoch 6/10\n",
      "219/219 [==============================] - 6s 26ms/step - loss: 0.2580 - accuracy: 0.9052 - val_loss: 0.8792 - val_accuracy: 0.7172\n",
      "Epoch 7/10\n",
      "219/219 [==============================] - 6s 26ms/step - loss: 0.2233 - accuracy: 0.9199 - val_loss: 0.9538 - val_accuracy: 0.7248\n",
      "Epoch 8/10\n",
      "219/219 [==============================] - 6s 26ms/step - loss: 0.1721 - accuracy: 0.9370 - val_loss: 1.0027 - val_accuracy: 0.7358\n",
      "Epoch 9/10\n",
      "219/219 [==============================] - 6s 27ms/step - loss: 0.1603 - accuracy: 0.9421 - val_loss: 1.0793 - val_accuracy: 0.7047\n",
      "Epoch 10/10\n",
      "219/219 [==============================] - 6s 27ms/step - loss: 0.1347 - accuracy: 0.9514 - val_loss: 1.0480 - val_accuracy: 0.7428\n"
     ]
    },
    {
     "name": "stderr",
     "output_type": "stream",
     "text": [
      "WARNING:absl:At this time, the v2.11+ optimizer `tf.keras.optimizers.Adam` runs slowly on M1/M2 Macs, please use the legacy Keras optimizer instead, located at `tf.keras.optimizers.legacy.Adam`.\n",
      "WARNING:absl:There is a known slowdown when using v2.11+ Keras optimizers on M1/M2 Macs. Falling back to the legacy Keras optimizer, i.e., `tf.keras.optimizers.legacy.Adam`.\n"
     ]
    },
    {
     "name": "stdout",
     "output_type": "stream",
     "text": [
      "---mixed dense list: [1024, 512, 256, 128], tabular dense list: [32], activation: relu---\n",
      "Epoch 1/10\n",
      "219/219 [==============================] - 6s 26ms/step - loss: 1.7161 - accuracy: 0.4862 - val_loss: 0.9871 - val_accuracy: 0.5932\n",
      "Epoch 2/10\n",
      "219/219 [==============================] - 6s 25ms/step - loss: 0.7020 - accuracy: 0.7366 - val_loss: 0.8492 - val_accuracy: 0.6675\n",
      "Epoch 3/10\n",
      "219/219 [==============================] - 6s 26ms/step - loss: 0.4907 - accuracy: 0.8177 - val_loss: 0.8542 - val_accuracy: 0.6635\n",
      "Epoch 4/10\n",
      "219/219 [==============================] - 6s 26ms/step - loss: 0.3767 - accuracy: 0.8621 - val_loss: 0.9507 - val_accuracy: 0.6816\n",
      "Epoch 5/10\n",
      "219/219 [==============================] - 6s 25ms/step - loss: 0.3031 - accuracy: 0.8916 - val_loss: 1.0601 - val_accuracy: 0.6404\n",
      "Epoch 6/10\n",
      "219/219 [==============================] - 6s 26ms/step - loss: 0.2584 - accuracy: 0.9074 - val_loss: 0.9662 - val_accuracy: 0.7087\n",
      "Epoch 7/10\n",
      "219/219 [==============================] - 6s 26ms/step - loss: 0.2010 - accuracy: 0.9298 - val_loss: 1.0240 - val_accuracy: 0.6956\n",
      "Epoch 8/10\n",
      "219/219 [==============================] - 6s 25ms/step - loss: 0.1920 - accuracy: 0.9319 - val_loss: 0.9423 - val_accuracy: 0.7233\n",
      "Epoch 9/10\n",
      "219/219 [==============================] - 6s 26ms/step - loss: 0.1805 - accuracy: 0.9381 - val_loss: 1.0755 - val_accuracy: 0.6831\n",
      "Epoch 10/10\n",
      "219/219 [==============================] - 6s 26ms/step - loss: 0.1523 - accuracy: 0.9451 - val_loss: 0.8990 - val_accuracy: 0.7308\n"
     ]
    },
    {
     "name": "stderr",
     "output_type": "stream",
     "text": [
      "WARNING:absl:At this time, the v2.11+ optimizer `tf.keras.optimizers.Adam` runs slowly on M1/M2 Macs, please use the legacy Keras optimizer instead, located at `tf.keras.optimizers.legacy.Adam`.\n",
      "WARNING:absl:There is a known slowdown when using v2.11+ Keras optimizers on M1/M2 Macs. Falling back to the legacy Keras optimizer, i.e., `tf.keras.optimizers.legacy.Adam`.\n"
     ]
    },
    {
     "name": "stdout",
     "output_type": "stream",
     "text": [
      "---mixed dense list: [1024, 512, 256, 128], tabular dense list: [32], activation: tanh---\n",
      "Epoch 1/10\n",
      "219/219 [==============================] - 6s 26ms/step - loss: 1.9718 - accuracy: 0.4527 - val_loss: 0.8433 - val_accuracy: 0.6715\n",
      "Epoch 2/10\n",
      "219/219 [==============================] - 6s 25ms/step - loss: 0.7947 - accuracy: 0.7019 - val_loss: 0.8569 - val_accuracy: 0.6725\n",
      "Epoch 3/10\n",
      "219/219 [==============================] - 6s 25ms/step - loss: 0.5804 - accuracy: 0.7816 - val_loss: 0.7527 - val_accuracy: 0.7253\n",
      "Epoch 4/10\n",
      "219/219 [==============================] - 6s 26ms/step - loss: 0.4433 - accuracy: 0.8340 - val_loss: 0.9371 - val_accuracy: 0.6735\n",
      "Epoch 5/10\n",
      "219/219 [==============================] - 6s 25ms/step - loss: 0.3760 - accuracy: 0.8596 - val_loss: 0.9571 - val_accuracy: 0.6434\n",
      "Epoch 6/10\n",
      "219/219 [==============================] - 6s 27ms/step - loss: 0.3174 - accuracy: 0.8838 - val_loss: 1.1143 - val_accuracy: 0.6554\n",
      "Epoch 7/10\n",
      "219/219 [==============================] - 6s 26ms/step - loss: 0.2654 - accuracy: 0.9030 - val_loss: 0.8949 - val_accuracy: 0.7097\n",
      "Epoch 8/10\n",
      "219/219 [==============================] - 6s 25ms/step - loss: 0.2412 - accuracy: 0.9118 - val_loss: 0.9798 - val_accuracy: 0.6971\n",
      "Epoch 9/10\n",
      "219/219 [==============================] - 6s 26ms/step - loss: 0.2083 - accuracy: 0.9249 - val_loss: 1.0181 - val_accuracy: 0.7192\n",
      "Epoch 10/10\n",
      "219/219 [==============================] - 6s 26ms/step - loss: 0.1693 - accuracy: 0.9392 - val_loss: 1.0863 - val_accuracy: 0.6936\n",
      "---mixed dense list: [1024, 512, 256, 128], tabular dense list: [32, 64], activation: relu---\n"
     ]
    },
    {
     "name": "stderr",
     "output_type": "stream",
     "text": [
      "WARNING:absl:At this time, the v2.11+ optimizer `tf.keras.optimizers.Adam` runs slowly on M1/M2 Macs, please use the legacy Keras optimizer instead, located at `tf.keras.optimizers.legacy.Adam`.\n",
      "WARNING:absl:There is a known slowdown when using v2.11+ Keras optimizers on M1/M2 Macs. Falling back to the legacy Keras optimizer, i.e., `tf.keras.optimizers.legacy.Adam`.\n"
     ]
    },
    {
     "name": "stdout",
     "output_type": "stream",
     "text": [
      "Epoch 1/10\n",
      "219/219 [==============================] - 6s 26ms/step - loss: 1.5337 - accuracy: 0.5152 - val_loss: 0.7929 - val_accuracy: 0.6735\n",
      "Epoch 2/10\n",
      "219/219 [==============================] - 6s 25ms/step - loss: 0.6040 - accuracy: 0.7752 - val_loss: 0.8720 - val_accuracy: 0.6791\n",
      "Epoch 3/10\n",
      "219/219 [==============================] - 6s 26ms/step - loss: 0.4249 - accuracy: 0.8433 - val_loss: 0.8988 - val_accuracy: 0.6871\n",
      "Epoch 4/10\n",
      "219/219 [==============================] - 6s 26ms/step - loss: 0.3212 - accuracy: 0.8828 - val_loss: 0.8909 - val_accuracy: 0.6946\n",
      "Epoch 5/10\n",
      "219/219 [==============================] - 6s 26ms/step - loss: 0.2581 - accuracy: 0.9076 - val_loss: 0.8550 - val_accuracy: 0.7333\n",
      "Epoch 6/10\n",
      "219/219 [==============================] - 6s 26ms/step - loss: 0.2060 - accuracy: 0.9253 - val_loss: 1.0093 - val_accuracy: 0.6775\n",
      "Epoch 7/10\n",
      "219/219 [==============================] - 6s 28ms/step - loss: 0.1836 - accuracy: 0.9344 - val_loss: 0.9534 - val_accuracy: 0.7243\n",
      "Epoch 8/10\n",
      "219/219 [==============================] - 6s 27ms/step - loss: 0.1610 - accuracy: 0.9431 - val_loss: 0.9770 - val_accuracy: 0.7449\n",
      "Epoch 9/10\n",
      "219/219 [==============================] - 6s 26ms/step - loss: 0.1454 - accuracy: 0.9484 - val_loss: 0.9839 - val_accuracy: 0.7554\n",
      "Epoch 10/10\n",
      "219/219 [==============================] - 6s 26ms/step - loss: 0.1304 - accuracy: 0.9546 - val_loss: 0.9821 - val_accuracy: 0.7338\n",
      "---mixed dense list: [1024, 512, 256, 128], tabular dense list: [32, 64], activation: tanh---\n"
     ]
    },
    {
     "name": "stderr",
     "output_type": "stream",
     "text": [
      "WARNING:absl:At this time, the v2.11+ optimizer `tf.keras.optimizers.Adam` runs slowly on M1/M2 Macs, please use the legacy Keras optimizer instead, located at `tf.keras.optimizers.legacy.Adam`.\n",
      "WARNING:absl:There is a known slowdown when using v2.11+ Keras optimizers on M1/M2 Macs. Falling back to the legacy Keras optimizer, i.e., `tf.keras.optimizers.legacy.Adam`.\n"
     ]
    },
    {
     "name": "stdout",
     "output_type": "stream",
     "text": [
      "Epoch 1/10\n",
      "219/219 [==============================] - 6s 27ms/step - loss: 1.7691 - accuracy: 0.4900 - val_loss: 1.0530 - val_accuracy: 0.5605\n",
      "Epoch 2/10\n",
      "219/219 [==============================] - 6s 26ms/step - loss: 0.7748 - accuracy: 0.7068 - val_loss: 1.0723 - val_accuracy: 0.5922\n",
      "Epoch 3/10\n",
      "219/219 [==============================] - 6s 26ms/step - loss: 0.6118 - accuracy: 0.7688 - val_loss: 0.9252 - val_accuracy: 0.6534\n",
      "Epoch 4/10\n",
      "219/219 [==============================] - 6s 26ms/step - loss: 0.4574 - accuracy: 0.8284 - val_loss: 0.8593 - val_accuracy: 0.6941\n",
      "Epoch 5/10\n",
      "219/219 [==============================] - 6s 26ms/step - loss: 0.3553 - accuracy: 0.8682 - val_loss: 0.9332 - val_accuracy: 0.7007\n",
      "Epoch 6/10\n",
      "219/219 [==============================] - 6s 26ms/step - loss: 0.2904 - accuracy: 0.8917 - val_loss: 0.9022 - val_accuracy: 0.7067\n",
      "Epoch 7/10\n",
      "219/219 [==============================] - 6s 27ms/step - loss: 0.2382 - accuracy: 0.9123 - val_loss: 0.8838 - val_accuracy: 0.7524\n",
      "Epoch 8/10\n",
      "219/219 [==============================] - 6s 27ms/step - loss: 0.2143 - accuracy: 0.9235 - val_loss: 1.0113 - val_accuracy: 0.7007\n",
      "Epoch 9/10\n",
      "219/219 [==============================] - 6s 27ms/step - loss: 0.2164 - accuracy: 0.9225 - val_loss: 0.9955 - val_accuracy: 0.6861\n",
      "Epoch 10/10\n",
      "219/219 [==============================] - 6s 27ms/step - loss: 0.1663 - accuracy: 0.9394 - val_loss: 1.0459 - val_accuracy: 0.7489\n",
      "---mixed dense list: [1024, 512, 256, 128], tabular dense list: [32, 64, 64], activation: relu---\n"
     ]
    },
    {
     "name": "stderr",
     "output_type": "stream",
     "text": [
      "WARNING:absl:At this time, the v2.11+ optimizer `tf.keras.optimizers.Adam` runs slowly on M1/M2 Macs, please use the legacy Keras optimizer instead, located at `tf.keras.optimizers.legacy.Adam`.\n",
      "WARNING:absl:There is a known slowdown when using v2.11+ Keras optimizers on M1/M2 Macs. Falling back to the legacy Keras optimizer, i.e., `tf.keras.optimizers.legacy.Adam`.\n"
     ]
    },
    {
     "name": "stdout",
     "output_type": "stream",
     "text": [
      "Epoch 1/10\n",
      "219/219 [==============================] - 6s 27ms/step - loss: 1.9104 - accuracy: 0.4965 - val_loss: 1.0154 - val_accuracy: 0.6268\n",
      "Epoch 2/10\n",
      "219/219 [==============================] - 6s 27ms/step - loss: 0.7710 - accuracy: 0.7119 - val_loss: 0.7550 - val_accuracy: 0.7112\n",
      "Epoch 3/10\n",
      "219/219 [==============================] - 6s 26ms/step - loss: 0.5543 - accuracy: 0.7935 - val_loss: 0.9564 - val_accuracy: 0.6439\n",
      "Epoch 4/10\n",
      "219/219 [==============================] - 6s 26ms/step - loss: 0.4375 - accuracy: 0.8408 - val_loss: 0.9649 - val_accuracy: 0.6705\n",
      "Epoch 5/10\n",
      "219/219 [==============================] - 6s 26ms/step - loss: 0.3408 - accuracy: 0.8756 - val_loss: 0.8422 - val_accuracy: 0.7333\n",
      "Epoch 6/10\n",
      "219/219 [==============================] - 6s 26ms/step - loss: 0.2814 - accuracy: 0.8973 - val_loss: 0.9215 - val_accuracy: 0.7067\n",
      "Epoch 7/10\n",
      "219/219 [==============================] - 6s 27ms/step - loss: 0.2573 - accuracy: 0.9095 - val_loss: 0.9296 - val_accuracy: 0.7047\n",
      "Epoch 8/10\n",
      "219/219 [==============================] - 6s 27ms/step - loss: 0.2062 - accuracy: 0.9269 - val_loss: 1.0070 - val_accuracy: 0.7012\n",
      "Epoch 9/10\n",
      "219/219 [==============================] - 6s 26ms/step - loss: 0.1700 - accuracy: 0.9397 - val_loss: 1.0083 - val_accuracy: 0.7278\n",
      "Epoch 10/10\n",
      "219/219 [==============================] - 6s 26ms/step - loss: 0.1674 - accuracy: 0.9404 - val_loss: 1.1079 - val_accuracy: 0.7022\n",
      "---mixed dense list: [1024, 512, 256, 128], tabular dense list: [32, 64, 64], activation: tanh---\n"
     ]
    },
    {
     "name": "stderr",
     "output_type": "stream",
     "text": [
      "WARNING:absl:At this time, the v2.11+ optimizer `tf.keras.optimizers.Adam` runs slowly on M1/M2 Macs, please use the legacy Keras optimizer instead, located at `tf.keras.optimizers.legacy.Adam`.\n",
      "WARNING:absl:There is a known slowdown when using v2.11+ Keras optimizers on M1/M2 Macs. Falling back to the legacy Keras optimizer, i.e., `tf.keras.optimizers.legacy.Adam`.\n"
     ]
    },
    {
     "name": "stdout",
     "output_type": "stream",
     "text": [
      "Epoch 1/10\n",
      "219/219 [==============================] - 6s 27ms/step - loss: 1.9477 - accuracy: 0.4582 - val_loss: 0.9544 - val_accuracy: 0.6308\n",
      "Epoch 2/10\n",
      "219/219 [==============================] - 6s 26ms/step - loss: 0.7782 - accuracy: 0.7075 - val_loss: 0.9056 - val_accuracy: 0.6775\n",
      "Epoch 3/10\n",
      "219/219 [==============================] - 6s 26ms/step - loss: 0.5541 - accuracy: 0.7907 - val_loss: 0.8875 - val_accuracy: 0.6695\n",
      "Epoch 4/10\n",
      "219/219 [==============================] - 6s 26ms/step - loss: 0.4068 - accuracy: 0.8481 - val_loss: 0.8614 - val_accuracy: 0.6976\n",
      "Epoch 5/10\n",
      "219/219 [==============================] - 6s 26ms/step - loss: 0.3247 - accuracy: 0.8808 - val_loss: 0.9637 - val_accuracy: 0.6585\n",
      "Epoch 6/10\n",
      "219/219 [==============================] - 6s 27ms/step - loss: 0.2588 - accuracy: 0.9043 - val_loss: 0.8692 - val_accuracy: 0.7233\n",
      "Epoch 7/10\n",
      "219/219 [==============================] - 6s 26ms/step - loss: 0.2132 - accuracy: 0.9222 - val_loss: 1.0587 - val_accuracy: 0.6956\n",
      "Epoch 8/10\n",
      "219/219 [==============================] - 6s 26ms/step - loss: 0.1885 - accuracy: 0.9331 - val_loss: 1.1642 - val_accuracy: 0.6625\n",
      "Epoch 9/10\n",
      "219/219 [==============================] - 6s 27ms/step - loss: 0.1678 - accuracy: 0.9387 - val_loss: 1.1325 - val_accuracy: 0.7017\n",
      "Epoch 10/10\n",
      "219/219 [==============================] - 6s 26ms/step - loss: 0.1525 - accuracy: 0.9456 - val_loss: 1.1828 - val_accuracy: 0.7042\n",
      "---mixed dense list: [1024, 512, 256, 128], tabular dense list: [32, 64, 64, 32], activation: relu---\n"
     ]
    },
    {
     "name": "stderr",
     "output_type": "stream",
     "text": [
      "WARNING:absl:At this time, the v2.11+ optimizer `tf.keras.optimizers.Adam` runs slowly on M1/M2 Macs, please use the legacy Keras optimizer instead, located at `tf.keras.optimizers.legacy.Adam`.\n",
      "WARNING:absl:There is a known slowdown when using v2.11+ Keras optimizers on M1/M2 Macs. Falling back to the legacy Keras optimizer, i.e., `tf.keras.optimizers.legacy.Adam`.\n"
     ]
    },
    {
     "name": "stdout",
     "output_type": "stream",
     "text": [
      "Epoch 1/10\n",
      "219/219 [==============================] - 6s 26ms/step - loss: 1.9290 - accuracy: 0.4528 - val_loss: 0.9762 - val_accuracy: 0.6113\n",
      "Epoch 2/10\n",
      "219/219 [==============================] - 5s 25ms/step - loss: 0.7491 - accuracy: 0.7183 - val_loss: 0.7534 - val_accuracy: 0.7157\n",
      "Epoch 3/10\n",
      "219/219 [==============================] - 5s 25ms/step - loss: 0.5480 - accuracy: 0.7945 - val_loss: 0.9394 - val_accuracy: 0.6414\n",
      "Epoch 4/10\n",
      "219/219 [==============================] - 6s 25ms/step - loss: 0.4308 - accuracy: 0.8396 - val_loss: 0.9478 - val_accuracy: 0.6775\n",
      "Epoch 5/10\n",
      "219/219 [==============================] - 6s 25ms/step - loss: 0.3356 - accuracy: 0.8752 - val_loss: 0.8824 - val_accuracy: 0.6981\n",
      "Epoch 6/10\n",
      "219/219 [==============================] - 5s 25ms/step - loss: 0.2994 - accuracy: 0.8894 - val_loss: 0.9656 - val_accuracy: 0.6931\n",
      "Epoch 7/10\n",
      "219/219 [==============================] - 6s 25ms/step - loss: 0.2352 - accuracy: 0.9137 - val_loss: 0.9842 - val_accuracy: 0.7047\n",
      "Epoch 8/10\n",
      "219/219 [==============================] - 5s 25ms/step - loss: 0.2094 - accuracy: 0.9271 - val_loss: 0.9472 - val_accuracy: 0.7253\n",
      "Epoch 9/10\n",
      "219/219 [==============================] - 5s 25ms/step - loss: 0.1793 - accuracy: 0.9351 - val_loss: 0.9352 - val_accuracy: 0.7534\n",
      "Epoch 10/10\n",
      "219/219 [==============================] - 6s 25ms/step - loss: 0.1589 - accuracy: 0.9437 - val_loss: 0.9645 - val_accuracy: 0.7313\n",
      "---mixed dense list: [1024, 512, 256, 128], tabular dense list: [32, 64, 64, 32], activation: tanh---\n"
     ]
    },
    {
     "name": "stderr",
     "output_type": "stream",
     "text": [
      "WARNING:absl:At this time, the v2.11+ optimizer `tf.keras.optimizers.Adam` runs slowly on M1/M2 Macs, please use the legacy Keras optimizer instead, located at `tf.keras.optimizers.legacy.Adam`.\n",
      "WARNING:absl:There is a known slowdown when using v2.11+ Keras optimizers on M1/M2 Macs. Falling back to the legacy Keras optimizer, i.e., `tf.keras.optimizers.legacy.Adam`.\n"
     ]
    },
    {
     "name": "stdout",
     "output_type": "stream",
     "text": [
      "Epoch 1/10\n",
      "219/219 [==============================] - 6s 26ms/step - loss: 2.0937 - accuracy: 0.4940 - val_loss: 1.1684 - val_accuracy: 0.5445\n",
      "Epoch 2/10\n",
      "219/219 [==============================] - 6s 27ms/step - loss: 0.7657 - accuracy: 0.7078 - val_loss: 0.7870 - val_accuracy: 0.7007\n",
      "Epoch 3/10\n",
      "219/219 [==============================] - 6s 27ms/step - loss: 0.5583 - accuracy: 0.7883 - val_loss: 0.8833 - val_accuracy: 0.6831\n",
      "Epoch 4/10\n",
      "219/219 [==============================] - 6s 27ms/step - loss: 0.4110 - accuracy: 0.8452 - val_loss: 0.8754 - val_accuracy: 0.7212\n",
      "Epoch 5/10\n",
      "219/219 [==============================] - 6s 27ms/step - loss: 0.3254 - accuracy: 0.8783 - val_loss: 0.9316 - val_accuracy: 0.7077\n",
      "Epoch 6/10\n",
      "219/219 [==============================] - 6s 27ms/step - loss: 0.2787 - accuracy: 0.8976 - val_loss: 0.9089 - val_accuracy: 0.7358\n",
      "Epoch 7/10\n",
      "219/219 [==============================] - 6s 27ms/step - loss: 0.2376 - accuracy: 0.9135 - val_loss: 0.9354 - val_accuracy: 0.7278\n",
      "Epoch 8/10\n",
      "219/219 [==============================] - 6s 27ms/step - loss: 0.2021 - accuracy: 0.9267 - val_loss: 1.0014 - val_accuracy: 0.7223\n",
      "Epoch 9/10\n",
      "219/219 [==============================] - 6s 27ms/step - loss: 0.1745 - accuracy: 0.9372 - val_loss: 1.0508 - val_accuracy: 0.7172\n",
      "Epoch 10/10\n",
      "219/219 [==============================] - 6s 27ms/step - loss: 0.1635 - accuracy: 0.9425 - val_loss: 1.0206 - val_accuracy: 0.7197\n",
      "---mixed dense list: [1024, 512, 256, 128, 64], tabular dense list: [32], activation: relu---\n"
     ]
    },
    {
     "name": "stderr",
     "output_type": "stream",
     "text": [
      "WARNING:absl:At this time, the v2.11+ optimizer `tf.keras.optimizers.Adam` runs slowly on M1/M2 Macs, please use the legacy Keras optimizer instead, located at `tf.keras.optimizers.legacy.Adam`.\n",
      "WARNING:absl:There is a known slowdown when using v2.11+ Keras optimizers on M1/M2 Macs. Falling back to the legacy Keras optimizer, i.e., `tf.keras.optimizers.legacy.Adam`.\n"
     ]
    },
    {
     "name": "stdout",
     "output_type": "stream",
     "text": [
      "Epoch 1/10\n",
      "219/219 [==============================] - 6s 26ms/step - loss: 1.5843 - accuracy: 0.4553 - val_loss: 0.9582 - val_accuracy: 0.6238\n",
      "Epoch 2/10\n",
      "219/219 [==============================] - 6s 26ms/step - loss: 0.6577 - accuracy: 0.7496 - val_loss: 0.8114 - val_accuracy: 0.6886\n",
      "Epoch 3/10\n",
      "219/219 [==============================] - 6s 26ms/step - loss: 0.4573 - accuracy: 0.8293 - val_loss: 0.9218 - val_accuracy: 0.6745\n",
      "Epoch 4/10\n",
      "219/219 [==============================] - 6s 26ms/step - loss: 0.3474 - accuracy: 0.8718 - val_loss: 1.0304 - val_accuracy: 0.6364\n",
      "Epoch 5/10\n",
      "219/219 [==============================] - 6s 26ms/step - loss: 0.2646 - accuracy: 0.9037 - val_loss: 0.9484 - val_accuracy: 0.6981\n",
      "Epoch 6/10\n",
      "219/219 [==============================] - 6s 26ms/step - loss: 0.2338 - accuracy: 0.9157 - val_loss: 0.9602 - val_accuracy: 0.6710\n",
      "Epoch 7/10\n",
      "219/219 [==============================] - 6s 26ms/step - loss: 0.1914 - accuracy: 0.9309 - val_loss: 0.9084 - val_accuracy: 0.6941\n",
      "Epoch 8/10\n",
      "219/219 [==============================] - 6s 26ms/step - loss: 0.1764 - accuracy: 0.9379 - val_loss: 0.9562 - val_accuracy: 0.7323\n",
      "Epoch 9/10\n",
      "219/219 [==============================] - 6s 26ms/step - loss: 0.1437 - accuracy: 0.9480 - val_loss: 1.0451 - val_accuracy: 0.7298\n",
      "Epoch 10/10\n",
      "219/219 [==============================] - 6s 26ms/step - loss: 0.1370 - accuracy: 0.9525 - val_loss: 1.0283 - val_accuracy: 0.7423\n",
      "---mixed dense list: [1024, 512, 256, 128, 64], tabular dense list: [32], activation: tanh---\n"
     ]
    },
    {
     "name": "stderr",
     "output_type": "stream",
     "text": [
      "WARNING:absl:At this time, the v2.11+ optimizer `tf.keras.optimizers.Adam` runs slowly on M1/M2 Macs, please use the legacy Keras optimizer instead, located at `tf.keras.optimizers.legacy.Adam`.\n",
      "WARNING:absl:There is a known slowdown when using v2.11+ Keras optimizers on M1/M2 Macs. Falling back to the legacy Keras optimizer, i.e., `tf.keras.optimizers.legacy.Adam`.\n"
     ]
    },
    {
     "name": "stdout",
     "output_type": "stream",
     "text": [
      "Epoch 1/10\n",
      "219/219 [==============================] - 6s 26ms/step - loss: 1.6465 - accuracy: 0.4537 - val_loss: 0.9350 - val_accuracy: 0.6565\n",
      "Epoch 2/10\n",
      "219/219 [==============================] - 6s 26ms/step - loss: 0.7277 - accuracy: 0.7272 - val_loss: 0.7708 - val_accuracy: 0.7032\n",
      "Epoch 3/10\n",
      "219/219 [==============================] - 6s 26ms/step - loss: 0.4931 - accuracy: 0.8154 - val_loss: 0.9369 - val_accuracy: 0.6700\n",
      "Epoch 4/10\n",
      "219/219 [==============================] - 6s 26ms/step - loss: 0.3862 - accuracy: 0.8569 - val_loss: 0.9013 - val_accuracy: 0.6765\n",
      "Epoch 5/10\n",
      "219/219 [==============================] - 6s 27ms/step - loss: 0.3049 - accuracy: 0.8885 - val_loss: 0.8874 - val_accuracy: 0.7107\n",
      "Epoch 6/10\n",
      "219/219 [==============================] - 6s 26ms/step - loss: 0.2557 - accuracy: 0.9061 - val_loss: 0.8827 - val_accuracy: 0.7162\n",
      "Epoch 7/10\n",
      "219/219 [==============================] - 6s 26ms/step - loss: 0.2224 - accuracy: 0.9203 - val_loss: 0.8485 - val_accuracy: 0.7388\n",
      "Epoch 8/10\n",
      "219/219 [==============================] - 6s 26ms/step - loss: 0.1881 - accuracy: 0.9332 - val_loss: 0.8232 - val_accuracy: 0.7484\n",
      "Epoch 9/10\n",
      "219/219 [==============================] - 6s 25ms/step - loss: 0.1922 - accuracy: 0.9318 - val_loss: 0.8283 - val_accuracy: 0.7228\n",
      "Epoch 10/10\n",
      "219/219 [==============================] - 6s 26ms/step - loss: 0.1465 - accuracy: 0.9487 - val_loss: 0.9779 - val_accuracy: 0.7343\n",
      "---mixed dense list: [1024, 512, 256, 128, 64], tabular dense list: [32, 64], activation: relu---\n"
     ]
    },
    {
     "name": "stderr",
     "output_type": "stream",
     "text": [
      "WARNING:absl:At this time, the v2.11+ optimizer `tf.keras.optimizers.Adam` runs slowly on M1/M2 Macs, please use the legacy Keras optimizer instead, located at `tf.keras.optimizers.legacy.Adam`.\n",
      "WARNING:absl:There is a known slowdown when using v2.11+ Keras optimizers on M1/M2 Macs. Falling back to the legacy Keras optimizer, i.e., `tf.keras.optimizers.legacy.Adam`.\n"
     ]
    },
    {
     "name": "stdout",
     "output_type": "stream",
     "text": [
      "Epoch 1/10\n",
      "219/219 [==============================] - 6s 25ms/step - loss: 1.6651 - accuracy: 0.4556 - val_loss: 0.9827 - val_accuracy: 0.6082\n",
      "Epoch 2/10\n",
      "219/219 [==============================] - 6s 25ms/step - loss: 0.8063 - accuracy: 0.6980 - val_loss: 0.8786 - val_accuracy: 0.6494\n",
      "Epoch 3/10\n",
      "219/219 [==============================] - 6s 27ms/step - loss: 0.6295 - accuracy: 0.7635 - val_loss: 0.7678 - val_accuracy: 0.7117\n",
      "Epoch 4/10\n",
      "219/219 [==============================] - 6s 26ms/step - loss: 0.5020 - accuracy: 0.8129 - val_loss: 0.8606 - val_accuracy: 0.6976\n",
      "Epoch 5/10\n",
      "219/219 [==============================] - 6s 25ms/step - loss: 0.4034 - accuracy: 0.8497 - val_loss: 0.9000 - val_accuracy: 0.6570\n",
      "Epoch 6/10\n",
      "219/219 [==============================] - 6s 26ms/step - loss: 0.3331 - accuracy: 0.8766 - val_loss: 0.9023 - val_accuracy: 0.7102\n",
      "Epoch 7/10\n",
      "219/219 [==============================] - 6s 25ms/step - loss: 0.2929 - accuracy: 0.8924 - val_loss: 0.9135 - val_accuracy: 0.6650\n",
      "Epoch 8/10\n",
      "219/219 [==============================] - 6s 26ms/step - loss: 0.2512 - accuracy: 0.9100 - val_loss: 0.9016 - val_accuracy: 0.7042\n",
      "Epoch 9/10\n",
      "219/219 [==============================] - 6s 26ms/step - loss: 0.2252 - accuracy: 0.9178 - val_loss: 0.9487 - val_accuracy: 0.7137\n",
      "Epoch 10/10\n",
      "219/219 [==============================] - 6s 26ms/step - loss: 0.1986 - accuracy: 0.9280 - val_loss: 0.8853 - val_accuracy: 0.7418\n",
      "---mixed dense list: [1024, 512, 256, 128, 64], tabular dense list: [32, 64], activation: tanh---\n"
     ]
    },
    {
     "name": "stderr",
     "output_type": "stream",
     "text": [
      "WARNING:absl:At this time, the v2.11+ optimizer `tf.keras.optimizers.Adam` runs slowly on M1/M2 Macs, please use the legacy Keras optimizer instead, located at `tf.keras.optimizers.legacy.Adam`.\n",
      "WARNING:absl:There is a known slowdown when using v2.11+ Keras optimizers on M1/M2 Macs. Falling back to the legacy Keras optimizer, i.e., `tf.keras.optimizers.legacy.Adam`.\n"
     ]
    },
    {
     "name": "stdout",
     "output_type": "stream",
     "text": [
      "Epoch 1/10\n",
      "219/219 [==============================] - 7s 30ms/step - loss: 1.7525 - accuracy: 0.4753 - val_loss: 1.0812 - val_accuracy: 0.5897\n",
      "Epoch 2/10\n",
      "219/219 [==============================] - 6s 29ms/step - loss: 0.6896 - accuracy: 0.7432 - val_loss: 0.9250 - val_accuracy: 0.6640\n",
      "Epoch 3/10\n",
      "219/219 [==============================] - 6s 28ms/step - loss: 0.4847 - accuracy: 0.8197 - val_loss: 0.8349 - val_accuracy: 0.7067\n",
      "Epoch 4/10\n",
      "219/219 [==============================] - 6s 29ms/step - loss: 0.3538 - accuracy: 0.8687 - val_loss: 0.8869 - val_accuracy: 0.7097\n",
      "Epoch 5/10\n",
      "219/219 [==============================] - 6s 27ms/step - loss: 0.3140 - accuracy: 0.8861 - val_loss: 0.9865 - val_accuracy: 0.6730\n",
      "Epoch 6/10\n",
      "219/219 [==============================] - 6s 28ms/step - loss: 0.2534 - accuracy: 0.9083 - val_loss: 0.9344 - val_accuracy: 0.7072\n",
      "Epoch 7/10\n",
      "219/219 [==============================] - 6s 28ms/step - loss: 0.2083 - accuracy: 0.9253 - val_loss: 0.9915 - val_accuracy: 0.6971\n",
      "Epoch 8/10\n",
      "219/219 [==============================] - 6s 28ms/step - loss: 0.1866 - accuracy: 0.9323 - val_loss: 1.0303 - val_accuracy: 0.7032\n",
      "Epoch 9/10\n",
      "219/219 [==============================] - 6s 28ms/step - loss: 0.1662 - accuracy: 0.9412 - val_loss: 0.9466 - val_accuracy: 0.7187\n",
      "Epoch 10/10\n",
      "219/219 [==============================] - 6s 28ms/step - loss: 0.1484 - accuracy: 0.9491 - val_loss: 1.0555 - val_accuracy: 0.7233\n",
      "---mixed dense list: [1024, 512, 256, 128, 64], tabular dense list: [32, 64, 64], activation: relu---\n"
     ]
    },
    {
     "name": "stderr",
     "output_type": "stream",
     "text": [
      "WARNING:absl:At this time, the v2.11+ optimizer `tf.keras.optimizers.Adam` runs slowly on M1/M2 Macs, please use the legacy Keras optimizer instead, located at `tf.keras.optimizers.legacy.Adam`.\n",
      "WARNING:absl:There is a known slowdown when using v2.11+ Keras optimizers on M1/M2 Macs. Falling back to the legacy Keras optimizer, i.e., `tf.keras.optimizers.legacy.Adam`.\n"
     ]
    },
    {
     "name": "stdout",
     "output_type": "stream",
     "text": [
      "Epoch 1/10\n",
      "219/219 [==============================] - 6s 27ms/step - loss: 1.6720 - accuracy: 0.4561 - val_loss: 1.1954 - val_accuracy: 0.5244\n",
      "Epoch 2/10\n",
      "219/219 [==============================] - 6s 27ms/step - loss: 0.7944 - accuracy: 0.6985 - val_loss: 0.9112 - val_accuracy: 0.6389\n",
      "Epoch 3/10\n",
      "219/219 [==============================] - 6s 27ms/step - loss: 0.6028 - accuracy: 0.7745 - val_loss: 0.8838 - val_accuracy: 0.6705\n",
      "Epoch 4/10\n",
      "219/219 [==============================] - 6s 27ms/step - loss: 0.4389 - accuracy: 0.8370 - val_loss: 0.8764 - val_accuracy: 0.7002\n",
      "Epoch 5/10\n",
      "219/219 [==============================] - 6s 27ms/step - loss: 0.3756 - accuracy: 0.8615 - val_loss: 0.8535 - val_accuracy: 0.6831\n",
      "Epoch 6/10\n",
      "219/219 [==============================] - 6s 27ms/step - loss: 0.2917 - accuracy: 0.8943 - val_loss: 1.0397 - val_accuracy: 0.6600\n",
      "Epoch 7/10\n",
      "219/219 [==============================] - 6s 27ms/step - loss: 0.2590 - accuracy: 0.9060 - val_loss: 1.0106 - val_accuracy: 0.6680\n",
      "Epoch 8/10\n",
      "219/219 [==============================] - 6s 27ms/step - loss: 0.2142 - accuracy: 0.9222 - val_loss: 1.0990 - val_accuracy: 0.6600\n",
      "Epoch 9/10\n",
      "219/219 [==============================] - 6s 27ms/step - loss: 0.2122 - accuracy: 0.9231 - val_loss: 1.1860 - val_accuracy: 0.6640\n",
      "Epoch 10/10\n",
      "219/219 [==============================] - 6s 28ms/step - loss: 0.1773 - accuracy: 0.9363 - val_loss: 1.1879 - val_accuracy: 0.6876\n",
      "---mixed dense list: [1024, 512, 256, 128, 64], tabular dense list: [32, 64, 64], activation: tanh---\n"
     ]
    },
    {
     "name": "stderr",
     "output_type": "stream",
     "text": [
      "WARNING:absl:At this time, the v2.11+ optimizer `tf.keras.optimizers.Adam` runs slowly on M1/M2 Macs, please use the legacy Keras optimizer instead, located at `tf.keras.optimizers.legacy.Adam`.\n",
      "WARNING:absl:There is a known slowdown when using v2.11+ Keras optimizers on M1/M2 Macs. Falling back to the legacy Keras optimizer, i.e., `tf.keras.optimizers.legacy.Adam`.\n"
     ]
    },
    {
     "name": "stdout",
     "output_type": "stream",
     "text": [
      "Epoch 1/10\n",
      "219/219 [==============================] - 6s 26ms/step - loss: 1.9769 - accuracy: 0.4380 - val_loss: 1.0521 - val_accuracy: 0.6027\n",
      "Epoch 2/10\n",
      "219/219 [==============================] - 6s 27ms/step - loss: 0.8721 - accuracy: 0.6708 - val_loss: 0.9778 - val_accuracy: 0.6168\n",
      "Epoch 3/10\n",
      "219/219 [==============================] - 6s 27ms/step - loss: 0.6485 - accuracy: 0.7599 - val_loss: 0.9771 - val_accuracy: 0.6640\n",
      "Epoch 4/10\n",
      "219/219 [==============================] - 6s 27ms/step - loss: 0.5095 - accuracy: 0.8115 - val_loss: 0.9978 - val_accuracy: 0.6424\n",
      "Epoch 5/10\n",
      "219/219 [==============================] - 6s 27ms/step - loss: 0.3923 - accuracy: 0.8542 - val_loss: 0.8971 - val_accuracy: 0.6891\n",
      "Epoch 6/10\n",
      "219/219 [==============================] - 6s 26ms/step - loss: 0.3340 - accuracy: 0.8752 - val_loss: 0.9879 - val_accuracy: 0.6851\n",
      "Epoch 7/10\n",
      "219/219 [==============================] - 6s 26ms/step - loss: 0.2795 - accuracy: 0.8992 - val_loss: 0.9241 - val_accuracy: 0.7047\n",
      "Epoch 8/10\n",
      "219/219 [==============================] - 6s 27ms/step - loss: 0.2464 - accuracy: 0.9114 - val_loss: 0.9652 - val_accuracy: 0.7177\n",
      "Epoch 9/10\n",
      "219/219 [==============================] - 6s 26ms/step - loss: 0.1939 - accuracy: 0.9292 - val_loss: 1.0396 - val_accuracy: 0.6946\n",
      "Epoch 10/10\n",
      "219/219 [==============================] - 6s 26ms/step - loss: 0.1971 - accuracy: 0.9290 - val_loss: 1.0970 - val_accuracy: 0.6986\n",
      "---mixed dense list: [1024, 512, 256, 128, 64], tabular dense list: [32, 64, 64, 32], activation: relu---\n"
     ]
    },
    {
     "name": "stderr",
     "output_type": "stream",
     "text": [
      "WARNING:absl:At this time, the v2.11+ optimizer `tf.keras.optimizers.Adam` runs slowly on M1/M2 Macs, please use the legacy Keras optimizer instead, located at `tf.keras.optimizers.legacy.Adam`.\n",
      "WARNING:absl:There is a known slowdown when using v2.11+ Keras optimizers on M1/M2 Macs. Falling back to the legacy Keras optimizer, i.e., `tf.keras.optimizers.legacy.Adam`.\n"
     ]
    },
    {
     "name": "stdout",
     "output_type": "stream",
     "text": [
      "Epoch 1/10\n",
      "219/219 [==============================] - 6s 27ms/step - loss: 1.6836 - accuracy: 0.4625 - val_loss: 1.1957 - val_accuracy: 0.5294\n",
      "Epoch 2/10\n",
      "219/219 [==============================] - 6s 27ms/step - loss: 0.7505 - accuracy: 0.7153 - val_loss: 0.9609 - val_accuracy: 0.6107\n",
      "Epoch 3/10\n",
      "219/219 [==============================] - 6s 27ms/step - loss: 0.5563 - accuracy: 0.7931 - val_loss: 0.8358 - val_accuracy: 0.7047\n",
      "Epoch 4/10\n",
      "219/219 [==============================] - 6s 27ms/step - loss: 0.4328 - accuracy: 0.8415 - val_loss: 0.8742 - val_accuracy: 0.6856\n",
      "Epoch 5/10\n",
      "219/219 [==============================] - 6s 26ms/step - loss: 0.3511 - accuracy: 0.8713 - val_loss: 0.8164 - val_accuracy: 0.7228\n",
      "Epoch 6/10\n",
      "219/219 [==============================] - 6s 27ms/step - loss: 0.2844 - accuracy: 0.8987 - val_loss: 1.0061 - val_accuracy: 0.6575\n",
      "Epoch 7/10\n",
      "219/219 [==============================] - 6s 26ms/step - loss: 0.2664 - accuracy: 0.9049 - val_loss: 0.9713 - val_accuracy: 0.6896\n",
      "Epoch 8/10\n",
      "219/219 [==============================] - 6s 27ms/step - loss: 0.2153 - accuracy: 0.9219 - val_loss: 0.9344 - val_accuracy: 0.7263\n",
      "Epoch 9/10\n",
      "219/219 [==============================] - 6s 27ms/step - loss: 0.1971 - accuracy: 0.9306 - val_loss: 0.9531 - val_accuracy: 0.7253\n",
      "Epoch 10/10\n",
      "219/219 [==============================] - 6s 26ms/step - loss: 0.1633 - accuracy: 0.9427 - val_loss: 0.9165 - val_accuracy: 0.7499\n",
      "---mixed dense list: [1024, 512, 256, 128, 64], tabular dense list: [32, 64, 64, 32], activation: tanh---\n"
     ]
    },
    {
     "name": "stderr",
     "output_type": "stream",
     "text": [
      "WARNING:absl:At this time, the v2.11+ optimizer `tf.keras.optimizers.Adam` runs slowly on M1/M2 Macs, please use the legacy Keras optimizer instead, located at `tf.keras.optimizers.legacy.Adam`.\n",
      "WARNING:absl:There is a known slowdown when using v2.11+ Keras optimizers on M1/M2 Macs. Falling back to the legacy Keras optimizer, i.e., `tf.keras.optimizers.legacy.Adam`.\n"
     ]
    },
    {
     "name": "stdout",
     "output_type": "stream",
     "text": [
      "Epoch 1/10\n",
      "219/219 [==============================] - 6s 26ms/step - loss: 1.8853 - accuracy: 0.4592 - val_loss: 1.0234 - val_accuracy: 0.6032\n",
      "Epoch 2/10\n",
      "219/219 [==============================] - 6s 27ms/step - loss: 0.8199 - accuracy: 0.6904 - val_loss: 0.9592 - val_accuracy: 0.6328\n",
      "Epoch 3/10\n",
      "219/219 [==============================] - 6s 26ms/step - loss: 0.6376 - accuracy: 0.7599 - val_loss: 0.8269 - val_accuracy: 0.6956\n",
      "Epoch 4/10\n",
      "219/219 [==============================] - 6s 27ms/step - loss: 0.4935 - accuracy: 0.8149 - val_loss: 0.8550 - val_accuracy: 0.7097\n",
      "Epoch 5/10\n",
      "219/219 [==============================] - 6s 26ms/step - loss: 0.3738 - accuracy: 0.8626 - val_loss: 0.9569 - val_accuracy: 0.6680\n",
      "Epoch 6/10\n",
      "219/219 [==============================] - 6s 27ms/step - loss: 0.3111 - accuracy: 0.8860 - val_loss: 0.9381 - val_accuracy: 0.6891\n",
      "Epoch 7/10\n",
      "219/219 [==============================] - 6s 27ms/step - loss: 0.2569 - accuracy: 0.9040 - val_loss: 1.1167 - val_accuracy: 0.6539\n",
      "Epoch 8/10\n",
      "219/219 [==============================] - 6s 26ms/step - loss: 0.2140 - accuracy: 0.9221 - val_loss: 0.9858 - val_accuracy: 0.7298\n",
      "Epoch 9/10\n",
      "219/219 [==============================] - 6s 26ms/step - loss: 0.1922 - accuracy: 0.9315 - val_loss: 1.0934 - val_accuracy: 0.6675\n",
      "Epoch 10/10\n",
      "219/219 [==============================] - 6s 27ms/step - loss: 0.1683 - accuracy: 0.9401 - val_loss: 1.1283 - val_accuracy: 0.6881\n",
      "---mixed dense list: [1024, 512, 256, 128, 64, 32], tabular dense list: [32], activation: relu---\n"
     ]
    },
    {
     "name": "stderr",
     "output_type": "stream",
     "text": [
      "WARNING:absl:At this time, the v2.11+ optimizer `tf.keras.optimizers.Adam` runs slowly on M1/M2 Macs, please use the legacy Keras optimizer instead, located at `tf.keras.optimizers.legacy.Adam`.\n",
      "WARNING:absl:There is a known slowdown when using v2.11+ Keras optimizers on M1/M2 Macs. Falling back to the legacy Keras optimizer, i.e., `tf.keras.optimizers.legacy.Adam`.\n"
     ]
    },
    {
     "name": "stdout",
     "output_type": "stream",
     "text": [
      "Epoch 1/10\n",
      "219/219 [==============================] - 6s 26ms/step - loss: 1.6006 - accuracy: 0.4269 - val_loss: 0.9748 - val_accuracy: 0.5726\n",
      "Epoch 2/10\n",
      "219/219 [==============================] - 6s 26ms/step - loss: 0.8021 - accuracy: 0.6976 - val_loss: 1.0097 - val_accuracy: 0.6163\n",
      "Epoch 3/10\n",
      "219/219 [==============================] - 6s 27ms/step - loss: 0.5805 - accuracy: 0.7853 - val_loss: 0.9568 - val_accuracy: 0.6509\n",
      "Epoch 4/10\n",
      "219/219 [==============================] - 6s 27ms/step - loss: 0.4521 - accuracy: 0.8339 - val_loss: 0.8693 - val_accuracy: 0.6926\n",
      "Epoch 5/10\n",
      "219/219 [==============================] - 6s 27ms/step - loss: 0.3454 - accuracy: 0.8732 - val_loss: 0.9945 - val_accuracy: 0.6705\n",
      "Epoch 6/10\n",
      "219/219 [==============================] - 6s 26ms/step - loss: 0.3178 - accuracy: 0.8855 - val_loss: 0.8675 - val_accuracy: 0.7263\n",
      "Epoch 7/10\n",
      "219/219 [==============================] - 6s 26ms/step - loss: 0.2441 - accuracy: 0.9120 - val_loss: 1.0825 - val_accuracy: 0.6600\n",
      "Epoch 8/10\n",
      "219/219 [==============================] - 6s 27ms/step - loss: 0.2288 - accuracy: 0.9181 - val_loss: 1.0079 - val_accuracy: 0.6986\n",
      "Epoch 9/10\n",
      "219/219 [==============================] - 6s 26ms/step - loss: 0.1945 - accuracy: 0.9311 - val_loss: 1.0059 - val_accuracy: 0.7107\n",
      "Epoch 10/10\n",
      "219/219 [==============================] - 6s 27ms/step - loss: 0.1630 - accuracy: 0.9429 - val_loss: 1.0498 - val_accuracy: 0.7303\n",
      "---mixed dense list: [1024, 512, 256, 128, 64, 32], tabular dense list: [32], activation: tanh---\n"
     ]
    },
    {
     "name": "stderr",
     "output_type": "stream",
     "text": [
      "WARNING:absl:At this time, the v2.11+ optimizer `tf.keras.optimizers.Adam` runs slowly on M1/M2 Macs, please use the legacy Keras optimizer instead, located at `tf.keras.optimizers.legacy.Adam`.\n",
      "WARNING:absl:There is a known slowdown when using v2.11+ Keras optimizers on M1/M2 Macs. Falling back to the legacy Keras optimizer, i.e., `tf.keras.optimizers.legacy.Adam`.\n"
     ]
    },
    {
     "name": "stdout",
     "output_type": "stream",
     "text": [
      "Epoch 1/10\n",
      "219/219 [==============================] - 6s 27ms/step - loss: 1.6428 - accuracy: 0.4415 - val_loss: 0.9624 - val_accuracy: 0.6394\n",
      "Epoch 2/10\n",
      "219/219 [==============================] - 6s 26ms/step - loss: 0.7537 - accuracy: 0.7114 - val_loss: 1.0187 - val_accuracy: 0.5796\n",
      "Epoch 3/10\n",
      "219/219 [==============================] - 6s 26ms/step - loss: 0.5532 - accuracy: 0.7975 - val_loss: 0.9708 - val_accuracy: 0.6123\n",
      "Epoch 4/10\n",
      "219/219 [==============================] - 6s 26ms/step - loss: 0.4193 - accuracy: 0.8442 - val_loss: 0.8372 - val_accuracy: 0.7288\n",
      "Epoch 5/10\n",
      "219/219 [==============================] - 6s 26ms/step - loss: 0.3214 - accuracy: 0.8810 - val_loss: 0.9497 - val_accuracy: 0.6911\n",
      "Epoch 6/10\n",
      "219/219 [==============================] - 6s 26ms/step - loss: 0.2830 - accuracy: 0.8971 - val_loss: 0.8626 - val_accuracy: 0.7223\n",
      "Epoch 7/10\n",
      "219/219 [==============================] - 6s 27ms/step - loss: 0.2487 - accuracy: 0.9088 - val_loss: 1.0110 - val_accuracy: 0.6735\n",
      "Epoch 8/10\n",
      "219/219 [==============================] - 6s 26ms/step - loss: 0.2193 - accuracy: 0.9210 - val_loss: 0.8662 - val_accuracy: 0.7212\n",
      "Epoch 9/10\n",
      "219/219 [==============================] - 6s 27ms/step - loss: 0.1882 - accuracy: 0.9291 - val_loss: 1.0103 - val_accuracy: 0.7217\n",
      "Epoch 10/10\n",
      "219/219 [==============================] - 6s 26ms/step - loss: 0.1604 - accuracy: 0.9422 - val_loss: 0.9841 - val_accuracy: 0.7172\n",
      "---mixed dense list: [1024, 512, 256, 128, 64, 32], tabular dense list: [32, 64], activation: relu---\n"
     ]
    },
    {
     "name": "stderr",
     "output_type": "stream",
     "text": [
      "WARNING:absl:At this time, the v2.11+ optimizer `tf.keras.optimizers.Adam` runs slowly on M1/M2 Macs, please use the legacy Keras optimizer instead, located at `tf.keras.optimizers.legacy.Adam`.\n",
      "WARNING:absl:There is a known slowdown when using v2.11+ Keras optimizers on M1/M2 Macs. Falling back to the legacy Keras optimizer, i.e., `tf.keras.optimizers.legacy.Adam`.\n"
     ]
    },
    {
     "name": "stdout",
     "output_type": "stream",
     "text": [
      "Epoch 1/10\n",
      "219/219 [==============================] - 6s 26ms/step - loss: 1.6890 - accuracy: 0.4120 - val_loss: 1.2966 - val_accuracy: 0.4992\n",
      "Epoch 2/10\n",
      "219/219 [==============================] - 6s 26ms/step - loss: 0.8503 - accuracy: 0.6717 - val_loss: 0.8809 - val_accuracy: 0.6806\n",
      "Epoch 3/10\n",
      "219/219 [==============================] - 6s 26ms/step - loss: 0.6383 - accuracy: 0.7609 - val_loss: 0.7878 - val_accuracy: 0.6941\n",
      "Epoch 4/10\n",
      "219/219 [==============================] - 6s 27ms/step - loss: 0.4787 - accuracy: 0.8220 - val_loss: 0.9258 - val_accuracy: 0.6680\n",
      "Epoch 5/10\n",
      "219/219 [==============================] - 6s 26ms/step - loss: 0.3887 - accuracy: 0.8564 - val_loss: 0.8519 - val_accuracy: 0.7102\n",
      "Epoch 6/10\n",
      "219/219 [==============================] - 6s 26ms/step - loss: 0.3291 - accuracy: 0.8782 - val_loss: 1.1628 - val_accuracy: 0.5997\n",
      "Epoch 7/10\n",
      "219/219 [==============================] - 6s 26ms/step - loss: 0.2716 - accuracy: 0.8996 - val_loss: 0.9987 - val_accuracy: 0.6931\n",
      "Epoch 8/10\n",
      "219/219 [==============================] - 6s 26ms/step - loss: 0.2366 - accuracy: 0.9150 - val_loss: 0.9720 - val_accuracy: 0.7212\n",
      "Epoch 9/10\n",
      "219/219 [==============================] - 6s 26ms/step - loss: 0.1996 - accuracy: 0.9275 - val_loss: 0.8864 - val_accuracy: 0.7368\n",
      "Epoch 10/10\n",
      "219/219 [==============================] - 6s 27ms/step - loss: 0.1777 - accuracy: 0.9374 - val_loss: 1.0135 - val_accuracy: 0.7253\n"
     ]
    },
    {
     "name": "stderr",
     "output_type": "stream",
     "text": [
      "WARNING:absl:At this time, the v2.11+ optimizer `tf.keras.optimizers.Adam` runs slowly on M1/M2 Macs, please use the legacy Keras optimizer instead, located at `tf.keras.optimizers.legacy.Adam`.\n"
     ]
    },
    {
     "name": "stdout",
     "output_type": "stream",
     "text": [
      "---mixed dense list: [1024, 512, 256, 128, 64, 32], tabular dense list: [32, 64], activation: tanh---\n"
     ]
    },
    {
     "name": "stderr",
     "output_type": "stream",
     "text": [
      "WARNING:absl:There is a known slowdown when using v2.11+ Keras optimizers on M1/M2 Macs. Falling back to the legacy Keras optimizer, i.e., `tf.keras.optimizers.legacy.Adam`.\n"
     ]
    },
    {
     "name": "stdout",
     "output_type": "stream",
     "text": [
      "Epoch 1/10\n",
      "219/219 [==============================] - 6s 27ms/step - loss: 1.7792 - accuracy: 0.4262 - val_loss: 0.9936 - val_accuracy: 0.6012\n",
      "Epoch 2/10\n",
      "219/219 [==============================] - 6s 27ms/step - loss: 0.8625 - accuracy: 0.6700 - val_loss: 0.8347 - val_accuracy: 0.6745\n",
      "Epoch 3/10\n",
      "219/219 [==============================] - 6s 27ms/step - loss: 0.6445 - accuracy: 0.7570 - val_loss: 0.8477 - val_accuracy: 0.6615\n",
      "Epoch 4/10\n",
      "219/219 [==============================] - 6s 27ms/step - loss: 0.4923 - accuracy: 0.8175 - val_loss: 0.9042 - val_accuracy: 0.6494\n",
      "Epoch 5/10\n",
      "219/219 [==============================] - 6s 27ms/step - loss: 0.4059 - accuracy: 0.8492 - val_loss: 0.8459 - val_accuracy: 0.6896\n",
      "Epoch 6/10\n",
      "219/219 [==============================] - 6s 27ms/step - loss: 0.3351 - accuracy: 0.8750 - val_loss: 1.0953 - val_accuracy: 0.6404\n",
      "Epoch 7/10\n",
      "219/219 [==============================] - 6s 27ms/step - loss: 0.2614 - accuracy: 0.9027 - val_loss: 0.9719 - val_accuracy: 0.6891\n",
      "Epoch 8/10\n",
      "219/219 [==============================] - 6s 27ms/step - loss: 0.2318 - accuracy: 0.9153 - val_loss: 1.0133 - val_accuracy: 0.7137\n",
      "Epoch 9/10\n",
      "219/219 [==============================] - 6s 27ms/step - loss: 0.2180 - accuracy: 0.9220 - val_loss: 0.8881 - val_accuracy: 0.7238\n",
      "Epoch 10/10\n",
      "219/219 [==============================] - 6s 27ms/step - loss: 0.1758 - accuracy: 0.9381 - val_loss: 1.0078 - val_accuracy: 0.7333\n",
      "---mixed dense list: [1024, 512, 256, 128, 64, 32], tabular dense list: [32, 64, 64], activation: relu---\n"
     ]
    },
    {
     "name": "stderr",
     "output_type": "stream",
     "text": [
      "WARNING:absl:At this time, the v2.11+ optimizer `tf.keras.optimizers.Adam` runs slowly on M1/M2 Macs, please use the legacy Keras optimizer instead, located at `tf.keras.optimizers.legacy.Adam`.\n",
      "WARNING:absl:There is a known slowdown when using v2.11+ Keras optimizers on M1/M2 Macs. Falling back to the legacy Keras optimizer, i.e., `tf.keras.optimizers.legacy.Adam`.\n"
     ]
    },
    {
     "name": "stdout",
     "output_type": "stream",
     "text": [
      "Epoch 1/10\n",
      "219/219 [==============================] - 6s 27ms/step - loss: 1.7260 - accuracy: 0.3402 - val_loss: 1.1275 - val_accuracy: 0.5741\n",
      "Epoch 2/10\n",
      "219/219 [==============================] - 6s 26ms/step - loss: 0.9030 - accuracy: 0.6475 - val_loss: 1.0784 - val_accuracy: 0.5957\n",
      "Epoch 3/10\n",
      "219/219 [==============================] - 6s 27ms/step - loss: 0.6445 - accuracy: 0.7549 - val_loss: 0.8121 - val_accuracy: 0.6916\n",
      "Epoch 4/10\n",
      "219/219 [==============================] - 6s 26ms/step - loss: 0.4627 - accuracy: 0.8286 - val_loss: 0.9954 - val_accuracy: 0.6499\n",
      "Epoch 5/10\n",
      "219/219 [==============================] - 6s 26ms/step - loss: 0.3731 - accuracy: 0.8622 - val_loss: 0.8677 - val_accuracy: 0.7192\n",
      "Epoch 6/10\n",
      "219/219 [==============================] - 6s 26ms/step - loss: 0.2965 - accuracy: 0.8896 - val_loss: 1.0649 - val_accuracy: 0.6625\n",
      "Epoch 7/10\n",
      "219/219 [==============================] - 6s 26ms/step - loss: 0.2432 - accuracy: 0.9115 - val_loss: 1.0351 - val_accuracy: 0.6961\n",
      "Epoch 8/10\n",
      "219/219 [==============================] - 6s 26ms/step - loss: 0.2126 - accuracy: 0.9220 - val_loss: 0.9790 - val_accuracy: 0.7147\n",
      "Epoch 9/10\n",
      "219/219 [==============================] - 6s 26ms/step - loss: 0.1839 - accuracy: 0.9334 - val_loss: 1.0101 - val_accuracy: 0.7233\n",
      "Epoch 10/10\n",
      "219/219 [==============================] - 6s 26ms/step - loss: 0.1877 - accuracy: 0.9325 - val_loss: 1.0219 - val_accuracy: 0.6861\n",
      "---mixed dense list: [1024, 512, 256, 128, 64, 32], tabular dense list: [32, 64, 64], activation: tanh---\n"
     ]
    },
    {
     "name": "stderr",
     "output_type": "stream",
     "text": [
      "WARNING:absl:At this time, the v2.11+ optimizer `tf.keras.optimizers.Adam` runs slowly on M1/M2 Macs, please use the legacy Keras optimizer instead, located at `tf.keras.optimizers.legacy.Adam`.\n",
      "WARNING:absl:There is a known slowdown when using v2.11+ Keras optimizers on M1/M2 Macs. Falling back to the legacy Keras optimizer, i.e., `tf.keras.optimizers.legacy.Adam`.\n"
     ]
    },
    {
     "name": "stdout",
     "output_type": "stream",
     "text": [
      "Epoch 1/10\n",
      "219/219 [==============================] - 6s 26ms/step - loss: 1.4162 - accuracy: 0.4592 - val_loss: 1.1842 - val_accuracy: 0.5635\n",
      "Epoch 2/10\n",
      "219/219 [==============================] - 6s 26ms/step - loss: 0.7215 - accuracy: 0.7281 - val_loss: 0.8042 - val_accuracy: 0.7142\n",
      "Epoch 3/10\n",
      "219/219 [==============================] - 6s 25ms/step - loss: 0.5040 - accuracy: 0.8137 - val_loss: 0.8861 - val_accuracy: 0.6796\n",
      "Epoch 4/10\n",
      "219/219 [==============================] - 6s 25ms/step - loss: 0.3824 - accuracy: 0.8584 - val_loss: 0.9581 - val_accuracy: 0.6796\n",
      "Epoch 5/10\n",
      "219/219 [==============================] - 6s 26ms/step - loss: 0.3129 - accuracy: 0.8859 - val_loss: 0.8971 - val_accuracy: 0.6911\n",
      "Epoch 6/10\n",
      "219/219 [==============================] - 6s 26ms/step - loss: 0.2574 - accuracy: 0.9069 - val_loss: 0.8593 - val_accuracy: 0.7368\n",
      "Epoch 7/10\n",
      "219/219 [==============================] - 6s 25ms/step - loss: 0.2218 - accuracy: 0.9201 - val_loss: 1.0363 - val_accuracy: 0.7052\n",
      "Epoch 8/10\n",
      "219/219 [==============================] - 6s 26ms/step - loss: 0.1852 - accuracy: 0.9341 - val_loss: 1.0348 - val_accuracy: 0.7067\n",
      "Epoch 9/10\n",
      "219/219 [==============================] - 6s 25ms/step - loss: 0.1712 - accuracy: 0.9394 - val_loss: 1.1921 - val_accuracy: 0.6946\n",
      "Epoch 10/10\n",
      "219/219 [==============================] - 6s 26ms/step - loss: 0.1574 - accuracy: 0.9463 - val_loss: 0.9652 - val_accuracy: 0.7413\n",
      "---mixed dense list: [1024, 512, 256, 128, 64, 32], tabular dense list: [32, 64, 64, 32], activation: relu---\n"
     ]
    },
    {
     "name": "stderr",
     "output_type": "stream",
     "text": [
      "WARNING:absl:At this time, the v2.11+ optimizer `tf.keras.optimizers.Adam` runs slowly on M1/M2 Macs, please use the legacy Keras optimizer instead, located at `tf.keras.optimizers.legacy.Adam`.\n",
      "WARNING:absl:There is a known slowdown when using v2.11+ Keras optimizers on M1/M2 Macs. Falling back to the legacy Keras optimizer, i.e., `tf.keras.optimizers.legacy.Adam`.\n"
     ]
    },
    {
     "name": "stdout",
     "output_type": "stream",
     "text": [
      "Epoch 1/10\n",
      "219/219 [==============================] - 6s 27ms/step - loss: 1.7027 - accuracy: 0.4321 - val_loss: 1.2438 - val_accuracy: 0.5183\n",
      "Epoch 2/10\n",
      "219/219 [==============================] - 6s 27ms/step - loss: 0.8683 - accuracy: 0.6714 - val_loss: 1.0154 - val_accuracy: 0.6042\n",
      "Epoch 3/10\n",
      "219/219 [==============================] - 6s 27ms/step - loss: 0.6136 - accuracy: 0.7690 - val_loss: 0.8849 - val_accuracy: 0.6419\n",
      "Epoch 4/10\n",
      "219/219 [==============================] - 6s 27ms/step - loss: 0.4777 - accuracy: 0.8221 - val_loss: 1.1336 - val_accuracy: 0.6102\n",
      "Epoch 5/10\n",
      "219/219 [==============================] - 6s 27ms/step - loss: 0.3890 - accuracy: 0.8554 - val_loss: 0.9531 - val_accuracy: 0.6735\n",
      "Epoch 6/10\n",
      "219/219 [==============================] - 6s 28ms/step - loss: 0.3126 - accuracy: 0.8873 - val_loss: 0.9837 - val_accuracy: 0.6700\n",
      "Epoch 7/10\n",
      "219/219 [==============================] - 6s 27ms/step - loss: 0.2731 - accuracy: 0.9003 - val_loss: 0.9156 - val_accuracy: 0.7067\n",
      "Epoch 8/10\n",
      "219/219 [==============================] - 6s 28ms/step - loss: 0.2272 - accuracy: 0.9190 - val_loss: 1.0084 - val_accuracy: 0.7072\n",
      "Epoch 9/10\n",
      "219/219 [==============================] - 6s 27ms/step - loss: 0.1937 - accuracy: 0.9322 - val_loss: 1.1433 - val_accuracy: 0.6856\n",
      "Epoch 10/10\n",
      "219/219 [==============================] - 6s 27ms/step - loss: 0.1853 - accuracy: 0.9341 - val_loss: 1.1508 - val_accuracy: 0.6640\n",
      "---mixed dense list: [1024, 512, 256, 128, 64, 32], tabular dense list: [32, 64, 64, 32], activation: tanh---\n"
     ]
    },
    {
     "name": "stderr",
     "output_type": "stream",
     "text": [
      "WARNING:absl:At this time, the v2.11+ optimizer `tf.keras.optimizers.Adam` runs slowly on M1/M2 Macs, please use the legacy Keras optimizer instead, located at `tf.keras.optimizers.legacy.Adam`.\n",
      "WARNING:absl:There is a known slowdown when using v2.11+ Keras optimizers on M1/M2 Macs. Falling back to the legacy Keras optimizer, i.e., `tf.keras.optimizers.legacy.Adam`.\n"
     ]
    },
    {
     "name": "stdout",
     "output_type": "stream",
     "text": [
      "Epoch 1/10\n",
      "219/219 [==============================] - 6s 27ms/step - loss: 1.3962 - accuracy: 0.4658 - val_loss: 1.0983 - val_accuracy: 0.6047\n",
      "Epoch 2/10\n",
      "219/219 [==============================] - 6s 26ms/step - loss: 0.7919 - accuracy: 0.7032 - val_loss: 0.8637 - val_accuracy: 0.6866\n",
      "Epoch 3/10\n",
      "219/219 [==============================] - 6s 26ms/step - loss: 0.6035 - accuracy: 0.7730 - val_loss: 0.9310 - val_accuracy: 0.6846\n",
      "Epoch 4/10\n",
      "219/219 [==============================] - 6s 27ms/step - loss: 0.4552 - accuracy: 0.8331 - val_loss: 0.9110 - val_accuracy: 0.6730\n",
      "Epoch 5/10\n",
      "219/219 [==============================] - 6s 26ms/step - loss: 0.3546 - accuracy: 0.8724 - val_loss: 0.9210 - val_accuracy: 0.7017\n",
      "Epoch 6/10\n",
      "219/219 [==============================] - 6s 27ms/step - loss: 0.2723 - accuracy: 0.8998 - val_loss: 0.9426 - val_accuracy: 0.7187\n",
      "Epoch 7/10\n",
      "219/219 [==============================] - 6s 27ms/step - loss: 0.2469 - accuracy: 0.9118 - val_loss: 1.2405 - val_accuracy: 0.6002\n",
      "Epoch 8/10\n",
      "219/219 [==============================] - 6s 27ms/step - loss: 0.2202 - accuracy: 0.9228 - val_loss: 1.1002 - val_accuracy: 0.7202\n",
      "Epoch 9/10\n",
      "219/219 [==============================] - 6s 27ms/step - loss: 0.1729 - accuracy: 0.9393 - val_loss: 1.0777 - val_accuracy: 0.7268\n",
      "Epoch 10/10\n",
      "219/219 [==============================] - 6s 27ms/step - loss: 0.1475 - accuracy: 0.9492 - val_loss: 1.1265 - val_accuracy: 0.7127\n"
     ]
    }
   ],
   "source": [
    "\n",
    "oversample_dict = {}\n",
    "\n",
    "for mixed_dense_list in mixed_dense_lists:\n",
    "    for tabular_dense_list in tabular_dense_lists:\n",
    "        for activation_func in activation_list:\n",
    "        \n",
    "            print(\"---mixed dense list: \" + str(mixed_dense_list) + \", tabular dense list: \" + str(tabular_dense_list) + \", activation: \" + activation_func + \"---\")\n",
    "    \n",
    "            model = build_mixed_model(kernel_size = 3,\n",
    "                                      pool_size = 3,\n",
    "                                      tabular_shape = train_tabular_oversample.shape[1],\n",
    "                                      tabular_activation_func = activation_func,\n",
    "                                      tabular_dense_list = tabular_dense_list,\n",
    "                                      mixed_dense_list = mixed_dense_list)\n",
    "    \n",
    "            history = model.fit(\n",
    "                [x_train_oversample,\n",
    "                 train_tabular_oversample],\n",
    "                y_train_oversample,\n",
    "                validation_data = ([x_valid,\n",
    "                                    valid_tabular_set],\n",
    "                                   y_valid),\n",
    "                epochs=10,  \n",
    "                batch_size=128\n",
    "            )\n",
    "\n",
    "            oversample_dict[(len(mixed_dense_list), len(tabular_dense_list), activation_func)] = [history.history['accuracy'][-1], history.history['val_accuracy'][-1]]\n"
   ]
  },
  {
   "cell_type": "markdown",
   "metadata": {},
   "source": [
    "### 6.3: fit models using image augmentation dataset"
   ]
  },
  {
   "cell_type": "code",
   "execution_count": 23,
   "metadata": {},
   "outputs": [
    {
     "name": "stdout",
     "output_type": "stream",
     "text": [
      "---mixed dense list: [1024], tabular dense list: [32], activation: relu---\n"
     ]
    },
    {
     "name": "stderr",
     "output_type": "stream",
     "text": [
      "WARNING:absl:At this time, the v2.11+ optimizer `tf.keras.optimizers.Adam` runs slowly on M1/M2 Macs, please use the legacy Keras optimizer instead, located at `tf.keras.optimizers.legacy.Adam`.\n",
      "WARNING:absl:There is a known slowdown when using v2.11+ Keras optimizers on M1/M2 Macs. Falling back to the legacy Keras optimizer, i.e., `tf.keras.optimizers.legacy.Adam`.\n"
     ]
    },
    {
     "name": "stdout",
     "output_type": "stream",
     "text": [
      "Epoch 1/10\n",
      "94/94 [==============================] - 2s 25ms/step - loss: 3.6590 - accuracy: 0.6614 - val_loss: 0.9333 - val_accuracy: 0.6941\n",
      "Epoch 2/10\n",
      "94/94 [==============================] - 2s 24ms/step - loss: 0.8820 - accuracy: 0.6990 - val_loss: 0.8895 - val_accuracy: 0.7047\n",
      "Epoch 3/10\n",
      "94/94 [==============================] - 2s 24ms/step - loss: 0.8549 - accuracy: 0.7010 - val_loss: 0.8367 - val_accuracy: 0.7127\n",
      "Epoch 4/10\n",
      "94/94 [==============================] - 2s 25ms/step - loss: 0.8374 - accuracy: 0.7083 - val_loss: 0.8294 - val_accuracy: 0.7152\n",
      "Epoch 5/10\n",
      "94/94 [==============================] - 2s 24ms/step - loss: 0.7982 - accuracy: 0.7098 - val_loss: 0.7478 - val_accuracy: 0.7283\n",
      "Epoch 6/10\n",
      "94/94 [==============================] - 2s 24ms/step - loss: 0.7541 - accuracy: 0.7204 - val_loss: 0.8194 - val_accuracy: 0.7167\n",
      "Epoch 7/10\n",
      "94/94 [==============================] - 2s 24ms/step - loss: 0.7380 - accuracy: 0.7268 - val_loss: 0.8657 - val_accuracy: 0.7233\n",
      "Epoch 8/10\n",
      "94/94 [==============================] - 2s 24ms/step - loss: 0.7222 - accuracy: 0.7288 - val_loss: 0.8239 - val_accuracy: 0.7162\n",
      "Epoch 9/10\n",
      "94/94 [==============================] - 2s 24ms/step - loss: 0.7109 - accuracy: 0.7358 - val_loss: 0.7991 - val_accuracy: 0.7212\n",
      "Epoch 10/10\n",
      "94/94 [==============================] - 2s 24ms/step - loss: 0.6987 - accuracy: 0.7352 - val_loss: 0.8073 - val_accuracy: 0.7288\n",
      "---mixed dense list: [1024], tabular dense list: [32], activation: tanh---\n"
     ]
    },
    {
     "name": "stderr",
     "output_type": "stream",
     "text": [
      "WARNING:absl:At this time, the v2.11+ optimizer `tf.keras.optimizers.Adam` runs slowly on M1/M2 Macs, please use the legacy Keras optimizer instead, located at `tf.keras.optimizers.legacy.Adam`.\n",
      "WARNING:absl:There is a known slowdown when using v2.11+ Keras optimizers on M1/M2 Macs. Falling back to the legacy Keras optimizer, i.e., `tf.keras.optimizers.legacy.Adam`.\n"
     ]
    },
    {
     "name": "stdout",
     "output_type": "stream",
     "text": [
      "Epoch 1/10\n",
      "94/94 [==============================] - 3s 25ms/step - loss: 2.8698 - accuracy: 0.6649 - val_loss: 0.9127 - val_accuracy: 0.6981\n",
      "Epoch 2/10\n",
      "94/94 [==============================] - 2s 24ms/step - loss: 0.8407 - accuracy: 0.7074 - val_loss: 0.8901 - val_accuracy: 0.7017\n",
      "Epoch 3/10\n",
      "94/94 [==============================] - 2s 24ms/step - loss: 0.7880 - accuracy: 0.7162 - val_loss: 0.7788 - val_accuracy: 0.7187\n",
      "Epoch 4/10\n",
      "94/94 [==============================] - 2s 24ms/step - loss: 0.7512 - accuracy: 0.7228 - val_loss: 0.7332 - val_accuracy: 0.7418\n",
      "Epoch 5/10\n",
      "94/94 [==============================] - 2s 23ms/step - loss: 0.7246 - accuracy: 0.7328 - val_loss: 0.7351 - val_accuracy: 0.7323\n",
      "Epoch 6/10\n",
      "94/94 [==============================] - 2s 24ms/step - loss: 0.7025 - accuracy: 0.7395 - val_loss: 0.8043 - val_accuracy: 0.7177\n",
      "Epoch 7/10\n",
      "94/94 [==============================] - 2s 24ms/step - loss: 0.6889 - accuracy: 0.7441 - val_loss: 0.7454 - val_accuracy: 0.7454\n",
      "Epoch 8/10\n",
      "94/94 [==============================] - 2s 25ms/step - loss: 0.6860 - accuracy: 0.7429 - val_loss: 0.7427 - val_accuracy: 0.7423\n",
      "Epoch 9/10\n",
      "94/94 [==============================] - 2s 24ms/step - loss: 0.6602 - accuracy: 0.7513 - val_loss: 0.6854 - val_accuracy: 0.7519\n",
      "Epoch 10/10\n",
      "94/94 [==============================] - 2s 24ms/step - loss: 0.6343 - accuracy: 0.7615 - val_loss: 0.6675 - val_accuracy: 0.7549\n",
      "---mixed dense list: [1024], tabular dense list: [32, 64], activation: relu---\n"
     ]
    },
    {
     "name": "stderr",
     "output_type": "stream",
     "text": [
      "WARNING:absl:At this time, the v2.11+ optimizer `tf.keras.optimizers.Adam` runs slowly on M1/M2 Macs, please use the legacy Keras optimizer instead, located at `tf.keras.optimizers.legacy.Adam`.\n",
      "WARNING:absl:There is a known slowdown when using v2.11+ Keras optimizers on M1/M2 Macs. Falling back to the legacy Keras optimizer, i.e., `tf.keras.optimizers.legacy.Adam`.\n"
     ]
    },
    {
     "name": "stdout",
     "output_type": "stream",
     "text": [
      "Epoch 1/10\n",
      "94/94 [==============================] - 2s 25ms/step - loss: 2.5877 - accuracy: 0.6676 - val_loss: 0.9087 - val_accuracy: 0.7017\n",
      "Epoch 2/10\n",
      "94/94 [==============================] - 2s 23ms/step - loss: 0.8536 - accuracy: 0.7064 - val_loss: 0.8731 - val_accuracy: 0.6976\n",
      "Epoch 3/10\n",
      "94/94 [==============================] - 2s 24ms/step - loss: 0.8081 - accuracy: 0.7112 - val_loss: 0.8020 - val_accuracy: 0.7107\n",
      "Epoch 4/10\n",
      "94/94 [==============================] - 2s 24ms/step - loss: 0.7694 - accuracy: 0.7171 - val_loss: 0.7648 - val_accuracy: 0.7298\n",
      "Epoch 5/10\n",
      "94/94 [==============================] - 2s 25ms/step - loss: 0.7457 - accuracy: 0.7234 - val_loss: 0.7437 - val_accuracy: 0.7288\n",
      "Epoch 6/10\n",
      "94/94 [==============================] - 2s 24ms/step - loss: 0.7281 - accuracy: 0.7287 - val_loss: 0.7843 - val_accuracy: 0.7298\n",
      "Epoch 7/10\n",
      "94/94 [==============================] - 2s 24ms/step - loss: 0.7073 - accuracy: 0.7364 - val_loss: 0.7216 - val_accuracy: 0.7333\n",
      "Epoch 8/10\n",
      "94/94 [==============================] - 2s 23ms/step - loss: 0.6939 - accuracy: 0.7395 - val_loss: 0.8433 - val_accuracy: 0.7157\n",
      "Epoch 9/10\n",
      "94/94 [==============================] - 2s 24ms/step - loss: 0.6820 - accuracy: 0.7452 - val_loss: 0.7198 - val_accuracy: 0.7459\n",
      "Epoch 10/10\n",
      "94/94 [==============================] - 2s 24ms/step - loss: 0.6591 - accuracy: 0.7498 - val_loss: 0.6903 - val_accuracy: 0.7489\n",
      "---mixed dense list: [1024], tabular dense list: [32, 64], activation: tanh---\n"
     ]
    },
    {
     "name": "stderr",
     "output_type": "stream",
     "text": [
      "WARNING:absl:At this time, the v2.11+ optimizer `tf.keras.optimizers.Adam` runs slowly on M1/M2 Macs, please use the legacy Keras optimizer instead, located at `tf.keras.optimizers.legacy.Adam`.\n",
      "WARNING:absl:There is a known slowdown when using v2.11+ Keras optimizers on M1/M2 Macs. Falling back to the legacy Keras optimizer, i.e., `tf.keras.optimizers.legacy.Adam`.\n"
     ]
    },
    {
     "name": "stdout",
     "output_type": "stream",
     "text": [
      "Epoch 1/10\n",
      "94/94 [==============================] - 2s 24ms/step - loss: 1.9727 - accuracy: 0.6768 - val_loss: 0.9090 - val_accuracy: 0.6941\n",
      "Epoch 2/10\n",
      "94/94 [==============================] - 2s 24ms/step - loss: 0.8485 - accuracy: 0.7062 - val_loss: 0.8506 - val_accuracy: 0.7017\n",
      "Epoch 3/10\n",
      "94/94 [==============================] - 2s 23ms/step - loss: 0.7977 - accuracy: 0.7117 - val_loss: 0.7866 - val_accuracy: 0.7122\n",
      "Epoch 4/10\n",
      "94/94 [==============================] - 2s 23ms/step - loss: 0.7659 - accuracy: 0.7177 - val_loss: 0.7748 - val_accuracy: 0.7338\n",
      "Epoch 5/10\n",
      "94/94 [==============================] - 2s 23ms/step - loss: 0.7316 - accuracy: 0.7251 - val_loss: 0.7439 - val_accuracy: 0.7313\n",
      "Epoch 6/10\n",
      "94/94 [==============================] - 2s 23ms/step - loss: 0.7209 - accuracy: 0.7341 - val_loss: 0.7707 - val_accuracy: 0.7202\n",
      "Epoch 7/10\n",
      "94/94 [==============================] - 2s 24ms/step - loss: 0.6951 - accuracy: 0.7383 - val_loss: 0.7764 - val_accuracy: 0.7313\n",
      "Epoch 8/10\n",
      "94/94 [==============================] - 2s 24ms/step - loss: 0.6832 - accuracy: 0.7466 - val_loss: 0.7587 - val_accuracy: 0.7348\n",
      "Epoch 9/10\n",
      "94/94 [==============================] - 2s 24ms/step - loss: 0.6596 - accuracy: 0.7492 - val_loss: 0.6671 - val_accuracy: 0.7569\n",
      "Epoch 10/10\n",
      "94/94 [==============================] - 2s 24ms/step - loss: 0.6534 - accuracy: 0.7549 - val_loss: 0.7075 - val_accuracy: 0.7539\n",
      "---mixed dense list: [1024], tabular dense list: [32, 64, 64], activation: relu---\n"
     ]
    },
    {
     "name": "stderr",
     "output_type": "stream",
     "text": [
      "WARNING:absl:At this time, the v2.11+ optimizer `tf.keras.optimizers.Adam` runs slowly on M1/M2 Macs, please use the legacy Keras optimizer instead, located at `tf.keras.optimizers.legacy.Adam`.\n",
      "WARNING:absl:There is a known slowdown when using v2.11+ Keras optimizers on M1/M2 Macs. Falling back to the legacy Keras optimizer, i.e., `tf.keras.optimizers.legacy.Adam`.\n"
     ]
    },
    {
     "name": "stdout",
     "output_type": "stream",
     "text": [
      "Epoch 1/10\n",
      "94/94 [==============================] - 2s 24ms/step - loss: 2.7190 - accuracy: 0.6615 - val_loss: 0.9239 - val_accuracy: 0.6926\n",
      "Epoch 2/10\n",
      "94/94 [==============================] - 2s 23ms/step - loss: 0.8630 - accuracy: 0.7036 - val_loss: 0.8533 - val_accuracy: 0.7002\n",
      "Epoch 3/10\n",
      "94/94 [==============================] - 2s 23ms/step - loss: 0.8105 - accuracy: 0.7137 - val_loss: 0.8016 - val_accuracy: 0.7077\n",
      "Epoch 4/10\n",
      "94/94 [==============================] - 2s 23ms/step - loss: 0.7935 - accuracy: 0.7131 - val_loss: 0.7738 - val_accuracy: 0.7162\n",
      "Epoch 5/10\n",
      "94/94 [==============================] - 2s 23ms/step - loss: 0.7352 - accuracy: 0.7268 - val_loss: 0.7198 - val_accuracy: 0.7313\n",
      "Epoch 6/10\n",
      "94/94 [==============================] - 2s 24ms/step - loss: 0.7204 - accuracy: 0.7305 - val_loss: 0.8025 - val_accuracy: 0.7152\n",
      "Epoch 7/10\n",
      "94/94 [==============================] - 2s 24ms/step - loss: 0.7144 - accuracy: 0.7338 - val_loss: 0.7721 - val_accuracy: 0.7288\n",
      "Epoch 8/10\n",
      "94/94 [==============================] - 2s 23ms/step - loss: 0.6863 - accuracy: 0.7405 - val_loss: 0.7518 - val_accuracy: 0.7298\n",
      "Epoch 9/10\n",
      "94/94 [==============================] - 2s 23ms/step - loss: 0.6691 - accuracy: 0.7472 - val_loss: 0.6661 - val_accuracy: 0.7449\n",
      "Epoch 10/10\n",
      "94/94 [==============================] - 2s 23ms/step - loss: 0.6621 - accuracy: 0.7512 - val_loss: 0.6923 - val_accuracy: 0.7428\n",
      "---mixed dense list: [1024], tabular dense list: [32, 64, 64], activation: tanh---\n"
     ]
    },
    {
     "name": "stderr",
     "output_type": "stream",
     "text": [
      "WARNING:absl:At this time, the v2.11+ optimizer `tf.keras.optimizers.Adam` runs slowly on M1/M2 Macs, please use the legacy Keras optimizer instead, located at `tf.keras.optimizers.legacy.Adam`.\n",
      "WARNING:absl:There is a known slowdown when using v2.11+ Keras optimizers on M1/M2 Macs. Falling back to the legacy Keras optimizer, i.e., `tf.keras.optimizers.legacy.Adam`.\n"
     ]
    },
    {
     "name": "stdout",
     "output_type": "stream",
     "text": [
      "Epoch 1/10\n",
      "94/94 [==============================] - 2s 24ms/step - loss: 1.8339 - accuracy: 0.6818 - val_loss: 0.8931 - val_accuracy: 0.7007\n",
      "Epoch 2/10\n",
      "94/94 [==============================] - 2s 23ms/step - loss: 0.8277 - accuracy: 0.7062 - val_loss: 0.8520 - val_accuracy: 0.7097\n",
      "Epoch 3/10\n",
      "94/94 [==============================] - 2s 23ms/step - loss: 0.7822 - accuracy: 0.7136 - val_loss: 0.7654 - val_accuracy: 0.7217\n",
      "Epoch 4/10\n",
      "94/94 [==============================] - 2s 25ms/step - loss: 0.7356 - accuracy: 0.7263 - val_loss: 0.7279 - val_accuracy: 0.7449\n",
      "Epoch 5/10\n",
      "94/94 [==============================] - 2s 23ms/step - loss: 0.7120 - accuracy: 0.7346 - val_loss: 0.7119 - val_accuracy: 0.7443\n",
      "Epoch 6/10\n",
      "94/94 [==============================] - 2s 24ms/step - loss: 0.6792 - accuracy: 0.7441 - val_loss: 0.7516 - val_accuracy: 0.7504\n",
      "Epoch 7/10\n",
      "94/94 [==============================] - 2s 23ms/step - loss: 0.6716 - accuracy: 0.7457 - val_loss: 0.7114 - val_accuracy: 0.7524\n",
      "Epoch 8/10\n",
      "94/94 [==============================] - 2s 23ms/step - loss: 0.6565 - accuracy: 0.7530 - val_loss: 0.7828 - val_accuracy: 0.7343\n",
      "Epoch 9/10\n",
      "94/94 [==============================] - 2s 23ms/step - loss: 0.6190 - accuracy: 0.7661 - val_loss: 0.6443 - val_accuracy: 0.7664\n",
      "Epoch 10/10\n",
      "94/94 [==============================] - 2s 24ms/step - loss: 0.6145 - accuracy: 0.7658 - val_loss: 0.6824 - val_accuracy: 0.7675\n",
      "---mixed dense list: [1024], tabular dense list: [32, 64, 64, 32], activation: relu---\n"
     ]
    },
    {
     "name": "stderr",
     "output_type": "stream",
     "text": [
      "WARNING:absl:At this time, the v2.11+ optimizer `tf.keras.optimizers.Adam` runs slowly on M1/M2 Macs, please use the legacy Keras optimizer instead, located at `tf.keras.optimizers.legacy.Adam`.\n",
      "WARNING:absl:There is a known slowdown when using v2.11+ Keras optimizers on M1/M2 Macs. Falling back to the legacy Keras optimizer, i.e., `tf.keras.optimizers.legacy.Adam`.\n"
     ]
    },
    {
     "name": "stdout",
     "output_type": "stream",
     "text": [
      "Epoch 1/10\n",
      "94/94 [==============================] - 3s 26ms/step - loss: 3.6687 - accuracy: 0.6575 - val_loss: 0.9269 - val_accuracy: 0.6921\n",
      "Epoch 2/10\n",
      "94/94 [==============================] - 2s 24ms/step - loss: 0.8527 - accuracy: 0.7047 - val_loss: 0.8801 - val_accuracy: 0.7012\n",
      "Epoch 3/10\n",
      "94/94 [==============================] - 2s 24ms/step - loss: 0.8084 - accuracy: 0.7123 - val_loss: 0.8107 - val_accuracy: 0.7117\n",
      "Epoch 4/10\n",
      "94/94 [==============================] - 2s 24ms/step - loss: 0.7545 - accuracy: 0.7224 - val_loss: 0.7733 - val_accuracy: 0.7348\n",
      "Epoch 5/10\n",
      "94/94 [==============================] - 2s 24ms/step - loss: 0.7317 - accuracy: 0.7295 - val_loss: 0.7578 - val_accuracy: 0.7293\n",
      "Epoch 6/10\n",
      "94/94 [==============================] - 2s 24ms/step - loss: 0.7046 - accuracy: 0.7384 - val_loss: 0.7552 - val_accuracy: 0.7273\n",
      "Epoch 7/10\n",
      "94/94 [==============================] - 2s 24ms/step - loss: 0.6963 - accuracy: 0.7411 - val_loss: 0.7619 - val_accuracy: 0.7278\n",
      "Epoch 8/10\n",
      "94/94 [==============================] - 2s 25ms/step - loss: 0.6776 - accuracy: 0.7435 - val_loss: 0.7737 - val_accuracy: 0.7278\n",
      "Epoch 9/10\n",
      "94/94 [==============================] - 2s 25ms/step - loss: 0.6614 - accuracy: 0.7491 - val_loss: 0.7310 - val_accuracy: 0.7408\n",
      "Epoch 10/10\n",
      "94/94 [==============================] - 2s 24ms/step - loss: 0.6510 - accuracy: 0.7522 - val_loss: 0.7011 - val_accuracy: 0.7418\n",
      "---mixed dense list: [1024], tabular dense list: [32, 64, 64, 32], activation: tanh---\n"
     ]
    },
    {
     "name": "stderr",
     "output_type": "stream",
     "text": [
      "WARNING:absl:At this time, the v2.11+ optimizer `tf.keras.optimizers.Adam` runs slowly on M1/M2 Macs, please use the legacy Keras optimizer instead, located at `tf.keras.optimizers.legacy.Adam`.\n",
      "WARNING:absl:There is a known slowdown when using v2.11+ Keras optimizers on M1/M2 Macs. Falling back to the legacy Keras optimizer, i.e., `tf.keras.optimizers.legacy.Adam`.\n"
     ]
    },
    {
     "name": "stdout",
     "output_type": "stream",
     "text": [
      "Epoch 1/10\n",
      "94/94 [==============================] - 2s 24ms/step - loss: 2.3146 - accuracy: 0.6749 - val_loss: 0.9186 - val_accuracy: 0.6946\n",
      "Epoch 2/10\n",
      "94/94 [==============================] - 2s 24ms/step - loss: 0.8526 - accuracy: 0.7072 - val_loss: 0.8518 - val_accuracy: 0.7057\n",
      "Epoch 3/10\n",
      "94/94 [==============================] - 2s 24ms/step - loss: 0.7918 - accuracy: 0.7164 - val_loss: 0.7557 - val_accuracy: 0.7223\n",
      "Epoch 4/10\n",
      "94/94 [==============================] - 2s 24ms/step - loss: 0.7482 - accuracy: 0.7241 - val_loss: 0.7801 - val_accuracy: 0.7182\n",
      "Epoch 5/10\n",
      "94/94 [==============================] - 2s 25ms/step - loss: 0.7217 - accuracy: 0.7347 - val_loss: 0.7341 - val_accuracy: 0.7388\n",
      "Epoch 6/10\n",
      "94/94 [==============================] - 2s 24ms/step - loss: 0.6975 - accuracy: 0.7414 - val_loss: 0.7485 - val_accuracy: 0.7423\n",
      "Epoch 7/10\n",
      "94/94 [==============================] - 2s 24ms/step - loss: 0.6900 - accuracy: 0.7442 - val_loss: 0.7891 - val_accuracy: 0.7333\n",
      "Epoch 8/10\n",
      "94/94 [==============================] - 2s 24ms/step - loss: 0.6631 - accuracy: 0.7514 - val_loss: 0.7698 - val_accuracy: 0.7388\n",
      "Epoch 9/10\n",
      "94/94 [==============================] - 2s 24ms/step - loss: 0.6506 - accuracy: 0.7565 - val_loss: 0.6625 - val_accuracy: 0.7604\n",
      "Epoch 10/10\n",
      "94/94 [==============================] - 2s 24ms/step - loss: 0.6348 - accuracy: 0.7637 - val_loss: 0.7192 - val_accuracy: 0.7549\n",
      "---mixed dense list: [1024, 512], tabular dense list: [32], activation: relu---\n"
     ]
    },
    {
     "name": "stderr",
     "output_type": "stream",
     "text": [
      "WARNING:absl:At this time, the v2.11+ optimizer `tf.keras.optimizers.Adam` runs slowly on M1/M2 Macs, please use the legacy Keras optimizer instead, located at `tf.keras.optimizers.legacy.Adam`.\n",
      "WARNING:absl:There is a known slowdown when using v2.11+ Keras optimizers on M1/M2 Macs. Falling back to the legacy Keras optimizer, i.e., `tf.keras.optimizers.legacy.Adam`.\n"
     ]
    },
    {
     "name": "stdout",
     "output_type": "stream",
     "text": [
      "Epoch 1/10\n",
      "94/94 [==============================] - 3s 27ms/step - loss: 2.1258 - accuracy: 0.6618 - val_loss: 0.9453 - val_accuracy: 0.6941\n",
      "Epoch 2/10\n",
      "94/94 [==============================] - 2s 26ms/step - loss: 0.8690 - accuracy: 0.7005 - val_loss: 0.8700 - val_accuracy: 0.7047\n",
      "Epoch 3/10\n",
      "94/94 [==============================] - 2s 25ms/step - loss: 0.8175 - accuracy: 0.7086 - val_loss: 0.8307 - val_accuracy: 0.7072\n",
      "Epoch 4/10\n",
      "94/94 [==============================] - 2s 25ms/step - loss: 0.7859 - accuracy: 0.7167 - val_loss: 0.7766 - val_accuracy: 0.7192\n",
      "Epoch 5/10\n",
      "94/94 [==============================] - 2s 25ms/step - loss: 0.7586 - accuracy: 0.7216 - val_loss: 0.7732 - val_accuracy: 0.7228\n",
      "Epoch 6/10\n",
      "94/94 [==============================] - 2s 25ms/step - loss: 0.7454 - accuracy: 0.7272 - val_loss: 0.8216 - val_accuracy: 0.7072\n",
      "Epoch 7/10\n",
      "94/94 [==============================] - 2s 25ms/step - loss: 0.7611 - accuracy: 0.7195 - val_loss: 0.7161 - val_accuracy: 0.7308\n",
      "Epoch 8/10\n",
      "94/94 [==============================] - 2s 26ms/step - loss: 0.7298 - accuracy: 0.7304 - val_loss: 0.8308 - val_accuracy: 0.7112\n",
      "Epoch 9/10\n",
      "94/94 [==============================] - 2s 25ms/step - loss: 0.7026 - accuracy: 0.7401 - val_loss: 0.7081 - val_accuracy: 0.7428\n",
      "Epoch 10/10\n",
      "94/94 [==============================] - 2s 25ms/step - loss: 0.6904 - accuracy: 0.7455 - val_loss: 0.7150 - val_accuracy: 0.7464\n",
      "---mixed dense list: [1024, 512], tabular dense list: [32], activation: tanh---\n"
     ]
    },
    {
     "name": "stderr",
     "output_type": "stream",
     "text": [
      "WARNING:absl:At this time, the v2.11+ optimizer `tf.keras.optimizers.Adam` runs slowly on M1/M2 Macs, please use the legacy Keras optimizer instead, located at `tf.keras.optimizers.legacy.Adam`.\n",
      "WARNING:absl:There is a known slowdown when using v2.11+ Keras optimizers on M1/M2 Macs. Falling back to the legacy Keras optimizer, i.e., `tf.keras.optimizers.legacy.Adam`.\n"
     ]
    },
    {
     "name": "stdout",
     "output_type": "stream",
     "text": [
      "Epoch 1/10\n",
      "94/94 [==============================] - 3s 26ms/step - loss: 1.9485 - accuracy: 0.6656 - val_loss: 0.9079 - val_accuracy: 0.6961\n",
      "Epoch 2/10\n",
      "94/94 [==============================] - 2s 26ms/step - loss: 0.8452 - accuracy: 0.7073 - val_loss: 0.8244 - val_accuracy: 0.7122\n",
      "Epoch 3/10\n",
      "94/94 [==============================] - 2s 26ms/step - loss: 0.7920 - accuracy: 0.7133 - val_loss: 0.7984 - val_accuracy: 0.7162\n",
      "Epoch 4/10\n",
      "94/94 [==============================] - 3s 27ms/step - loss: 0.7616 - accuracy: 0.7209 - val_loss: 0.7874 - val_accuracy: 0.7177\n",
      "Epoch 5/10\n",
      "94/94 [==============================] - 2s 25ms/step - loss: 0.7374 - accuracy: 0.7289 - val_loss: 0.7324 - val_accuracy: 0.7348\n",
      "Epoch 6/10\n",
      "94/94 [==============================] - 2s 26ms/step - loss: 0.7244 - accuracy: 0.7320 - val_loss: 0.7042 - val_accuracy: 0.7459\n",
      "Epoch 7/10\n",
      "94/94 [==============================] - 2s 25ms/step - loss: 0.7004 - accuracy: 0.7379 - val_loss: 0.6814 - val_accuracy: 0.7504\n",
      "Epoch 8/10\n",
      "94/94 [==============================] - 2s 26ms/step - loss: 0.6906 - accuracy: 0.7391 - val_loss: 0.7192 - val_accuracy: 0.7433\n",
      "Epoch 9/10\n",
      "94/94 [==============================] - 2s 25ms/step - loss: 0.6675 - accuracy: 0.7483 - val_loss: 0.6968 - val_accuracy: 0.7474\n",
      "Epoch 10/10\n",
      "94/94 [==============================] - 2s 25ms/step - loss: 0.6571 - accuracy: 0.7526 - val_loss: 0.6632 - val_accuracy: 0.7559\n",
      "---mixed dense list: [1024, 512], tabular dense list: [32, 64], activation: relu---\n"
     ]
    },
    {
     "name": "stderr",
     "output_type": "stream",
     "text": [
      "WARNING:absl:At this time, the v2.11+ optimizer `tf.keras.optimizers.Adam` runs slowly on M1/M2 Macs, please use the legacy Keras optimizer instead, located at `tf.keras.optimizers.legacy.Adam`.\n",
      "WARNING:absl:There is a known slowdown when using v2.11+ Keras optimizers on M1/M2 Macs. Falling back to the legacy Keras optimizer, i.e., `tf.keras.optimizers.legacy.Adam`.\n"
     ]
    },
    {
     "name": "stdout",
     "output_type": "stream",
     "text": [
      "Epoch 1/10\n",
      "94/94 [==============================] - 3s 28ms/step - loss: 2.3214 - accuracy: 0.6650 - val_loss: 0.9316 - val_accuracy: 0.6901\n",
      "Epoch 2/10\n",
      "94/94 [==============================] - 2s 25ms/step - loss: 0.8481 - accuracy: 0.7058 - val_loss: 0.8604 - val_accuracy: 0.7032\n",
      "Epoch 3/10\n",
      "94/94 [==============================] - 2s 26ms/step - loss: 0.7953 - accuracy: 0.7146 - val_loss: 0.8052 - val_accuracy: 0.7147\n",
      "Epoch 4/10\n",
      "94/94 [==============================] - 2s 25ms/step - loss: 0.7557 - accuracy: 0.7216 - val_loss: 0.7356 - val_accuracy: 0.7383\n",
      "Epoch 5/10\n",
      "94/94 [==============================] - 2s 25ms/step - loss: 0.7251 - accuracy: 0.7298 - val_loss: 0.7219 - val_accuracy: 0.7368\n",
      "Epoch 6/10\n",
      "94/94 [==============================] - 2s 25ms/step - loss: 0.7058 - accuracy: 0.7367 - val_loss: 0.8141 - val_accuracy: 0.7288\n",
      "Epoch 7/10\n",
      "94/94 [==============================] - 2s 26ms/step - loss: 0.6901 - accuracy: 0.7452 - val_loss: 0.7096 - val_accuracy: 0.7504\n",
      "Epoch 8/10\n",
      "94/94 [==============================] - 2s 26ms/step - loss: 0.6672 - accuracy: 0.7498 - val_loss: 0.7006 - val_accuracy: 0.7559\n",
      "Epoch 9/10\n",
      "94/94 [==============================] - 2s 25ms/step - loss: 0.6473 - accuracy: 0.7564 - val_loss: 0.6691 - val_accuracy: 0.7619\n",
      "Epoch 10/10\n",
      "94/94 [==============================] - 2s 25ms/step - loss: 0.6253 - accuracy: 0.7633 - val_loss: 0.6651 - val_accuracy: 0.7579\n",
      "---mixed dense list: [1024, 512], tabular dense list: [32, 64], activation: tanh---\n"
     ]
    },
    {
     "name": "stderr",
     "output_type": "stream",
     "text": [
      "WARNING:absl:At this time, the v2.11+ optimizer `tf.keras.optimizers.Adam` runs slowly on M1/M2 Macs, please use the legacy Keras optimizer instead, located at `tf.keras.optimizers.legacy.Adam`.\n",
      "WARNING:absl:There is a known slowdown when using v2.11+ Keras optimizers on M1/M2 Macs. Falling back to the legacy Keras optimizer, i.e., `tf.keras.optimizers.legacy.Adam`.\n"
     ]
    },
    {
     "name": "stdout",
     "output_type": "stream",
     "text": [
      "Epoch 1/10\n",
      "94/94 [==============================] - 3s 26ms/step - loss: 2.4374 - accuracy: 0.6752 - val_loss: 0.9153 - val_accuracy: 0.7007\n",
      "Epoch 2/10\n",
      "94/94 [==============================] - 2s 26ms/step - loss: 0.8513 - accuracy: 0.7052 - val_loss: 0.8809 - val_accuracy: 0.7027\n",
      "Epoch 3/10\n",
      "94/94 [==============================] - 2s 25ms/step - loss: 0.8239 - accuracy: 0.7091 - val_loss: 0.8396 - val_accuracy: 0.7072\n",
      "Epoch 4/10\n",
      "94/94 [==============================] - 2s 27ms/step - loss: 0.7900 - accuracy: 0.7174 - val_loss: 0.7822 - val_accuracy: 0.7167\n",
      "Epoch 5/10\n",
      "94/94 [==============================] - 2s 25ms/step - loss: 0.7450 - accuracy: 0.7238 - val_loss: 0.7682 - val_accuracy: 0.7112\n",
      "Epoch 6/10\n",
      "94/94 [==============================] - 2s 25ms/step - loss: 0.7284 - accuracy: 0.7287 - val_loss: 0.7018 - val_accuracy: 0.7373\n",
      "Epoch 7/10\n",
      "94/94 [==============================] - 2s 26ms/step - loss: 0.7089 - accuracy: 0.7320 - val_loss: 0.7753 - val_accuracy: 0.7333\n",
      "Epoch 8/10\n",
      "94/94 [==============================] - 2s 26ms/step - loss: 0.6871 - accuracy: 0.7421 - val_loss: 0.7514 - val_accuracy: 0.7338\n",
      "Epoch 9/10\n",
      "94/94 [==============================] - 2s 26ms/step - loss: 0.6794 - accuracy: 0.7448 - val_loss: 0.6751 - val_accuracy: 0.7519\n",
      "Epoch 10/10\n",
      "94/94 [==============================] - 2s 26ms/step - loss: 0.6530 - accuracy: 0.7546 - val_loss: 0.7040 - val_accuracy: 0.7443\n",
      "---mixed dense list: [1024, 512], tabular dense list: [32, 64, 64], activation: relu---\n"
     ]
    },
    {
     "name": "stderr",
     "output_type": "stream",
     "text": [
      "WARNING:absl:At this time, the v2.11+ optimizer `tf.keras.optimizers.Adam` runs slowly on M1/M2 Macs, please use the legacy Keras optimizer instead, located at `tf.keras.optimizers.legacy.Adam`.\n",
      "WARNING:absl:There is a known slowdown when using v2.11+ Keras optimizers on M1/M2 Macs. Falling back to the legacy Keras optimizer, i.e., `tf.keras.optimizers.legacy.Adam`.\n"
     ]
    },
    {
     "name": "stdout",
     "output_type": "stream",
     "text": [
      "Epoch 1/10\n",
      "94/94 [==============================] - 3s 27ms/step - loss: 2.6519 - accuracy: 0.6544 - val_loss: 0.9410 - val_accuracy: 0.6881\n",
      "Epoch 2/10\n",
      "94/94 [==============================] - 2s 25ms/step - loss: 0.8579 - accuracy: 0.7041 - val_loss: 0.8593 - val_accuracy: 0.7062\n",
      "Epoch 3/10\n",
      "94/94 [==============================] - 2s 25ms/step - loss: 0.8113 - accuracy: 0.7087 - val_loss: 0.8154 - val_accuracy: 0.7082\n",
      "Epoch 4/10\n",
      "94/94 [==============================] - 2s 25ms/step - loss: 0.7678 - accuracy: 0.7177 - val_loss: 0.7874 - val_accuracy: 0.7313\n",
      "Epoch 5/10\n",
      "94/94 [==============================] - 2s 25ms/step - loss: 0.7496 - accuracy: 0.7282 - val_loss: 0.7456 - val_accuracy: 0.7368\n",
      "Epoch 6/10\n",
      "94/94 [==============================] - 2s 25ms/step - loss: 0.7215 - accuracy: 0.7347 - val_loss: 0.7801 - val_accuracy: 0.7273\n",
      "Epoch 7/10\n",
      "94/94 [==============================] - 2s 26ms/step - loss: 0.7156 - accuracy: 0.7378 - val_loss: 0.8289 - val_accuracy: 0.7313\n",
      "Epoch 8/10\n",
      "94/94 [==============================] - 2s 25ms/step - loss: 0.6992 - accuracy: 0.7375 - val_loss: 0.7589 - val_accuracy: 0.7293\n",
      "Epoch 9/10\n",
      "94/94 [==============================] - 2s 26ms/step - loss: 0.6776 - accuracy: 0.7439 - val_loss: 0.7343 - val_accuracy: 0.7383\n",
      "Epoch 10/10\n",
      "94/94 [==============================] - 2s 26ms/step - loss: 0.6615 - accuracy: 0.7510 - val_loss: 0.6884 - val_accuracy: 0.7534\n",
      "---mixed dense list: [1024, 512], tabular dense list: [32, 64, 64], activation: tanh---\n"
     ]
    },
    {
     "name": "stderr",
     "output_type": "stream",
     "text": [
      "WARNING:absl:At this time, the v2.11+ optimizer `tf.keras.optimizers.Adam` runs slowly on M1/M2 Macs, please use the legacy Keras optimizer instead, located at `tf.keras.optimizers.legacy.Adam`.\n",
      "WARNING:absl:There is a known slowdown when using v2.11+ Keras optimizers on M1/M2 Macs. Falling back to the legacy Keras optimizer, i.e., `tf.keras.optimizers.legacy.Adam`.\n"
     ]
    },
    {
     "name": "stdout",
     "output_type": "stream",
     "text": [
      "Epoch 1/10\n",
      "94/94 [==============================] - 3s 29ms/step - loss: 2.9142 - accuracy: 0.6673 - val_loss: 0.9257 - val_accuracy: 0.6951\n",
      "Epoch 2/10\n",
      "94/94 [==============================] - 3s 27ms/step - loss: 0.8700 - accuracy: 0.7032 - val_loss: 0.8754 - val_accuracy: 0.7037\n",
      "Epoch 3/10\n",
      "94/94 [==============================] - 3s 28ms/step - loss: 0.8158 - accuracy: 0.7093 - val_loss: 0.8395 - val_accuracy: 0.7107\n",
      "Epoch 4/10\n",
      "94/94 [==============================] - 3s 27ms/step - loss: 0.7819 - accuracy: 0.7172 - val_loss: 0.7921 - val_accuracy: 0.7167\n",
      "Epoch 5/10\n",
      "94/94 [==============================] - 3s 27ms/step - loss: 0.7598 - accuracy: 0.7198 - val_loss: 0.7408 - val_accuracy: 0.7308\n",
      "Epoch 6/10\n",
      "94/94 [==============================] - 3s 28ms/step - loss: 0.7383 - accuracy: 0.7260 - val_loss: 0.7193 - val_accuracy: 0.7338\n",
      "Epoch 7/10\n",
      "94/94 [==============================] - 3s 27ms/step - loss: 0.7199 - accuracy: 0.7309 - val_loss: 0.7829 - val_accuracy: 0.7323\n",
      "Epoch 8/10\n",
      "94/94 [==============================] - 3s 27ms/step - loss: 0.7065 - accuracy: 0.7379 - val_loss: 0.8429 - val_accuracy: 0.7253\n",
      "Epoch 9/10\n",
      "94/94 [==============================] - 3s 28ms/step - loss: 0.6752 - accuracy: 0.7470 - val_loss: 0.7040 - val_accuracy: 0.7413\n",
      "Epoch 10/10\n",
      "94/94 [==============================] - 3s 28ms/step - loss: 0.6704 - accuracy: 0.7496 - val_loss: 0.6890 - val_accuracy: 0.7393\n",
      "---mixed dense list: [1024, 512], tabular dense list: [32, 64, 64, 32], activation: relu---\n"
     ]
    },
    {
     "name": "stderr",
     "output_type": "stream",
     "text": [
      "WARNING:absl:At this time, the v2.11+ optimizer `tf.keras.optimizers.Adam` runs slowly on M1/M2 Macs, please use the legacy Keras optimizer instead, located at `tf.keras.optimizers.legacy.Adam`.\n",
      "WARNING:absl:There is a known slowdown when using v2.11+ Keras optimizers on M1/M2 Macs. Falling back to the legacy Keras optimizer, i.e., `tf.keras.optimizers.legacy.Adam`.\n"
     ]
    },
    {
     "name": "stdout",
     "output_type": "stream",
     "text": [
      "Epoch 1/10\n",
      "94/94 [==============================] - 3s 27ms/step - loss: 2.4804 - accuracy: 0.6615 - val_loss: 0.9518 - val_accuracy: 0.6856\n",
      "Epoch 2/10\n",
      "94/94 [==============================] - 3s 27ms/step - loss: 0.8717 - accuracy: 0.6996 - val_loss: 0.8759 - val_accuracy: 0.7002\n",
      "Epoch 3/10\n",
      "94/94 [==============================] - 2s 26ms/step - loss: 0.8283 - accuracy: 0.7090 - val_loss: 0.8451 - val_accuracy: 0.7097\n",
      "Epoch 4/10\n",
      "94/94 [==============================] - 3s 27ms/step - loss: 0.7829 - accuracy: 0.7195 - val_loss: 0.7755 - val_accuracy: 0.7197\n",
      "Epoch 5/10\n",
      "94/94 [==============================] - 3s 27ms/step - loss: 0.7545 - accuracy: 0.7213 - val_loss: 0.7576 - val_accuracy: 0.7238\n",
      "Epoch 6/10\n",
      "94/94 [==============================] - 3s 27ms/step - loss: 0.7370 - accuracy: 0.7272 - val_loss: 0.7897 - val_accuracy: 0.7308\n",
      "Epoch 7/10\n",
      "94/94 [==============================] - 2s 27ms/step - loss: 0.7233 - accuracy: 0.7340 - val_loss: 0.7536 - val_accuracy: 0.7383\n",
      "Epoch 8/10\n",
      "94/94 [==============================] - 2s 27ms/step - loss: 0.7048 - accuracy: 0.7362 - val_loss: 0.8083 - val_accuracy: 0.7233\n",
      "Epoch 9/10\n",
      "94/94 [==============================] - 2s 26ms/step - loss: 0.6789 - accuracy: 0.7473 - val_loss: 0.7294 - val_accuracy: 0.7418\n",
      "Epoch 10/10\n",
      "94/94 [==============================] - 2s 26ms/step - loss: 0.6684 - accuracy: 0.7475 - val_loss: 0.7362 - val_accuracy: 0.7454\n",
      "---mixed dense list: [1024, 512], tabular dense list: [32, 64, 64, 32], activation: tanh---\n"
     ]
    },
    {
     "name": "stderr",
     "output_type": "stream",
     "text": [
      "WARNING:absl:At this time, the v2.11+ optimizer `tf.keras.optimizers.Adam` runs slowly on M1/M2 Macs, please use the legacy Keras optimizer instead, located at `tf.keras.optimizers.legacy.Adam`.\n",
      "WARNING:absl:There is a known slowdown when using v2.11+ Keras optimizers on M1/M2 Macs. Falling back to the legacy Keras optimizer, i.e., `tf.keras.optimizers.legacy.Adam`.\n"
     ]
    },
    {
     "name": "stdout",
     "output_type": "stream",
     "text": [
      "Epoch 1/10\n",
      "94/94 [==============================] - 3s 26ms/step - loss: 2.0209 - accuracy: 0.6687 - val_loss: 0.9185 - val_accuracy: 0.7007\n",
      "Epoch 2/10\n",
      "94/94 [==============================] - 3s 27ms/step - loss: 0.8485 - accuracy: 0.7051 - val_loss: 0.8501 - val_accuracy: 0.7057\n",
      "Epoch 3/10\n",
      "94/94 [==============================] - 2s 26ms/step - loss: 0.8018 - accuracy: 0.7110 - val_loss: 0.8114 - val_accuracy: 0.7132\n",
      "Epoch 4/10\n",
      "94/94 [==============================] - 2s 26ms/step - loss: 0.7730 - accuracy: 0.7189 - val_loss: 0.7742 - val_accuracy: 0.7253\n",
      "Epoch 5/10\n",
      "94/94 [==============================] - 2s 26ms/step - loss: 0.7539 - accuracy: 0.7179 - val_loss: 0.7324 - val_accuracy: 0.7228\n",
      "Epoch 6/10\n",
      "94/94 [==============================] - 2s 26ms/step - loss: 0.7189 - accuracy: 0.7288 - val_loss: 0.7282 - val_accuracy: 0.7303\n",
      "Epoch 7/10\n",
      "94/94 [==============================] - 2s 26ms/step - loss: 0.7039 - accuracy: 0.7356 - val_loss: 0.7584 - val_accuracy: 0.7343\n",
      "Epoch 8/10\n",
      "94/94 [==============================] - 3s 27ms/step - loss: 0.6857 - accuracy: 0.7395 - val_loss: 0.7386 - val_accuracy: 0.7343\n",
      "Epoch 9/10\n",
      "94/94 [==============================] - 2s 26ms/step - loss: 0.6678 - accuracy: 0.7483 - val_loss: 0.6701 - val_accuracy: 0.7524\n",
      "Epoch 10/10\n",
      "94/94 [==============================] - 2s 26ms/step - loss: 0.6583 - accuracy: 0.7497 - val_loss: 0.7224 - val_accuracy: 0.7333\n",
      "---mixed dense list: [1024, 512, 256], tabular dense list: [32], activation: relu---\n"
     ]
    },
    {
     "name": "stderr",
     "output_type": "stream",
     "text": [
      "WARNING:absl:At this time, the v2.11+ optimizer `tf.keras.optimizers.Adam` runs slowly on M1/M2 Macs, please use the legacy Keras optimizer instead, located at `tf.keras.optimizers.legacy.Adam`.\n",
      "WARNING:absl:There is a known slowdown when using v2.11+ Keras optimizers on M1/M2 Macs. Falling back to the legacy Keras optimizer, i.e., `tf.keras.optimizers.legacy.Adam`.\n"
     ]
    },
    {
     "name": "stdout",
     "output_type": "stream",
     "text": [
      "Epoch 1/10\n",
      "94/94 [==============================] - 3s 26ms/step - loss: 1.9940 - accuracy: 0.6579 - val_loss: 0.9355 - val_accuracy: 0.6921\n",
      "Epoch 2/10\n",
      "94/94 [==============================] - 2s 26ms/step - loss: 0.8570 - accuracy: 0.7051 - val_loss: 0.8665 - val_accuracy: 0.7082\n",
      "Epoch 3/10\n",
      "94/94 [==============================] - 2s 26ms/step - loss: 0.8005 - accuracy: 0.7148 - val_loss: 0.8045 - val_accuracy: 0.7152\n",
      "Epoch 4/10\n",
      "94/94 [==============================] - 2s 26ms/step - loss: 0.7695 - accuracy: 0.7207 - val_loss: 0.7405 - val_accuracy: 0.7318\n",
      "Epoch 5/10\n",
      "94/94 [==============================] - 3s 27ms/step - loss: 0.7535 - accuracy: 0.7248 - val_loss: 0.7357 - val_accuracy: 0.7318\n",
      "Epoch 6/10\n",
      "94/94 [==============================] - 2s 26ms/step - loss: 0.7350 - accuracy: 0.7289 - val_loss: 0.7417 - val_accuracy: 0.7433\n",
      "Epoch 7/10\n",
      "94/94 [==============================] - 2s 25ms/step - loss: 0.7246 - accuracy: 0.7338 - val_loss: 0.7506 - val_accuracy: 0.7338\n",
      "Epoch 8/10\n",
      "94/94 [==============================] - 2s 26ms/step - loss: 0.7106 - accuracy: 0.7375 - val_loss: 0.7597 - val_accuracy: 0.7383\n",
      "Epoch 9/10\n",
      "94/94 [==============================] - 2s 26ms/step - loss: 0.6945 - accuracy: 0.7395 - val_loss: 0.6934 - val_accuracy: 0.7348\n",
      "Epoch 10/10\n",
      "94/94 [==============================] - 2s 26ms/step - loss: 0.6811 - accuracy: 0.7442 - val_loss: 0.6887 - val_accuracy: 0.7524\n",
      "---mixed dense list: [1024, 512, 256], tabular dense list: [32], activation: tanh---\n"
     ]
    },
    {
     "name": "stderr",
     "output_type": "stream",
     "text": [
      "WARNING:absl:At this time, the v2.11+ optimizer `tf.keras.optimizers.Adam` runs slowly on M1/M2 Macs, please use the legacy Keras optimizer instead, located at `tf.keras.optimizers.legacy.Adam`.\n",
      "WARNING:absl:There is a known slowdown when using v2.11+ Keras optimizers on M1/M2 Macs. Falling back to the legacy Keras optimizer, i.e., `tf.keras.optimizers.legacy.Adam`.\n"
     ]
    },
    {
     "name": "stdout",
     "output_type": "stream",
     "text": [
      "Epoch 1/10\n",
      "94/94 [==============================] - 3s 28ms/step - loss: 2.2027 - accuracy: 0.6636 - val_loss: 0.9327 - val_accuracy: 0.6976\n",
      "Epoch 2/10\n",
      "94/94 [==============================] - 2s 26ms/step - loss: 0.8951 - accuracy: 0.6984 - val_loss: 0.8728 - val_accuracy: 0.6991\n",
      "Epoch 3/10\n",
      "94/94 [==============================] - 2s 26ms/step - loss: 0.8580 - accuracy: 0.7002 - val_loss: 0.8488 - val_accuracy: 0.7007\n",
      "Epoch 4/10\n",
      "94/94 [==============================] - 2s 26ms/step - loss: 0.8257 - accuracy: 0.7061 - val_loss: 0.8284 - val_accuracy: 0.7092\n",
      "Epoch 5/10\n",
      "94/94 [==============================] - 2s 26ms/step - loss: 0.8009 - accuracy: 0.7094 - val_loss: 0.7856 - val_accuracy: 0.7142\n",
      "Epoch 6/10\n",
      "94/94 [==============================] - 2s 26ms/step - loss: 0.7754 - accuracy: 0.7123 - val_loss: 0.7578 - val_accuracy: 0.7243\n",
      "Epoch 7/10\n",
      "94/94 [==============================] - 2s 26ms/step - loss: 0.7597 - accuracy: 0.7176 - val_loss: 0.7338 - val_accuracy: 0.7268\n",
      "Epoch 8/10\n",
      "94/94 [==============================] - 3s 27ms/step - loss: 0.7528 - accuracy: 0.7207 - val_loss: 0.7775 - val_accuracy: 0.7142\n",
      "Epoch 9/10\n",
      "94/94 [==============================] - 2s 26ms/step - loss: 0.7269 - accuracy: 0.7301 - val_loss: 0.7035 - val_accuracy: 0.7348\n",
      "Epoch 10/10\n",
      "94/94 [==============================] - 2s 26ms/step - loss: 0.7174 - accuracy: 0.7307 - val_loss: 0.7131 - val_accuracy: 0.7283\n",
      "---mixed dense list: [1024, 512, 256], tabular dense list: [32, 64], activation: relu---\n"
     ]
    },
    {
     "name": "stderr",
     "output_type": "stream",
     "text": [
      "WARNING:absl:At this time, the v2.11+ optimizer `tf.keras.optimizers.Adam` runs slowly on M1/M2 Macs, please use the legacy Keras optimizer instead, located at `tf.keras.optimizers.legacy.Adam`.\n",
      "WARNING:absl:There is a known slowdown when using v2.11+ Keras optimizers on M1/M2 Macs. Falling back to the legacy Keras optimizer, i.e., `tf.keras.optimizers.legacy.Adam`.\n"
     ]
    },
    {
     "name": "stdout",
     "output_type": "stream",
     "text": [
      "Epoch 1/10\n",
      "94/94 [==============================] - 3s 27ms/step - loss: 1.6614 - accuracy: 0.6643 - val_loss: 0.9244 - val_accuracy: 0.6976\n",
      "Epoch 2/10\n",
      "94/94 [==============================] - 2s 26ms/step - loss: 0.8398 - accuracy: 0.7086 - val_loss: 0.8893 - val_accuracy: 0.7032\n",
      "Epoch 3/10\n",
      "94/94 [==============================] - 3s 27ms/step - loss: 0.7858 - accuracy: 0.7180 - val_loss: 0.8132 - val_accuracy: 0.7107\n",
      "Epoch 4/10\n",
      "94/94 [==============================] - 3s 27ms/step - loss: 0.7469 - accuracy: 0.7227 - val_loss: 0.7309 - val_accuracy: 0.7298\n",
      "Epoch 5/10\n",
      "94/94 [==============================] - 2s 26ms/step - loss: 0.7291 - accuracy: 0.7348 - val_loss: 0.7624 - val_accuracy: 0.7263\n",
      "Epoch 6/10\n",
      "94/94 [==============================] - 2s 27ms/step - loss: 0.7070 - accuracy: 0.7380 - val_loss: 0.7421 - val_accuracy: 0.7428\n",
      "Epoch 7/10\n",
      "94/94 [==============================] - 2s 26ms/step - loss: 0.6867 - accuracy: 0.7456 - val_loss: 0.6900 - val_accuracy: 0.7443\n",
      "Epoch 8/10\n",
      "94/94 [==============================] - 2s 26ms/step - loss: 0.6710 - accuracy: 0.7506 - val_loss: 0.7695 - val_accuracy: 0.7263\n",
      "Epoch 9/10\n",
      "94/94 [==============================] - 3s 27ms/step - loss: 0.6560 - accuracy: 0.7539 - val_loss: 0.7028 - val_accuracy: 0.7388\n",
      "Epoch 10/10\n",
      "94/94 [==============================] - 3s 28ms/step - loss: 0.6601 - accuracy: 0.7542 - val_loss: 0.6467 - val_accuracy: 0.7544\n",
      "---mixed dense list: [1024, 512, 256], tabular dense list: [32, 64], activation: tanh---\n"
     ]
    },
    {
     "name": "stderr",
     "output_type": "stream",
     "text": [
      "WARNING:absl:At this time, the v2.11+ optimizer `tf.keras.optimizers.Adam` runs slowly on M1/M2 Macs, please use the legacy Keras optimizer instead, located at `tf.keras.optimizers.legacy.Adam`.\n",
      "WARNING:absl:There is a known slowdown when using v2.11+ Keras optimizers on M1/M2 Macs. Falling back to the legacy Keras optimizer, i.e., `tf.keras.optimizers.legacy.Adam`.\n"
     ]
    },
    {
     "name": "stdout",
     "output_type": "stream",
     "text": [
      "Epoch 1/10\n",
      "94/94 [==============================] - 3s 27ms/step - loss: 1.7310 - accuracy: 0.6649 - val_loss: 0.9319 - val_accuracy: 0.6906\n",
      "Epoch 2/10\n",
      "94/94 [==============================] - 3s 27ms/step - loss: 0.8573 - accuracy: 0.7035 - val_loss: 0.8532 - val_accuracy: 0.7017\n",
      "Epoch 3/10\n",
      "94/94 [==============================] - 2s 26ms/step - loss: 0.8021 - accuracy: 0.7137 - val_loss: 0.8243 - val_accuracy: 0.7142\n",
      "Epoch 4/10\n",
      "94/94 [==============================] - 2s 26ms/step - loss: 0.7646 - accuracy: 0.7172 - val_loss: 0.8359 - val_accuracy: 0.7303\n",
      "Epoch 5/10\n",
      "94/94 [==============================] - 2s 26ms/step - loss: 0.7308 - accuracy: 0.7287 - val_loss: 0.7002 - val_accuracy: 0.7358\n",
      "Epoch 6/10\n",
      "94/94 [==============================] - 3s 27ms/step - loss: 0.7163 - accuracy: 0.7324 - val_loss: 0.8288 - val_accuracy: 0.7223\n",
      "Epoch 7/10\n",
      "94/94 [==============================] - 3s 27ms/step - loss: 0.7036 - accuracy: 0.7387 - val_loss: 0.7136 - val_accuracy: 0.7479\n",
      "Epoch 8/10\n",
      "94/94 [==============================] - 2s 26ms/step - loss: 0.6788 - accuracy: 0.7436 - val_loss: 0.7203 - val_accuracy: 0.7534\n",
      "Epoch 9/10\n",
      "94/94 [==============================] - 2s 26ms/step - loss: 0.6845 - accuracy: 0.7431 - val_loss: 0.6911 - val_accuracy: 0.7403\n",
      "Epoch 10/10\n",
      "94/94 [==============================] - 2s 26ms/step - loss: 0.6424 - accuracy: 0.7562 - val_loss: 0.6731 - val_accuracy: 0.7599\n",
      "---mixed dense list: [1024, 512, 256], tabular dense list: [32, 64, 64], activation: relu---\n"
     ]
    },
    {
     "name": "stderr",
     "output_type": "stream",
     "text": [
      "WARNING:absl:At this time, the v2.11+ optimizer `tf.keras.optimizers.Adam` runs slowly on M1/M2 Macs, please use the legacy Keras optimizer instead, located at `tf.keras.optimizers.legacy.Adam`.\n",
      "WARNING:absl:There is a known slowdown when using v2.11+ Keras optimizers on M1/M2 Macs. Falling back to the legacy Keras optimizer, i.e., `tf.keras.optimizers.legacy.Adam`.\n"
     ]
    },
    {
     "name": "stdout",
     "output_type": "stream",
     "text": [
      "Epoch 1/10\n",
      "94/94 [==============================] - 3s 27ms/step - loss: 2.2635 - accuracy: 0.6573 - val_loss: 0.9591 - val_accuracy: 0.6906\n",
      "Epoch 2/10\n",
      "94/94 [==============================] - 3s 27ms/step - loss: 0.8819 - accuracy: 0.7020 - val_loss: 0.8728 - val_accuracy: 0.7022\n",
      "Epoch 3/10\n",
      "94/94 [==============================] - 3s 27ms/step - loss: 0.8238 - accuracy: 0.7125 - val_loss: 0.8800 - val_accuracy: 0.7047\n",
      "Epoch 4/10\n",
      "94/94 [==============================] - 2s 26ms/step - loss: 0.8006 - accuracy: 0.7147 - val_loss: 0.7988 - val_accuracy: 0.7167\n",
      "Epoch 5/10\n",
      "94/94 [==============================] - 2s 26ms/step - loss: 0.7689 - accuracy: 0.7192 - val_loss: 0.7580 - val_accuracy: 0.7233\n",
      "Epoch 6/10\n",
      "94/94 [==============================] - 2s 26ms/step - loss: 0.7501 - accuracy: 0.7259 - val_loss: 0.7787 - val_accuracy: 0.7373\n",
      "Epoch 7/10\n",
      "94/94 [==============================] - 3s 27ms/step - loss: 0.7363 - accuracy: 0.7272 - val_loss: 0.7253 - val_accuracy: 0.7373\n",
      "Epoch 8/10\n",
      "94/94 [==============================] - 2s 27ms/step - loss: 0.7617 - accuracy: 0.7277 - val_loss: 0.7399 - val_accuracy: 0.7393\n",
      "Epoch 9/10\n",
      "94/94 [==============================] - 3s 28ms/step - loss: 0.7220 - accuracy: 0.7311 - val_loss: 0.7210 - val_accuracy: 0.7408\n",
      "Epoch 10/10\n",
      "94/94 [==============================] - 3s 27ms/step - loss: 0.7091 - accuracy: 0.7370 - val_loss: 0.6990 - val_accuracy: 0.7464\n",
      "---mixed dense list: [1024, 512, 256], tabular dense list: [32, 64, 64], activation: tanh---\n"
     ]
    },
    {
     "name": "stderr",
     "output_type": "stream",
     "text": [
      "WARNING:absl:At this time, the v2.11+ optimizer `tf.keras.optimizers.Adam` runs slowly on M1/M2 Macs, please use the legacy Keras optimizer instead, located at `tf.keras.optimizers.legacy.Adam`.\n",
      "WARNING:absl:There is a known slowdown when using v2.11+ Keras optimizers on M1/M2 Macs. Falling back to the legacy Keras optimizer, i.e., `tf.keras.optimizers.legacy.Adam`.\n"
     ]
    },
    {
     "name": "stdout",
     "output_type": "stream",
     "text": [
      "Epoch 1/10\n",
      "94/94 [==============================] - 3s 28ms/step - loss: 1.7716 - accuracy: 0.6700 - val_loss: 0.9199 - val_accuracy: 0.6911\n",
      "Epoch 2/10\n",
      "94/94 [==============================] - 2s 26ms/step - loss: 0.8510 - accuracy: 0.7032 - val_loss: 0.8631 - val_accuracy: 0.7047\n",
      "Epoch 3/10\n",
      "94/94 [==============================] - 2s 26ms/step - loss: 0.8130 - accuracy: 0.7089 - val_loss: 0.8345 - val_accuracy: 0.7127\n",
      "Epoch 4/10\n",
      "94/94 [==============================] - 2s 26ms/step - loss: 0.7774 - accuracy: 0.7153 - val_loss: 0.7701 - val_accuracy: 0.7298\n",
      "Epoch 5/10\n",
      "94/94 [==============================] - 3s 28ms/step - loss: 0.7319 - accuracy: 0.7277 - val_loss: 0.7460 - val_accuracy: 0.7253\n",
      "Epoch 6/10\n",
      "94/94 [==============================] - 2s 26ms/step - loss: 0.7025 - accuracy: 0.7380 - val_loss: 0.7580 - val_accuracy: 0.7358\n",
      "Epoch 7/10\n",
      "94/94 [==============================] - 2s 26ms/step - loss: 0.6932 - accuracy: 0.7420 - val_loss: 0.7908 - val_accuracy: 0.7217\n",
      "Epoch 8/10\n",
      "94/94 [==============================] - 2s 26ms/step - loss: 0.6720 - accuracy: 0.7476 - val_loss: 0.8011 - val_accuracy: 0.7223\n",
      "Epoch 9/10\n",
      "94/94 [==============================] - 2s 26ms/step - loss: 0.6584 - accuracy: 0.7538 - val_loss: 0.6683 - val_accuracy: 0.7529\n",
      "Epoch 10/10\n",
      "94/94 [==============================] - 2s 26ms/step - loss: 0.6474 - accuracy: 0.7547 - val_loss: 0.6729 - val_accuracy: 0.7529\n",
      "---mixed dense list: [1024, 512, 256], tabular dense list: [32, 64, 64, 32], activation: relu---\n"
     ]
    },
    {
     "name": "stderr",
     "output_type": "stream",
     "text": [
      "WARNING:absl:At this time, the v2.11+ optimizer `tf.keras.optimizers.Adam` runs slowly on M1/M2 Macs, please use the legacy Keras optimizer instead, located at `tf.keras.optimizers.legacy.Adam`.\n",
      "WARNING:absl:There is a known slowdown when using v2.11+ Keras optimizers on M1/M2 Macs. Falling back to the legacy Keras optimizer, i.e., `tf.keras.optimizers.legacy.Adam`.\n"
     ]
    },
    {
     "name": "stdout",
     "output_type": "stream",
     "text": [
      "Epoch 1/10\n",
      "94/94 [==============================] - 3s 26ms/step - loss: 2.2937 - accuracy: 0.6494 - val_loss: 0.9713 - val_accuracy: 0.6735\n",
      "Epoch 2/10\n",
      "94/94 [==============================] - 2s 27ms/step - loss: 0.8907 - accuracy: 0.6989 - val_loss: 0.8956 - val_accuracy: 0.6971\n",
      "Epoch 3/10\n",
      "94/94 [==============================] - 2s 26ms/step - loss: 0.8335 - accuracy: 0.7065 - val_loss: 0.8335 - val_accuracy: 0.7067\n",
      "Epoch 4/10\n",
      "94/94 [==============================] - 2s 26ms/step - loss: 0.8033 - accuracy: 0.7118 - val_loss: 0.7967 - val_accuracy: 0.7187\n",
      "Epoch 5/10\n",
      "94/94 [==============================] - 2s 26ms/step - loss: 0.7775 - accuracy: 0.7203 - val_loss: 0.7807 - val_accuracy: 0.7172\n",
      "Epoch 6/10\n",
      "94/94 [==============================] - 2s 26ms/step - loss: 0.7513 - accuracy: 0.7241 - val_loss: 0.7948 - val_accuracy: 0.7202\n",
      "Epoch 7/10\n",
      "94/94 [==============================] - 2s 25ms/step - loss: 0.7320 - accuracy: 0.7330 - val_loss: 0.8249 - val_accuracy: 0.7353\n",
      "Epoch 8/10\n",
      "94/94 [==============================] - 3s 27ms/step - loss: 0.7196 - accuracy: 0.7338 - val_loss: 0.7664 - val_accuracy: 0.7243\n",
      "Epoch 9/10\n",
      "94/94 [==============================] - 2s 27ms/step - loss: 0.6962 - accuracy: 0.7425 - val_loss: 0.8051 - val_accuracy: 0.7228\n",
      "Epoch 10/10\n",
      "94/94 [==============================] - 2s 26ms/step - loss: 0.6812 - accuracy: 0.7457 - val_loss: 0.7057 - val_accuracy: 0.7564\n",
      "---mixed dense list: [1024, 512, 256], tabular dense list: [32, 64, 64, 32], activation: tanh---\n"
     ]
    },
    {
     "name": "stderr",
     "output_type": "stream",
     "text": [
      "WARNING:absl:At this time, the v2.11+ optimizer `tf.keras.optimizers.Adam` runs slowly on M1/M2 Macs, please use the legacy Keras optimizer instead, located at `tf.keras.optimizers.legacy.Adam`.\n",
      "WARNING:absl:There is a known slowdown when using v2.11+ Keras optimizers on M1/M2 Macs. Falling back to the legacy Keras optimizer, i.e., `tf.keras.optimizers.legacy.Adam`.\n"
     ]
    },
    {
     "name": "stdout",
     "output_type": "stream",
     "text": [
      "Epoch 1/10\n",
      "94/94 [==============================] - 3s 27ms/step - loss: 2.5035 - accuracy: 0.6632 - val_loss: 0.9343 - val_accuracy: 0.6906\n",
      "Epoch 2/10\n",
      "94/94 [==============================] - 2s 26ms/step - loss: 0.8746 - accuracy: 0.7016 - val_loss: 0.8684 - val_accuracy: 0.6996\n",
      "Epoch 3/10\n",
      "94/94 [==============================] - 2s 26ms/step - loss: 0.8207 - accuracy: 0.7091 - val_loss: 0.8266 - val_accuracy: 0.7102\n",
      "Epoch 4/10\n",
      "94/94 [==============================] - 3s 27ms/step - loss: 0.7826 - accuracy: 0.7184 - val_loss: 0.7859 - val_accuracy: 0.7142\n",
      "Epoch 5/10\n",
      "94/94 [==============================] - 2s 26ms/step - loss: 0.7578 - accuracy: 0.7214 - val_loss: 0.7267 - val_accuracy: 0.7318\n",
      "Epoch 6/10\n",
      "94/94 [==============================] - 2s 26ms/step - loss: 0.7310 - accuracy: 0.7319 - val_loss: 0.7621 - val_accuracy: 0.7393\n",
      "Epoch 7/10\n",
      "94/94 [==============================] - 3s 27ms/step - loss: 0.7170 - accuracy: 0.7333 - val_loss: 0.7016 - val_accuracy: 0.7413\n",
      "Epoch 8/10\n",
      "94/94 [==============================] - 2s 26ms/step - loss: 0.7025 - accuracy: 0.7388 - val_loss: 0.7735 - val_accuracy: 0.7283\n",
      "Epoch 9/10\n",
      "94/94 [==============================] - 2s 26ms/step - loss: 0.6777 - accuracy: 0.7494 - val_loss: 0.6819 - val_accuracy: 0.7388\n",
      "Epoch 10/10\n",
      "94/94 [==============================] - 3s 27ms/step - loss: 0.6722 - accuracy: 0.7539 - val_loss: 0.7007 - val_accuracy: 0.7509\n",
      "---mixed dense list: [1024, 512, 256, 128], tabular dense list: [32], activation: relu---\n"
     ]
    },
    {
     "name": "stderr",
     "output_type": "stream",
     "text": [
      "WARNING:absl:At this time, the v2.11+ optimizer `tf.keras.optimizers.Adam` runs slowly on M1/M2 Macs, please use the legacy Keras optimizer instead, located at `tf.keras.optimizers.legacy.Adam`.\n",
      "WARNING:absl:There is a known slowdown when using v2.11+ Keras optimizers on M1/M2 Macs. Falling back to the legacy Keras optimizer, i.e., `tf.keras.optimizers.legacy.Adam`.\n"
     ]
    },
    {
     "name": "stdout",
     "output_type": "stream",
     "text": [
      "Epoch 1/10\n",
      "94/94 [==============================] - 3s 28ms/step - loss: 1.5833 - accuracy: 0.6461 - val_loss: 0.9641 - val_accuracy: 0.6891\n",
      "Epoch 2/10\n",
      "94/94 [==============================] - 2s 26ms/step - loss: 0.8659 - accuracy: 0.7035 - val_loss: 0.8667 - val_accuracy: 0.7007\n",
      "Epoch 3/10\n",
      "94/94 [==============================] - 2s 26ms/step - loss: 0.8067 - accuracy: 0.7104 - val_loss: 0.8307 - val_accuracy: 0.7112\n",
      "Epoch 4/10\n",
      "94/94 [==============================] - 2s 26ms/step - loss: 0.7605 - accuracy: 0.7210 - val_loss: 0.7231 - val_accuracy: 0.7303\n",
      "Epoch 5/10\n",
      "94/94 [==============================] - 2s 26ms/step - loss: 0.7436 - accuracy: 0.7277 - val_loss: 0.7833 - val_accuracy: 0.7167\n",
      "Epoch 6/10\n",
      "94/94 [==============================] - 3s 27ms/step - loss: 0.7154 - accuracy: 0.7321 - val_loss: 0.7533 - val_accuracy: 0.7338\n",
      "Epoch 7/10\n",
      "94/94 [==============================] - 3s 28ms/step - loss: 0.6975 - accuracy: 0.7426 - val_loss: 0.7713 - val_accuracy: 0.7408\n",
      "Epoch 8/10\n",
      "94/94 [==============================] - 2s 26ms/step - loss: 0.6852 - accuracy: 0.7450 - val_loss: 0.7766 - val_accuracy: 0.7443\n",
      "Epoch 9/10\n",
      "94/94 [==============================] - 2s 26ms/step - loss: 0.6703 - accuracy: 0.7494 - val_loss: 0.6810 - val_accuracy: 0.7423\n",
      "Epoch 10/10\n",
      "94/94 [==============================] - 2s 26ms/step - loss: 0.6457 - accuracy: 0.7612 - val_loss: 0.7183 - val_accuracy: 0.7489\n",
      "---mixed dense list: [1024, 512, 256, 128], tabular dense list: [32], activation: tanh---\n"
     ]
    },
    {
     "name": "stderr",
     "output_type": "stream",
     "text": [
      "WARNING:absl:At this time, the v2.11+ optimizer `tf.keras.optimizers.Adam` runs slowly on M1/M2 Macs, please use the legacy Keras optimizer instead, located at `tf.keras.optimizers.legacy.Adam`.\n",
      "WARNING:absl:There is a known slowdown when using v2.11+ Keras optimizers on M1/M2 Macs. Falling back to the legacy Keras optimizer, i.e., `tf.keras.optimizers.legacy.Adam`.\n"
     ]
    },
    {
     "name": "stdout",
     "output_type": "stream",
     "text": [
      "Epoch 1/10\n",
      "94/94 [==============================] - 3s 27ms/step - loss: 1.5863 - accuracy: 0.6551 - val_loss: 0.9459 - val_accuracy: 0.6896\n",
      "Epoch 2/10\n",
      "94/94 [==============================] - 3s 27ms/step - loss: 0.8756 - accuracy: 0.7004 - val_loss: 0.8771 - val_accuracy: 0.7022\n",
      "Epoch 3/10\n",
      "94/94 [==============================] - 3s 28ms/step - loss: 0.8210 - accuracy: 0.7098 - val_loss: 0.8357 - val_accuracy: 0.7062\n",
      "Epoch 4/10\n",
      "94/94 [==============================] - 3s 27ms/step - loss: 0.7901 - accuracy: 0.7138 - val_loss: 0.7874 - val_accuracy: 0.7142\n",
      "Epoch 5/10\n",
      "94/94 [==============================] - 3s 27ms/step - loss: 0.7654 - accuracy: 0.7205 - val_loss: 0.7649 - val_accuracy: 0.7152\n",
      "Epoch 6/10\n",
      "94/94 [==============================] - 3s 27ms/step - loss: 0.7428 - accuracy: 0.7251 - val_loss: 0.7469 - val_accuracy: 0.7313\n",
      "Epoch 7/10\n",
      "94/94 [==============================] - 3s 28ms/step - loss: 0.7267 - accuracy: 0.7338 - val_loss: 0.7214 - val_accuracy: 0.7343\n",
      "Epoch 8/10\n",
      "94/94 [==============================] - 3s 27ms/step - loss: 0.7164 - accuracy: 0.7309 - val_loss: 0.7390 - val_accuracy: 0.7328\n",
      "Epoch 9/10\n",
      "94/94 [==============================] - 3s 28ms/step - loss: 0.7216 - accuracy: 0.7329 - val_loss: 0.6773 - val_accuracy: 0.7393\n",
      "Epoch 10/10\n",
      "94/94 [==============================] - 3s 28ms/step - loss: 0.6887 - accuracy: 0.7412 - val_loss: 0.6853 - val_accuracy: 0.7353\n",
      "---mixed dense list: [1024, 512, 256, 128], tabular dense list: [32, 64], activation: relu---\n"
     ]
    },
    {
     "name": "stderr",
     "output_type": "stream",
     "text": [
      "WARNING:absl:At this time, the v2.11+ optimizer `tf.keras.optimizers.Adam` runs slowly on M1/M2 Macs, please use the legacy Keras optimizer instead, located at `tf.keras.optimizers.legacy.Adam`.\n",
      "WARNING:absl:There is a known slowdown when using v2.11+ Keras optimizers on M1/M2 Macs. Falling back to the legacy Keras optimizer, i.e., `tf.keras.optimizers.legacy.Adam`.\n"
     ]
    },
    {
     "name": "stdout",
     "output_type": "stream",
     "text": [
      "Epoch 1/10\n",
      "94/94 [==============================] - 3s 29ms/step - loss: 1.5741 - accuracy: 0.6525 - val_loss: 0.9708 - val_accuracy: 0.6745\n",
      "Epoch 2/10\n",
      "94/94 [==============================] - 3s 29ms/step - loss: 0.8823 - accuracy: 0.6999 - val_loss: 0.8805 - val_accuracy: 0.7022\n",
      "Epoch 3/10\n",
      "94/94 [==============================] - 3s 28ms/step - loss: 0.8107 - accuracy: 0.7112 - val_loss: 0.8051 - val_accuracy: 0.7142\n",
      "Epoch 4/10\n",
      "94/94 [==============================] - 3s 28ms/step - loss: 0.8187 - accuracy: 0.7138 - val_loss: 0.7692 - val_accuracy: 0.7192\n",
      "Epoch 5/10\n",
      "94/94 [==============================] - 3s 29ms/step - loss: 0.7633 - accuracy: 0.7184 - val_loss: 0.7874 - val_accuracy: 0.7207\n",
      "Epoch 6/10\n",
      "94/94 [==============================] - 3s 28ms/step - loss: 0.7304 - accuracy: 0.7289 - val_loss: 0.7568 - val_accuracy: 0.7303\n",
      "Epoch 7/10\n",
      "94/94 [==============================] - 3s 28ms/step - loss: 0.7163 - accuracy: 0.7343 - val_loss: 0.7481 - val_accuracy: 0.7403\n",
      "Epoch 8/10\n",
      "94/94 [==============================] - 3s 28ms/step - loss: 0.6946 - accuracy: 0.7358 - val_loss: 0.7744 - val_accuracy: 0.7449\n",
      "Epoch 9/10\n",
      "94/94 [==============================] - 3s 28ms/step - loss: 0.6860 - accuracy: 0.7403 - val_loss: 0.6787 - val_accuracy: 0.7479\n",
      "Epoch 10/10\n",
      "94/94 [==============================] - 3s 28ms/step - loss: 0.6688 - accuracy: 0.7466 - val_loss: 0.7465 - val_accuracy: 0.7469\n",
      "---mixed dense list: [1024, 512, 256, 128], tabular dense list: [32, 64], activation: tanh---\n"
     ]
    },
    {
     "name": "stderr",
     "output_type": "stream",
     "text": [
      "WARNING:absl:At this time, the v2.11+ optimizer `tf.keras.optimizers.Adam` runs slowly on M1/M2 Macs, please use the legacy Keras optimizer instead, located at `tf.keras.optimizers.legacy.Adam`.\n",
      "WARNING:absl:There is a known slowdown when using v2.11+ Keras optimizers on M1/M2 Macs. Falling back to the legacy Keras optimizer, i.e., `tf.keras.optimizers.legacy.Adam`.\n"
     ]
    },
    {
     "name": "stdout",
     "output_type": "stream",
     "text": [
      "Epoch 1/10\n",
      "94/94 [==============================] - 3s 29ms/step - loss: 1.4105 - accuracy: 0.6637 - val_loss: 0.9402 - val_accuracy: 0.6841\n",
      "Epoch 2/10\n",
      "94/94 [==============================] - 3s 28ms/step - loss: 0.8665 - accuracy: 0.7020 - val_loss: 0.8824 - val_accuracy: 0.7032\n",
      "Epoch 3/10\n",
      "94/94 [==============================] - 3s 28ms/step - loss: 0.8115 - accuracy: 0.7110 - val_loss: 0.8180 - val_accuracy: 0.7127\n",
      "Epoch 4/10\n",
      "94/94 [==============================] - 3s 28ms/step - loss: 0.7792 - accuracy: 0.7163 - val_loss: 0.7349 - val_accuracy: 0.7228\n",
      "Epoch 5/10\n",
      "94/94 [==============================] - 3s 28ms/step - loss: 0.7725 - accuracy: 0.7192 - val_loss: 0.7486 - val_accuracy: 0.7202\n",
      "Epoch 6/10\n",
      "94/94 [==============================] - 3s 28ms/step - loss: 0.7357 - accuracy: 0.7236 - val_loss: 0.7246 - val_accuracy: 0.7378\n",
      "Epoch 7/10\n",
      "94/94 [==============================] - 3s 29ms/step - loss: 0.7213 - accuracy: 0.7293 - val_loss: 0.7455 - val_accuracy: 0.7313\n",
      "Epoch 8/10\n",
      "94/94 [==============================] - 3s 28ms/step - loss: 0.7052 - accuracy: 0.7338 - val_loss: 0.7840 - val_accuracy: 0.7147\n",
      "Epoch 9/10\n",
      "94/94 [==============================] - 3s 28ms/step - loss: 0.6806 - accuracy: 0.7432 - val_loss: 0.6731 - val_accuracy: 0.7489\n",
      "Epoch 10/10\n",
      "94/94 [==============================] - 3s 27ms/step - loss: 0.6700 - accuracy: 0.7483 - val_loss: 0.7403 - val_accuracy: 0.7443\n",
      "---mixed dense list: [1024, 512, 256, 128], tabular dense list: [32, 64, 64], activation: relu---\n"
     ]
    },
    {
     "name": "stderr",
     "output_type": "stream",
     "text": [
      "WARNING:absl:At this time, the v2.11+ optimizer `tf.keras.optimizers.Adam` runs slowly on M1/M2 Macs, please use the legacy Keras optimizer instead, located at `tf.keras.optimizers.legacy.Adam`.\n",
      "WARNING:absl:There is a known slowdown when using v2.11+ Keras optimizers on M1/M2 Macs. Falling back to the legacy Keras optimizer, i.e., `tf.keras.optimizers.legacy.Adam`.\n"
     ]
    },
    {
     "name": "stdout",
     "output_type": "stream",
     "text": [
      "Epoch 1/10\n",
      "94/94 [==============================] - 3s 28ms/step - loss: 2.0149 - accuracy: 0.6460 - val_loss: 0.9576 - val_accuracy: 0.6926\n",
      "Epoch 2/10\n",
      "94/94 [==============================] - 3s 28ms/step - loss: 0.8925 - accuracy: 0.6948 - val_loss: 0.8730 - val_accuracy: 0.6976\n",
      "Epoch 3/10\n",
      "94/94 [==============================] - 3s 28ms/step - loss: 0.8471 - accuracy: 0.7017 - val_loss: 0.8463 - val_accuracy: 0.7022\n",
      "Epoch 4/10\n",
      "94/94 [==============================] - 3s 27ms/step - loss: 0.8140 - accuracy: 0.7073 - val_loss: 0.8207 - val_accuracy: 0.7102\n",
      "Epoch 5/10\n",
      "94/94 [==============================] - 3s 27ms/step - loss: 0.7925 - accuracy: 0.7109 - val_loss: 0.7730 - val_accuracy: 0.7248\n",
      "Epoch 6/10\n",
      "94/94 [==============================] - 3s 28ms/step - loss: 0.7604 - accuracy: 0.7188 - val_loss: 0.7503 - val_accuracy: 0.7238\n",
      "Epoch 7/10\n",
      "94/94 [==============================] - 3s 27ms/step - loss: 0.7446 - accuracy: 0.7215 - val_loss: 0.7174 - val_accuracy: 0.7308\n",
      "Epoch 8/10\n",
      "94/94 [==============================] - 3s 28ms/step - loss: 0.7287 - accuracy: 0.7293 - val_loss: 0.8179 - val_accuracy: 0.7092\n",
      "Epoch 9/10\n",
      "94/94 [==============================] - 3s 28ms/step - loss: 0.6997 - accuracy: 0.7359 - val_loss: 0.7439 - val_accuracy: 0.7268\n",
      "Epoch 10/10\n",
      "94/94 [==============================] - 3s 27ms/step - loss: 0.6931 - accuracy: 0.7390 - val_loss: 0.7186 - val_accuracy: 0.7353\n",
      "---mixed dense list: [1024, 512, 256, 128], tabular dense list: [32, 64, 64], activation: tanh---\n"
     ]
    },
    {
     "name": "stderr",
     "output_type": "stream",
     "text": [
      "WARNING:absl:At this time, the v2.11+ optimizer `tf.keras.optimizers.Adam` runs slowly on M1/M2 Macs, please use the legacy Keras optimizer instead, located at `tf.keras.optimizers.legacy.Adam`.\n",
      "WARNING:absl:There is a known slowdown when using v2.11+ Keras optimizers on M1/M2 Macs. Falling back to the legacy Keras optimizer, i.e., `tf.keras.optimizers.legacy.Adam`.\n"
     ]
    },
    {
     "name": "stdout",
     "output_type": "stream",
     "text": [
      "Epoch 1/10\n",
      "94/94 [==============================] - 3s 27ms/step - loss: 1.5555 - accuracy: 0.6665 - val_loss: 0.9517 - val_accuracy: 0.6876\n",
      "Epoch 2/10\n",
      "94/94 [==============================] - 3s 27ms/step - loss: 0.8711 - accuracy: 0.7041 - val_loss: 0.8904 - val_accuracy: 0.7007\n",
      "Epoch 3/10\n",
      "94/94 [==============================] - 3s 27ms/step - loss: 0.8270 - accuracy: 0.7104 - val_loss: 0.8470 - val_accuracy: 0.7127\n",
      "Epoch 4/10\n",
      "94/94 [==============================] - 3s 27ms/step - loss: 0.7908 - accuracy: 0.7160 - val_loss: 0.7835 - val_accuracy: 0.7167\n",
      "Epoch 5/10\n",
      "94/94 [==============================] - 3s 27ms/step - loss: 0.7768 - accuracy: 0.7197 - val_loss: 0.7772 - val_accuracy: 0.7167\n",
      "Epoch 6/10\n",
      "94/94 [==============================] - 3s 28ms/step - loss: 0.7491 - accuracy: 0.7223 - val_loss: 0.7444 - val_accuracy: 0.7293\n",
      "Epoch 7/10\n",
      "94/94 [==============================] - 3s 27ms/step - loss: 0.7369 - accuracy: 0.7298 - val_loss: 0.7321 - val_accuracy: 0.7283\n",
      "Epoch 8/10\n",
      "94/94 [==============================] - 3s 27ms/step - loss: 0.7174 - accuracy: 0.7374 - val_loss: 0.7977 - val_accuracy: 0.7243\n",
      "Epoch 9/10\n",
      "94/94 [==============================] - 3s 27ms/step - loss: 0.6937 - accuracy: 0.7401 - val_loss: 0.7001 - val_accuracy: 0.7373\n",
      "Epoch 10/10\n",
      "94/94 [==============================] - 3s 28ms/step - loss: 0.6960 - accuracy: 0.7388 - val_loss: 0.6932 - val_accuracy: 0.7499\n",
      "---mixed dense list: [1024, 512, 256, 128], tabular dense list: [32, 64, 64, 32], activation: relu---\n"
     ]
    },
    {
     "name": "stderr",
     "output_type": "stream",
     "text": [
      "WARNING:absl:At this time, the v2.11+ optimizer `tf.keras.optimizers.Adam` runs slowly on M1/M2 Macs, please use the legacy Keras optimizer instead, located at `tf.keras.optimizers.legacy.Adam`.\n",
      "WARNING:absl:There is a known slowdown when using v2.11+ Keras optimizers on M1/M2 Macs. Falling back to the legacy Keras optimizer, i.e., `tf.keras.optimizers.legacy.Adam`.\n"
     ]
    },
    {
     "name": "stdout",
     "output_type": "stream",
     "text": [
      "Epoch 1/10\n",
      "94/94 [==============================] - 3s 28ms/step - loss: 1.5497 - accuracy: 0.6557 - val_loss: 0.9676 - val_accuracy: 0.6745\n",
      "Epoch 2/10\n",
      "94/94 [==============================] - 3s 28ms/step - loss: 0.8682 - accuracy: 0.7051 - val_loss: 0.8805 - val_accuracy: 0.7067\n",
      "Epoch 3/10\n",
      "94/94 [==============================] - 3s 27ms/step - loss: 0.8039 - accuracy: 0.7102 - val_loss: 0.7990 - val_accuracy: 0.7142\n",
      "Epoch 4/10\n",
      "94/94 [==============================] - 3s 27ms/step - loss: 0.7717 - accuracy: 0.7184 - val_loss: 0.7483 - val_accuracy: 0.7202\n",
      "Epoch 5/10\n",
      "94/94 [==============================] - 3s 27ms/step - loss: 0.7539 - accuracy: 0.7214 - val_loss: 0.8073 - val_accuracy: 0.7187\n",
      "Epoch 6/10\n",
      "94/94 [==============================] - 3s 27ms/step - loss: 0.7318 - accuracy: 0.7267 - val_loss: 0.7467 - val_accuracy: 0.7368\n",
      "Epoch 7/10\n",
      "94/94 [==============================] - 3s 27ms/step - loss: 0.7141 - accuracy: 0.7369 - val_loss: 0.7217 - val_accuracy: 0.7403\n",
      "Epoch 8/10\n",
      "94/94 [==============================] - 3s 28ms/step - loss: 0.7003 - accuracy: 0.7359 - val_loss: 0.6856 - val_accuracy: 0.7554\n",
      "Epoch 9/10\n",
      "94/94 [==============================] - 2s 26ms/step - loss: 0.6849 - accuracy: 0.7406 - val_loss: 0.6851 - val_accuracy: 0.7378\n",
      "Epoch 10/10\n",
      "94/94 [==============================] - 2s 26ms/step - loss: 0.6588 - accuracy: 0.7545 - val_loss: 0.6489 - val_accuracy: 0.7599\n",
      "---mixed dense list: [1024, 512, 256, 128], tabular dense list: [32, 64, 64, 32], activation: tanh---\n"
     ]
    },
    {
     "name": "stderr",
     "output_type": "stream",
     "text": [
      "WARNING:absl:At this time, the v2.11+ optimizer `tf.keras.optimizers.Adam` runs slowly on M1/M2 Macs, please use the legacy Keras optimizer instead, located at `tf.keras.optimizers.legacy.Adam`.\n",
      "WARNING:absl:There is a known slowdown when using v2.11+ Keras optimizers on M1/M2 Macs. Falling back to the legacy Keras optimizer, i.e., `tf.keras.optimizers.legacy.Adam`.\n"
     ]
    },
    {
     "name": "stdout",
     "output_type": "stream",
     "text": [
      "Epoch 1/10\n",
      "94/94 [==============================] - 3s 27ms/step - loss: 1.6246 - accuracy: 0.6625 - val_loss: 0.9281 - val_accuracy: 0.7007\n",
      "Epoch 2/10\n",
      "94/94 [==============================] - 3s 27ms/step - loss: 0.8617 - accuracy: 0.7021 - val_loss: 0.8811 - val_accuracy: 0.7032\n",
      "Epoch 3/10\n",
      "94/94 [==============================] - 3s 27ms/step - loss: 0.8223 - accuracy: 0.7095 - val_loss: 0.8761 - val_accuracy: 0.7067\n",
      "Epoch 4/10\n",
      "94/94 [==============================] - 3s 28ms/step - loss: 0.7772 - accuracy: 0.7183 - val_loss: 0.8403 - val_accuracy: 0.7207\n",
      "Epoch 5/10\n",
      "94/94 [==============================] - 3s 27ms/step - loss: 0.7486 - accuracy: 0.7236 - val_loss: 0.7618 - val_accuracy: 0.7167\n",
      "Epoch 6/10\n",
      "94/94 [==============================] - 3s 27ms/step - loss: 0.7238 - accuracy: 0.7317 - val_loss: 0.7426 - val_accuracy: 0.7408\n",
      "Epoch 7/10\n",
      "94/94 [==============================] - 3s 27ms/step - loss: 0.7095 - accuracy: 0.7334 - val_loss: 0.7361 - val_accuracy: 0.7428\n",
      "Epoch 8/10\n",
      "94/94 [==============================] - 3s 27ms/step - loss: 0.6863 - accuracy: 0.7428 - val_loss: 0.7857 - val_accuracy: 0.7338\n",
      "Epoch 9/10\n",
      "94/94 [==============================] - 2s 26ms/step - loss: 0.6773 - accuracy: 0.7450 - val_loss: 0.7113 - val_accuracy: 0.7313\n",
      "Epoch 10/10\n",
      "94/94 [==============================] - 3s 28ms/step - loss: 0.6720 - accuracy: 0.7509 - val_loss: 0.7019 - val_accuracy: 0.7433\n",
      "---mixed dense list: [1024, 512, 256, 128, 64], tabular dense list: [32], activation: relu---\n"
     ]
    },
    {
     "name": "stderr",
     "output_type": "stream",
     "text": [
      "WARNING:absl:At this time, the v2.11+ optimizer `tf.keras.optimizers.Adam` runs slowly on M1/M2 Macs, please use the legacy Keras optimizer instead, located at `tf.keras.optimizers.legacy.Adam`.\n",
      "WARNING:absl:There is a known slowdown when using v2.11+ Keras optimizers on M1/M2 Macs. Falling back to the legacy Keras optimizer, i.e., `tf.keras.optimizers.legacy.Adam`.\n"
     ]
    },
    {
     "name": "stdout",
     "output_type": "stream",
     "text": [
      "Epoch 1/10\n",
      "94/94 [==============================] - 3s 28ms/step - loss: 1.5809 - accuracy: 0.6496 - val_loss: 0.9792 - val_accuracy: 0.6735\n",
      "Epoch 2/10\n",
      "94/94 [==============================] - 3s 27ms/step - loss: 0.9165 - accuracy: 0.6849 - val_loss: 0.8775 - val_accuracy: 0.6996\n",
      "Epoch 3/10\n",
      "94/94 [==============================] - 3s 27ms/step - loss: 0.8533 - accuracy: 0.7007 - val_loss: 0.8730 - val_accuracy: 0.7067\n",
      "Epoch 4/10\n",
      "94/94 [==============================] - 3s 27ms/step - loss: 0.8190 - accuracy: 0.7068 - val_loss: 0.8123 - val_accuracy: 0.7147\n",
      "Epoch 5/10\n",
      "94/94 [==============================] - 3s 28ms/step - loss: 0.7953 - accuracy: 0.7123 - val_loss: 0.7763 - val_accuracy: 0.7162\n",
      "Epoch 6/10\n",
      "94/94 [==============================] - 3s 29ms/step - loss: 0.7641 - accuracy: 0.7189 - val_loss: 0.7977 - val_accuracy: 0.7238\n",
      "Epoch 7/10\n",
      "94/94 [==============================] - 3s 28ms/step - loss: 0.7410 - accuracy: 0.7252 - val_loss: 0.7071 - val_accuracy: 0.7398\n",
      "Epoch 8/10\n",
      "94/94 [==============================] - 3s 27ms/step - loss: 0.7287 - accuracy: 0.7297 - val_loss: 0.7449 - val_accuracy: 0.7358\n",
      "Epoch 9/10\n",
      "94/94 [==============================] - 3s 28ms/step - loss: 0.7231 - accuracy: 0.7318 - val_loss: 0.7205 - val_accuracy: 0.7268\n",
      "Epoch 10/10\n",
      "94/94 [==============================] - 3s 27ms/step - loss: 0.6999 - accuracy: 0.7361 - val_loss: 0.7485 - val_accuracy: 0.7283\n",
      "---mixed dense list: [1024, 512, 256, 128, 64], tabular dense list: [32], activation: tanh---\n"
     ]
    },
    {
     "name": "stderr",
     "output_type": "stream",
     "text": [
      "WARNING:absl:At this time, the v2.11+ optimizer `tf.keras.optimizers.Adam` runs slowly on M1/M2 Macs, please use the legacy Keras optimizer instead, located at `tf.keras.optimizers.legacy.Adam`.\n",
      "WARNING:absl:There is a known slowdown when using v2.11+ Keras optimizers on M1/M2 Macs. Falling back to the legacy Keras optimizer, i.e., `tf.keras.optimizers.legacy.Adam`.\n"
     ]
    },
    {
     "name": "stdout",
     "output_type": "stream",
     "text": [
      "Epoch 1/10\n",
      "94/94 [==============================] - 3s 28ms/step - loss: 1.5431 - accuracy: 0.6504 - val_loss: 0.9364 - val_accuracy: 0.6765\n",
      "Epoch 2/10\n",
      "94/94 [==============================] - 3s 29ms/step - loss: 0.9118 - accuracy: 0.6880 - val_loss: 0.8821 - val_accuracy: 0.7007\n",
      "Epoch 3/10\n",
      "94/94 [==============================] - 3s 27ms/step - loss: 0.8729 - accuracy: 0.6961 - val_loss: 0.8501 - val_accuracy: 0.6991\n",
      "Epoch 4/10\n",
      "94/94 [==============================] - 3s 27ms/step - loss: 0.8515 - accuracy: 0.6999 - val_loss: 0.8479 - val_accuracy: 0.7017\n",
      "Epoch 5/10\n",
      "94/94 [==============================] - 3s 27ms/step - loss: 0.8410 - accuracy: 0.6996 - val_loss: 0.8180 - val_accuracy: 0.7027\n",
      "Epoch 6/10\n",
      "94/94 [==============================] - 3s 27ms/step - loss: 0.8095 - accuracy: 0.7047 - val_loss: 0.7950 - val_accuracy: 0.7072\n",
      "Epoch 7/10\n",
      "94/94 [==============================] - 3s 27ms/step - loss: 0.7974 - accuracy: 0.7076 - val_loss: 0.7589 - val_accuracy: 0.7137\n",
      "Epoch 8/10\n",
      "94/94 [==============================] - 3s 27ms/step - loss: 0.7595 - accuracy: 0.7159 - val_loss: 0.7895 - val_accuracy: 0.7197\n",
      "Epoch 9/10\n",
      "94/94 [==============================] - 3s 28ms/step - loss: 0.7412 - accuracy: 0.7246 - val_loss: 0.7486 - val_accuracy: 0.7278\n",
      "Epoch 10/10\n",
      "94/94 [==============================] - 3s 27ms/step - loss: 0.7362 - accuracy: 0.7235 - val_loss: 0.7214 - val_accuracy: 0.7358\n",
      "---mixed dense list: [1024, 512, 256, 128, 64], tabular dense list: [32, 64], activation: relu---\n"
     ]
    },
    {
     "name": "stderr",
     "output_type": "stream",
     "text": [
      "WARNING:absl:At this time, the v2.11+ optimizer `tf.keras.optimizers.Adam` runs slowly on M1/M2 Macs, please use the legacy Keras optimizer instead, located at `tf.keras.optimizers.legacy.Adam`.\n",
      "WARNING:absl:There is a known slowdown when using v2.11+ Keras optimizers on M1/M2 Macs. Falling back to the legacy Keras optimizer, i.e., `tf.keras.optimizers.legacy.Adam`.\n"
     ]
    },
    {
     "name": "stdout",
     "output_type": "stream",
     "text": [
      "Epoch 1/10\n",
      "94/94 [==============================] - 3s 28ms/step - loss: 1.2870 - accuracy: 0.6666 - val_loss: 0.9307 - val_accuracy: 0.6996\n",
      "Epoch 2/10\n",
      "94/94 [==============================] - 3s 28ms/step - loss: 0.8499 - accuracy: 0.7004 - val_loss: 0.9176 - val_accuracy: 0.7122\n",
      "Epoch 3/10\n",
      "94/94 [==============================] - 3s 27ms/step - loss: 0.7949 - accuracy: 0.7150 - val_loss: 0.7867 - val_accuracy: 0.7182\n",
      "Epoch 4/10\n",
      "94/94 [==============================] - 3s 28ms/step - loss: 0.7590 - accuracy: 0.7244 - val_loss: 0.7402 - val_accuracy: 0.7418\n",
      "Epoch 5/10\n",
      "94/94 [==============================] - 3s 27ms/step - loss: 0.7392 - accuracy: 0.7285 - val_loss: 0.8320 - val_accuracy: 0.7137\n",
      "Epoch 6/10\n",
      "94/94 [==============================] - 3s 27ms/step - loss: 0.7339 - accuracy: 0.7303 - val_loss: 0.9028 - val_accuracy: 0.7117\n",
      "Epoch 7/10\n",
      "94/94 [==============================] - 3s 27ms/step - loss: 0.7333 - accuracy: 0.7327 - val_loss: 0.7188 - val_accuracy: 0.7418\n",
      "Epoch 8/10\n",
      "94/94 [==============================] - 3s 27ms/step - loss: 0.6895 - accuracy: 0.7426 - val_loss: 0.7688 - val_accuracy: 0.7393\n",
      "Epoch 9/10\n",
      "94/94 [==============================] - 3s 27ms/step - loss: 0.6711 - accuracy: 0.7517 - val_loss: 0.7545 - val_accuracy: 0.7233\n",
      "Epoch 10/10\n",
      "94/94 [==============================] - 3s 27ms/step - loss: 0.6553 - accuracy: 0.7554 - val_loss: 0.6943 - val_accuracy: 0.7559\n",
      "---mixed dense list: [1024, 512, 256, 128, 64], tabular dense list: [32, 64], activation: tanh---\n"
     ]
    },
    {
     "name": "stderr",
     "output_type": "stream",
     "text": [
      "WARNING:absl:At this time, the v2.11+ optimizer `tf.keras.optimizers.Adam` runs slowly on M1/M2 Macs, please use the legacy Keras optimizer instead, located at `tf.keras.optimizers.legacy.Adam`.\n",
      "WARNING:absl:There is a known slowdown when using v2.11+ Keras optimizers on M1/M2 Macs. Falling back to the legacy Keras optimizer, i.e., `tf.keras.optimizers.legacy.Adam`.\n"
     ]
    },
    {
     "name": "stdout",
     "output_type": "stream",
     "text": [
      "Epoch 1/10\n",
      "94/94 [==============================] - 3s 28ms/step - loss: 1.3623 - accuracy: 0.6583 - val_loss: 0.9426 - val_accuracy: 0.6851\n",
      "Epoch 2/10\n",
      "94/94 [==============================] - 3s 27ms/step - loss: 0.8599 - accuracy: 0.7050 - val_loss: 0.8641 - val_accuracy: 0.7042\n",
      "Epoch 3/10\n",
      "94/94 [==============================] - 3s 27ms/step - loss: 0.8067 - accuracy: 0.7111 - val_loss: 0.8164 - val_accuracy: 0.7082\n",
      "Epoch 4/10\n",
      "94/94 [==============================] - 3s 27ms/step - loss: 0.7657 - accuracy: 0.7188 - val_loss: 0.7407 - val_accuracy: 0.7373\n",
      "Epoch 5/10\n",
      "94/94 [==============================] - 3s 27ms/step - loss: 0.7442 - accuracy: 0.7263 - val_loss: 0.7606 - val_accuracy: 0.7207\n",
      "Epoch 6/10\n",
      "94/94 [==============================] - 3s 27ms/step - loss: 0.7241 - accuracy: 0.7307 - val_loss: 0.7613 - val_accuracy: 0.7373\n",
      "Epoch 7/10\n",
      "94/94 [==============================] - 3s 28ms/step - loss: 0.7194 - accuracy: 0.7362 - val_loss: 0.7541 - val_accuracy: 0.7373\n",
      "Epoch 8/10\n",
      "94/94 [==============================] - 3s 27ms/step - loss: 0.6957 - accuracy: 0.7421 - val_loss: 0.7396 - val_accuracy: 0.7469\n",
      "Epoch 9/10\n",
      "94/94 [==============================] - 3s 27ms/step - loss: 0.7565 - accuracy: 0.7276 - val_loss: 0.7591 - val_accuracy: 0.7187\n",
      "Epoch 10/10\n",
      "94/94 [==============================] - 3s 27ms/step - loss: 0.6953 - accuracy: 0.7406 - val_loss: 0.7092 - val_accuracy: 0.7403\n",
      "---mixed dense list: [1024, 512, 256, 128, 64], tabular dense list: [32, 64, 64], activation: relu---\n"
     ]
    },
    {
     "name": "stderr",
     "output_type": "stream",
     "text": [
      "WARNING:absl:At this time, the v2.11+ optimizer `tf.keras.optimizers.Adam` runs slowly on M1/M2 Macs, please use the legacy Keras optimizer instead, located at `tf.keras.optimizers.legacy.Adam`.\n",
      "WARNING:absl:There is a known slowdown when using v2.11+ Keras optimizers on M1/M2 Macs. Falling back to the legacy Keras optimizer, i.e., `tf.keras.optimizers.legacy.Adam`.\n"
     ]
    },
    {
     "name": "stdout",
     "output_type": "stream",
     "text": [
      "Epoch 1/10\n",
      "94/94 [==============================] - 3s 27ms/step - loss: 1.4161 - accuracy: 0.6523 - val_loss: 0.9722 - val_accuracy: 0.6735\n",
      "Epoch 2/10\n",
      "94/94 [==============================] - 3s 27ms/step - loss: 0.8969 - accuracy: 0.6986 - val_loss: 0.8923 - val_accuracy: 0.7022\n",
      "Epoch 3/10\n",
      "94/94 [==============================] - 3s 28ms/step - loss: 0.8381 - accuracy: 0.7067 - val_loss: 0.8858 - val_accuracy: 0.7072\n",
      "Epoch 4/10\n",
      "94/94 [==============================] - 3s 27ms/step - loss: 0.7930 - accuracy: 0.7154 - val_loss: 0.8139 - val_accuracy: 0.7207\n",
      "Epoch 5/10\n",
      "94/94 [==============================] - 3s 27ms/step - loss: 0.7993 - accuracy: 0.7121 - val_loss: 0.7807 - val_accuracy: 0.7253\n",
      "Epoch 6/10\n",
      "94/94 [==============================] - 3s 27ms/step - loss: 0.7633 - accuracy: 0.7192 - val_loss: 0.7612 - val_accuracy: 0.7323\n",
      "Epoch 7/10\n",
      "94/94 [==============================] - 3s 27ms/step - loss: 0.7399 - accuracy: 0.7285 - val_loss: 0.7278 - val_accuracy: 0.7443\n",
      "Epoch 8/10\n",
      "94/94 [==============================] - 3s 27ms/step - loss: 0.7147 - accuracy: 0.7333 - val_loss: 0.7746 - val_accuracy: 0.7358\n",
      "Epoch 9/10\n",
      "94/94 [==============================] - 3s 28ms/step - loss: 0.7030 - accuracy: 0.7368 - val_loss: 0.7224 - val_accuracy: 0.7408\n",
      "Epoch 10/10\n",
      "94/94 [==============================] - 3s 27ms/step - loss: 0.6883 - accuracy: 0.7420 - val_loss: 0.7167 - val_accuracy: 0.7464\n",
      "---mixed dense list: [1024, 512, 256, 128, 64], tabular dense list: [32, 64, 64], activation: tanh---\n"
     ]
    },
    {
     "name": "stderr",
     "output_type": "stream",
     "text": [
      "WARNING:absl:At this time, the v2.11+ optimizer `tf.keras.optimizers.Adam` runs slowly on M1/M2 Macs, please use the legacy Keras optimizer instead, located at `tf.keras.optimizers.legacy.Adam`.\n",
      "WARNING:absl:There is a known slowdown when using v2.11+ Keras optimizers on M1/M2 Macs. Falling back to the legacy Keras optimizer, i.e., `tf.keras.optimizers.legacy.Adam`.\n"
     ]
    },
    {
     "name": "stdout",
     "output_type": "stream",
     "text": [
      "Epoch 1/10\n",
      "94/94 [==============================] - 3s 29ms/step - loss: 1.2658 - accuracy: 0.6633 - val_loss: 0.9339 - val_accuracy: 0.6956\n",
      "Epoch 2/10\n",
      "94/94 [==============================] - 3s 28ms/step - loss: 0.8633 - accuracy: 0.7023 - val_loss: 0.8974 - val_accuracy: 0.7047\n",
      "Epoch 3/10\n",
      "94/94 [==============================] - 3s 28ms/step - loss: 0.8185 - accuracy: 0.7108 - val_loss: 0.8749 - val_accuracy: 0.7102\n",
      "Epoch 4/10\n",
      "94/94 [==============================] - 3s 28ms/step - loss: 0.7805 - accuracy: 0.7190 - val_loss: 0.7762 - val_accuracy: 0.7248\n",
      "Epoch 5/10\n",
      "94/94 [==============================] - 3s 29ms/step - loss: 0.7782 - accuracy: 0.7202 - val_loss: 0.8373 - val_accuracy: 0.7152\n",
      "Epoch 6/10\n",
      "94/94 [==============================] - 3s 27ms/step - loss: 0.7525 - accuracy: 0.7215 - val_loss: 0.7407 - val_accuracy: 0.7258\n",
      "Epoch 7/10\n",
      "94/94 [==============================] - 2s 26ms/step - loss: 0.7279 - accuracy: 0.7288 - val_loss: 0.7345 - val_accuracy: 0.7328\n",
      "Epoch 8/10\n",
      "94/94 [==============================] - 3s 27ms/step - loss: 0.7206 - accuracy: 0.7306 - val_loss: 0.8552 - val_accuracy: 0.7238\n",
      "Epoch 9/10\n",
      "94/94 [==============================] - 3s 27ms/step - loss: 0.7011 - accuracy: 0.7374 - val_loss: 0.7266 - val_accuracy: 0.7283\n",
      "Epoch 10/10\n",
      "94/94 [==============================] - 3s 28ms/step - loss: 0.7011 - accuracy: 0.7357 - val_loss: 0.7508 - val_accuracy: 0.7172\n",
      "---mixed dense list: [1024, 512, 256, 128, 64], tabular dense list: [32, 64, 64, 32], activation: relu---\n"
     ]
    },
    {
     "name": "stderr",
     "output_type": "stream",
     "text": [
      "WARNING:absl:At this time, the v2.11+ optimizer `tf.keras.optimizers.Adam` runs slowly on M1/M2 Macs, please use the legacy Keras optimizer instead, located at `tf.keras.optimizers.legacy.Adam`.\n",
      "WARNING:absl:There is a known slowdown when using v2.11+ Keras optimizers on M1/M2 Macs. Falling back to the legacy Keras optimizer, i.e., `tf.keras.optimizers.legacy.Adam`.\n"
     ]
    },
    {
     "name": "stdout",
     "output_type": "stream",
     "text": [
      "Epoch 1/10\n",
      "94/94 [==============================] - 3s 30ms/step - loss: 1.5769 - accuracy: 0.6488 - val_loss: 0.9915 - val_accuracy: 0.6735\n",
      "Epoch 2/10\n",
      "94/94 [==============================] - 3s 29ms/step - loss: 0.9078 - accuracy: 0.6897 - val_loss: 0.8844 - val_accuracy: 0.7032\n",
      "Epoch 3/10\n",
      "94/94 [==============================] - 3s 28ms/step - loss: 0.8347 - accuracy: 0.7094 - val_loss: 0.8035 - val_accuracy: 0.7147\n",
      "Epoch 4/10\n",
      "94/94 [==============================] - 3s 29ms/step - loss: 0.7793 - accuracy: 0.7134 - val_loss: 0.7584 - val_accuracy: 0.7348\n",
      "Epoch 5/10\n",
      "94/94 [==============================] - 3s 28ms/step - loss: 0.7567 - accuracy: 0.7246 - val_loss: 0.7574 - val_accuracy: 0.7353\n",
      "Epoch 6/10\n",
      "94/94 [==============================] - 3s 28ms/step - loss: 0.7528 - accuracy: 0.7260 - val_loss: 0.7536 - val_accuracy: 0.7343\n",
      "Epoch 7/10\n",
      "94/94 [==============================] - 3s 29ms/step - loss: 0.7443 - accuracy: 0.7315 - val_loss: 0.7945 - val_accuracy: 0.7248\n",
      "Epoch 8/10\n",
      "94/94 [==============================] - 3s 28ms/step - loss: 0.7194 - accuracy: 0.7335 - val_loss: 0.7409 - val_accuracy: 0.7438\n",
      "Epoch 9/10\n",
      "94/94 [==============================] - 3s 29ms/step - loss: 0.7121 - accuracy: 0.7372 - val_loss: 0.7736 - val_accuracy: 0.7278\n",
      "Epoch 10/10\n",
      "94/94 [==============================] - 3s 28ms/step - loss: 0.7051 - accuracy: 0.7391 - val_loss: 0.7578 - val_accuracy: 0.7443\n",
      "---mixed dense list: [1024, 512, 256, 128, 64], tabular dense list: [32, 64, 64, 32], activation: tanh---\n"
     ]
    },
    {
     "name": "stderr",
     "output_type": "stream",
     "text": [
      "WARNING:absl:At this time, the v2.11+ optimizer `tf.keras.optimizers.Adam` runs slowly on M1/M2 Macs, please use the legacy Keras optimizer instead, located at `tf.keras.optimizers.legacy.Adam`.\n",
      "WARNING:absl:There is a known slowdown when using v2.11+ Keras optimizers on M1/M2 Macs. Falling back to the legacy Keras optimizer, i.e., `tf.keras.optimizers.legacy.Adam`.\n"
     ]
    },
    {
     "name": "stdout",
     "output_type": "stream",
     "text": [
      "Epoch 1/10\n",
      "94/94 [==============================] - 3s 29ms/step - loss: 1.3983 - accuracy: 0.6653 - val_loss: 0.9335 - val_accuracy: 0.6886\n",
      "Epoch 2/10\n",
      "94/94 [==============================] - 3s 28ms/step - loss: 0.9052 - accuracy: 0.6963 - val_loss: 0.9190 - val_accuracy: 0.7022\n",
      "Epoch 3/10\n",
      "94/94 [==============================] - 3s 30ms/step - loss: 0.8709 - accuracy: 0.7006 - val_loss: 0.8550 - val_accuracy: 0.7037\n",
      "Epoch 4/10\n",
      "94/94 [==============================] - 3s 28ms/step - loss: 0.8142 - accuracy: 0.7117 - val_loss: 0.8035 - val_accuracy: 0.7092\n",
      "Epoch 5/10\n",
      "94/94 [==============================] - 3s 29ms/step - loss: 0.7836 - accuracy: 0.7152 - val_loss: 0.7738 - val_accuracy: 0.7152\n",
      "Epoch 6/10\n",
      "94/94 [==============================] - 3s 28ms/step - loss: 0.7635 - accuracy: 0.7164 - val_loss: 0.7732 - val_accuracy: 0.7308\n",
      "Epoch 7/10\n",
      "94/94 [==============================] - 3s 29ms/step - loss: 0.7503 - accuracy: 0.7231 - val_loss: 0.7234 - val_accuracy: 0.7313\n",
      "Epoch 8/10\n",
      "94/94 [==============================] - 3s 28ms/step - loss: 0.7291 - accuracy: 0.7300 - val_loss: 0.7972 - val_accuracy: 0.7197\n",
      "Epoch 9/10\n",
      "94/94 [==============================] - 3s 29ms/step - loss: 0.7126 - accuracy: 0.7327 - val_loss: 0.7015 - val_accuracy: 0.7383\n",
      "Epoch 10/10\n",
      "94/94 [==============================] - 3s 28ms/step - loss: 0.7117 - accuracy: 0.7328 - val_loss: 0.7478 - val_accuracy: 0.7353\n",
      "---mixed dense list: [1024, 512, 256, 128, 64, 32], tabular dense list: [32], activation: relu---\n"
     ]
    },
    {
     "name": "stderr",
     "output_type": "stream",
     "text": [
      "WARNING:absl:At this time, the v2.11+ optimizer `tf.keras.optimizers.Adam` runs slowly on M1/M2 Macs, please use the legacy Keras optimizer instead, located at `tf.keras.optimizers.legacy.Adam`.\n",
      "WARNING:absl:There is a known slowdown when using v2.11+ Keras optimizers on M1/M2 Macs. Falling back to the legacy Keras optimizer, i.e., `tf.keras.optimizers.legacy.Adam`.\n"
     ]
    },
    {
     "name": "stdout",
     "output_type": "stream",
     "text": [
      "Epoch 1/10\n",
      "94/94 [==============================] - 3s 28ms/step - loss: 1.4134 - accuracy: 0.6403 - val_loss: 0.9490 - val_accuracy: 0.6765\n",
      "Epoch 2/10\n",
      "94/94 [==============================] - 3s 28ms/step - loss: 0.8948 - accuracy: 0.6942 - val_loss: 0.8953 - val_accuracy: 0.7012\n",
      "Epoch 3/10\n",
      "94/94 [==============================] - 3s 28ms/step - loss: 0.8612 - accuracy: 0.7020 - val_loss: 0.8937 - val_accuracy: 0.7042\n",
      "Epoch 4/10\n",
      "94/94 [==============================] - 3s 29ms/step - loss: 0.8323 - accuracy: 0.7072 - val_loss: 0.8366 - val_accuracy: 0.7137\n",
      "Epoch 5/10\n",
      "94/94 [==============================] - 3s 28ms/step - loss: 0.7965 - accuracy: 0.7112 - val_loss: 0.7845 - val_accuracy: 0.7177\n",
      "Epoch 6/10\n",
      "94/94 [==============================] - 3s 28ms/step - loss: 0.7797 - accuracy: 0.7124 - val_loss: 0.7997 - val_accuracy: 0.7167\n",
      "Epoch 7/10\n",
      "94/94 [==============================] - 3s 28ms/step - loss: 0.7555 - accuracy: 0.7203 - val_loss: 0.7358 - val_accuracy: 0.7243\n",
      "Epoch 8/10\n",
      "94/94 [==============================] - 3s 28ms/step - loss: 0.7378 - accuracy: 0.7234 - val_loss: 0.7961 - val_accuracy: 0.7197\n",
      "Epoch 9/10\n",
      "94/94 [==============================] - 3s 28ms/step - loss: 0.7253 - accuracy: 0.7297 - val_loss: 0.7151 - val_accuracy: 0.7313\n",
      "Epoch 10/10\n",
      "94/94 [==============================] - 3s 29ms/step - loss: 0.7129 - accuracy: 0.7277 - val_loss: 0.7510 - val_accuracy: 0.7328\n",
      "---mixed dense list: [1024, 512, 256, 128, 64, 32], tabular dense list: [32], activation: tanh---\n"
     ]
    },
    {
     "name": "stderr",
     "output_type": "stream",
     "text": [
      "WARNING:absl:At this time, the v2.11+ optimizer `tf.keras.optimizers.Adam` runs slowly on M1/M2 Macs, please use the legacy Keras optimizer instead, located at `tf.keras.optimizers.legacy.Adam`.\n",
      "WARNING:absl:There is a known slowdown when using v2.11+ Keras optimizers on M1/M2 Macs. Falling back to the legacy Keras optimizer, i.e., `tf.keras.optimizers.legacy.Adam`.\n"
     ]
    },
    {
     "name": "stdout",
     "output_type": "stream",
     "text": [
      "Epoch 1/10\n",
      "94/94 [==============================] - 3s 28ms/step - loss: 1.3692 - accuracy: 0.6593 - val_loss: 0.9504 - val_accuracy: 0.6846\n",
      "Epoch 2/10\n",
      "94/94 [==============================] - 3s 28ms/step - loss: 0.8847 - accuracy: 0.7006 - val_loss: 0.8895 - val_accuracy: 0.7002\n",
      "Epoch 3/10\n",
      "94/94 [==============================] - 3s 28ms/step - loss: 0.8317 - accuracy: 0.7067 - val_loss: 0.8564 - val_accuracy: 0.7062\n",
      "Epoch 4/10\n",
      "94/94 [==============================] - 3s 28ms/step - loss: 0.8014 - accuracy: 0.7116 - val_loss: 0.7713 - val_accuracy: 0.7192\n",
      "Epoch 5/10\n",
      "94/94 [==============================] - 3s 28ms/step - loss: 0.7798 - accuracy: 0.7171 - val_loss: 0.8019 - val_accuracy: 0.7172\n",
      "Epoch 6/10\n",
      "94/94 [==============================] - 3s 29ms/step - loss: 0.7489 - accuracy: 0.7272 - val_loss: 0.8099 - val_accuracy: 0.7288\n",
      "Epoch 7/10\n",
      "94/94 [==============================] - 3s 28ms/step - loss: 0.7501 - accuracy: 0.7295 - val_loss: 0.7460 - val_accuracy: 0.7313\n",
      "Epoch 8/10\n",
      "94/94 [==============================] - 3s 27ms/step - loss: 0.7318 - accuracy: 0.7316 - val_loss: 0.7352 - val_accuracy: 0.7459\n",
      "Epoch 9/10\n",
      "94/94 [==============================] - 3s 28ms/step - loss: 0.7202 - accuracy: 0.7339 - val_loss: 0.7160 - val_accuracy: 0.7358\n",
      "Epoch 10/10\n",
      "94/94 [==============================] - 3s 27ms/step - loss: 0.7081 - accuracy: 0.7363 - val_loss: 0.6831 - val_accuracy: 0.7469\n",
      "---mixed dense list: [1024, 512, 256, 128, 64, 32], tabular dense list: [32, 64], activation: relu---\n"
     ]
    },
    {
     "name": "stderr",
     "output_type": "stream",
     "text": [
      "WARNING:absl:At this time, the v2.11+ optimizer `tf.keras.optimizers.Adam` runs slowly on M1/M2 Macs, please use the legacy Keras optimizer instead, located at `tf.keras.optimizers.legacy.Adam`.\n",
      "WARNING:absl:There is a known slowdown when using v2.11+ Keras optimizers on M1/M2 Macs. Falling back to the legacy Keras optimizer, i.e., `tf.keras.optimizers.legacy.Adam`.\n"
     ]
    },
    {
     "name": "stdout",
     "output_type": "stream",
     "text": [
      "Epoch 1/10\n",
      "94/94 [==============================] - 3s 27ms/step - loss: 1.3141 - accuracy: 0.6537 - val_loss: 0.9618 - val_accuracy: 0.6735\n",
      "Epoch 2/10\n",
      "94/94 [==============================] - 3s 29ms/step - loss: 0.8875 - accuracy: 0.6973 - val_loss: 0.9629 - val_accuracy: 0.7022\n",
      "Epoch 3/10\n",
      "94/94 [==============================] - 3s 27ms/step - loss: 0.8149 - accuracy: 0.7094 - val_loss: 0.8056 - val_accuracy: 0.7192\n",
      "Epoch 4/10\n",
      "94/94 [==============================] - 3s 27ms/step - loss: 0.7819 - accuracy: 0.7138 - val_loss: 0.7805 - val_accuracy: 0.7182\n",
      "Epoch 5/10\n",
      "94/94 [==============================] - 3s 27ms/step - loss: 0.7637 - accuracy: 0.7201 - val_loss: 0.7628 - val_accuracy: 0.7323\n",
      "Epoch 6/10\n",
      "94/94 [==============================] - 3s 27ms/step - loss: 0.7482 - accuracy: 0.7235 - val_loss: 0.8577 - val_accuracy: 0.7152\n",
      "Epoch 7/10\n",
      "94/94 [==============================] - 3s 27ms/step - loss: 0.7261 - accuracy: 0.7330 - val_loss: 0.7521 - val_accuracy: 0.7388\n",
      "Epoch 8/10\n",
      "94/94 [==============================] - 3s 27ms/step - loss: 0.7073 - accuracy: 0.7369 - val_loss: 0.7633 - val_accuracy: 0.7283\n",
      "Epoch 9/10\n",
      "94/94 [==============================] - 3s 28ms/step - loss: 0.6895 - accuracy: 0.7420 - val_loss: 0.7418 - val_accuracy: 0.7348\n",
      "Epoch 10/10\n",
      "94/94 [==============================] - 3s 27ms/step - loss: 0.6875 - accuracy: 0.7416 - val_loss: 0.6901 - val_accuracy: 0.7554\n",
      "---mixed dense list: [1024, 512, 256, 128, 64, 32], tabular dense list: [32, 64], activation: tanh---\n"
     ]
    },
    {
     "name": "stderr",
     "output_type": "stream",
     "text": [
      "WARNING:absl:At this time, the v2.11+ optimizer `tf.keras.optimizers.Adam` runs slowly on M1/M2 Macs, please use the legacy Keras optimizer instead, located at `tf.keras.optimizers.legacy.Adam`.\n",
      "WARNING:absl:There is a known slowdown when using v2.11+ Keras optimizers on M1/M2 Macs. Falling back to the legacy Keras optimizer, i.e., `tf.keras.optimizers.legacy.Adam`.\n"
     ]
    },
    {
     "name": "stdout",
     "output_type": "stream",
     "text": [
      "Epoch 1/10\n",
      "94/94 [==============================] - 3s 28ms/step - loss: 1.3594 - accuracy: 0.6566 - val_loss: 0.9643 - val_accuracy: 0.6866\n",
      "Epoch 2/10\n",
      "94/94 [==============================] - 3s 28ms/step - loss: 0.8862 - accuracy: 0.7010 - val_loss: 0.8894 - val_accuracy: 0.6981\n",
      "Epoch 3/10\n",
      "94/94 [==============================] - 3s 28ms/step - loss: 0.8462 - accuracy: 0.7057 - val_loss: 0.9070 - val_accuracy: 0.7042\n",
      "Epoch 4/10\n",
      "94/94 [==============================] - 3s 28ms/step - loss: 0.7968 - accuracy: 0.7133 - val_loss: 0.7908 - val_accuracy: 0.7107\n",
      "Epoch 5/10\n",
      "94/94 [==============================] - 3s 29ms/step - loss: 0.7661 - accuracy: 0.7211 - val_loss: 0.7394 - val_accuracy: 0.7258\n",
      "Epoch 6/10\n",
      "94/94 [==============================] - 3s 28ms/step - loss: 0.7445 - accuracy: 0.7238 - val_loss: 0.7806 - val_accuracy: 0.7228\n",
      "Epoch 7/10\n",
      "94/94 [==============================] - 3s 28ms/step - loss: 0.7217 - accuracy: 0.7353 - val_loss: 0.7242 - val_accuracy: 0.7353\n",
      "Epoch 8/10\n",
      "94/94 [==============================] - 3s 28ms/step - loss: 0.7100 - accuracy: 0.7325 - val_loss: 0.7780 - val_accuracy: 0.7258\n",
      "Epoch 9/10\n",
      "94/94 [==============================] - 3s 28ms/step - loss: 0.6981 - accuracy: 0.7396 - val_loss: 0.6857 - val_accuracy: 0.7388\n",
      "Epoch 10/10\n",
      "94/94 [==============================] - 3s 29ms/step - loss: 0.6760 - accuracy: 0.7479 - val_loss: 0.6911 - val_accuracy: 0.7469\n",
      "---mixed dense list: [1024, 512, 256, 128, 64, 32], tabular dense list: [32, 64, 64], activation: relu---\n"
     ]
    },
    {
     "name": "stderr",
     "output_type": "stream",
     "text": [
      "WARNING:absl:At this time, the v2.11+ optimizer `tf.keras.optimizers.Adam` runs slowly on M1/M2 Macs, please use the legacy Keras optimizer instead, located at `tf.keras.optimizers.legacy.Adam`.\n",
      "WARNING:absl:There is a known slowdown when using v2.11+ Keras optimizers on M1/M2 Macs. Falling back to the legacy Keras optimizer, i.e., `tf.keras.optimizers.legacy.Adam`.\n"
     ]
    },
    {
     "name": "stdout",
     "output_type": "stream",
     "text": [
      "Epoch 1/10\n",
      "94/94 [==============================] - 3s 30ms/step - loss: 1.6046 - accuracy: 0.6443 - val_loss: 0.9820 - val_accuracy: 0.6735\n",
      "Epoch 2/10\n",
      "94/94 [==============================] - 3s 28ms/step - loss: 0.9136 - accuracy: 0.6927 - val_loss: 0.9022 - val_accuracy: 0.6961\n",
      "Epoch 3/10\n",
      "94/94 [==============================] - 3s 28ms/step - loss: 0.8433 - accuracy: 0.7081 - val_loss: 0.8599 - val_accuracy: 0.7117\n",
      "Epoch 4/10\n",
      "94/94 [==============================] - 3s 28ms/step - loss: 0.7943 - accuracy: 0.7138 - val_loss: 0.7921 - val_accuracy: 0.7137\n",
      "Epoch 5/10\n",
      "94/94 [==============================] - 3s 28ms/step - loss: 0.7723 - accuracy: 0.7191 - val_loss: 0.7542 - val_accuracy: 0.7318\n",
      "Epoch 6/10\n",
      "94/94 [==============================] - 3s 29ms/step - loss: 0.7525 - accuracy: 0.7261 - val_loss: 0.7838 - val_accuracy: 0.7363\n",
      "Epoch 7/10\n",
      "94/94 [==============================] - 3s 29ms/step - loss: 0.7491 - accuracy: 0.7308 - val_loss: 0.7520 - val_accuracy: 0.7433\n",
      "Epoch 8/10\n",
      "94/94 [==============================] - 3s 29ms/step - loss: 0.7300 - accuracy: 0.7335 - val_loss: 0.7511 - val_accuracy: 0.7418\n",
      "Epoch 9/10\n",
      "94/94 [==============================] - 3s 28ms/step - loss: 0.7138 - accuracy: 0.7367 - val_loss: 0.7038 - val_accuracy: 0.7403\n",
      "Epoch 10/10\n",
      "94/94 [==============================] - 3s 28ms/step - loss: 0.7251 - accuracy: 0.7349 - val_loss: 0.7047 - val_accuracy: 0.7479\n",
      "---mixed dense list: [1024, 512, 256, 128, 64, 32], tabular dense list: [32, 64, 64], activation: tanh---\n"
     ]
    },
    {
     "name": "stderr",
     "output_type": "stream",
     "text": [
      "WARNING:absl:At this time, the v2.11+ optimizer `tf.keras.optimizers.Adam` runs slowly on M1/M2 Macs, please use the legacy Keras optimizer instead, located at `tf.keras.optimizers.legacy.Adam`.\n",
      "WARNING:absl:There is a known slowdown when using v2.11+ Keras optimizers on M1/M2 Macs. Falling back to the legacy Keras optimizer, i.e., `tf.keras.optimizers.legacy.Adam`.\n"
     ]
    },
    {
     "name": "stdout",
     "output_type": "stream",
     "text": [
      "Epoch 1/10\n",
      "94/94 [==============================] - 3s 29ms/step - loss: 1.3745 - accuracy: 0.6555 - val_loss: 0.9519 - val_accuracy: 0.6876\n",
      "Epoch 2/10\n",
      "94/94 [==============================] - 3s 29ms/step - loss: 0.8881 - accuracy: 0.6956 - val_loss: 0.8989 - val_accuracy: 0.7002\n",
      "Epoch 3/10\n",
      "94/94 [==============================] - 3s 28ms/step - loss: 0.8387 - accuracy: 0.7050 - val_loss: 0.8638 - val_accuracy: 0.7022\n",
      "Epoch 4/10\n",
      "94/94 [==============================] - 3s 28ms/step - loss: 0.8152 - accuracy: 0.7069 - val_loss: 0.8482 - val_accuracy: 0.7092\n",
      "Epoch 5/10\n",
      "94/94 [==============================] - 3s 27ms/step - loss: 0.8110 - accuracy: 0.7071 - val_loss: 0.7797 - val_accuracy: 0.7097\n",
      "Epoch 6/10\n",
      "94/94 [==============================] - 3s 28ms/step - loss: 0.7713 - accuracy: 0.7154 - val_loss: 0.8241 - val_accuracy: 0.7187\n",
      "Epoch 7/10\n",
      "94/94 [==============================] - 3s 28ms/step - loss: 0.7658 - accuracy: 0.7179 - val_loss: 0.7612 - val_accuracy: 0.7278\n",
      "Epoch 8/10\n",
      "94/94 [==============================] - 3s 29ms/step - loss: 0.7360 - accuracy: 0.7281 - val_loss: 0.7706 - val_accuracy: 0.7248\n",
      "Epoch 9/10\n",
      "94/94 [==============================] - 3s 28ms/step - loss: 0.7199 - accuracy: 0.7332 - val_loss: 0.7001 - val_accuracy: 0.7288\n",
      "Epoch 10/10\n",
      "94/94 [==============================] - 3s 29ms/step - loss: 0.7108 - accuracy: 0.7362 - val_loss: 0.7856 - val_accuracy: 0.7283\n",
      "---mixed dense list: [1024, 512, 256, 128, 64, 32], tabular dense list: [32, 64, 64, 32], activation: relu---\n"
     ]
    },
    {
     "name": "stderr",
     "output_type": "stream",
     "text": [
      "WARNING:absl:At this time, the v2.11+ optimizer `tf.keras.optimizers.Adam` runs slowly on M1/M2 Macs, please use the legacy Keras optimizer instead, located at `tf.keras.optimizers.legacy.Adam`.\n",
      "WARNING:absl:There is a known slowdown when using v2.11+ Keras optimizers on M1/M2 Macs. Falling back to the legacy Keras optimizer, i.e., `tf.keras.optimizers.legacy.Adam`.\n"
     ]
    },
    {
     "name": "stdout",
     "output_type": "stream",
     "text": [
      "Epoch 1/10\n",
      "94/94 [==============================] - 3s 28ms/step - loss: 1.3774 - accuracy: 0.6485 - val_loss: 0.9828 - val_accuracy: 0.6735\n",
      "Epoch 2/10\n",
      "94/94 [==============================] - 3s 27ms/step - loss: 0.9278 - accuracy: 0.6832 - val_loss: 0.9289 - val_accuracy: 0.7047\n",
      "Epoch 3/10\n",
      "94/94 [==============================] - 3s 29ms/step - loss: 0.8675 - accuracy: 0.7057 - val_loss: 0.8764 - val_accuracy: 0.7107\n",
      "Epoch 4/10\n",
      "94/94 [==============================] - 3s 29ms/step - loss: 0.8169 - accuracy: 0.7132 - val_loss: 0.8280 - val_accuracy: 0.7142\n",
      "Epoch 5/10\n",
      "94/94 [==============================] - 3s 28ms/step - loss: 0.7804 - accuracy: 0.7197 - val_loss: 0.8185 - val_accuracy: 0.7233\n",
      "Epoch 6/10\n",
      "94/94 [==============================] - 3s 28ms/step - loss: 0.7621 - accuracy: 0.7230 - val_loss: 0.8436 - val_accuracy: 0.7207\n",
      "Epoch 7/10\n",
      "94/94 [==============================] - 3s 28ms/step - loss: 0.7557 - accuracy: 0.7262 - val_loss: 0.8230 - val_accuracy: 0.7238\n",
      "Epoch 8/10\n",
      "94/94 [==============================] - 3s 27ms/step - loss: 0.7341 - accuracy: 0.7325 - val_loss: 0.7331 - val_accuracy: 0.7413\n",
      "Epoch 9/10\n",
      "94/94 [==============================] - 3s 27ms/step - loss: 0.7168 - accuracy: 0.7378 - val_loss: 0.7356 - val_accuracy: 0.7313\n",
      "Epoch 10/10\n",
      "94/94 [==============================] - 3s 28ms/step - loss: 0.7200 - accuracy: 0.7301 - val_loss: 0.7845 - val_accuracy: 0.7368\n",
      "---mixed dense list: [1024, 512, 256, 128, 64, 32], tabular dense list: [32, 64, 64, 32], activation: tanh---\n"
     ]
    },
    {
     "name": "stderr",
     "output_type": "stream",
     "text": [
      "WARNING:absl:At this time, the v2.11+ optimizer `tf.keras.optimizers.Adam` runs slowly on M1/M2 Macs, please use the legacy Keras optimizer instead, located at `tf.keras.optimizers.legacy.Adam`.\n",
      "WARNING:absl:There is a known slowdown when using v2.11+ Keras optimizers on M1/M2 Macs. Falling back to the legacy Keras optimizer, i.e., `tf.keras.optimizers.legacy.Adam`.\n"
     ]
    },
    {
     "name": "stdout",
     "output_type": "stream",
     "text": [
      "Epoch 1/10\n",
      "94/94 [==============================] - 3s 28ms/step - loss: 1.3572 - accuracy: 0.6576 - val_loss: 0.9493 - val_accuracy: 0.6976\n",
      "Epoch 2/10\n",
      "94/94 [==============================] - 3s 27ms/step - loss: 0.8773 - accuracy: 0.7021 - val_loss: 0.9620 - val_accuracy: 0.6986\n",
      "Epoch 3/10\n",
      "94/94 [==============================] - 3s 27ms/step - loss: 0.8194 - accuracy: 0.7104 - val_loss: 0.8254 - val_accuracy: 0.7062\n",
      "Epoch 4/10\n",
      "94/94 [==============================] - 3s 27ms/step - loss: 0.7928 - accuracy: 0.7133 - val_loss: 0.7671 - val_accuracy: 0.7122\n",
      "Epoch 5/10\n",
      "94/94 [==============================] - 3s 27ms/step - loss: 0.7617 - accuracy: 0.7210 - val_loss: 0.7806 - val_accuracy: 0.7137\n",
      "Epoch 6/10\n",
      "94/94 [==============================] - 3s 28ms/step - loss: 0.7418 - accuracy: 0.7274 - val_loss: 0.7347 - val_accuracy: 0.7398\n",
      "Epoch 7/10\n",
      "94/94 [==============================] - 2s 26ms/step - loss: 0.7381 - accuracy: 0.7287 - val_loss: 0.7190 - val_accuracy: 0.7313\n",
      "Epoch 8/10\n",
      "94/94 [==============================] - 2s 26ms/step - loss: 0.7092 - accuracy: 0.7349 - val_loss: 0.8938 - val_accuracy: 0.7182\n",
      "Epoch 9/10\n",
      "94/94 [==============================] - 3s 27ms/step - loss: 0.7524 - accuracy: 0.7261 - val_loss: 0.7591 - val_accuracy: 0.7248\n",
      "Epoch 10/10\n",
      "94/94 [==============================] - 3s 28ms/step - loss: 0.6929 - accuracy: 0.7390 - val_loss: 0.7234 - val_accuracy: 0.7378\n"
     ]
    }
   ],
   "source": [
    "\n",
    "image_augm_dict = {}\n",
    "\n",
    "for mixed_dense_list in mixed_dense_lists:\n",
    "    for tabular_dense_list in tabular_dense_lists:\n",
    "        for activation_func in activation_list:\n",
    "        \n",
    "            print(\"---mixed dense list: \" + str(mixed_dense_list) + \", tabular dense list: \" + str(tabular_dense_list) + \", activation: \" + activation_func + \"---\")\n",
    "    \n",
    "            x_train_augm, tabular_augm, y_train_augm = aug_image(x_train_clean,\n",
    "                                                                 train_tabular_clean,\n",
    "                                                                 y_train_clean,\n",
    "                                                                 contrast_factor = 1,\n",
    "                                                                 delta = 0.1,\n",
    "                                                                 flip_flag = True)\n",
    "    \n",
    "            model = build_mixed_model(kernel_size = 3,\n",
    "                                      pool_size = 3,\n",
    "                                      tabular_shape = tabular_augm.shape[1],\n",
    "                                      tabular_activation_func = activation_func,\n",
    "                                      tabular_dense_list = tabular_dense_list,\n",
    "                                      mixed_dense_list = mixed_dense_list)\n",
    "    \n",
    "            history = model.fit(\n",
    "                [x_train_augm,\n",
    "                 tabular_augm],\n",
    "                y_train_augm,\n",
    "                validation_data = ([x_valid_augm,\n",
    "                                    valid_tabular_set],\n",
    "                                   y_valid),\n",
    "                epochs=10,  \n",
    "                batch_size=128\n",
    "            )\n",
    "\n",
    "            image_augm_dict[(len(mixed_dense_list), len(tabular_dense_list), activation_func)] = [history.history['accuracy'][-1], history.history['val_accuracy'][-1]]\n",
    "        "
   ]
  },
  {
   "cell_type": "markdown",
   "metadata": {},
   "source": [
    "### 6.4: fit models using oversample + image augmentation dataset"
   ]
  },
  {
   "cell_type": "code",
   "execution_count": 24,
   "metadata": {},
   "outputs": [
    {
     "name": "stdout",
     "output_type": "stream",
     "text": [
      "---mixed dense list: [1024], tabular dense list: [32], activation: relu---\n"
     ]
    },
    {
     "name": "stderr",
     "output_type": "stream",
     "text": [
      "WARNING:absl:At this time, the v2.11+ optimizer `tf.keras.optimizers.Adam` runs slowly on M1/M2 Macs, please use the legacy Keras optimizer instead, located at `tf.keras.optimizers.legacy.Adam`.\n",
      "WARNING:absl:There is a known slowdown when using v2.11+ Keras optimizers on M1/M2 Macs. Falling back to the legacy Keras optimizer, i.e., `tf.keras.optimizers.legacy.Adam`.\n"
     ]
    },
    {
     "name": "stdout",
     "output_type": "stream",
     "text": [
      "Epoch 1/10\n",
      "437/437 [==============================] - 10s 23ms/step - loss: 1.5713 - accuracy: 0.5390 - val_loss: 0.8108 - val_accuracy: 0.6700\n",
      "Epoch 2/10\n",
      "437/437 [==============================] - 10s 23ms/step - loss: 0.7609 - accuracy: 0.7138 - val_loss: 0.7001 - val_accuracy: 0.7258\n",
      "Epoch 3/10\n",
      "437/437 [==============================] - 10s 23ms/step - loss: 0.5787 - accuracy: 0.7841 - val_loss: 0.7066 - val_accuracy: 0.7243\n",
      "Epoch 4/10\n",
      "437/437 [==============================] - 10s 23ms/step - loss: 0.4860 - accuracy: 0.8208 - val_loss: 0.8667 - val_accuracy: 0.6866\n",
      "Epoch 5/10\n",
      "437/437 [==============================] - 10s 23ms/step - loss: 0.4035 - accuracy: 0.8521 - val_loss: 0.7340 - val_accuracy: 0.7428\n",
      "Epoch 6/10\n",
      "437/437 [==============================] - 10s 23ms/step - loss: 0.3387 - accuracy: 0.8758 - val_loss: 0.8310 - val_accuracy: 0.7122\n",
      "Epoch 7/10\n",
      "437/437 [==============================] - 10s 23ms/step - loss: 0.3081 - accuracy: 0.8885 - val_loss: 0.9420 - val_accuracy: 0.6981\n",
      "Epoch 8/10\n",
      "437/437 [==============================] - 10s 23ms/step - loss: 0.2707 - accuracy: 0.9013 - val_loss: 1.0297 - val_accuracy: 0.7012\n",
      "Epoch 9/10\n",
      "437/437 [==============================] - 10s 23ms/step - loss: 0.2369 - accuracy: 0.9149 - val_loss: 0.9762 - val_accuracy: 0.7378\n",
      "Epoch 10/10\n",
      "437/437 [==============================] - 10s 23ms/step - loss: 0.2009 - accuracy: 0.9285 - val_loss: 1.1091 - val_accuracy: 0.6961\n",
      "---mixed dense list: [1024], tabular dense list: [32], activation: tanh---\n"
     ]
    },
    {
     "name": "stderr",
     "output_type": "stream",
     "text": [
      "WARNING:absl:At this time, the v2.11+ optimizer `tf.keras.optimizers.Adam` runs slowly on M1/M2 Macs, please use the legacy Keras optimizer instead, located at `tf.keras.optimizers.legacy.Adam`.\n",
      "WARNING:absl:There is a known slowdown when using v2.11+ Keras optimizers on M1/M2 Macs. Falling back to the legacy Keras optimizer, i.e., `tf.keras.optimizers.legacy.Adam`.\n"
     ]
    },
    {
     "name": "stdout",
     "output_type": "stream",
     "text": [
      "Epoch 1/10\n",
      "437/437 [==============================] - 10s 23ms/step - loss: 1.7872 - accuracy: 0.5050 - val_loss: 0.8566 - val_accuracy: 0.6509\n",
      "Epoch 2/10\n",
      "437/437 [==============================] - 10s 23ms/step - loss: 0.8309 - accuracy: 0.6869 - val_loss: 0.7196 - val_accuracy: 0.7147\n",
      "Epoch 3/10\n",
      "437/437 [==============================] - 10s 23ms/step - loss: 0.6543 - accuracy: 0.7555 - val_loss: 0.7025 - val_accuracy: 0.7263\n",
      "Epoch 4/10\n",
      "437/437 [==============================] - 10s 23ms/step - loss: 0.5517 - accuracy: 0.7958 - val_loss: 0.8308 - val_accuracy: 0.6720\n",
      "Epoch 5/10\n",
      "437/437 [==============================] - 10s 23ms/step - loss: 0.4422 - accuracy: 0.8379 - val_loss: 0.7009 - val_accuracy: 0.7413\n",
      "Epoch 6/10\n",
      "437/437 [==============================] - 10s 22ms/step - loss: 0.3612 - accuracy: 0.8684 - val_loss: 0.7800 - val_accuracy: 0.7157\n",
      "Epoch 7/10\n",
      "437/437 [==============================] - 10s 23ms/step - loss: 0.3223 - accuracy: 0.8821 - val_loss: 0.7803 - val_accuracy: 0.7433\n",
      "Epoch 8/10\n",
      "437/437 [==============================] - 10s 23ms/step - loss: 0.2848 - accuracy: 0.8969 - val_loss: 0.9587 - val_accuracy: 0.7333\n",
      "Epoch 9/10\n",
      "437/437 [==============================] - 10s 23ms/step - loss: 0.2504 - accuracy: 0.9114 - val_loss: 0.9495 - val_accuracy: 0.7433\n",
      "Epoch 10/10\n",
      "437/437 [==============================] - 10s 23ms/step - loss: 0.2321 - accuracy: 0.9182 - val_loss: 1.1021 - val_accuracy: 0.7012\n",
      "---mixed dense list: [1024], tabular dense list: [32, 64], activation: relu---\n"
     ]
    },
    {
     "name": "stderr",
     "output_type": "stream",
     "text": [
      "WARNING:absl:At this time, the v2.11+ optimizer `tf.keras.optimizers.Adam` runs slowly on M1/M2 Macs, please use the legacy Keras optimizer instead, located at `tf.keras.optimizers.legacy.Adam`.\n",
      "WARNING:absl:There is a known slowdown when using v2.11+ Keras optimizers on M1/M2 Macs. Falling back to the legacy Keras optimizer, i.e., `tf.keras.optimizers.legacy.Adam`.\n"
     ]
    },
    {
     "name": "stdout",
     "output_type": "stream",
     "text": [
      "Epoch 1/10\n",
      "437/437 [==============================] - 11s 24ms/step - loss: 1.6780 - accuracy: 0.5270 - val_loss: 0.8407 - val_accuracy: 0.6680\n",
      "Epoch 2/10\n",
      "437/437 [==============================] - 10s 23ms/step - loss: 0.7568 - accuracy: 0.7149 - val_loss: 0.7447 - val_accuracy: 0.7132\n",
      "Epoch 3/10\n",
      "437/437 [==============================] - 10s 24ms/step - loss: 0.5948 - accuracy: 0.7770 - val_loss: 0.6563 - val_accuracy: 0.7549\n",
      "Epoch 4/10\n",
      "437/437 [==============================] - 10s 24ms/step - loss: 0.4802 - accuracy: 0.8217 - val_loss: 0.8880 - val_accuracy: 0.6620\n",
      "Epoch 5/10\n",
      "437/437 [==============================] - 10s 24ms/step - loss: 0.4092 - accuracy: 0.8485 - val_loss: 0.6865 - val_accuracy: 0.7584\n",
      "Epoch 6/10\n",
      "437/437 [==============================] - 10s 24ms/step - loss: 0.3666 - accuracy: 0.8660 - val_loss: 0.8051 - val_accuracy: 0.7042\n",
      "Epoch 7/10\n",
      "437/437 [==============================] - 10s 24ms/step - loss: 0.3004 - accuracy: 0.8905 - val_loss: 0.7818 - val_accuracy: 0.7428\n",
      "Epoch 8/10\n",
      "437/437 [==============================] - 10s 24ms/step - loss: 0.2569 - accuracy: 0.9075 - val_loss: 0.9440 - val_accuracy: 0.7027\n",
      "Epoch 9/10\n",
      "437/437 [==============================] - 10s 24ms/step - loss: 0.2556 - accuracy: 0.9085 - val_loss: 0.8228 - val_accuracy: 0.7283\n",
      "Epoch 10/10\n",
      "437/437 [==============================] - 10s 23ms/step - loss: 0.2214 - accuracy: 0.9208 - val_loss: 0.9884 - val_accuracy: 0.7097\n",
      "---mixed dense list: [1024], tabular dense list: [32, 64], activation: tanh---\n"
     ]
    },
    {
     "name": "stderr",
     "output_type": "stream",
     "text": [
      "WARNING:absl:At this time, the v2.11+ optimizer `tf.keras.optimizers.Adam` runs slowly on M1/M2 Macs, please use the legacy Keras optimizer instead, located at `tf.keras.optimizers.legacy.Adam`.\n",
      "WARNING:absl:There is a known slowdown when using v2.11+ Keras optimizers on M1/M2 Macs. Falling back to the legacy Keras optimizer, i.e., `tf.keras.optimizers.legacy.Adam`.\n"
     ]
    },
    {
     "name": "stdout",
     "output_type": "stream",
     "text": [
      "Epoch 1/10\n",
      "437/437 [==============================] - 10s 23ms/step - loss: 1.5942 - accuracy: 0.5334 - val_loss: 1.0358 - val_accuracy: 0.5681\n",
      "Epoch 2/10\n",
      "437/437 [==============================] - 10s 23ms/step - loss: 0.8239 - accuracy: 0.6871 - val_loss: 0.7836 - val_accuracy: 0.6786\n",
      "Epoch 3/10\n",
      "437/437 [==============================] - 10s 23ms/step - loss: 0.6376 - accuracy: 0.7602 - val_loss: 0.6743 - val_accuracy: 0.7559\n",
      "Epoch 4/10\n",
      "437/437 [==============================] - 10s 23ms/step - loss: 0.5097 - accuracy: 0.8106 - val_loss: 0.8846 - val_accuracy: 0.6801\n",
      "Epoch 5/10\n",
      "437/437 [==============================] - 10s 23ms/step - loss: 0.4169 - accuracy: 0.8471 - val_loss: 0.7451 - val_accuracy: 0.7423\n",
      "Epoch 6/10\n",
      "437/437 [==============================] - 10s 23ms/step - loss: 0.3472 - accuracy: 0.8736 - val_loss: 0.9127 - val_accuracy: 0.7107\n",
      "Epoch 7/10\n",
      "437/437 [==============================] - 10s 23ms/step - loss: 0.2999 - accuracy: 0.8908 - val_loss: 0.8757 - val_accuracy: 0.7187\n",
      "Epoch 8/10\n",
      "437/437 [==============================] - 10s 23ms/step - loss: 0.2666 - accuracy: 0.9036 - val_loss: 0.8010 - val_accuracy: 0.7539\n",
      "Epoch 9/10\n",
      "437/437 [==============================] - 10s 23ms/step - loss: 0.2365 - accuracy: 0.9159 - val_loss: 0.8344 - val_accuracy: 0.7765\n",
      "Epoch 10/10\n",
      "437/437 [==============================] - 10s 23ms/step - loss: 0.2143 - accuracy: 0.9223 - val_loss: 1.0158 - val_accuracy: 0.7373\n",
      "---mixed dense list: [1024], tabular dense list: [32, 64, 64], activation: relu---\n"
     ]
    },
    {
     "name": "stderr",
     "output_type": "stream",
     "text": [
      "WARNING:absl:At this time, the v2.11+ optimizer `tf.keras.optimizers.Adam` runs slowly on M1/M2 Macs, please use the legacy Keras optimizer instead, located at `tf.keras.optimizers.legacy.Adam`.\n",
      "WARNING:absl:There is a known slowdown when using v2.11+ Keras optimizers on M1/M2 Macs. Falling back to the legacy Keras optimizer, i.e., `tf.keras.optimizers.legacy.Adam`.\n"
     ]
    },
    {
     "name": "stdout",
     "output_type": "stream",
     "text": [
      "Epoch 1/10\n",
      "437/437 [==============================] - 10s 23ms/step - loss: 1.4817 - accuracy: 0.5519 - val_loss: 0.7994 - val_accuracy: 0.6665\n",
      "Epoch 2/10\n",
      "437/437 [==============================] - 10s 23ms/step - loss: 0.6665 - accuracy: 0.7489 - val_loss: 0.7356 - val_accuracy: 0.7223\n",
      "Epoch 3/10\n",
      "437/437 [==============================] - 10s 23ms/step - loss: 0.4990 - accuracy: 0.8144 - val_loss: 0.6833 - val_accuracy: 0.7433\n",
      "Epoch 4/10\n",
      "437/437 [==============================] - 10s 23ms/step - loss: 0.4177 - accuracy: 0.8461 - val_loss: 0.8674 - val_accuracy: 0.6755\n",
      "Epoch 5/10\n",
      "437/437 [==============================] - 10s 23ms/step - loss: 0.3347 - accuracy: 0.8771 - val_loss: 0.7835 - val_accuracy: 0.7393\n",
      "Epoch 6/10\n",
      "437/437 [==============================] - 10s 23ms/step - loss: 0.3098 - accuracy: 0.8878 - val_loss: 1.0106 - val_accuracy: 0.6846\n",
      "Epoch 7/10\n",
      "437/437 [==============================] - 10s 23ms/step - loss: 0.2533 - accuracy: 0.9087 - val_loss: 0.8550 - val_accuracy: 0.7464\n",
      "Epoch 8/10\n",
      "437/437 [==============================] - 10s 23ms/step - loss: 0.2257 - accuracy: 0.9176 - val_loss: 1.1014 - val_accuracy: 0.6916\n",
      "Epoch 9/10\n",
      "437/437 [==============================] - 10s 23ms/step - loss: 0.2159 - accuracy: 0.9225 - val_loss: 0.8281 - val_accuracy: 0.7519\n",
      "Epoch 10/10\n",
      "437/437 [==============================] - 10s 23ms/step - loss: 0.1817 - accuracy: 0.9349 - val_loss: 0.8974 - val_accuracy: 0.7348\n",
      "---mixed dense list: [1024], tabular dense list: [32, 64, 64], activation: tanh---\n"
     ]
    },
    {
     "name": "stderr",
     "output_type": "stream",
     "text": [
      "WARNING:absl:At this time, the v2.11+ optimizer `tf.keras.optimizers.Adam` runs slowly on M1/M2 Macs, please use the legacy Keras optimizer instead, located at `tf.keras.optimizers.legacy.Adam`.\n",
      "WARNING:absl:There is a known slowdown when using v2.11+ Keras optimizers on M1/M2 Macs. Falling back to the legacy Keras optimizer, i.e., `tf.keras.optimizers.legacy.Adam`.\n"
     ]
    },
    {
     "name": "stdout",
     "output_type": "stream",
     "text": [
      "Epoch 1/10\n",
      "437/437 [==============================] - 10s 23ms/step - loss: 1.6332 - accuracy: 0.5410 - val_loss: 0.7859 - val_accuracy: 0.6941\n",
      "Epoch 2/10\n",
      "437/437 [==============================] - 10s 23ms/step - loss: 0.7084 - accuracy: 0.7344 - val_loss: 0.7372 - val_accuracy: 0.7147\n",
      "Epoch 3/10\n",
      "437/437 [==============================] - 10s 23ms/step - loss: 0.5383 - accuracy: 0.8012 - val_loss: 0.6241 - val_accuracy: 0.7695\n",
      "Epoch 4/10\n",
      "437/437 [==============================] - 10s 23ms/step - loss: 0.4193 - accuracy: 0.8444 - val_loss: 0.8710 - val_accuracy: 0.6871\n",
      "Epoch 5/10\n",
      "437/437 [==============================] - 10s 23ms/step - loss: 0.3628 - accuracy: 0.8672 - val_loss: 0.7054 - val_accuracy: 0.7479\n",
      "Epoch 6/10\n",
      "437/437 [==============================] - 10s 23ms/step - loss: 0.3020 - accuracy: 0.8911 - val_loss: 0.9475 - val_accuracy: 0.6846\n",
      "Epoch 7/10\n",
      "437/437 [==============================] - 10s 23ms/step - loss: 0.2612 - accuracy: 0.9046 - val_loss: 0.9681 - val_accuracy: 0.7338\n",
      "Epoch 8/10\n",
      "437/437 [==============================] - 10s 23ms/step - loss: 0.2292 - accuracy: 0.9186 - val_loss: 1.0520 - val_accuracy: 0.6996\n",
      "Epoch 9/10\n",
      "437/437 [==============================] - 10s 23ms/step - loss: 0.2090 - accuracy: 0.9235 - val_loss: 0.9072 - val_accuracy: 0.7619\n",
      "Epoch 10/10\n",
      "437/437 [==============================] - 10s 23ms/step - loss: 0.2047 - accuracy: 0.9263 - val_loss: 1.0838 - val_accuracy: 0.7027\n",
      "---mixed dense list: [1024], tabular dense list: [32, 64, 64, 32], activation: relu---\n"
     ]
    },
    {
     "name": "stderr",
     "output_type": "stream",
     "text": [
      "WARNING:absl:At this time, the v2.11+ optimizer `tf.keras.optimizers.Adam` runs slowly on M1/M2 Macs, please use the legacy Keras optimizer instead, located at `tf.keras.optimizers.legacy.Adam`.\n",
      "WARNING:absl:There is a known slowdown when using v2.11+ Keras optimizers on M1/M2 Macs. Falling back to the legacy Keras optimizer, i.e., `tf.keras.optimizers.legacy.Adam`.\n"
     ]
    },
    {
     "name": "stdout",
     "output_type": "stream",
     "text": [
      "Epoch 1/10\n",
      "437/437 [==============================] - 10s 23ms/step - loss: 2.3523 - accuracy: 0.4896 - val_loss: 0.9237 - val_accuracy: 0.6394\n",
      "Epoch 2/10\n",
      "437/437 [==============================] - 10s 23ms/step - loss: 0.8009 - accuracy: 0.6939 - val_loss: 0.7301 - val_accuracy: 0.7117\n",
      "Epoch 3/10\n",
      "437/437 [==============================] - 10s 23ms/step - loss: 0.6463 - accuracy: 0.7591 - val_loss: 0.7017 - val_accuracy: 0.7363\n",
      "Epoch 4/10\n",
      "437/437 [==============================] - 10s 23ms/step - loss: 0.5252 - accuracy: 0.8055 - val_loss: 0.8125 - val_accuracy: 0.6931\n",
      "Epoch 5/10\n",
      "437/437 [==============================] - 10s 23ms/step - loss: 0.4660 - accuracy: 0.8283 - val_loss: 0.7203 - val_accuracy: 0.7494\n",
      "Epoch 6/10\n",
      "437/437 [==============================] - 10s 23ms/step - loss: 0.3790 - accuracy: 0.8601 - val_loss: 0.9443 - val_accuracy: 0.6685\n",
      "Epoch 7/10\n",
      "437/437 [==============================] - 10s 23ms/step - loss: 0.3308 - accuracy: 0.8784 - val_loss: 0.8015 - val_accuracy: 0.7383\n",
      "Epoch 8/10\n",
      "437/437 [==============================] - 10s 23ms/step - loss: 0.2898 - accuracy: 0.8940 - val_loss: 0.9429 - val_accuracy: 0.7062\n",
      "Epoch 9/10\n",
      "437/437 [==============================] - 10s 23ms/step - loss: 0.3126 - accuracy: 0.8885 - val_loss: 0.9617 - val_accuracy: 0.7273\n",
      "Epoch 10/10\n",
      "437/437 [==============================] - 10s 23ms/step - loss: 0.2390 - accuracy: 0.9134 - val_loss: 0.9738 - val_accuracy: 0.7298\n",
      "---mixed dense list: [1024], tabular dense list: [32, 64, 64, 32], activation: tanh---\n"
     ]
    },
    {
     "name": "stderr",
     "output_type": "stream",
     "text": [
      "WARNING:absl:At this time, the v2.11+ optimizer `tf.keras.optimizers.Adam` runs slowly on M1/M2 Macs, please use the legacy Keras optimizer instead, located at `tf.keras.optimizers.legacy.Adam`.\n",
      "WARNING:absl:There is a known slowdown when using v2.11+ Keras optimizers on M1/M2 Macs. Falling back to the legacy Keras optimizer, i.e., `tf.keras.optimizers.legacy.Adam`.\n"
     ]
    },
    {
     "name": "stdout",
     "output_type": "stream",
     "text": [
      "Epoch 1/10\n",
      "437/437 [==============================] - 10s 23ms/step - loss: 1.5303 - accuracy: 0.5433 - val_loss: 0.8120 - val_accuracy: 0.6745\n",
      "Epoch 2/10\n",
      "437/437 [==============================] - 10s 23ms/step - loss: 0.7165 - accuracy: 0.7273 - val_loss: 0.6924 - val_accuracy: 0.7313\n",
      "Epoch 3/10\n",
      "437/437 [==============================] - 10s 23ms/step - loss: 0.5496 - accuracy: 0.7939 - val_loss: 0.6374 - val_accuracy: 0.7654\n",
      "Epoch 4/10\n",
      "437/437 [==============================] - 10s 23ms/step - loss: 0.4393 - accuracy: 0.8377 - val_loss: 0.9654 - val_accuracy: 0.6524\n",
      "Epoch 5/10\n",
      "437/437 [==============================] - 10s 23ms/step - loss: 0.3485 - accuracy: 0.8711 - val_loss: 0.7528 - val_accuracy: 0.7413\n",
      "Epoch 6/10\n",
      "437/437 [==============================] - 10s 23ms/step - loss: 0.3097 - accuracy: 0.8873 - val_loss: 1.0192 - val_accuracy: 0.6806\n",
      "Epoch 7/10\n",
      "437/437 [==============================] - 10s 23ms/step - loss: 0.2620 - accuracy: 0.9057 - val_loss: 0.8037 - val_accuracy: 0.7519\n",
      "Epoch 8/10\n",
      "437/437 [==============================] - 10s 23ms/step - loss: 0.2141 - accuracy: 0.9228 - val_loss: 1.0474 - val_accuracy: 0.7313\n",
      "Epoch 9/10\n",
      "437/437 [==============================] - 10s 23ms/step - loss: 0.2225 - accuracy: 0.9222 - val_loss: 1.0867 - val_accuracy: 0.7238\n",
      "Epoch 10/10\n",
      "437/437 [==============================] - 10s 23ms/step - loss: 0.1646 - accuracy: 0.9426 - val_loss: 1.2852 - val_accuracy: 0.6991\n",
      "---mixed dense list: [1024, 512], tabular dense list: [32], activation: relu---\n"
     ]
    },
    {
     "name": "stderr",
     "output_type": "stream",
     "text": [
      "WARNING:absl:At this time, the v2.11+ optimizer `tf.keras.optimizers.Adam` runs slowly on M1/M2 Macs, please use the legacy Keras optimizer instead, located at `tf.keras.optimizers.legacy.Adam`.\n",
      "WARNING:absl:There is a known slowdown when using v2.11+ Keras optimizers on M1/M2 Macs. Falling back to the legacy Keras optimizer, i.e., `tf.keras.optimizers.legacy.Adam`.\n"
     ]
    },
    {
     "name": "stdout",
     "output_type": "stream",
     "text": [
      "Epoch 1/10\n",
      "437/437 [==============================] - 11s 24ms/step - loss: 1.8891 - accuracy: 0.4774 - val_loss: 0.8694 - val_accuracy: 0.6645\n",
      "Epoch 2/10\n",
      "437/437 [==============================] - 11s 24ms/step - loss: 0.8691 - accuracy: 0.6716 - val_loss: 0.8216 - val_accuracy: 0.6730\n",
      "Epoch 3/10\n",
      "437/437 [==============================] - 10s 24ms/step - loss: 0.6681 - accuracy: 0.7488 - val_loss: 0.7869 - val_accuracy: 0.7067\n",
      "Epoch 4/10\n",
      "437/437 [==============================] - 11s 24ms/step - loss: 0.5680 - accuracy: 0.7860 - val_loss: 0.8891 - val_accuracy: 0.6595\n",
      "Epoch 5/10\n",
      "437/437 [==============================] - 11s 24ms/step - loss: 0.4511 - accuracy: 0.8335 - val_loss: 0.7732 - val_accuracy: 0.7157\n",
      "Epoch 6/10\n",
      "437/437 [==============================] - 11s 24ms/step - loss: 0.3787 - accuracy: 0.8596 - val_loss: 0.9360 - val_accuracy: 0.6665\n",
      "Epoch 7/10\n",
      "437/437 [==============================] - 11s 24ms/step - loss: 0.3463 - accuracy: 0.8739 - val_loss: 1.0244 - val_accuracy: 0.6991\n",
      "Epoch 8/10\n",
      "437/437 [==============================] - 11s 24ms/step - loss: 0.2704 - accuracy: 0.9003 - val_loss: 1.1887 - val_accuracy: 0.6891\n",
      "Epoch 9/10\n",
      "437/437 [==============================] - 10s 24ms/step - loss: 0.2509 - accuracy: 0.9089 - val_loss: 1.0578 - val_accuracy: 0.7152\n",
      "Epoch 10/10\n",
      "437/437 [==============================] - 11s 24ms/step - loss: 0.2267 - accuracy: 0.9176 - val_loss: 1.1982 - val_accuracy: 0.7343\n",
      "---mixed dense list: [1024, 512], tabular dense list: [32], activation: tanh---\n"
     ]
    },
    {
     "name": "stderr",
     "output_type": "stream",
     "text": [
      "WARNING:absl:At this time, the v2.11+ optimizer `tf.keras.optimizers.Adam` runs slowly on M1/M2 Macs, please use the legacy Keras optimizer instead, located at `tf.keras.optimizers.legacy.Adam`.\n",
      "WARNING:absl:There is a known slowdown when using v2.11+ Keras optimizers on M1/M2 Macs. Falling back to the legacy Keras optimizer, i.e., `tf.keras.optimizers.legacy.Adam`.\n"
     ]
    },
    {
     "name": "stdout",
     "output_type": "stream",
     "text": [
      "Epoch 1/10\n",
      "437/437 [==============================] - 11s 24ms/step - loss: 1.5981 - accuracy: 0.5161 - val_loss: 0.7748 - val_accuracy: 0.7057\n",
      "Epoch 2/10\n",
      "437/437 [==============================] - 11s 24ms/step - loss: 0.7980 - accuracy: 0.6942 - val_loss: 0.8090 - val_accuracy: 0.6846\n",
      "Epoch 3/10\n",
      "437/437 [==============================] - 11s 24ms/step - loss: 0.5994 - accuracy: 0.7747 - val_loss: 0.7680 - val_accuracy: 0.7037\n",
      "Epoch 4/10\n",
      "437/437 [==============================] - 11s 24ms/step - loss: 0.4749 - accuracy: 0.8234 - val_loss: 0.8701 - val_accuracy: 0.6986\n",
      "Epoch 5/10\n",
      "437/437 [==============================] - 11s 24ms/step - loss: 0.4020 - accuracy: 0.8514 - val_loss: 0.7414 - val_accuracy: 0.7373\n",
      "Epoch 6/10\n",
      "437/437 [==============================] - 11s 25ms/step - loss: 0.3572 - accuracy: 0.8688 - val_loss: 0.8534 - val_accuracy: 0.7298\n",
      "Epoch 7/10\n",
      "437/437 [==============================] - 11s 24ms/step - loss: 0.2675 - accuracy: 0.9022 - val_loss: 1.0447 - val_accuracy: 0.6966\n",
      "Epoch 8/10\n",
      "437/437 [==============================] - 11s 24ms/step - loss: 0.2660 - accuracy: 0.9043 - val_loss: 1.0517 - val_accuracy: 0.7022\n",
      "Epoch 9/10\n",
      "437/437 [==============================] - 11s 24ms/step - loss: 0.2183 - accuracy: 0.9226 - val_loss: 0.9048 - val_accuracy: 0.6971\n",
      "Epoch 10/10\n",
      "437/437 [==============================] - 11s 25ms/step - loss: 0.2029 - accuracy: 0.9276 - val_loss: 1.1572 - val_accuracy: 0.7172\n",
      "---mixed dense list: [1024, 512], tabular dense list: [32, 64], activation: relu---\n"
     ]
    },
    {
     "name": "stderr",
     "output_type": "stream",
     "text": [
      "WARNING:absl:At this time, the v2.11+ optimizer `tf.keras.optimizers.Adam` runs slowly on M1/M2 Macs, please use the legacy Keras optimizer instead, located at `tf.keras.optimizers.legacy.Adam`.\n",
      "WARNING:absl:There is a known slowdown when using v2.11+ Keras optimizers on M1/M2 Macs. Falling back to the legacy Keras optimizer, i.e., `tf.keras.optimizers.legacy.Adam`.\n"
     ]
    },
    {
     "name": "stdout",
     "output_type": "stream",
     "text": [
      "Epoch 1/10\n",
      "437/437 [==============================] - 11s 24ms/step - loss: 1.5651 - accuracy: 0.5280 - val_loss: 0.8419 - val_accuracy: 0.6745\n",
      "Epoch 2/10\n",
      "437/437 [==============================] - 11s 24ms/step - loss: 0.7579 - accuracy: 0.7115 - val_loss: 0.7806 - val_accuracy: 0.7017\n",
      "Epoch 3/10\n",
      "437/437 [==============================] - 11s 25ms/step - loss: 0.5914 - accuracy: 0.7764 - val_loss: 0.6538 - val_accuracy: 0.7519\n",
      "Epoch 4/10\n",
      "437/437 [==============================] - 11s 24ms/step - loss: 0.4756 - accuracy: 0.8226 - val_loss: 0.8459 - val_accuracy: 0.6786\n",
      "Epoch 5/10\n",
      "437/437 [==============================] - 11s 24ms/step - loss: 0.3866 - accuracy: 0.8568 - val_loss: 0.8104 - val_accuracy: 0.7288\n",
      "Epoch 6/10\n",
      "437/437 [==============================] - 11s 25ms/step - loss: 0.3343 - accuracy: 0.8766 - val_loss: 0.9009 - val_accuracy: 0.7087\n",
      "Epoch 7/10\n",
      "437/437 [==============================] - 11s 24ms/step - loss: 0.2865 - accuracy: 0.8948 - val_loss: 0.8923 - val_accuracy: 0.7162\n",
      "Epoch 8/10\n",
      "437/437 [==============================] - 11s 24ms/step - loss: 0.2469 - accuracy: 0.9098 - val_loss: 1.1205 - val_accuracy: 0.6906\n",
      "Epoch 9/10\n",
      "437/437 [==============================] - 11s 25ms/step - loss: 0.2478 - accuracy: 0.9104 - val_loss: 0.9164 - val_accuracy: 0.7564\n",
      "Epoch 10/10\n",
      "437/437 [==============================] - 11s 24ms/step - loss: 0.2095 - accuracy: 0.9250 - val_loss: 1.0284 - val_accuracy: 0.7197\n",
      "---mixed dense list: [1024, 512], tabular dense list: [32, 64], activation: tanh---\n"
     ]
    },
    {
     "name": "stderr",
     "output_type": "stream",
     "text": [
      "WARNING:absl:At this time, the v2.11+ optimizer `tf.keras.optimizers.Adam` runs slowly on M1/M2 Macs, please use the legacy Keras optimizer instead, located at `tf.keras.optimizers.legacy.Adam`.\n",
      "WARNING:absl:There is a known slowdown when using v2.11+ Keras optimizers on M1/M2 Macs. Falling back to the legacy Keras optimizer, i.e., `tf.keras.optimizers.legacy.Adam`.\n"
     ]
    },
    {
     "name": "stdout",
     "output_type": "stream",
     "text": [
      "Epoch 1/10\n",
      "437/437 [==============================] - 11s 24ms/step - loss: 1.4647 - accuracy: 0.5432 - val_loss: 0.7535 - val_accuracy: 0.7007\n",
      "Epoch 2/10\n",
      "437/437 [==============================] - 11s 24ms/step - loss: 0.7127 - accuracy: 0.7299 - val_loss: 0.7240 - val_accuracy: 0.7067\n",
      "Epoch 3/10\n",
      "437/437 [==============================] - 11s 24ms/step - loss: 0.5495 - accuracy: 0.7940 - val_loss: 0.7139 - val_accuracy: 0.7423\n",
      "Epoch 4/10\n",
      "437/437 [==============================] - 11s 24ms/step - loss: 0.4237 - accuracy: 0.8442 - val_loss: 0.9969 - val_accuracy: 0.6580\n",
      "Epoch 5/10\n",
      "437/437 [==============================] - 11s 24ms/step - loss: 0.3612 - accuracy: 0.8663 - val_loss: 0.7993 - val_accuracy: 0.7408\n",
      "Epoch 6/10\n",
      "437/437 [==============================] - 11s 24ms/step - loss: 0.2889 - accuracy: 0.8941 - val_loss: 0.8717 - val_accuracy: 0.7268\n",
      "Epoch 7/10\n",
      "437/437 [==============================] - 11s 24ms/step - loss: 0.2380 - accuracy: 0.9138 - val_loss: 0.9611 - val_accuracy: 0.7258\n",
      "Epoch 8/10\n",
      "437/437 [==============================] - 11s 24ms/step - loss: 0.2329 - accuracy: 0.9168 - val_loss: 1.0779 - val_accuracy: 0.7318\n",
      "Epoch 9/10\n",
      "437/437 [==============================] - 11s 24ms/step - loss: 0.1720 - accuracy: 0.9380 - val_loss: 1.0437 - val_accuracy: 0.7438\n",
      "Epoch 10/10\n",
      "437/437 [==============================] - 11s 24ms/step - loss: 0.1804 - accuracy: 0.9359 - val_loss: 1.1344 - val_accuracy: 0.7388\n",
      "---mixed dense list: [1024, 512], tabular dense list: [32, 64, 64], activation: relu---\n"
     ]
    },
    {
     "name": "stderr",
     "output_type": "stream",
     "text": [
      "WARNING:absl:At this time, the v2.11+ optimizer `tf.keras.optimizers.Adam` runs slowly on M1/M2 Macs, please use the legacy Keras optimizer instead, located at `tf.keras.optimizers.legacy.Adam`.\n",
      "WARNING:absl:There is a known slowdown when using v2.11+ Keras optimizers on M1/M2 Macs. Falling back to the legacy Keras optimizer, i.e., `tf.keras.optimizers.legacy.Adam`.\n"
     ]
    },
    {
     "name": "stdout",
     "output_type": "stream",
     "text": [
      "Epoch 1/10\n",
      "437/437 [==============================] - 11s 24ms/step - loss: 1.6970 - accuracy: 0.5145 - val_loss: 0.8530 - val_accuracy: 0.6730\n",
      "Epoch 2/10\n",
      "437/437 [==============================] - 10s 24ms/step - loss: 0.7762 - accuracy: 0.7041 - val_loss: 0.8197 - val_accuracy: 0.6765\n",
      "Epoch 3/10\n",
      "437/437 [==============================] - 10s 23ms/step - loss: 0.6382 - accuracy: 0.7587 - val_loss: 0.7503 - val_accuracy: 0.7283\n",
      "Epoch 4/10\n",
      "437/437 [==============================] - 10s 24ms/step - loss: 0.5064 - accuracy: 0.8110 - val_loss: 0.9194 - val_accuracy: 0.6484\n",
      "Epoch 5/10\n",
      "437/437 [==============================] - 10s 24ms/step - loss: 0.4295 - accuracy: 0.8408 - val_loss: 0.7559 - val_accuracy: 0.7308\n",
      "Epoch 6/10\n",
      "437/437 [==============================] - 10s 23ms/step - loss: 0.3605 - accuracy: 0.8669 - val_loss: 0.8912 - val_accuracy: 0.6911\n",
      "Epoch 7/10\n",
      "437/437 [==============================] - 10s 24ms/step - loss: 0.5188 - accuracy: 0.8106 - val_loss: 0.7893 - val_accuracy: 0.7308\n",
      "Epoch 8/10\n",
      "437/437 [==============================] - 10s 23ms/step - loss: 0.2938 - accuracy: 0.8912 - val_loss: 0.8732 - val_accuracy: 0.7042\n",
      "Epoch 9/10\n",
      "437/437 [==============================] - 10s 24ms/step - loss: 0.2557 - accuracy: 0.9075 - val_loss: 0.9714 - val_accuracy: 0.7428\n",
      "Epoch 10/10\n",
      "437/437 [==============================] - 10s 23ms/step - loss: 0.2342 - accuracy: 0.9148 - val_loss: 1.3127 - val_accuracy: 0.6801\n",
      "---mixed dense list: [1024, 512], tabular dense list: [32, 64, 64], activation: tanh---\n"
     ]
    },
    {
     "name": "stderr",
     "output_type": "stream",
     "text": [
      "WARNING:absl:At this time, the v2.11+ optimizer `tf.keras.optimizers.Adam` runs slowly on M1/M2 Macs, please use the legacy Keras optimizer instead, located at `tf.keras.optimizers.legacy.Adam`.\n",
      "WARNING:absl:There is a known slowdown when using v2.11+ Keras optimizers on M1/M2 Macs. Falling back to the legacy Keras optimizer, i.e., `tf.keras.optimizers.legacy.Adam`.\n"
     ]
    },
    {
     "name": "stdout",
     "output_type": "stream",
     "text": [
      "Epoch 1/10\n",
      "437/437 [==============================] - 10s 23ms/step - loss: 1.5524 - accuracy: 0.5197 - val_loss: 0.8200 - val_accuracy: 0.6670\n",
      "Epoch 2/10\n",
      "437/437 [==============================] - 10s 23ms/step - loss: 0.7177 - accuracy: 0.7276 - val_loss: 0.7571 - val_accuracy: 0.7032\n",
      "Epoch 3/10\n",
      "437/437 [==============================] - 10s 23ms/step - loss: 0.5416 - accuracy: 0.7954 - val_loss: 0.6811 - val_accuracy: 0.7464\n",
      "Epoch 4/10\n",
      "437/437 [==============================] - 10s 23ms/step - loss: 0.4382 - accuracy: 0.8372 - val_loss: 0.9583 - val_accuracy: 0.6700\n",
      "Epoch 5/10\n",
      "437/437 [==============================] - 10s 23ms/step - loss: 0.3397 - accuracy: 0.8750 - val_loss: 0.8556 - val_accuracy: 0.7027\n",
      "Epoch 6/10\n",
      "437/437 [==============================] - 10s 23ms/step - loss: 0.3006 - accuracy: 0.8892 - val_loss: 0.8062 - val_accuracy: 0.7398\n",
      "Epoch 7/10\n",
      "437/437 [==============================] - 10s 23ms/step - loss: 0.2408 - accuracy: 0.9114 - val_loss: 0.8728 - val_accuracy: 0.7418\n",
      "Epoch 8/10\n",
      "437/437 [==============================] - 10s 23ms/step - loss: 0.2305 - accuracy: 0.9170 - val_loss: 0.9310 - val_accuracy: 0.7459\n",
      "Epoch 9/10\n",
      "437/437 [==============================] - 10s 23ms/step - loss: 0.1853 - accuracy: 0.9327 - val_loss: 0.9303 - val_accuracy: 0.7690\n",
      "Epoch 10/10\n",
      "437/437 [==============================] - 10s 23ms/step - loss: 0.1740 - accuracy: 0.9390 - val_loss: 1.0711 - val_accuracy: 0.7383\n",
      "---mixed dense list: [1024, 512], tabular dense list: [32, 64, 64, 32], activation: relu---\n"
     ]
    },
    {
     "name": "stderr",
     "output_type": "stream",
     "text": [
      "WARNING:absl:At this time, the v2.11+ optimizer `tf.keras.optimizers.Adam` runs slowly on M1/M2 Macs, please use the legacy Keras optimizer instead, located at `tf.keras.optimizers.legacy.Adam`.\n",
      "WARNING:absl:There is a known slowdown when using v2.11+ Keras optimizers on M1/M2 Macs. Falling back to the legacy Keras optimizer, i.e., `tf.keras.optimizers.legacy.Adam`.\n"
     ]
    },
    {
     "name": "stdout",
     "output_type": "stream",
     "text": [
      "Epoch 1/10\n",
      "437/437 [==============================] - 11s 24ms/step - loss: 1.4722 - accuracy: 0.5303 - val_loss: 0.8401 - val_accuracy: 0.6404\n",
      "Epoch 2/10\n",
      "437/437 [==============================] - 10s 23ms/step - loss: 0.7195 - accuracy: 0.7271 - val_loss: 0.7452 - val_accuracy: 0.7127\n",
      "Epoch 3/10\n",
      "437/437 [==============================] - 10s 23ms/step - loss: 0.5581 - accuracy: 0.7903 - val_loss: 0.6996 - val_accuracy: 0.7343\n",
      "Epoch 4/10\n",
      "437/437 [==============================] - 10s 23ms/step - loss: 0.4466 - accuracy: 0.8339 - val_loss: 0.9300 - val_accuracy: 0.6449\n",
      "Epoch 5/10\n",
      "437/437 [==============================] - 10s 23ms/step - loss: 0.3805 - accuracy: 0.8591 - val_loss: 0.7669 - val_accuracy: 0.7454\n",
      "Epoch 6/10\n",
      "437/437 [==============================] - 10s 23ms/step - loss: 0.3131 - accuracy: 0.8838 - val_loss: 0.9343 - val_accuracy: 0.6911\n",
      "Epoch 7/10\n",
      "437/437 [==============================] - 10s 23ms/step - loss: 0.2629 - accuracy: 0.9037 - val_loss: 0.8665 - val_accuracy: 0.7268\n",
      "Epoch 8/10\n",
      "437/437 [==============================] - 10s 23ms/step - loss: 0.2447 - accuracy: 0.9108 - val_loss: 0.9475 - val_accuracy: 0.7172\n",
      "Epoch 9/10\n",
      "437/437 [==============================] - 10s 23ms/step - loss: 0.2223 - accuracy: 0.9207 - val_loss: 0.8623 - val_accuracy: 0.7499\n",
      "Epoch 10/10\n",
      "437/437 [==============================] - 10s 23ms/step - loss: 0.2124 - accuracy: 0.9231 - val_loss: 0.9774 - val_accuracy: 0.7283\n",
      "---mixed dense list: [1024, 512], tabular dense list: [32, 64, 64, 32], activation: tanh---\n"
     ]
    },
    {
     "name": "stderr",
     "output_type": "stream",
     "text": [
      "WARNING:absl:At this time, the v2.11+ optimizer `tf.keras.optimizers.Adam` runs slowly on M1/M2 Macs, please use the legacy Keras optimizer instead, located at `tf.keras.optimizers.legacy.Adam`.\n",
      "WARNING:absl:There is a known slowdown when using v2.11+ Keras optimizers on M1/M2 Macs. Falling back to the legacy Keras optimizer, i.e., `tf.keras.optimizers.legacy.Adam`.\n"
     ]
    },
    {
     "name": "stdout",
     "output_type": "stream",
     "text": [
      "Epoch 1/10\n",
      "437/437 [==============================] - 10s 23ms/step - loss: 1.5971 - accuracy: 0.5241 - val_loss: 0.9453 - val_accuracy: 0.6203\n",
      "Epoch 2/10\n",
      "437/437 [==============================] - 10s 24ms/step - loss: 0.7220 - accuracy: 0.7242 - val_loss: 0.7272 - val_accuracy: 0.7278\n",
      "Epoch 3/10\n",
      "437/437 [==============================] - 10s 23ms/step - loss: 0.5537 - accuracy: 0.7895 - val_loss: 0.8060 - val_accuracy: 0.6881\n",
      "Epoch 4/10\n",
      "437/437 [==============================] - 10s 23ms/step - loss: 0.4227 - accuracy: 0.8417 - val_loss: 1.0315 - val_accuracy: 0.6494\n",
      "Epoch 5/10\n",
      "437/437 [==============================] - 10s 23ms/step - loss: 0.4170 - accuracy: 0.8467 - val_loss: 0.9751 - val_accuracy: 0.6871\n",
      "Epoch 6/10\n",
      "437/437 [==============================] - 10s 24ms/step - loss: 0.2999 - accuracy: 0.8890 - val_loss: 0.8881 - val_accuracy: 0.7167\n",
      "Epoch 7/10\n",
      "437/437 [==============================] - 10s 23ms/step - loss: 0.2738 - accuracy: 0.9005 - val_loss: 0.8691 - val_accuracy: 0.7433\n",
      "Epoch 8/10\n",
      "437/437 [==============================] - 10s 24ms/step - loss: 0.2246 - accuracy: 0.9191 - val_loss: 1.0886 - val_accuracy: 0.7368\n",
      "Epoch 9/10\n",
      "437/437 [==============================] - 10s 24ms/step - loss: 0.2051 - accuracy: 0.9247 - val_loss: 1.0548 - val_accuracy: 0.7378\n",
      "Epoch 10/10\n",
      "437/437 [==============================] - 10s 23ms/step - loss: 0.1816 - accuracy: 0.9347 - val_loss: 1.4602 - val_accuracy: 0.6675\n",
      "---mixed dense list: [1024, 512, 256], tabular dense list: [32], activation: relu---\n"
     ]
    },
    {
     "name": "stderr",
     "output_type": "stream",
     "text": [
      "WARNING:absl:At this time, the v2.11+ optimizer `tf.keras.optimizers.Adam` runs slowly on M1/M2 Macs, please use the legacy Keras optimizer instead, located at `tf.keras.optimizers.legacy.Adam`.\n",
      "WARNING:absl:There is a known slowdown when using v2.11+ Keras optimizers on M1/M2 Macs. Falling back to the legacy Keras optimizer, i.e., `tf.keras.optimizers.legacy.Adam`.\n"
     ]
    },
    {
     "name": "stdout",
     "output_type": "stream",
     "text": [
      "Epoch 1/10\n",
      "437/437 [==============================] - 11s 24ms/step - loss: 1.5283 - accuracy: 0.5252 - val_loss: 0.8049 - val_accuracy: 0.6801\n",
      "Epoch 2/10\n",
      "437/437 [==============================] - 11s 24ms/step - loss: 0.7476 - accuracy: 0.7142 - val_loss: 0.6857 - val_accuracy: 0.7348\n",
      "Epoch 3/10\n",
      "437/437 [==============================] - 10s 24ms/step - loss: 0.5934 - accuracy: 0.7775 - val_loss: 0.6624 - val_accuracy: 0.7519\n",
      "Epoch 4/10\n",
      "437/437 [==============================] - 11s 24ms/step - loss: 0.4714 - accuracy: 0.8222 - val_loss: 1.0022 - val_accuracy: 0.6173\n",
      "Epoch 5/10\n",
      "437/437 [==============================] - 11s 24ms/step - loss: 0.4107 - accuracy: 0.8457 - val_loss: 0.7445 - val_accuracy: 0.7438\n",
      "Epoch 6/10\n",
      "437/437 [==============================] - 11s 24ms/step - loss: 0.3319 - accuracy: 0.8758 - val_loss: 0.9118 - val_accuracy: 0.6961\n",
      "Epoch 7/10\n",
      "437/437 [==============================] - 11s 24ms/step - loss: 0.2916 - accuracy: 0.8926 - val_loss: 0.8248 - val_accuracy: 0.7308\n",
      "Epoch 8/10\n",
      "437/437 [==============================] - 11s 24ms/step - loss: 0.2735 - accuracy: 0.8995 - val_loss: 0.8307 - val_accuracy: 0.7343\n",
      "Epoch 9/10\n",
      "437/437 [==============================] - 11s 24ms/step - loss: 0.2584 - accuracy: 0.9065 - val_loss: 0.8853 - val_accuracy: 0.7454\n",
      "Epoch 10/10\n",
      "437/437 [==============================] - 11s 24ms/step - loss: 0.2113 - accuracy: 0.9224 - val_loss: 1.0378 - val_accuracy: 0.6931\n",
      "---mixed dense list: [1024, 512, 256], tabular dense list: [32], activation: tanh---\n"
     ]
    },
    {
     "name": "stderr",
     "output_type": "stream",
     "text": [
      "WARNING:absl:At this time, the v2.11+ optimizer `tf.keras.optimizers.Adam` runs slowly on M1/M2 Macs, please use the legacy Keras optimizer instead, located at `tf.keras.optimizers.legacy.Adam`.\n",
      "WARNING:absl:There is a known slowdown when using v2.11+ Keras optimizers on M1/M2 Macs. Falling back to the legacy Keras optimizer, i.e., `tf.keras.optimizers.legacy.Adam`.\n"
     ]
    },
    {
     "name": "stdout",
     "output_type": "stream",
     "text": [
      "Epoch 1/10\n",
      "437/437 [==============================] - 12s 26ms/step - loss: 1.4664 - accuracy: 0.5376 - val_loss: 0.8831 - val_accuracy: 0.6243\n",
      "Epoch 2/10\n",
      "437/437 [==============================] - 11s 26ms/step - loss: 0.6998 - accuracy: 0.7360 - val_loss: 0.6909 - val_accuracy: 0.7288\n",
      "Epoch 3/10\n",
      "437/437 [==============================] - 11s 26ms/step - loss: 0.5493 - accuracy: 0.7946 - val_loss: 0.7780 - val_accuracy: 0.6996\n",
      "Epoch 4/10\n",
      "437/437 [==============================] - 11s 26ms/step - loss: 0.4336 - accuracy: 0.8386 - val_loss: 0.8054 - val_accuracy: 0.7137\n",
      "Epoch 5/10\n",
      "437/437 [==============================] - 11s 26ms/step - loss: 0.3650 - accuracy: 0.8632 - val_loss: 0.7706 - val_accuracy: 0.7664\n",
      "Epoch 6/10\n",
      "437/437 [==============================] - 11s 26ms/step - loss: 0.3171 - accuracy: 0.8817 - val_loss: 0.8768 - val_accuracy: 0.7112\n",
      "Epoch 7/10\n",
      "437/437 [==============================] - 11s 26ms/step - loss: 0.2741 - accuracy: 0.8988 - val_loss: 0.8458 - val_accuracy: 0.7333\n",
      "Epoch 8/10\n",
      "437/437 [==============================] - 11s 26ms/step - loss: 0.2353 - accuracy: 0.9140 - val_loss: 0.8183 - val_accuracy: 0.7599\n",
      "Epoch 9/10\n",
      "437/437 [==============================] - 11s 26ms/step - loss: 0.2281 - accuracy: 0.9178 - val_loss: 0.8221 - val_accuracy: 0.7690\n",
      "Epoch 10/10\n",
      "437/437 [==============================] - 12s 26ms/step - loss: 0.2077 - accuracy: 0.9255 - val_loss: 1.0274 - val_accuracy: 0.7207\n",
      "---mixed dense list: [1024, 512, 256], tabular dense list: [32, 64], activation: relu---\n"
     ]
    },
    {
     "name": "stderr",
     "output_type": "stream",
     "text": [
      "WARNING:absl:At this time, the v2.11+ optimizer `tf.keras.optimizers.Adam` runs slowly on M1/M2 Macs, please use the legacy Keras optimizer instead, located at `tf.keras.optimizers.legacy.Adam`.\n",
      "WARNING:absl:There is a known slowdown when using v2.11+ Keras optimizers on M1/M2 Macs. Falling back to the legacy Keras optimizer, i.e., `tf.keras.optimizers.legacy.Adam`.\n"
     ]
    },
    {
     "name": "stdout",
     "output_type": "stream",
     "text": [
      "Epoch 1/10\n",
      "437/437 [==============================] - 12s 26ms/step - loss: 1.5552 - accuracy: 0.5156 - val_loss: 0.8551 - val_accuracy: 0.6549\n",
      "Epoch 2/10\n",
      "437/437 [==============================] - 11s 26ms/step - loss: 0.7393 - accuracy: 0.7175 - val_loss: 0.6966 - val_accuracy: 0.7278\n",
      "Epoch 3/10\n",
      "437/437 [==============================] - 11s 26ms/step - loss: 0.5616 - accuracy: 0.7910 - val_loss: 0.7069 - val_accuracy: 0.7398\n",
      "Epoch 4/10\n",
      "437/437 [==============================] - 11s 26ms/step - loss: 0.4730 - accuracy: 0.8262 - val_loss: 0.8629 - val_accuracy: 0.6836\n",
      "Epoch 5/10\n",
      "437/437 [==============================] - 11s 26ms/step - loss: 0.3833 - accuracy: 0.8589 - val_loss: 0.8016 - val_accuracy: 0.7293\n",
      "Epoch 6/10\n",
      "437/437 [==============================] - 11s 26ms/step - loss: 0.3162 - accuracy: 0.8844 - val_loss: 1.0746 - val_accuracy: 0.6565\n",
      "Epoch 7/10\n",
      "437/437 [==============================] - 11s 26ms/step - loss: 0.2976 - accuracy: 0.8920 - val_loss: 0.8312 - val_accuracy: 0.7338\n",
      "Epoch 8/10\n",
      "437/437 [==============================] - 11s 26ms/step - loss: 0.2575 - accuracy: 0.9058 - val_loss: 0.8922 - val_accuracy: 0.7358\n",
      "Epoch 9/10\n",
      "437/437 [==============================] - 11s 26ms/step - loss: 0.2250 - accuracy: 0.9169 - val_loss: 1.0261 - val_accuracy: 0.7328\n",
      "Epoch 10/10\n",
      "437/437 [==============================] - 11s 26ms/step - loss: 0.2250 - accuracy: 0.9190 - val_loss: 1.1271 - val_accuracy: 0.6926\n",
      "---mixed dense list: [1024, 512, 256], tabular dense list: [32, 64], activation: tanh---\n"
     ]
    },
    {
     "name": "stderr",
     "output_type": "stream",
     "text": [
      "WARNING:absl:At this time, the v2.11+ optimizer `tf.keras.optimizers.Adam` runs slowly on M1/M2 Macs, please use the legacy Keras optimizer instead, located at `tf.keras.optimizers.legacy.Adam`.\n",
      "WARNING:absl:There is a known slowdown when using v2.11+ Keras optimizers on M1/M2 Macs. Falling back to the legacy Keras optimizer, i.e., `tf.keras.optimizers.legacy.Adam`.\n"
     ]
    },
    {
     "name": "stdout",
     "output_type": "stream",
     "text": [
      "Epoch 1/10\n",
      "437/437 [==============================] - 12s 26ms/step - loss: 1.2495 - accuracy: 0.5538 - val_loss: 0.8433 - val_accuracy: 0.6509\n",
      "Epoch 2/10\n",
      "437/437 [==============================] - 11s 25ms/step - loss: 0.6471 - accuracy: 0.7546 - val_loss: 0.7934 - val_accuracy: 0.6851\n",
      "Epoch 3/10\n",
      "437/437 [==============================] - 11s 25ms/step - loss: 0.4898 - accuracy: 0.8181 - val_loss: 0.6582 - val_accuracy: 0.7544\n",
      "Epoch 4/10\n",
      "437/437 [==============================] - 11s 26ms/step - loss: 0.3942 - accuracy: 0.8543 - val_loss: 0.8790 - val_accuracy: 0.6976\n",
      "Epoch 5/10\n",
      "437/437 [==============================] - 11s 26ms/step - loss: 0.3154 - accuracy: 0.8827 - val_loss: 0.7984 - val_accuracy: 0.7408\n",
      "Epoch 6/10\n",
      "437/437 [==============================] - 11s 26ms/step - loss: 0.2835 - accuracy: 0.8957 - val_loss: 0.8824 - val_accuracy: 0.6886\n",
      "Epoch 7/10\n",
      "437/437 [==============================] - 11s 25ms/step - loss: 0.2272 - accuracy: 0.9174 - val_loss: 0.7706 - val_accuracy: 0.7519\n",
      "Epoch 8/10\n",
      "437/437 [==============================] - 11s 26ms/step - loss: 0.2094 - accuracy: 0.9237 - val_loss: 0.9887 - val_accuracy: 0.7454\n",
      "Epoch 9/10\n",
      "437/437 [==============================] - 11s 26ms/step - loss: 0.2004 - accuracy: 0.9281 - val_loss: 0.9311 - val_accuracy: 0.7373\n",
      "Epoch 10/10\n",
      "437/437 [==============================] - 11s 25ms/step - loss: 0.1655 - accuracy: 0.9400 - val_loss: 1.2183 - val_accuracy: 0.7027\n",
      "---mixed dense list: [1024, 512, 256], tabular dense list: [32, 64, 64], activation: relu---\n"
     ]
    },
    {
     "name": "stderr",
     "output_type": "stream",
     "text": [
      "WARNING:absl:At this time, the v2.11+ optimizer `tf.keras.optimizers.Adam` runs slowly on M1/M2 Macs, please use the legacy Keras optimizer instead, located at `tf.keras.optimizers.legacy.Adam`.\n",
      "WARNING:absl:There is a known slowdown when using v2.11+ Keras optimizers on M1/M2 Macs. Falling back to the legacy Keras optimizer, i.e., `tf.keras.optimizers.legacy.Adam`.\n"
     ]
    },
    {
     "name": "stdout",
     "output_type": "stream",
     "text": [
      "Epoch 1/10\n",
      "437/437 [==============================] - 11s 26ms/step - loss: 1.5698 - accuracy: 0.4648 - val_loss: 1.1298 - val_accuracy: 0.4837\n",
      "Epoch 2/10\n",
      "437/437 [==============================] - 11s 26ms/step - loss: 0.8385 - accuracy: 0.6755 - val_loss: 0.7416 - val_accuracy: 0.7042\n",
      "Epoch 3/10\n",
      "437/437 [==============================] - 11s 25ms/step - loss: 0.6438 - accuracy: 0.7565 - val_loss: 0.7580 - val_accuracy: 0.6911\n",
      "Epoch 4/10\n",
      "437/437 [==============================] - 11s 26ms/step - loss: 0.5142 - accuracy: 0.8074 - val_loss: 1.0988 - val_accuracy: 0.6012\n",
      "Epoch 5/10\n",
      "437/437 [==============================] - 11s 26ms/step - loss: 0.4221 - accuracy: 0.8421 - val_loss: 0.7491 - val_accuracy: 0.7348\n",
      "Epoch 6/10\n",
      "437/437 [==============================] - 11s 26ms/step - loss: 0.3640 - accuracy: 0.8657 - val_loss: 1.0776 - val_accuracy: 0.6680\n",
      "Epoch 7/10\n",
      "437/437 [==============================] - 11s 26ms/step - loss: 0.3055 - accuracy: 0.8862 - val_loss: 0.8331 - val_accuracy: 0.7624\n",
      "Epoch 8/10\n",
      "437/437 [==============================] - 11s 26ms/step - loss: 0.2813 - accuracy: 0.8988 - val_loss: 1.1099 - val_accuracy: 0.7077\n",
      "Epoch 9/10\n",
      "437/437 [==============================] - 11s 26ms/step - loss: 0.2420 - accuracy: 0.9122 - val_loss: 0.8949 - val_accuracy: 0.7333\n",
      "Epoch 10/10\n",
      "437/437 [==============================] - 11s 26ms/step - loss: 0.2080 - accuracy: 0.9235 - val_loss: 1.2834 - val_accuracy: 0.6846\n",
      "---mixed dense list: [1024, 512, 256], tabular dense list: [32, 64, 64], activation: tanh---\n"
     ]
    },
    {
     "name": "stderr",
     "output_type": "stream",
     "text": [
      "WARNING:absl:At this time, the v2.11+ optimizer `tf.keras.optimizers.Adam` runs slowly on M1/M2 Macs, please use the legacy Keras optimizer instead, located at `tf.keras.optimizers.legacy.Adam`.\n",
      "WARNING:absl:There is a known slowdown when using v2.11+ Keras optimizers on M1/M2 Macs. Falling back to the legacy Keras optimizer, i.e., `tf.keras.optimizers.legacy.Adam`.\n"
     ]
    },
    {
     "name": "stdout",
     "output_type": "stream",
     "text": [
      "Epoch 1/10\n",
      "437/437 [==============================] - 11s 26ms/step - loss: 1.4778 - accuracy: 0.4919 - val_loss: 0.8089 - val_accuracy: 0.6770\n",
      "Epoch 2/10\n",
      "437/437 [==============================] - 11s 25ms/step - loss: 0.7873 - accuracy: 0.7020 - val_loss: 0.7922 - val_accuracy: 0.6966\n",
      "Epoch 3/10\n",
      "437/437 [==============================] - 11s 26ms/step - loss: 0.5760 - accuracy: 0.7832 - val_loss: 0.7016 - val_accuracy: 0.7519\n",
      "Epoch 4/10\n",
      "437/437 [==============================] - 11s 25ms/step - loss: 0.4459 - accuracy: 0.8324 - val_loss: 0.8580 - val_accuracy: 0.6966\n",
      "Epoch 5/10\n",
      "437/437 [==============================] - 11s 26ms/step - loss: 0.3527 - accuracy: 0.8681 - val_loss: 0.8311 - val_accuracy: 0.7358\n",
      "Epoch 6/10\n",
      "437/437 [==============================] - 11s 26ms/step - loss: 0.3250 - accuracy: 0.8827 - val_loss: 1.0368 - val_accuracy: 0.6866\n",
      "Epoch 7/10\n",
      "437/437 [==============================] - 11s 25ms/step - loss: 0.2423 - accuracy: 0.9118 - val_loss: 1.0527 - val_accuracy: 0.7393\n",
      "Epoch 8/10\n",
      "437/437 [==============================] - 11s 26ms/step - loss: 0.2114 - accuracy: 0.9240 - val_loss: 1.0269 - val_accuracy: 0.7233\n",
      "Epoch 9/10\n",
      "437/437 [==============================] - 11s 26ms/step - loss: 0.2275 - accuracy: 0.9206 - val_loss: 0.9707 - val_accuracy: 0.7479\n",
      "Epoch 10/10\n",
      "437/437 [==============================] - 11s 25ms/step - loss: 0.1758 - accuracy: 0.9374 - val_loss: 1.3264 - val_accuracy: 0.7152\n",
      "---mixed dense list: [1024, 512, 256], tabular dense list: [32, 64, 64, 32], activation: relu---\n"
     ]
    },
    {
     "name": "stderr",
     "output_type": "stream",
     "text": [
      "WARNING:absl:At this time, the v2.11+ optimizer `tf.keras.optimizers.Adam` runs slowly on M1/M2 Macs, please use the legacy Keras optimizer instead, located at `tf.keras.optimizers.legacy.Adam`.\n",
      "WARNING:absl:There is a known slowdown when using v2.11+ Keras optimizers on M1/M2 Macs. Falling back to the legacy Keras optimizer, i.e., `tf.keras.optimizers.legacy.Adam`.\n"
     ]
    },
    {
     "name": "stdout",
     "output_type": "stream",
     "text": [
      "Epoch 1/10\n",
      "437/437 [==============================] - 11s 25ms/step - loss: 1.4925 - accuracy: 0.4881 - val_loss: 0.8090 - val_accuracy: 0.6891\n",
      "Epoch 2/10\n",
      "437/437 [==============================] - 11s 25ms/step - loss: 0.7854 - accuracy: 0.6982 - val_loss: 0.7967 - val_accuracy: 0.6750\n",
      "Epoch 3/10\n",
      "437/437 [==============================] - 11s 25ms/step - loss: 0.6277 - accuracy: 0.7622 - val_loss: 0.7474 - val_accuracy: 0.7122\n",
      "Epoch 4/10\n",
      "437/437 [==============================] - 11s 25ms/step - loss: 0.4992 - accuracy: 0.8134 - val_loss: 0.8554 - val_accuracy: 0.6821\n",
      "Epoch 5/10\n",
      "437/437 [==============================] - 11s 25ms/step - loss: 0.4211 - accuracy: 0.8435 - val_loss: 0.7319 - val_accuracy: 0.7639\n",
      "Epoch 6/10\n",
      "437/437 [==============================] - 11s 25ms/step - loss: 0.3603 - accuracy: 0.8669 - val_loss: 0.9584 - val_accuracy: 0.6801\n",
      "Epoch 7/10\n",
      "437/437 [==============================] - 11s 25ms/step - loss: 0.3127 - accuracy: 0.8843 - val_loss: 0.8929 - val_accuracy: 0.7378\n",
      "Epoch 8/10\n",
      "437/437 [==============================] - 11s 25ms/step - loss: 0.2842 - accuracy: 0.8962 - val_loss: 0.8146 - val_accuracy: 0.7433\n",
      "Epoch 9/10\n",
      "437/437 [==============================] - 11s 25ms/step - loss: 0.2615 - accuracy: 0.9041 - val_loss: 0.8765 - val_accuracy: 0.7599\n",
      "Epoch 10/10\n",
      "437/437 [==============================] - 11s 25ms/step - loss: 0.2159 - accuracy: 0.9201 - val_loss: 1.0588 - val_accuracy: 0.7373\n",
      "---mixed dense list: [1024, 512, 256], tabular dense list: [32, 64, 64, 32], activation: tanh---\n"
     ]
    },
    {
     "name": "stderr",
     "output_type": "stream",
     "text": [
      "WARNING:absl:At this time, the v2.11+ optimizer `tf.keras.optimizers.Adam` runs slowly on M1/M2 Macs, please use the legacy Keras optimizer instead, located at `tf.keras.optimizers.legacy.Adam`.\n",
      "WARNING:absl:There is a known slowdown when using v2.11+ Keras optimizers on M1/M2 Macs. Falling back to the legacy Keras optimizer, i.e., `tf.keras.optimizers.legacy.Adam`.\n"
     ]
    },
    {
     "name": "stdout",
     "output_type": "stream",
     "text": [
      "Epoch 1/10\n",
      "437/437 [==============================] - 11s 25ms/step - loss: 1.5067 - accuracy: 0.4962 - val_loss: 0.9679 - val_accuracy: 0.5977\n",
      "Epoch 2/10\n",
      "437/437 [==============================] - 11s 25ms/step - loss: 0.7811 - accuracy: 0.7029 - val_loss: 0.7487 - val_accuracy: 0.7152\n",
      "Epoch 3/10\n",
      "437/437 [==============================] - 11s 24ms/step - loss: 0.6099 - accuracy: 0.7707 - val_loss: 0.7346 - val_accuracy: 0.7228\n",
      "Epoch 4/10\n",
      "437/437 [==============================] - 11s 25ms/step - loss: 0.4604 - accuracy: 0.8271 - val_loss: 0.9365 - val_accuracy: 0.6755\n",
      "Epoch 5/10\n",
      "437/437 [==============================] - 11s 25ms/step - loss: 0.3745 - accuracy: 0.8624 - val_loss: 0.7633 - val_accuracy: 0.7449\n",
      "Epoch 6/10\n",
      "437/437 [==============================] - 11s 24ms/step - loss: 0.3364 - accuracy: 0.8774 - val_loss: 1.2114 - val_accuracy: 0.6419\n",
      "Epoch 7/10\n",
      "437/437 [==============================] - 11s 24ms/step - loss: 0.3065 - accuracy: 0.8900 - val_loss: 0.8998 - val_accuracy: 0.7363\n",
      "Epoch 8/10\n",
      "437/437 [==============================] - 11s 25ms/step - loss: 0.2426 - accuracy: 0.9115 - val_loss: 0.9187 - val_accuracy: 0.7433\n",
      "Epoch 9/10\n",
      "437/437 [==============================] - 11s 24ms/step - loss: 0.2224 - accuracy: 0.9199 - val_loss: 1.0378 - val_accuracy: 0.7323\n",
      "Epoch 10/10\n",
      "437/437 [==============================] - 11s 24ms/step - loss: 0.1986 - accuracy: 0.9288 - val_loss: 1.2228 - val_accuracy: 0.7207\n",
      "---mixed dense list: [1024, 512, 256, 128], tabular dense list: [32], activation: relu---\n"
     ]
    },
    {
     "name": "stderr",
     "output_type": "stream",
     "text": [
      "WARNING:absl:At this time, the v2.11+ optimizer `tf.keras.optimizers.Adam` runs slowly on M1/M2 Macs, please use the legacy Keras optimizer instead, located at `tf.keras.optimizers.legacy.Adam`.\n",
      "WARNING:absl:There is a known slowdown when using v2.11+ Keras optimizers on M1/M2 Macs. Falling back to the legacy Keras optimizer, i.e., `tf.keras.optimizers.legacy.Adam`.\n"
     ]
    },
    {
     "name": "stdout",
     "output_type": "stream",
     "text": [
      "Epoch 1/10\n",
      "437/437 [==============================] - 11s 25ms/step - loss: 1.5070 - accuracy: 0.4886 - val_loss: 0.9745 - val_accuracy: 0.5811\n",
      "Epoch 2/10\n",
      "437/437 [==============================] - 11s 25ms/step - loss: 0.8222 - accuracy: 0.6882 - val_loss: 0.8379 - val_accuracy: 0.6710\n",
      "Epoch 3/10\n",
      "437/437 [==============================] - 11s 24ms/step - loss: 0.6775 - accuracy: 0.7434 - val_loss: 0.7930 - val_accuracy: 0.6851\n",
      "Epoch 4/10\n",
      "437/437 [==============================] - 11s 25ms/step - loss: 0.5289 - accuracy: 0.7996 - val_loss: 0.8199 - val_accuracy: 0.6871\n",
      "Epoch 5/10\n",
      "437/437 [==============================] - 11s 25ms/step - loss: 0.4511 - accuracy: 0.8307 - val_loss: 0.8424 - val_accuracy: 0.6956\n",
      "Epoch 6/10\n",
      "437/437 [==============================] - 11s 24ms/step - loss: 0.3726 - accuracy: 0.8619 - val_loss: 1.0085 - val_accuracy: 0.6640\n",
      "Epoch 7/10\n",
      "437/437 [==============================] - 11s 25ms/step - loss: 0.3309 - accuracy: 0.8773 - val_loss: 0.8977 - val_accuracy: 0.7162\n",
      "Epoch 8/10\n",
      "437/437 [==============================] - 11s 24ms/step - loss: 0.2861 - accuracy: 0.8937 - val_loss: 0.9673 - val_accuracy: 0.6956\n",
      "Epoch 9/10\n",
      "437/437 [==============================] - 11s 25ms/step - loss: 0.2599 - accuracy: 0.9053 - val_loss: 0.8691 - val_accuracy: 0.7408\n",
      "Epoch 10/10\n",
      "437/437 [==============================] - 11s 25ms/step - loss: 0.2460 - accuracy: 0.9114 - val_loss: 1.1000 - val_accuracy: 0.7042\n",
      "---mixed dense list: [1024, 512, 256, 128], tabular dense list: [32], activation: tanh---\n"
     ]
    },
    {
     "name": "stderr",
     "output_type": "stream",
     "text": [
      "WARNING:absl:At this time, the v2.11+ optimizer `tf.keras.optimizers.Adam` runs slowly on M1/M2 Macs, please use the legacy Keras optimizer instead, located at `tf.keras.optimizers.legacy.Adam`.\n",
      "WARNING:absl:There is a known slowdown when using v2.11+ Keras optimizers on M1/M2 Macs. Falling back to the legacy Keras optimizer, i.e., `tf.keras.optimizers.legacy.Adam`.\n"
     ]
    },
    {
     "name": "stdout",
     "output_type": "stream",
     "text": [
      "Epoch 1/10\n",
      "437/437 [==============================] - 11s 25ms/step - loss: 1.4199 - accuracy: 0.4973 - val_loss: 0.8442 - val_accuracy: 0.6570\n",
      "Epoch 2/10\n",
      "437/437 [==============================] - 11s 24ms/step - loss: 0.7730 - accuracy: 0.7051 - val_loss: 0.7873 - val_accuracy: 0.6826\n",
      "Epoch 3/10\n",
      "437/437 [==============================] - 11s 25ms/step - loss: 0.6071 - accuracy: 0.7689 - val_loss: 0.7281 - val_accuracy: 0.7217\n",
      "Epoch 4/10\n",
      "437/437 [==============================] - 11s 25ms/step - loss: 0.4907 - accuracy: 0.8156 - val_loss: 0.9509 - val_accuracy: 0.6620\n",
      "Epoch 5/10\n",
      "437/437 [==============================] - 11s 24ms/step - loss: 0.4010 - accuracy: 0.8496 - val_loss: 0.8070 - val_accuracy: 0.7318\n",
      "Epoch 6/10\n",
      "437/437 [==============================] - 11s 25ms/step - loss: 0.3437 - accuracy: 0.8729 - val_loss: 1.0142 - val_accuracy: 0.6605\n",
      "Epoch 7/10\n",
      "437/437 [==============================] - 11s 25ms/step - loss: 0.2825 - accuracy: 0.8949 - val_loss: 0.8849 - val_accuracy: 0.7353\n",
      "Epoch 8/10\n",
      "437/437 [==============================] - 11s 24ms/step - loss: 0.2949 - accuracy: 0.8931 - val_loss: 0.9681 - val_accuracy: 0.7062\n",
      "Epoch 9/10\n",
      "437/437 [==============================] - 11s 25ms/step - loss: 0.2462 - accuracy: 0.9107 - val_loss: 0.9583 - val_accuracy: 0.7343\n",
      "Epoch 10/10\n",
      "437/437 [==============================] - 11s 25ms/step - loss: 0.2121 - accuracy: 0.9224 - val_loss: 1.1468 - val_accuracy: 0.6941\n",
      "---mixed dense list: [1024, 512, 256, 128], tabular dense list: [32, 64], activation: relu---\n"
     ]
    },
    {
     "name": "stderr",
     "output_type": "stream",
     "text": [
      "WARNING:absl:At this time, the v2.11+ optimizer `tf.keras.optimizers.Adam` runs slowly on M1/M2 Macs, please use the legacy Keras optimizer instead, located at `tf.keras.optimizers.legacy.Adam`.\n",
      "WARNING:absl:There is a known slowdown when using v2.11+ Keras optimizers on M1/M2 Macs. Falling back to the legacy Keras optimizer, i.e., `tf.keras.optimizers.legacy.Adam`.\n"
     ]
    },
    {
     "name": "stdout",
     "output_type": "stream",
     "text": [
      "Epoch 1/10\n",
      "437/437 [==============================] - 11s 24ms/step - loss: 1.4920 - accuracy: 0.4997 - val_loss: 0.9220 - val_accuracy: 0.6308\n",
      "Epoch 2/10\n",
      "437/437 [==============================] - 11s 24ms/step - loss: 0.7746 - accuracy: 0.7058 - val_loss: 0.7711 - val_accuracy: 0.6996\n",
      "Epoch 3/10\n",
      "437/437 [==============================] - 11s 25ms/step - loss: 0.6106 - accuracy: 0.7710 - val_loss: 0.7763 - val_accuracy: 0.7092\n",
      "Epoch 4/10\n",
      "437/437 [==============================] - 11s 25ms/step - loss: 0.4878 - accuracy: 0.8167 - val_loss: 0.8158 - val_accuracy: 0.6896\n",
      "Epoch 5/10\n",
      "437/437 [==============================] - 11s 24ms/step - loss: 0.3902 - accuracy: 0.8557 - val_loss: 0.7432 - val_accuracy: 0.7348\n",
      "Epoch 6/10\n",
      "437/437 [==============================] - 11s 25ms/step - loss: 0.3409 - accuracy: 0.8761 - val_loss: 1.2099 - val_accuracy: 0.6273\n",
      "Epoch 7/10\n",
      "437/437 [==============================] - 11s 25ms/step - loss: 0.3197 - accuracy: 0.8845 - val_loss: 0.8847 - val_accuracy: 0.7318\n",
      "Epoch 8/10\n",
      "437/437 [==============================] - 11s 24ms/step - loss: 0.2761 - accuracy: 0.8992 - val_loss: 0.8516 - val_accuracy: 0.7519\n",
      "Epoch 9/10\n",
      "437/437 [==============================] - 11s 25ms/step - loss: 0.2429 - accuracy: 0.9124 - val_loss: 0.9374 - val_accuracy: 0.7263\n",
      "Epoch 10/10\n",
      "437/437 [==============================] - 11s 25ms/step - loss: 0.2225 - accuracy: 0.9194 - val_loss: 1.4393 - val_accuracy: 0.6052\n",
      "---mixed dense list: [1024, 512, 256, 128], tabular dense list: [32, 64], activation: tanh---\n"
     ]
    },
    {
     "name": "stderr",
     "output_type": "stream",
     "text": [
      "WARNING:absl:At this time, the v2.11+ optimizer `tf.keras.optimizers.Adam` runs slowly on M1/M2 Macs, please use the legacy Keras optimizer instead, located at `tf.keras.optimizers.legacy.Adam`.\n",
      "WARNING:absl:There is a known slowdown when using v2.11+ Keras optimizers on M1/M2 Macs. Falling back to the legacy Keras optimizer, i.e., `tf.keras.optimizers.legacy.Adam`.\n"
     ]
    },
    {
     "name": "stdout",
     "output_type": "stream",
     "text": [
      "Epoch 1/10\n",
      "437/437 [==============================] - 11s 25ms/step - loss: 1.3686 - accuracy: 0.5122 - val_loss: 0.7829 - val_accuracy: 0.6956\n",
      "Epoch 2/10\n",
      "437/437 [==============================] - 11s 24ms/step - loss: 0.7381 - accuracy: 0.7200 - val_loss: 0.7738 - val_accuracy: 0.6961\n",
      "Epoch 3/10\n",
      "437/437 [==============================] - 11s 24ms/step - loss: 0.5499 - accuracy: 0.7906 - val_loss: 0.7389 - val_accuracy: 0.7162\n",
      "Epoch 4/10\n",
      "437/437 [==============================] - 11s 24ms/step - loss: 0.4470 - accuracy: 0.8315 - val_loss: 0.9346 - val_accuracy: 0.6544\n",
      "Epoch 5/10\n",
      "437/437 [==============================] - 11s 24ms/step - loss: 0.3692 - accuracy: 0.8616 - val_loss: 0.8212 - val_accuracy: 0.7092\n",
      "Epoch 6/10\n",
      "437/437 [==============================] - 11s 24ms/step - loss: 0.3355 - accuracy: 0.8743 - val_loss: 1.0248 - val_accuracy: 0.6635\n",
      "Epoch 7/10\n",
      "437/437 [==============================] - 11s 24ms/step - loss: 0.2822 - accuracy: 0.8939 - val_loss: 0.8486 - val_accuracy: 0.7268\n",
      "Epoch 8/10\n",
      "437/437 [==============================] - 11s 24ms/step - loss: 0.2370 - accuracy: 0.9132 - val_loss: 1.0448 - val_accuracy: 0.7002\n",
      "Epoch 9/10\n",
      "437/437 [==============================] - 11s 24ms/step - loss: 0.2269 - accuracy: 0.9164 - val_loss: 0.9673 - val_accuracy: 0.7217\n",
      "Epoch 10/10\n",
      "437/437 [==============================] - 11s 24ms/step - loss: 0.2057 - accuracy: 0.9242 - val_loss: 1.2500 - val_accuracy: 0.6816\n",
      "---mixed dense list: [1024, 512, 256, 128], tabular dense list: [32, 64, 64], activation: relu---\n"
     ]
    },
    {
     "name": "stderr",
     "output_type": "stream",
     "text": [
      "WARNING:absl:At this time, the v2.11+ optimizer `tf.keras.optimizers.Adam` runs slowly on M1/M2 Macs, please use the legacy Keras optimizer instead, located at `tf.keras.optimizers.legacy.Adam`.\n",
      "WARNING:absl:There is a known slowdown when using v2.11+ Keras optimizers on M1/M2 Macs. Falling back to the legacy Keras optimizer, i.e., `tf.keras.optimizers.legacy.Adam`.\n"
     ]
    },
    {
     "name": "stdout",
     "output_type": "stream",
     "text": [
      "Epoch 1/10\n",
      "437/437 [==============================] - 11s 25ms/step - loss: 1.4184 - accuracy: 0.5019 - val_loss: 0.8319 - val_accuracy: 0.6715\n",
      "Epoch 2/10\n",
      "437/437 [==============================] - 11s 24ms/step - loss: 0.7975 - accuracy: 0.6959 - val_loss: 0.7784 - val_accuracy: 0.6951\n",
      "Epoch 3/10\n",
      "437/437 [==============================] - 11s 24ms/step - loss: 0.6227 - accuracy: 0.7654 - val_loss: 0.7827 - val_accuracy: 0.7017\n",
      "Epoch 4/10\n",
      "437/437 [==============================] - 11s 24ms/step - loss: 0.5043 - accuracy: 0.8095 - val_loss: 1.1565 - val_accuracy: 0.5881\n",
      "Epoch 5/10\n",
      "437/437 [==============================] - 11s 24ms/step - loss: 0.4164 - accuracy: 0.8444 - val_loss: 0.8050 - val_accuracy: 0.7182\n",
      "Epoch 6/10\n",
      "437/437 [==============================] - 11s 24ms/step - loss: 0.3547 - accuracy: 0.8670 - val_loss: 0.9829 - val_accuracy: 0.6489\n",
      "Epoch 7/10\n",
      "437/437 [==============================] - 11s 24ms/step - loss: 0.3089 - accuracy: 0.8853 - val_loss: 1.0202 - val_accuracy: 0.6836\n",
      "Epoch 8/10\n",
      "437/437 [==============================] - 11s 24ms/step - loss: 0.2637 - accuracy: 0.9024 - val_loss: 1.0419 - val_accuracy: 0.6786\n",
      "Epoch 9/10\n",
      "437/437 [==============================] - 11s 24ms/step - loss: 0.2597 - accuracy: 0.9062 - val_loss: 1.0941 - val_accuracy: 0.7187\n",
      "Epoch 10/10\n",
      "437/437 [==============================] - 11s 24ms/step - loss: 0.2082 - accuracy: 0.9232 - val_loss: 1.0296 - val_accuracy: 0.7072\n",
      "---mixed dense list: [1024, 512, 256, 128], tabular dense list: [32, 64, 64], activation: tanh---\n"
     ]
    },
    {
     "name": "stderr",
     "output_type": "stream",
     "text": [
      "WARNING:absl:At this time, the v2.11+ optimizer `tf.keras.optimizers.Adam` runs slowly on M1/M2 Macs, please use the legacy Keras optimizer instead, located at `tf.keras.optimizers.legacy.Adam`.\n",
      "WARNING:absl:There is a known slowdown when using v2.11+ Keras optimizers on M1/M2 Macs. Falling back to the legacy Keras optimizer, i.e., `tf.keras.optimizers.legacy.Adam`.\n"
     ]
    },
    {
     "name": "stdout",
     "output_type": "stream",
     "text": [
      "Epoch 1/10\n",
      "437/437 [==============================] - 11s 24ms/step - loss: 1.3656 - accuracy: 0.5186 - val_loss: 0.8920 - val_accuracy: 0.6318\n",
      "Epoch 2/10\n",
      "437/437 [==============================] - 10s 24ms/step - loss: 0.7276 - accuracy: 0.7227 - val_loss: 0.7970 - val_accuracy: 0.7012\n",
      "Epoch 3/10\n",
      "437/437 [==============================] - 11s 24ms/step - loss: 0.5475 - accuracy: 0.7957 - val_loss: 0.7730 - val_accuracy: 0.7212\n",
      "Epoch 4/10\n",
      "437/437 [==============================] - 11s 24ms/step - loss: 0.4240 - accuracy: 0.8417 - val_loss: 1.0420 - val_accuracy: 0.6278\n",
      "Epoch 5/10\n",
      "437/437 [==============================] - 10s 24ms/step - loss: 0.3393 - accuracy: 0.8743 - val_loss: 0.8110 - val_accuracy: 0.7338\n",
      "Epoch 6/10\n",
      "437/437 [==============================] - 11s 24ms/step - loss: 0.2947 - accuracy: 0.8922 - val_loss: 1.2146 - val_accuracy: 0.6238\n",
      "Epoch 7/10\n",
      "437/437 [==============================] - 11s 24ms/step - loss: 0.2533 - accuracy: 0.9078 - val_loss: 0.9158 - val_accuracy: 0.7393\n",
      "Epoch 8/10\n",
      "437/437 [==============================] - 10s 24ms/step - loss: 0.2412 - accuracy: 0.9116 - val_loss: 0.9896 - val_accuracy: 0.7122\n",
      "Epoch 9/10\n",
      "437/437 [==============================] - 11s 24ms/step - loss: 0.2061 - accuracy: 0.9246 - val_loss: 0.9971 - val_accuracy: 0.7217\n",
      "Epoch 10/10\n",
      "437/437 [==============================] - 11s 24ms/step - loss: 0.1787 - accuracy: 0.9362 - val_loss: 1.2039 - val_accuracy: 0.6846\n",
      "---mixed dense list: [1024, 512, 256, 128], tabular dense list: [32, 64, 64, 32], activation: relu---\n"
     ]
    },
    {
     "name": "stderr",
     "output_type": "stream",
     "text": [
      "WARNING:absl:At this time, the v2.11+ optimizer `tf.keras.optimizers.Adam` runs slowly on M1/M2 Macs, please use the legacy Keras optimizer instead, located at `tf.keras.optimizers.legacy.Adam`.\n",
      "WARNING:absl:There is a known slowdown when using v2.11+ Keras optimizers on M1/M2 Macs. Falling back to the legacy Keras optimizer, i.e., `tf.keras.optimizers.legacy.Adam`.\n"
     ]
    },
    {
     "name": "stdout",
     "output_type": "stream",
     "text": [
      "Epoch 1/10\n",
      "437/437 [==============================] - 12s 26ms/step - loss: 1.4722 - accuracy: 0.4834 - val_loss: 0.9574 - val_accuracy: 0.6298\n",
      "Epoch 2/10\n",
      "437/437 [==============================] - 11s 26ms/step - loss: 0.8432 - accuracy: 0.6774 - val_loss: 0.7620 - val_accuracy: 0.6961\n",
      "Epoch 3/10\n",
      "437/437 [==============================] - 12s 27ms/step - loss: 0.6955 - accuracy: 0.7349 - val_loss: 0.7103 - val_accuracy: 0.7127\n",
      "Epoch 4/10\n",
      "437/437 [==============================] - 12s 27ms/step - loss: 0.6196 - accuracy: 0.7666 - val_loss: 0.8894 - val_accuracy: 0.6645\n",
      "Epoch 5/10\n",
      "437/437 [==============================] - 13s 29ms/step - loss: 0.4993 - accuracy: 0.8138 - val_loss: 0.8156 - val_accuracy: 0.6861\n",
      "Epoch 6/10\n",
      "437/437 [==============================] - 12s 27ms/step - loss: 0.4184 - accuracy: 0.8426 - val_loss: 0.9903 - val_accuracy: 0.6620\n",
      "Epoch 7/10\n",
      "437/437 [==============================] - 12s 28ms/step - loss: 0.3621 - accuracy: 0.8641 - val_loss: 0.8067 - val_accuracy: 0.7092\n",
      "Epoch 8/10\n",
      "437/437 [==============================] - 12s 27ms/step - loss: 0.3208 - accuracy: 0.8807 - val_loss: 0.9023 - val_accuracy: 0.7092\n",
      "Epoch 9/10\n",
      "437/437 [==============================] - 11s 26ms/step - loss: 0.2855 - accuracy: 0.8932 - val_loss: 0.9855 - val_accuracy: 0.6876\n",
      "Epoch 10/10\n",
      "437/437 [==============================] - 12s 26ms/step - loss: 0.2735 - accuracy: 0.9016 - val_loss: 0.9516 - val_accuracy: 0.7097\n",
      "---mixed dense list: [1024, 512, 256, 128], tabular dense list: [32, 64, 64, 32], activation: tanh---\n"
     ]
    },
    {
     "name": "stderr",
     "output_type": "stream",
     "text": [
      "WARNING:absl:At this time, the v2.11+ optimizer `tf.keras.optimizers.Adam` runs slowly on M1/M2 Macs, please use the legacy Keras optimizer instead, located at `tf.keras.optimizers.legacy.Adam`.\n",
      "WARNING:absl:There is a known slowdown when using v2.11+ Keras optimizers on M1/M2 Macs. Falling back to the legacy Keras optimizer, i.e., `tf.keras.optimizers.legacy.Adam`.\n"
     ]
    },
    {
     "name": "stdout",
     "output_type": "stream",
     "text": [
      "Epoch 1/10\n",
      "437/437 [==============================] - 12s 26ms/step - loss: 1.4662 - accuracy: 0.4927 - val_loss: 0.9463 - val_accuracy: 0.6374\n",
      "Epoch 2/10\n",
      "437/437 [==============================] - 11s 26ms/step - loss: 0.7905 - accuracy: 0.6974 - val_loss: 0.7353 - val_accuracy: 0.7127\n",
      "Epoch 3/10\n",
      "437/437 [==============================] - 11s 26ms/step - loss: 0.6255 - accuracy: 0.7638 - val_loss: 0.7478 - val_accuracy: 0.7243\n",
      "Epoch 4/10\n",
      "437/437 [==============================] - 11s 26ms/step - loss: 0.4952 - accuracy: 0.8166 - val_loss: 0.9154 - val_accuracy: 0.6700\n",
      "Epoch 5/10\n",
      "437/437 [==============================] - 11s 26ms/step - loss: 0.3943 - accuracy: 0.8553 - val_loss: 0.8314 - val_accuracy: 0.6976\n",
      "Epoch 6/10\n",
      "437/437 [==============================] - 11s 26ms/step - loss: 0.3412 - accuracy: 0.8738 - val_loss: 1.1368 - val_accuracy: 0.6283\n",
      "Epoch 7/10\n",
      "437/437 [==============================] - 11s 26ms/step - loss: 0.2903 - accuracy: 0.8939 - val_loss: 0.8104 - val_accuracy: 0.7539\n",
      "Epoch 8/10\n",
      "437/437 [==============================] - 11s 26ms/step - loss: 0.2611 - accuracy: 0.9046 - val_loss: 0.9527 - val_accuracy: 0.7273\n",
      "Epoch 9/10\n",
      "437/437 [==============================] - 11s 26ms/step - loss: 0.2284 - accuracy: 0.9169 - val_loss: 0.9182 - val_accuracy: 0.7559\n",
      "Epoch 10/10\n",
      "437/437 [==============================] - 11s 26ms/step - loss: 0.2110 - accuracy: 0.9242 - val_loss: 1.2639 - val_accuracy: 0.6640\n",
      "---mixed dense list: [1024, 512, 256, 128, 64], tabular dense list: [32], activation: relu---\n"
     ]
    },
    {
     "name": "stderr",
     "output_type": "stream",
     "text": [
      "WARNING:absl:At this time, the v2.11+ optimizer `tf.keras.optimizers.Adam` runs slowly on M1/M2 Macs, please use the legacy Keras optimizer instead, located at `tf.keras.optimizers.legacy.Adam`.\n",
      "WARNING:absl:There is a known slowdown when using v2.11+ Keras optimizers on M1/M2 Macs. Falling back to the legacy Keras optimizer, i.e., `tf.keras.optimizers.legacy.Adam`.\n"
     ]
    },
    {
     "name": "stdout",
     "output_type": "stream",
     "text": [
      "Epoch 1/10\n",
      "437/437 [==============================] - 11s 25ms/step - loss: 1.2930 - accuracy: 0.5202 - val_loss: 0.8040 - val_accuracy: 0.6851\n",
      "Epoch 2/10\n",
      "437/437 [==============================] - 11s 25ms/step - loss: 0.7367 - accuracy: 0.7211 - val_loss: 0.7181 - val_accuracy: 0.7248\n",
      "Epoch 3/10\n",
      "437/437 [==============================] - 11s 25ms/step - loss: 0.5823 - accuracy: 0.7816 - val_loss: 0.7886 - val_accuracy: 0.6931\n",
      "Epoch 4/10\n",
      "437/437 [==============================] - 11s 25ms/step - loss: 0.4632 - accuracy: 0.8268 - val_loss: 0.8894 - val_accuracy: 0.6781\n",
      "Epoch 5/10\n",
      "437/437 [==============================] - 11s 25ms/step - loss: 0.3941 - accuracy: 0.8533 - val_loss: 0.8621 - val_accuracy: 0.6961\n",
      "Epoch 6/10\n",
      "437/437 [==============================] - 11s 26ms/step - loss: 0.3292 - accuracy: 0.8774 - val_loss: 0.8975 - val_accuracy: 0.7067\n",
      "Epoch 7/10\n",
      "437/437 [==============================] - 11s 25ms/step - loss: 0.3071 - accuracy: 0.8875 - val_loss: 0.8691 - val_accuracy: 0.7017\n",
      "Epoch 8/10\n",
      "437/437 [==============================] - 11s 26ms/step - loss: 0.2761 - accuracy: 0.9009 - val_loss: 0.9199 - val_accuracy: 0.7152\n",
      "Epoch 9/10\n",
      "437/437 [==============================] - 11s 25ms/step - loss: 0.2449 - accuracy: 0.9108 - val_loss: 0.9004 - val_accuracy: 0.7534\n",
      "Epoch 10/10\n",
      "437/437 [==============================] - 11s 25ms/step - loss: 0.2275 - accuracy: 0.9178 - val_loss: 1.2277 - val_accuracy: 0.6760\n",
      "---mixed dense list: [1024, 512, 256, 128, 64], tabular dense list: [32], activation: tanh---\n"
     ]
    },
    {
     "name": "stderr",
     "output_type": "stream",
     "text": [
      "WARNING:absl:At this time, the v2.11+ optimizer `tf.keras.optimizers.Adam` runs slowly on M1/M2 Macs, please use the legacy Keras optimizer instead, located at `tf.keras.optimizers.legacy.Adam`.\n",
      "WARNING:absl:There is a known slowdown when using v2.11+ Keras optimizers on M1/M2 Macs. Falling back to the legacy Keras optimizer, i.e., `tf.keras.optimizers.legacy.Adam`.\n"
     ]
    },
    {
     "name": "stdout",
     "output_type": "stream",
     "text": [
      "Epoch 1/10\n",
      "437/437 [==============================] - 11s 25ms/step - loss: 1.3195 - accuracy: 0.4964 - val_loss: 0.8736 - val_accuracy: 0.6544\n",
      "Epoch 2/10\n",
      "437/437 [==============================] - 11s 26ms/step - loss: 0.8068 - accuracy: 0.6924 - val_loss: 0.7396 - val_accuracy: 0.7152\n",
      "Epoch 3/10\n",
      "437/437 [==============================] - 11s 25ms/step - loss: 0.6162 - accuracy: 0.7688 - val_loss: 0.7239 - val_accuracy: 0.7298\n",
      "Epoch 4/10\n",
      "437/437 [==============================] - 11s 25ms/step - loss: 0.4761 - accuracy: 0.8221 - val_loss: 0.9969 - val_accuracy: 0.6590\n",
      "Epoch 5/10\n",
      "437/437 [==============================] - 11s 25ms/step - loss: 0.4037 - accuracy: 0.8499 - val_loss: 0.9485 - val_accuracy: 0.6831\n",
      "Epoch 6/10\n",
      "437/437 [==============================] - 11s 25ms/step - loss: 0.3367 - accuracy: 0.8759 - val_loss: 0.9743 - val_accuracy: 0.6750\n",
      "Epoch 7/10\n",
      "437/437 [==============================] - 11s 25ms/step - loss: 0.2882 - accuracy: 0.8935 - val_loss: 0.9165 - val_accuracy: 0.7504\n",
      "Epoch 8/10\n",
      "437/437 [==============================] - 11s 25ms/step - loss: 0.2603 - accuracy: 0.9054 - val_loss: 1.0745 - val_accuracy: 0.7343\n",
      "Epoch 9/10\n",
      "437/437 [==============================] - 11s 26ms/step - loss: 0.2229 - accuracy: 0.9188 - val_loss: 0.9642 - val_accuracy: 0.7524\n",
      "Epoch 10/10\n",
      "437/437 [==============================] - 11s 25ms/step - loss: 0.2035 - accuracy: 0.9277 - val_loss: 1.1377 - val_accuracy: 0.6811\n",
      "---mixed dense list: [1024, 512, 256, 128, 64], tabular dense list: [32, 64], activation: relu---\n"
     ]
    },
    {
     "name": "stderr",
     "output_type": "stream",
     "text": [
      "WARNING:absl:At this time, the v2.11+ optimizer `tf.keras.optimizers.Adam` runs slowly on M1/M2 Macs, please use the legacy Keras optimizer instead, located at `tf.keras.optimizers.legacy.Adam`.\n",
      "WARNING:absl:There is a known slowdown when using v2.11+ Keras optimizers on M1/M2 Macs. Falling back to the legacy Keras optimizer, i.e., `tf.keras.optimizers.legacy.Adam`.\n"
     ]
    },
    {
     "name": "stdout",
     "output_type": "stream",
     "text": [
      "Epoch 1/10\n",
      "437/437 [==============================] - 11s 26ms/step - loss: 1.4196 - accuracy: 0.4787 - val_loss: 0.8844 - val_accuracy: 0.6685\n",
      "Epoch 2/10\n",
      "437/437 [==============================] - 11s 25ms/step - loss: 0.8729 - accuracy: 0.6691 - val_loss: 1.0749 - val_accuracy: 0.5751\n",
      "Epoch 3/10\n",
      "437/437 [==============================] - 11s 25ms/step - loss: 0.7450 - accuracy: 0.7203 - val_loss: 0.7478 - val_accuracy: 0.6981\n",
      "Epoch 4/10\n",
      "437/437 [==============================] - 11s 25ms/step - loss: 0.5723 - accuracy: 0.7858 - val_loss: 0.7304 - val_accuracy: 0.7082\n",
      "Epoch 5/10\n",
      "437/437 [==============================] - 11s 25ms/step - loss: 0.4941 - accuracy: 0.8171 - val_loss: 0.7401 - val_accuracy: 0.7363\n",
      "Epoch 6/10\n",
      "437/437 [==============================] - 11s 25ms/step - loss: 0.4185 - accuracy: 0.8435 - val_loss: 0.9620 - val_accuracy: 0.6801\n",
      "Epoch 7/10\n",
      "437/437 [==============================] - 11s 25ms/step - loss: 0.3434 - accuracy: 0.8726 - val_loss: 0.9454 - val_accuracy: 0.6690\n",
      "Epoch 8/10\n",
      "437/437 [==============================] - 11s 25ms/step - loss: 0.3113 - accuracy: 0.8855 - val_loss: 0.8548 - val_accuracy: 0.7027\n",
      "Epoch 9/10\n",
      "437/437 [==============================] - 11s 25ms/step - loss: 0.2773 - accuracy: 0.8994 - val_loss: 0.8972 - val_accuracy: 0.7207\n",
      "Epoch 10/10\n",
      "437/437 [==============================] - 11s 25ms/step - loss: 0.4130 - accuracy: 0.8537 - val_loss: 1.1898 - val_accuracy: 0.6248\n",
      "---mixed dense list: [1024, 512, 256, 128, 64], tabular dense list: [32, 64], activation: tanh---\n"
     ]
    },
    {
     "name": "stderr",
     "output_type": "stream",
     "text": [
      "WARNING:absl:At this time, the v2.11+ optimizer `tf.keras.optimizers.Adam` runs slowly on M1/M2 Macs, please use the legacy Keras optimizer instead, located at `tf.keras.optimizers.legacy.Adam`.\n",
      "WARNING:absl:There is a known slowdown when using v2.11+ Keras optimizers on M1/M2 Macs. Falling back to the legacy Keras optimizer, i.e., `tf.keras.optimizers.legacy.Adam`.\n"
     ]
    },
    {
     "name": "stdout",
     "output_type": "stream",
     "text": [
      "Epoch 1/10\n",
      "437/437 [==============================] - 12s 27ms/step - loss: 1.3834 - accuracy: 0.4988 - val_loss: 0.7864 - val_accuracy: 0.7007\n",
      "Epoch 2/10\n",
      "437/437 [==============================] - 11s 25ms/step - loss: 0.7690 - accuracy: 0.7068 - val_loss: 0.7332 - val_accuracy: 0.7197\n",
      "Epoch 3/10\n",
      "437/437 [==============================] - 11s 25ms/step - loss: 0.5907 - accuracy: 0.7782 - val_loss: 0.7131 - val_accuracy: 0.7298\n",
      "Epoch 4/10\n",
      "437/437 [==============================] - 11s 25ms/step - loss: 0.4695 - accuracy: 0.8249 - val_loss: 0.9806 - val_accuracy: 0.6570\n",
      "Epoch 5/10\n",
      "437/437 [==============================] - 11s 25ms/step - loss: 0.4027 - accuracy: 0.8514 - val_loss: 0.7379 - val_accuracy: 0.7479\n",
      "Epoch 6/10\n",
      "437/437 [==============================] - 11s 25ms/step - loss: 0.3217 - accuracy: 0.8814 - val_loss: 1.0785 - val_accuracy: 0.6509\n",
      "Epoch 7/10\n",
      "437/437 [==============================] - 11s 25ms/step - loss: 0.2787 - accuracy: 0.8974 - val_loss: 0.9577 - val_accuracy: 0.7132\n",
      "Epoch 8/10\n",
      "437/437 [==============================] - 11s 25ms/step - loss: 0.2514 - accuracy: 0.9099 - val_loss: 1.1952 - val_accuracy: 0.6504\n",
      "Epoch 9/10\n",
      "437/437 [==============================] - 11s 25ms/step - loss: 0.2364 - accuracy: 0.9158 - val_loss: 0.9977 - val_accuracy: 0.7358\n",
      "Epoch 10/10\n",
      "437/437 [==============================] - 11s 25ms/step - loss: 0.2133 - accuracy: 0.9252 - val_loss: 1.1453 - val_accuracy: 0.6499\n",
      "---mixed dense list: [1024, 512, 256, 128, 64], tabular dense list: [32, 64, 64], activation: relu---\n"
     ]
    },
    {
     "name": "stderr",
     "output_type": "stream",
     "text": [
      "WARNING:absl:At this time, the v2.11+ optimizer `tf.keras.optimizers.Adam` runs slowly on M1/M2 Macs, please use the legacy Keras optimizer instead, located at `tf.keras.optimizers.legacy.Adam`.\n",
      "WARNING:absl:There is a known slowdown when using v2.11+ Keras optimizers on M1/M2 Macs. Falling back to the legacy Keras optimizer, i.e., `tf.keras.optimizers.legacy.Adam`.\n"
     ]
    },
    {
     "name": "stdout",
     "output_type": "stream",
     "text": [
      "Epoch 1/10\n",
      "437/437 [==============================] - 11s 25ms/step - loss: 1.3158 - accuracy: 0.5022 - val_loss: 0.8600 - val_accuracy: 0.6539\n",
      "Epoch 2/10\n",
      "437/437 [==============================] - 11s 25ms/step - loss: 0.7978 - accuracy: 0.6968 - val_loss: 0.7991 - val_accuracy: 0.6801\n",
      "Epoch 3/10\n",
      "437/437 [==============================] - 11s 25ms/step - loss: 0.6349 - accuracy: 0.7615 - val_loss: 0.6840 - val_accuracy: 0.7459\n",
      "Epoch 4/10\n",
      "437/437 [==============================] - 11s 25ms/step - loss: 0.5122 - accuracy: 0.8094 - val_loss: 0.8272 - val_accuracy: 0.6826\n",
      "Epoch 5/10\n",
      "437/437 [==============================] - 11s 25ms/step - loss: 0.4476 - accuracy: 0.8345 - val_loss: 0.8328 - val_accuracy: 0.6971\n",
      "Epoch 6/10\n",
      "437/437 [==============================] - 11s 25ms/step - loss: 0.3807 - accuracy: 0.8589 - val_loss: 1.0442 - val_accuracy: 0.6097\n",
      "Epoch 7/10\n",
      "437/437 [==============================] - 11s 25ms/step - loss: 0.3386 - accuracy: 0.8752 - val_loss: 0.8235 - val_accuracy: 0.7152\n",
      "Epoch 8/10\n",
      "437/437 [==============================] - 11s 26ms/step - loss: 0.3019 - accuracy: 0.8890 - val_loss: 0.8353 - val_accuracy: 0.7147\n",
      "Epoch 9/10\n",
      "437/437 [==============================] - 11s 25ms/step - loss: 0.2646 - accuracy: 0.9013 - val_loss: 0.9535 - val_accuracy: 0.7177\n",
      "Epoch 10/10\n",
      "437/437 [==============================] - 11s 26ms/step - loss: 0.2567 - accuracy: 0.9064 - val_loss: 1.2498 - val_accuracy: 0.6479\n",
      "---mixed dense list: [1024, 512, 256, 128, 64], tabular dense list: [32, 64, 64], activation: tanh---\n"
     ]
    },
    {
     "name": "stderr",
     "output_type": "stream",
     "text": [
      "WARNING:absl:At this time, the v2.11+ optimizer `tf.keras.optimizers.Adam` runs slowly on M1/M2 Macs, please use the legacy Keras optimizer instead, located at `tf.keras.optimizers.legacy.Adam`.\n",
      "WARNING:absl:There is a known slowdown when using v2.11+ Keras optimizers on M1/M2 Macs. Falling back to the legacy Keras optimizer, i.e., `tf.keras.optimizers.legacy.Adam`.\n"
     ]
    },
    {
     "name": "stdout",
     "output_type": "stream",
     "text": [
      "Epoch 1/10\n",
      "437/437 [==============================] - 11s 25ms/step - loss: 1.5628 - accuracy: 0.4384 - val_loss: 0.9435 - val_accuracy: 0.6359\n",
      "Epoch 2/10\n",
      "437/437 [==============================] - 11s 25ms/step - loss: 0.8606 - accuracy: 0.6687 - val_loss: 0.7948 - val_accuracy: 0.6886\n",
      "Epoch 3/10\n",
      "437/437 [==============================] - 11s 25ms/step - loss: 0.6590 - accuracy: 0.7503 - val_loss: 0.7256 - val_accuracy: 0.7353\n",
      "Epoch 4/10\n",
      "437/437 [==============================] - 11s 25ms/step - loss: 0.5144 - accuracy: 0.8063 - val_loss: 0.8473 - val_accuracy: 0.6901\n",
      "Epoch 5/10\n",
      "437/437 [==============================] - 11s 25ms/step - loss: 0.4253 - accuracy: 0.8399 - val_loss: 0.8220 - val_accuracy: 0.6871\n",
      "Epoch 6/10\n",
      "437/437 [==============================] - 11s 25ms/step - loss: 0.3517 - accuracy: 0.8692 - val_loss: 0.9638 - val_accuracy: 0.6635\n",
      "Epoch 7/10\n",
      "437/437 [==============================] - 11s 25ms/step - loss: 0.3020 - accuracy: 0.8890 - val_loss: 0.9214 - val_accuracy: 0.6971\n",
      "Epoch 8/10\n",
      "437/437 [==============================] - 11s 25ms/step - loss: 0.2535 - accuracy: 0.9074 - val_loss: 0.9574 - val_accuracy: 0.6966\n",
      "Epoch 9/10\n",
      "437/437 [==============================] - 11s 25ms/step - loss: 0.2246 - accuracy: 0.9187 - val_loss: 1.0043 - val_accuracy: 0.7152\n",
      "Epoch 10/10\n",
      "437/437 [==============================] - 11s 25ms/step - loss: 0.2113 - accuracy: 0.9246 - val_loss: 1.2393 - val_accuracy: 0.6946\n",
      "---mixed dense list: [1024, 512, 256, 128, 64], tabular dense list: [32, 64, 64, 32], activation: relu---\n"
     ]
    },
    {
     "name": "stderr",
     "output_type": "stream",
     "text": [
      "WARNING:absl:At this time, the v2.11+ optimizer `tf.keras.optimizers.Adam` runs slowly on M1/M2 Macs, please use the legacy Keras optimizer instead, located at `tf.keras.optimizers.legacy.Adam`.\n",
      "WARNING:absl:There is a known slowdown when using v2.11+ Keras optimizers on M1/M2 Macs. Falling back to the legacy Keras optimizer, i.e., `tf.keras.optimizers.legacy.Adam`.\n"
     ]
    },
    {
     "name": "stdout",
     "output_type": "stream",
     "text": [
      "Epoch 1/10\n",
      "437/437 [==============================] - 11s 25ms/step - loss: 1.4029 - accuracy: 0.4702 - val_loss: 0.8663 - val_accuracy: 0.6700\n",
      "Epoch 2/10\n",
      "437/437 [==============================] - 11s 25ms/step - loss: 0.7946 - accuracy: 0.6987 - val_loss: 0.7920 - val_accuracy: 0.7062\n",
      "Epoch 3/10\n",
      "437/437 [==============================] - 11s 25ms/step - loss: 0.6469 - accuracy: 0.7573 - val_loss: 0.7753 - val_accuracy: 0.6966\n",
      "Epoch 4/10\n",
      "437/437 [==============================] - 11s 25ms/step - loss: 0.5185 - accuracy: 0.8083 - val_loss: 0.9916 - val_accuracy: 0.6113\n",
      "Epoch 5/10\n",
      "437/437 [==============================] - 11s 25ms/step - loss: 0.4547 - accuracy: 0.8330 - val_loss: 0.7978 - val_accuracy: 0.6891\n",
      "Epoch 6/10\n",
      "437/437 [==============================] - 11s 25ms/step - loss: 0.3781 - accuracy: 0.8617 - val_loss: 1.0482 - val_accuracy: 0.6394\n",
      "Epoch 7/10\n",
      "437/437 [==============================] - 11s 25ms/step - loss: 0.3258 - accuracy: 0.8804 - val_loss: 0.9478 - val_accuracy: 0.6941\n",
      "Epoch 8/10\n",
      "437/437 [==============================] - 11s 25ms/step - loss: 0.3052 - accuracy: 0.8901 - val_loss: 0.9849 - val_accuracy: 0.7052\n",
      "Epoch 9/10\n",
      "437/437 [==============================] - 11s 25ms/step - loss: 0.2587 - accuracy: 0.9063 - val_loss: 1.0388 - val_accuracy: 0.6926\n",
      "Epoch 10/10\n",
      "437/437 [==============================] - 11s 25ms/step - loss: 0.2494 - accuracy: 0.9097 - val_loss: 1.2456 - val_accuracy: 0.6369\n",
      "---mixed dense list: [1024, 512, 256, 128, 64], tabular dense list: [32, 64, 64, 32], activation: tanh---\n"
     ]
    },
    {
     "name": "stderr",
     "output_type": "stream",
     "text": [
      "WARNING:absl:At this time, the v2.11+ optimizer `tf.keras.optimizers.Adam` runs slowly on M1/M2 Macs, please use the legacy Keras optimizer instead, located at `tf.keras.optimizers.legacy.Adam`.\n",
      "WARNING:absl:There is a known slowdown when using v2.11+ Keras optimizers on M1/M2 Macs. Falling back to the legacy Keras optimizer, i.e., `tf.keras.optimizers.legacy.Adam`.\n"
     ]
    },
    {
     "name": "stdout",
     "output_type": "stream",
     "text": [
      "Epoch 1/10\n",
      "437/437 [==============================] - 11s 26ms/step - loss: 1.4807 - accuracy: 0.4468 - val_loss: 0.9753 - val_accuracy: 0.6539\n",
      "Epoch 2/10\n",
      "437/437 [==============================] - 11s 25ms/step - loss: 0.8904 - accuracy: 0.6564 - val_loss: 0.8209 - val_accuracy: 0.6675\n",
      "Epoch 3/10\n",
      "437/437 [==============================] - 11s 25ms/step - loss: 0.7105 - accuracy: 0.7269 - val_loss: 0.6807 - val_accuracy: 0.7328\n",
      "Epoch 4/10\n",
      "437/437 [==============================] - 11s 25ms/step - loss: 0.5719 - accuracy: 0.7838 - val_loss: 0.9622 - val_accuracy: 0.6354\n",
      "Epoch 5/10\n",
      "437/437 [==============================] - 11s 25ms/step - loss: 0.4688 - accuracy: 0.8263 - val_loss: 0.7735 - val_accuracy: 0.7122\n",
      "Epoch 6/10\n",
      "437/437 [==============================] - 11s 25ms/step - loss: 0.3879 - accuracy: 0.8561 - val_loss: 1.0216 - val_accuracy: 0.6288\n",
      "Epoch 7/10\n",
      "437/437 [==============================] - 11s 25ms/step - loss: 0.3470 - accuracy: 0.8726 - val_loss: 0.8807 - val_accuracy: 0.6926\n",
      "Epoch 8/10\n",
      "437/437 [==============================] - 11s 25ms/step - loss: 0.2940 - accuracy: 0.8936 - val_loss: 0.8482 - val_accuracy: 0.7288\n",
      "Epoch 9/10\n",
      "437/437 [==============================] - 11s 25ms/step - loss: 0.2546 - accuracy: 0.9067 - val_loss: 1.0052 - val_accuracy: 0.7047\n",
      "Epoch 10/10\n",
      "437/437 [==============================] - 11s 25ms/step - loss: 0.2326 - accuracy: 0.9166 - val_loss: 1.1220 - val_accuracy: 0.6946\n",
      "---mixed dense list: [1024, 512, 256, 128, 64, 32], tabular dense list: [32], activation: relu---\n"
     ]
    },
    {
     "name": "stderr",
     "output_type": "stream",
     "text": [
      "WARNING:absl:At this time, the v2.11+ optimizer `tf.keras.optimizers.Adam` runs slowly on M1/M2 Macs, please use the legacy Keras optimizer instead, located at `tf.keras.optimizers.legacy.Adam`.\n",
      "WARNING:absl:There is a known slowdown when using v2.11+ Keras optimizers on M1/M2 Macs. Falling back to the legacy Keras optimizer, i.e., `tf.keras.optimizers.legacy.Adam`.\n"
     ]
    },
    {
     "name": "stdout",
     "output_type": "stream",
     "text": [
      "Epoch 1/10\n",
      "437/437 [==============================] - 11s 25ms/step - loss: 1.5348 - accuracy: 0.4010 - val_loss: 0.7895 - val_accuracy: 0.6996\n",
      "Epoch 2/10\n",
      "437/437 [==============================] - 11s 25ms/step - loss: 0.9258 - accuracy: 0.6462 - val_loss: 0.7112 - val_accuracy: 0.7318\n",
      "Epoch 3/10\n",
      "437/437 [==============================] - 11s 25ms/step - loss: 0.7240 - accuracy: 0.7282 - val_loss: 0.7400 - val_accuracy: 0.6986\n",
      "Epoch 4/10\n",
      "437/437 [==============================] - 11s 25ms/step - loss: 0.5773 - accuracy: 0.7857 - val_loss: 0.8275 - val_accuracy: 0.6796\n",
      "Epoch 5/10\n",
      "437/437 [==============================] - 11s 25ms/step - loss: 0.4839 - accuracy: 0.8215 - val_loss: 0.7231 - val_accuracy: 0.7207\n",
      "Epoch 6/10\n",
      "437/437 [==============================] - 11s 25ms/step - loss: 0.4094 - accuracy: 0.8484 - val_loss: 0.8581 - val_accuracy: 0.6956\n",
      "Epoch 7/10\n",
      "437/437 [==============================] - 11s 25ms/step - loss: 0.3480 - accuracy: 0.8733 - val_loss: 0.8300 - val_accuracy: 0.7273\n",
      "Epoch 8/10\n",
      "437/437 [==============================] - 11s 25ms/step - loss: 0.3228 - accuracy: 0.8819 - val_loss: 0.8751 - val_accuracy: 0.7403\n",
      "Epoch 9/10\n",
      "437/437 [==============================] - 11s 25ms/step - loss: 0.2823 - accuracy: 0.8975 - val_loss: 0.8750 - val_accuracy: 0.7479\n",
      "Epoch 10/10\n",
      "437/437 [==============================] - 11s 25ms/step - loss: 0.2643 - accuracy: 0.9043 - val_loss: 1.3120 - val_accuracy: 0.6379\n",
      "---mixed dense list: [1024, 512, 256, 128, 64, 32], tabular dense list: [32], activation: tanh---\n"
     ]
    },
    {
     "name": "stderr",
     "output_type": "stream",
     "text": [
      "WARNING:absl:At this time, the v2.11+ optimizer `tf.keras.optimizers.Adam` runs slowly on M1/M2 Macs, please use the legacy Keras optimizer instead, located at `tf.keras.optimizers.legacy.Adam`.\n",
      "WARNING:absl:There is a known slowdown when using v2.11+ Keras optimizers on M1/M2 Macs. Falling back to the legacy Keras optimizer, i.e., `tf.keras.optimizers.legacy.Adam`.\n"
     ]
    },
    {
     "name": "stdout",
     "output_type": "stream",
     "text": [
      "Epoch 1/10\n",
      "437/437 [==============================] - 11s 25ms/step - loss: 1.3784 - accuracy: 0.4810 - val_loss: 0.7842 - val_accuracy: 0.6926\n",
      "Epoch 2/10\n",
      "437/437 [==============================] - 11s 25ms/step - loss: 0.8098 - accuracy: 0.6910 - val_loss: 0.7271 - val_accuracy: 0.7082\n",
      "Epoch 3/10\n",
      "437/437 [==============================] - 11s 25ms/step - loss: 0.6391 - accuracy: 0.7622 - val_loss: 0.7214 - val_accuracy: 0.7293\n",
      "Epoch 4/10\n",
      "437/437 [==============================] - 11s 25ms/step - loss: 0.5094 - accuracy: 0.8098 - val_loss: 0.9088 - val_accuracy: 0.6600\n",
      "Epoch 5/10\n",
      "437/437 [==============================] - 11s 25ms/step - loss: 0.4310 - accuracy: 0.8390 - val_loss: 0.8269 - val_accuracy: 0.6831\n",
      "Epoch 6/10\n",
      "437/437 [==============================] - 11s 25ms/step - loss: 0.4043 - accuracy: 0.8520 - val_loss: 0.8488 - val_accuracy: 0.7228\n",
      "Epoch 7/10\n",
      "437/437 [==============================] - 11s 25ms/step - loss: 0.4208 - accuracy: 0.8449 - val_loss: 0.8725 - val_accuracy: 0.7107\n",
      "Epoch 8/10\n",
      "437/437 [==============================] - 11s 25ms/step - loss: 0.2909 - accuracy: 0.8926 - val_loss: 0.9460 - val_accuracy: 0.7092\n",
      "Epoch 9/10\n",
      "437/437 [==============================] - 11s 25ms/step - loss: 0.2592 - accuracy: 0.9061 - val_loss: 0.7808 - val_accuracy: 0.7388\n",
      "Epoch 10/10\n",
      "437/437 [==============================] - 11s 25ms/step - loss: 0.2356 - accuracy: 0.9136 - val_loss: 0.9835 - val_accuracy: 0.7092\n",
      "---mixed dense list: [1024, 512, 256, 128, 64, 32], tabular dense list: [32, 64], activation: relu---\n"
     ]
    },
    {
     "name": "stderr",
     "output_type": "stream",
     "text": [
      "WARNING:absl:At this time, the v2.11+ optimizer `tf.keras.optimizers.Adam` runs slowly on M1/M2 Macs, please use the legacy Keras optimizer instead, located at `tf.keras.optimizers.legacy.Adam`.\n",
      "WARNING:absl:There is a known slowdown when using v2.11+ Keras optimizers on M1/M2 Macs. Falling back to the legacy Keras optimizer, i.e., `tf.keras.optimizers.legacy.Adam`.\n"
     ]
    },
    {
     "name": "stdout",
     "output_type": "stream",
     "text": [
      "Epoch 1/10\n",
      "437/437 [==============================] - 12s 27ms/step - loss: 1.4139 - accuracy: 0.4664 - val_loss: 0.9050 - val_accuracy: 0.6640\n",
      "Epoch 2/10\n",
      "437/437 [==============================] - 12s 27ms/step - loss: 0.8660 - accuracy: 0.6679 - val_loss: 0.8221 - val_accuracy: 0.6655\n",
      "Epoch 3/10\n",
      "437/437 [==============================] - 12s 27ms/step - loss: 0.6864 - accuracy: 0.7410 - val_loss: 0.6686 - val_accuracy: 0.7353\n",
      "Epoch 4/10\n",
      "437/437 [==============================] - 12s 27ms/step - loss: 0.5500 - accuracy: 0.7947 - val_loss: 0.9336 - val_accuracy: 0.6349\n",
      "Epoch 5/10\n",
      "437/437 [==============================] - 12s 27ms/step - loss: 0.4488 - accuracy: 0.8371 - val_loss: 0.7564 - val_accuracy: 0.7328\n",
      "Epoch 6/10\n",
      "437/437 [==============================] - 12s 27ms/step - loss: 0.3986 - accuracy: 0.8538 - val_loss: 0.9535 - val_accuracy: 0.6961\n",
      "Epoch 7/10\n",
      "437/437 [==============================] - 12s 27ms/step - loss: 0.3813 - accuracy: 0.8634 - val_loss: 0.7235 - val_accuracy: 0.7539\n",
      "Epoch 8/10\n",
      "437/437 [==============================] - 12s 27ms/step - loss: 0.3030 - accuracy: 0.8903 - val_loss: 1.0016 - val_accuracy: 0.6861\n",
      "Epoch 9/10\n",
      "437/437 [==============================] - 12s 27ms/step - loss: 0.2835 - accuracy: 0.8965 - val_loss: 0.7404 - val_accuracy: 0.7659\n",
      "Epoch 10/10\n",
      "437/437 [==============================] - 12s 27ms/step - loss: 0.2502 - accuracy: 0.9100 - val_loss: 1.0369 - val_accuracy: 0.6966\n",
      "---mixed dense list: [1024, 512, 256, 128, 64, 32], tabular dense list: [32, 64], activation: tanh---\n"
     ]
    },
    {
     "name": "stderr",
     "output_type": "stream",
     "text": [
      "WARNING:absl:At this time, the v2.11+ optimizer `tf.keras.optimizers.Adam` runs slowly on M1/M2 Macs, please use the legacy Keras optimizer instead, located at `tf.keras.optimizers.legacy.Adam`.\n",
      "WARNING:absl:There is a known slowdown when using v2.11+ Keras optimizers on M1/M2 Macs. Falling back to the legacy Keras optimizer, i.e., `tf.keras.optimizers.legacy.Adam`.\n"
     ]
    },
    {
     "name": "stdout",
     "output_type": "stream",
     "text": [
      "Epoch 1/10\n",
      "437/437 [==============================] - 12s 27ms/step - loss: 1.4126 - accuracy: 0.4555 - val_loss: 0.8573 - val_accuracy: 0.6670\n",
      "Epoch 2/10\n",
      "437/437 [==============================] - 12s 27ms/step - loss: 0.8204 - accuracy: 0.6855 - val_loss: 0.7026 - val_accuracy: 0.7268\n",
      "Epoch 3/10\n",
      "437/437 [==============================] - 12s 27ms/step - loss: 0.6494 - accuracy: 0.7557 - val_loss: 0.7261 - val_accuracy: 0.7177\n",
      "Epoch 4/10\n",
      "437/437 [==============================] - 12s 27ms/step - loss: 0.4740 - accuracy: 0.8234 - val_loss: 0.9205 - val_accuracy: 0.6786\n",
      "Epoch 5/10\n",
      "437/437 [==============================] - 12s 27ms/step - loss: 0.3864 - accuracy: 0.8578 - val_loss: 0.9325 - val_accuracy: 0.6806\n",
      "Epoch 6/10\n",
      "437/437 [==============================] - 12s 27ms/step - loss: 0.3141 - accuracy: 0.8835 - val_loss: 1.0260 - val_accuracy: 0.6605\n",
      "Epoch 7/10\n",
      "437/437 [==============================] - 12s 26ms/step - loss: 0.2798 - accuracy: 0.8989 - val_loss: 0.9288 - val_accuracy: 0.7037\n",
      "Epoch 8/10\n",
      "437/437 [==============================] - 12s 27ms/step - loss: 0.2442 - accuracy: 0.9112 - val_loss: 0.9815 - val_accuracy: 0.7087\n",
      "Epoch 9/10\n",
      "437/437 [==============================] - 12s 27ms/step - loss: 0.2242 - accuracy: 0.9194 - val_loss: 0.9371 - val_accuracy: 0.7303\n",
      "Epoch 10/10\n",
      "437/437 [==============================] - 12s 27ms/step - loss: 0.1903 - accuracy: 0.9313 - val_loss: 1.0331 - val_accuracy: 0.7373\n",
      "---mixed dense list: [1024, 512, 256, 128, 64, 32], tabular dense list: [32, 64, 64], activation: relu---\n"
     ]
    },
    {
     "name": "stderr",
     "output_type": "stream",
     "text": [
      "WARNING:absl:At this time, the v2.11+ optimizer `tf.keras.optimizers.Adam` runs slowly on M1/M2 Macs, please use the legacy Keras optimizer instead, located at `tf.keras.optimizers.legacy.Adam`.\n",
      "WARNING:absl:There is a known slowdown when using v2.11+ Keras optimizers on M1/M2 Macs. Falling back to the legacy Keras optimizer, i.e., `tf.keras.optimizers.legacy.Adam`.\n"
     ]
    },
    {
     "name": "stdout",
     "output_type": "stream",
     "text": [
      "Epoch 1/10\n",
      "437/437 [==============================] - 12s 26ms/step - loss: 1.4600 - accuracy: 0.4491 - val_loss: 0.9669 - val_accuracy: 0.6620\n",
      "Epoch 2/10\n",
      "437/437 [==============================] - 11s 26ms/step - loss: 0.8955 - accuracy: 0.6537 - val_loss: 0.8025 - val_accuracy: 0.6921\n",
      "Epoch 3/10\n",
      "437/437 [==============================] - 12s 26ms/step - loss: 0.7297 - accuracy: 0.7211 - val_loss: 0.8312 - val_accuracy: 0.6570\n",
      "Epoch 4/10\n",
      "437/437 [==============================] - 12s 26ms/step - loss: 0.6087 - accuracy: 0.7731 - val_loss: 0.8217 - val_accuracy: 0.6966\n",
      "Epoch 5/10\n",
      "437/437 [==============================] - 12s 26ms/step - loss: 0.4886 - accuracy: 0.8179 - val_loss: 0.8637 - val_accuracy: 0.6620\n",
      "Epoch 6/10\n",
      "437/437 [==============================] - 12s 27ms/step - loss: 0.4154 - accuracy: 0.8470 - val_loss: 0.9863 - val_accuracy: 0.6344\n",
      "Epoch 7/10\n",
      "437/437 [==============================] - 12s 27ms/step - loss: 0.3693 - accuracy: 0.8648 - val_loss: 0.8741 - val_accuracy: 0.7057\n",
      "Epoch 8/10\n",
      "437/437 [==============================] - 11s 26ms/step - loss: 0.3039 - accuracy: 0.8881 - val_loss: 0.8621 - val_accuracy: 0.7152\n",
      "Epoch 9/10\n",
      "437/437 [==============================] - 11s 26ms/step - loss: 0.2809 - accuracy: 0.8973 - val_loss: 0.9949 - val_accuracy: 0.7408\n",
      "Epoch 10/10\n",
      "437/437 [==============================] - 11s 26ms/step - loss: 0.2482 - accuracy: 0.9106 - val_loss: 1.1848 - val_accuracy: 0.6680\n",
      "---mixed dense list: [1024, 512, 256, 128, 64, 32], tabular dense list: [32, 64, 64], activation: tanh---\n"
     ]
    },
    {
     "name": "stderr",
     "output_type": "stream",
     "text": [
      "WARNING:absl:At this time, the v2.11+ optimizer `tf.keras.optimizers.Adam` runs slowly on M1/M2 Macs, please use the legacy Keras optimizer instead, located at `tf.keras.optimizers.legacy.Adam`.\n",
      "WARNING:absl:There is a known slowdown when using v2.11+ Keras optimizers on M1/M2 Macs. Falling back to the legacy Keras optimizer, i.e., `tf.keras.optimizers.legacy.Adam`.\n"
     ]
    },
    {
     "name": "stdout",
     "output_type": "stream",
     "text": [
      "Epoch 1/10\n",
      "437/437 [==============================] - 12s 26ms/step - loss: 1.3357 - accuracy: 0.4833 - val_loss: 0.8950 - val_accuracy: 0.6565\n",
      "Epoch 2/10\n",
      "437/437 [==============================] - 11s 25ms/step - loss: 0.8054 - accuracy: 0.6906 - val_loss: 0.7524 - val_accuracy: 0.7117\n",
      "Epoch 3/10\n",
      "437/437 [==============================] - 11s 26ms/step - loss: 0.6342 - accuracy: 0.7589 - val_loss: 0.7297 - val_accuracy: 0.7243\n",
      "Epoch 4/10\n",
      "437/437 [==============================] - 11s 26ms/step - loss: 0.5067 - accuracy: 0.8118 - val_loss: 0.8225 - val_accuracy: 0.6921\n",
      "Epoch 5/10\n",
      "437/437 [==============================] - 11s 25ms/step - loss: 0.4212 - accuracy: 0.8443 - val_loss: 0.8494 - val_accuracy: 0.6936\n",
      "Epoch 6/10\n",
      "437/437 [==============================] - 11s 26ms/step - loss: 0.3587 - accuracy: 0.8688 - val_loss: 1.1098 - val_accuracy: 0.6735\n",
      "Epoch 7/10\n",
      "437/437 [==============================] - 11s 26ms/step - loss: 0.3147 - accuracy: 0.8861 - val_loss: 0.8241 - val_accuracy: 0.7182\n",
      "Epoch 8/10\n",
      "437/437 [==============================] - 11s 26ms/step - loss: 0.2740 - accuracy: 0.9007 - val_loss: 0.9070 - val_accuracy: 0.7393\n",
      "Epoch 9/10\n",
      "437/437 [==============================] - 11s 25ms/step - loss: 0.2391 - accuracy: 0.9139 - val_loss: 0.8749 - val_accuracy: 0.7403\n",
      "Epoch 10/10\n",
      "437/437 [==============================] - 11s 25ms/step - loss: 0.2205 - accuracy: 0.9200 - val_loss: 0.9947 - val_accuracy: 0.7002\n",
      "---mixed dense list: [1024, 512, 256, 128, 64, 32], tabular dense list: [32, 64, 64, 32], activation: relu---\n"
     ]
    },
    {
     "name": "stderr",
     "output_type": "stream",
     "text": [
      "WARNING:absl:At this time, the v2.11+ optimizer `tf.keras.optimizers.Adam` runs slowly on M1/M2 Macs, please use the legacy Keras optimizer instead, located at `tf.keras.optimizers.legacy.Adam`.\n",
      "WARNING:absl:There is a known slowdown when using v2.11+ Keras optimizers on M1/M2 Macs. Falling back to the legacy Keras optimizer, i.e., `tf.keras.optimizers.legacy.Adam`.\n"
     ]
    },
    {
     "name": "stdout",
     "output_type": "stream",
     "text": [
      "Epoch 1/10\n",
      "437/437 [==============================] - 11s 25ms/step - loss: 1.9889 - accuracy: 0.1416 - val_loss: 1.9458 - val_accuracy: 0.1115\n",
      "Epoch 2/10\n",
      "437/437 [==============================] - 11s 25ms/step - loss: 1.9460 - accuracy: 0.1430 - val_loss: 1.9412 - val_accuracy: 0.6735\n",
      "Epoch 3/10\n",
      "437/437 [==============================] - 11s 25ms/step - loss: 1.9460 - accuracy: 0.1406 - val_loss: 1.9451 - val_accuracy: 0.0090\n",
      "Epoch 4/10\n",
      "437/437 [==============================] - 11s 25ms/step - loss: 1.9460 - accuracy: 0.1420 - val_loss: 1.9398 - val_accuracy: 0.6735\n",
      "Epoch 5/10\n",
      "437/437 [==============================] - 11s 25ms/step - loss: 1.9460 - accuracy: 0.1422 - val_loss: 1.9467 - val_accuracy: 0.0477\n",
      "Epoch 6/10\n",
      "437/437 [==============================] - 11s 25ms/step - loss: 1.9460 - accuracy: 0.1402 - val_loss: 1.9417 - val_accuracy: 0.1115\n",
      "Epoch 7/10\n",
      "437/437 [==============================] - 11s 25ms/step - loss: 1.9460 - accuracy: 0.1390 - val_loss: 1.9402 - val_accuracy: 0.6735\n",
      "Epoch 8/10\n",
      "437/437 [==============================] - 11s 25ms/step - loss: 1.9460 - accuracy: 0.1423 - val_loss: 1.9441 - val_accuracy: 0.1065\n",
      "Epoch 9/10\n",
      "437/437 [==============================] - 11s 25ms/step - loss: 1.9460 - accuracy: 0.1419 - val_loss: 1.9483 - val_accuracy: 0.0090\n",
      "Epoch 10/10\n",
      "437/437 [==============================] - 11s 25ms/step - loss: 1.9460 - accuracy: 0.1386 - val_loss: 1.9459 - val_accuracy: 0.0090\n",
      "---mixed dense list: [1024, 512, 256, 128, 64, 32], tabular dense list: [32, 64, 64, 32], activation: tanh---\n"
     ]
    },
    {
     "name": "stderr",
     "output_type": "stream",
     "text": [
      "WARNING:absl:At this time, the v2.11+ optimizer `tf.keras.optimizers.Adam` runs slowly on M1/M2 Macs, please use the legacy Keras optimizer instead, located at `tf.keras.optimizers.legacy.Adam`.\n",
      "WARNING:absl:There is a known slowdown when using v2.11+ Keras optimizers on M1/M2 Macs. Falling back to the legacy Keras optimizer, i.e., `tf.keras.optimizers.legacy.Adam`.\n"
     ]
    },
    {
     "name": "stdout",
     "output_type": "stream",
     "text": [
      "Epoch 1/10\n",
      "437/437 [==============================] - 11s 25ms/step - loss: 1.4096 - accuracy: 0.4808 - val_loss: 0.9278 - val_accuracy: 0.6168\n",
      "Epoch 2/10\n",
      "437/437 [==============================] - 11s 25ms/step - loss: 0.8047 - accuracy: 0.6928 - val_loss: 0.7395 - val_accuracy: 0.7177\n",
      "Epoch 3/10\n",
      "437/437 [==============================] - 11s 25ms/step - loss: 0.6419 - accuracy: 0.7574 - val_loss: 0.7694 - val_accuracy: 0.7097\n",
      "Epoch 4/10\n",
      "437/437 [==============================] - 11s 25ms/step - loss: 0.5030 - accuracy: 0.8100 - val_loss: 0.9100 - val_accuracy: 0.6479\n",
      "Epoch 5/10\n",
      "437/437 [==============================] - 11s 25ms/step - loss: 0.4130 - accuracy: 0.8452 - val_loss: 0.8828 - val_accuracy: 0.7042\n",
      "Epoch 6/10\n",
      "437/437 [==============================] - 11s 25ms/step - loss: 0.3468 - accuracy: 0.8712 - val_loss: 0.8193 - val_accuracy: 0.7187\n",
      "Epoch 7/10\n",
      "437/437 [==============================] - 11s 25ms/step - loss: 0.3141 - accuracy: 0.8855 - val_loss: 1.0531 - val_accuracy: 0.6881\n",
      "Epoch 8/10\n",
      "437/437 [==============================] - 11s 25ms/step - loss: 0.3203 - accuracy: 0.8850 - val_loss: 0.8253 - val_accuracy: 0.7273\n",
      "Epoch 9/10\n",
      "437/437 [==============================] - 11s 25ms/step - loss: 0.2554 - accuracy: 0.9064 - val_loss: 1.0822 - val_accuracy: 0.6846\n",
      "Epoch 10/10\n",
      "437/437 [==============================] - 11s 25ms/step - loss: 0.2145 - accuracy: 0.9223 - val_loss: 1.3364 - val_accuracy: 0.7047\n"
     ]
    }
   ],
   "source": [
    "\n",
    "image_augm_over_dict = {}\n",
    "\n",
    "for mixed_dense_list in mixed_dense_lists:\n",
    "    for tabular_dense_list in tabular_dense_lists:\n",
    "        for activation_func in activation_list:\n",
    "        \n",
    "            print(\"---mixed dense list: \" + str(mixed_dense_list) + \", tabular dense list: \" + str(tabular_dense_list) + \", activation: \" + activation_func + \"---\")\n",
    "\n",
    "            x_train_oversample_augm, tabular_oversample_augm, y_train_oversample_augm = aug_image(x_train_oversample,\n",
    "                                                                                                  train_tabular_oversample,\n",
    "                                                                                                  y_train_oversample,\n",
    "                                                                                                  contrast_factor = 1,\n",
    "                                                                                                  delta = 0.1,\n",
    "                                                                                                  flip_flag = True)\n",
    "    \n",
    "            model = build_mixed_model(kernel_size = 3,\n",
    "                                      pool_size = 3,\n",
    "                                      tabular_shape = tabular_oversample_augm.shape[1],\n",
    "                                      tabular_activation_func = activation_func,\n",
    "                                      tabular_dense_list = tabular_dense_list,\n",
    "                                      mixed_dense_list = mixed_dense_list)\n",
    "    \n",
    "            history = model.fit(\n",
    "                [x_train_oversample_augm,\n",
    "                 tabular_oversample_augm],\n",
    "                y_train_oversample_augm,\n",
    "                validation_data = ([x_valid_augm,\n",
    "                                    valid_tabular_set],\n",
    "                                   y_valid),\n",
    "                epochs=10,  \n",
    "                batch_size=128\n",
    "            )\n",
    "\n",
    "            image_augm_over_dict[(len(mixed_dense_list), len(tabular_dense_list), activation_func)] = [history.history['accuracy'][-1], history.history['val_accuracy'][-1]]\n",
    "        "
   ]
  },
  {
   "cell_type": "markdown",
   "metadata": {},
   "source": [
    "# Step 7: Output Results"
   ]
  },
  {
   "cell_type": "code",
   "execution_count": 25,
   "metadata": {},
   "outputs": [],
   "source": [
    "import csv\n",
    "\n",
    "clean_table = []\n",
    "\n",
    "for key in clean_dict:\n",
    "    clean_table.append([key[0], key[1], key[2], clean_dict[key][0], clean_dict[key][1]])\n",
    "\n",
    "with open('clean_mixed.csv', 'w', newline='') as csvfile:\n",
    "    writer = csv.writer(csvfile)\n",
    "    writer.writerows(clean_table)\n",
    "    "
   ]
  },
  {
   "cell_type": "code",
   "execution_count": 26,
   "metadata": {},
   "outputs": [],
   "source": [
    "\n",
    "oversample_table = []\n",
    "\n",
    "for key in oversample_dict:\n",
    "    oversample_table.append([key[0], key[1], key[2], oversample_dict[key][0], oversample_dict[key][1]])\n",
    "\n",
    "with open('oversample_mixed.csv', 'w', newline='') as csvfile:\n",
    "    writer = csv.writer(csvfile)\n",
    "    writer.writerows(oversample_table)\n",
    "    "
   ]
  },
  {
   "cell_type": "code",
   "execution_count": 27,
   "metadata": {},
   "outputs": [],
   "source": [
    "\n",
    "image_augm_table = []\n",
    "\n",
    "for key in image_augm_dict:\n",
    "    image_augm_table.append([key[0], key[1], key[2], image_augm_dict[key][0], image_augm_dict[key][1]])\n",
    "\n",
    "with open('image_augm_mixed.csv', 'w', newline='') as csvfile:\n",
    "    writer = csv.writer(csvfile)\n",
    "    writer.writerows(image_augm_table)\n",
    "    "
   ]
  },
  {
   "cell_type": "code",
   "execution_count": 28,
   "metadata": {},
   "outputs": [],
   "source": [
    "\n",
    "image_augm_over_table = []\n",
    "\n",
    "for key in image_augm_over_dict:\n",
    "    image_augm_over_table.append([key[0], key[1], key[2], image_augm_over_dict[key][0], image_augm_over_dict[key][1]])\n",
    "\n",
    "with open('image_augm_over_mixed.csv', 'w', newline='') as csvfile:\n",
    "    writer = csv.writer(csvfile)\n",
    "    writer.writerows(image_augm_over_table)\n",
    "    "
   ]
  },
  {
   "cell_type": "code",
   "execution_count": null,
   "metadata": {},
   "outputs": [],
   "source": []
  }
 ],
 "metadata": {
  "kernelspec": {
   "display_name": "Python 3 (ipykernel)",
   "language": "python",
   "name": "python3"
  },
  "language_info": {
   "codemirror_mode": {
    "name": "ipython",
    "version": 3
   },
   "file_extension": ".py",
   "mimetype": "text/x-python",
   "name": "python",
   "nbconvert_exporter": "python",
   "pygments_lexer": "ipython3",
   "version": "3.11.5"
  }
 },
 "nbformat": 4,
 "nbformat_minor": 4
}
